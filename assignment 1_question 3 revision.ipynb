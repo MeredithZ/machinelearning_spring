{
 "cells": [
  {
   "cell_type": "code",
   "execution_count": 68,
   "metadata": {
    "collapsed": true
   },
   "outputs": [],
   "source": [
    "import pandas as pd\n",
    "import numpy as np"
   ]
  },
  {
   "cell_type": "code",
   "execution_count": 81,
   "metadata": {
    "collapsed": true
   },
   "outputs": [],
   "source": [
    "alo  = pd.read_csv(\"data/alo.csv\")\n",
    "gr   = pd.read_csv(\"data/gr.csv\")\n",
    "vabr = pd.read_csv(\"data/vabr.csv\")\n",
    "\n",
    "gr.dropna(inplace=True)\n",
    "vabr['Street Address'] = vabr.apply(lambda x: ' '.join([str(int(x['ADDRESS STREET NUMBER'])),\n",
    "                                                str(x['ADDRESS STREET DIRECTION']),\n",
    "                                                str(x['ADDRESS STREET NAME']),\n",
    "                                                str(x['ADDRESS STREET SUFFIX'])]),\n",
    "                           axis=1)"
   ]
  },
  {
   "cell_type": "code",
   "execution_count": 1,
   "metadata": {
    "collapsed": true
   },
   "outputs": [],
   "source": [
    "# question A. Of the three types of requests you have data for, which request type is the most likely given the call came from 3600 W Roosevelt Ave? What are the probabilities for each type of request?"
   ]
  },
  {
   "cell_type": "code",
   "execution_count": 82,
   "metadata": {
    "collapsed": true
   },
   "outputs": [],
   "source": [
    "q1_alo = alo[['Type of Service Request', 'Street Address']]\n",
    "q1_gr  = gr[['Type of Service Request', 'Street Address']]\n",
    "q1_vabr = vabr[['SERVICE REQUEST TYPE', 'Street Address']]"
   ]
  },
  {
   "cell_type": "code",
   "execution_count": 83,
   "metadata": {
    "collapsed": true
   },
   "outputs": [],
   "source": [
    "cnt_alo  = sum(q1_alo['Street Address'].apply(lambda x: 'W ROOSEVELT' in x))\n",
    "cnt_gr   = sum(q1_gr['Street Address'].apply(lambda x: 'W ROOSEVELT' in x))\n",
    "cnt_vabr = sum(q1_vabr['Street Address'].apply(lambda x: 'W ROOSEVELT' in x))"
   ]
  },
  {
   "cell_type": "code",
   "execution_count": 84,
   "metadata": {
    "collapsed": true
   },
   "outputs": [],
   "source": [
    "cnt_sum = cnt_alo + cnt_gr + cnt_vabr"
   ]
  },
  {
   "cell_type": "code",
   "execution_count": 85,
   "metadata": {
    "collapsed": true
   },
   "outputs": [],
   "source": [
    "p_alo  = cnt_alo / cnt_sum\n",
    "p_gr   = cnt_gr  / cnt_sum\n",
    "p_vabr = cnt_vabr / cnt_sum"
   ]
  },
  {
   "cell_type": "code",
   "execution_count": 86,
   "metadata": {
    "scrolled": true
   },
   "outputs": [
    {
     "name": "stdout",
     "output_type": "stream",
     "text": [
      "Probability for Alley Light Out:  0.9523809523809523\n",
      "Probability for Graffiti Removal:  0.0\n",
      "Probability for Vacant/Abandoned Building:  0.047619047619047616\n"
     ]
    }
   ],
   "source": [
    "print(\"Probability for Alley Light Out: \", p_alo)\n",
    "print(\"Probability for Graffiti Removal: \", p_gr)\n",
    "print(\"Probability for Vacant/Abandoned Building: \", p_vabr)"
   ]
  },
  {
   "cell_type": "code",
   "execution_count": 2,
   "metadata": {
    "collapsed": true
   },
   "outputs": [],
   "source": [
    "# question B.Let’s now assume that a call comes in about Graffiti Removal. Which is more likely – that the call came from Garfield Park or Uptown? How much more or less likely is it to be from Garfield Park vs Uptown?"
   ]
  },
  {
   "cell_type": "code",
   "execution_count": 89,
   "metadata": {
    "collapsed": true
   },
   "outputs": [],
   "source": [
    "cnt_garfield_park = sum(gr['Community Area'].apply(lambda x: int(x) == 26))\n",
    "cnt_uptown = sum(gr['Community Area'].apply(lambda x: int(x) == 3))"
   ]
  },
  {
   "cell_type": "code",
   "execution_count": 90,
   "metadata": {},
   "outputs": [
    {
     "name": "stdout",
     "output_type": "stream",
     "text": [
      "Number for Garfield Park:  0\n",
      "Number for  Uptown:  1601\n"
     ]
    }
   ],
   "source": [
    "print(\"Number for Garfield Park: \", cnt_garfield_park)\n",
    "print(\"Number for  Uptown: \", cnt_uptown)"
   ]
  },
  {
   "cell_type": "code",
   "execution_count": null,
   "metadata": {
    "collapsed": true
   },
   "outputs": [],
   "source": [
    "# question C. Now assume that you don’t have access to all the raw data and you know the following things:\n",
    "#There are a total of 1000 calls, 600 from Garfield Park and 400 from Uptown. Of the 600 calls from Garfield Park, 100 of them are about Graffiti Removal. Of the 400 calls from Uptown, 160 are about Graffiti Removal. If a call comes about Graffiti Removal, how much more/less likely is it that the call came from Garfield Park versus Uptown?"
   ]
  },
  {
   "cell_type": "code",
   "execution_count": 3,
   "metadata": {},
   "outputs": [
    {
     "name": "stdout",
     "output_type": "stream",
     "text": [
      "The probability that call come from Garfield Park is:  0.3846153846153846\n",
      "The probability that call come from Uptown is:  0.6153846153846155\n"
     ]
    }
   ],
   "source": [
    "p_gp = 0.6\n",
    "p_gr_gp = 100 / 600\n",
    "likelihood_gp = p_gp * p_gr_gp\n",
    "\n",
    "p_up = 0.4\n",
    "p_gr_up = 160/400\n",
    "likelihood_up = p_up * p_gr_up\n",
    "\n",
    "probo_gp = likelihood_gp / (likelihood_gp + likelihood_up)\n",
    "probo_up = likelihood_up / (likelihood_gp + likelihood_up)\n",
    "print(\"The probability that call come from Garfield Park is: \", probo_gp)\n",
    "print(\"The probability that call come from Uptown is: \", probo_up)"
   ]
  },
  {
   "cell_type": "code",
   "execution_count": null,
   "metadata": {
    "collapsed": true
   },
   "outputs": [],
   "source": []
  }
 ],
 "metadata": {
  "kernelspec": {
   "display_name": "Python 3",
   "language": "python",
   "name": "python3"
  },
  "language_info": {
   "codemirror_mode": {
    "name": "ipython",
    "version": 3
   },
   "file_extension": ".py",
   "mimetype": "text/x-python",
   "name": "python",
   "nbconvert_exporter": "python",
   "pygments_lexer": "ipython3",
   "version": "3.6.2"
  }
 },
 "nbformat": 4,
 "nbformat_minor": 2
}

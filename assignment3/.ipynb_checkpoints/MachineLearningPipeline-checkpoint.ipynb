{
 "cells": [
  {
   "cell_type": "markdown",
   "metadata": {},
   "source": [
    "# Machine Learning Pipeline"
   ]
  },
  {
   "cell_type": "code",
   "execution_count": 64,
   "metadata": {},
   "outputs": [],
   "source": [
    "import re\n",
    "\n",
    "import pandas as pd\n",
    "import numpy as np\n",
    "import pylab as plt\n",
    "%matplotlib inline\n",
    "from sklearn.tree import DecisionTreeClassifier\n",
    "from sklearn import preprocessing"
   ]
  },
  {
   "cell_type": "markdown",
   "metadata": {},
   "source": [
    "## Read CSV"
   ]
  },
  {
   "cell_type": "code",
   "execution_count": 65,
   "metadata": {},
   "outputs": [
    {
     "data": {
      "text/html": [
       "<div>\n",
       "<style>\n",
       "    .dataframe thead tr:only-child th {\n",
       "        text-align: right;\n",
       "    }\n",
       "\n",
       "    .dataframe thead th {\n",
       "        text-align: left;\n",
       "    }\n",
       "\n",
       "    .dataframe tbody tr th {\n",
       "        vertical-align: top;\n",
       "    }\n",
       "</style>\n",
       "<table border=\"1\" class=\"dataframe\">\n",
       "  <thead>\n",
       "    <tr style=\"text-align: right;\">\n",
       "      <th></th>\n",
       "      <th>SeriousDlqin2yrs</th>\n",
       "      <th>RevolvingUtilizationOfUnsecuredLines</th>\n",
       "      <th>age</th>\n",
       "      <th>zipcode</th>\n",
       "      <th>NumberOfTime30-59DaysPastDueNotWorse</th>\n",
       "      <th>DebtRatio</th>\n",
       "      <th>MonthlyIncome</th>\n",
       "      <th>NumberOfOpenCreditLinesAndLoans</th>\n",
       "      <th>NumberOfTimes90DaysLate</th>\n",
       "      <th>NumberRealEstateLoansOrLines</th>\n",
       "      <th>NumberOfTime60-89DaysPastDueNotWorse</th>\n",
       "      <th>NumberOfDependents</th>\n",
       "    </tr>\n",
       "    <tr>\n",
       "      <th>PersonID</th>\n",
       "      <th></th>\n",
       "      <th></th>\n",
       "      <th></th>\n",
       "      <th></th>\n",
       "      <th></th>\n",
       "      <th></th>\n",
       "      <th></th>\n",
       "      <th></th>\n",
       "      <th></th>\n",
       "      <th></th>\n",
       "      <th></th>\n",
       "      <th></th>\n",
       "    </tr>\n",
       "  </thead>\n",
       "  <tbody>\n",
       "    <tr>\n",
       "      <th>1</th>\n",
       "      <td>1</td>\n",
       "      <td>0.766127</td>\n",
       "      <td>45</td>\n",
       "      <td>60644</td>\n",
       "      <td>2</td>\n",
       "      <td>0.802982</td>\n",
       "      <td>9120.0</td>\n",
       "      <td>13</td>\n",
       "      <td>0</td>\n",
       "      <td>6</td>\n",
       "      <td>0</td>\n",
       "      <td>2.0</td>\n",
       "    </tr>\n",
       "    <tr>\n",
       "      <th>2</th>\n",
       "      <td>0</td>\n",
       "      <td>0.957151</td>\n",
       "      <td>40</td>\n",
       "      <td>60637</td>\n",
       "      <td>0</td>\n",
       "      <td>0.121876</td>\n",
       "      <td>2600.0</td>\n",
       "      <td>4</td>\n",
       "      <td>0</td>\n",
       "      <td>0</td>\n",
       "      <td>0</td>\n",
       "      <td>1.0</td>\n",
       "    </tr>\n",
       "    <tr>\n",
       "      <th>3</th>\n",
       "      <td>0</td>\n",
       "      <td>0.658180</td>\n",
       "      <td>38</td>\n",
       "      <td>60601</td>\n",
       "      <td>1</td>\n",
       "      <td>0.085113</td>\n",
       "      <td>3042.0</td>\n",
       "      <td>2</td>\n",
       "      <td>1</td>\n",
       "      <td>0</td>\n",
       "      <td>0</td>\n",
       "      <td>0.0</td>\n",
       "    </tr>\n",
       "    <tr>\n",
       "      <th>4</th>\n",
       "      <td>0</td>\n",
       "      <td>0.233810</td>\n",
       "      <td>30</td>\n",
       "      <td>60601</td>\n",
       "      <td>0</td>\n",
       "      <td>0.036050</td>\n",
       "      <td>3300.0</td>\n",
       "      <td>5</td>\n",
       "      <td>0</td>\n",
       "      <td>0</td>\n",
       "      <td>0</td>\n",
       "      <td>0.0</td>\n",
       "    </tr>\n",
       "    <tr>\n",
       "      <th>5</th>\n",
       "      <td>0</td>\n",
       "      <td>0.907239</td>\n",
       "      <td>49</td>\n",
       "      <td>60625</td>\n",
       "      <td>1</td>\n",
       "      <td>0.024926</td>\n",
       "      <td>63588.0</td>\n",
       "      <td>7</td>\n",
       "      <td>0</td>\n",
       "      <td>1</td>\n",
       "      <td>0</td>\n",
       "      <td>0.0</td>\n",
       "    </tr>\n",
       "  </tbody>\n",
       "</table>\n",
       "</div>"
      ],
      "text/plain": [
       "          SeriousDlqin2yrs  RevolvingUtilizationOfUnsecuredLines  age  \\\n",
       "PersonID                                                                \n",
       "1                        1                              0.766127   45   \n",
       "2                        0                              0.957151   40   \n",
       "3                        0                              0.658180   38   \n",
       "4                        0                              0.233810   30   \n",
       "5                        0                              0.907239   49   \n",
       "\n",
       "          zipcode  NumberOfTime30-59DaysPastDueNotWorse  DebtRatio  \\\n",
       "PersonID                                                             \n",
       "1           60644                                     2   0.802982   \n",
       "2           60637                                     0   0.121876   \n",
       "3           60601                                     1   0.085113   \n",
       "4           60601                                     0   0.036050   \n",
       "5           60625                                     1   0.024926   \n",
       "\n",
       "          MonthlyIncome  NumberOfOpenCreditLinesAndLoans  \\\n",
       "PersonID                                                   \n",
       "1                9120.0                               13   \n",
       "2                2600.0                                4   \n",
       "3                3042.0                                2   \n",
       "4                3300.0                                5   \n",
       "5               63588.0                                7   \n",
       "\n",
       "          NumberOfTimes90DaysLate  NumberRealEstateLoansOrLines  \\\n",
       "PersonID                                                          \n",
       "1                               0                             6   \n",
       "2                               0                             0   \n",
       "3                               1                             0   \n",
       "4                               0                             0   \n",
       "5                               0                             1   \n",
       "\n",
       "          NumberOfTime60-89DaysPastDueNotWorse  NumberOfDependents  \n",
       "PersonID                                                            \n",
       "1                                            0                 2.0  \n",
       "2                                            0                 1.0  \n",
       "3                                            0                 0.0  \n",
       "4                                            0                 0.0  \n",
       "5                                            0                 0.0  "
      ]
     },
     "execution_count": 65,
     "metadata": {},
     "output_type": "execute_result"
    }
   ],
   "source": [
    "df = pd.read_csv('./credit-data.csv', index_col='PersonID')\n",
    "df.head()"
   ]
  },
  {
   "cell_type": "code",
   "execution_count": 66,
   "metadata": {},
   "outputs": [
    {
     "data": {
      "text/html": [
       "<div>\n",
       "<style>\n",
       "    .dataframe thead tr:only-child th {\n",
       "        text-align: right;\n",
       "    }\n",
       "\n",
       "    .dataframe thead th {\n",
       "        text-align: left;\n",
       "    }\n",
       "\n",
       "    .dataframe tbody tr th {\n",
       "        vertical-align: top;\n",
       "    }\n",
       "</style>\n",
       "<table border=\"1\" class=\"dataframe\">\n",
       "  <thead>\n",
       "    <tr style=\"text-align: right;\">\n",
       "      <th></th>\n",
       "      <th>serious_dlqin2yrs</th>\n",
       "      <th>revolving_utilization_of_unsecured_lines</th>\n",
       "      <th>age</th>\n",
       "      <th>zipcode</th>\n",
       "      <th>number_of_time30-59_days_past_due_not_worse</th>\n",
       "      <th>debt_ratio</th>\n",
       "      <th>monthly_income</th>\n",
       "      <th>number_of_open_credit_lines_and_loans</th>\n",
       "      <th>number_of_times90_days_late</th>\n",
       "      <th>number_real_estate_loans_or_lines</th>\n",
       "      <th>number_of_time60-89_days_past_due_not_worse</th>\n",
       "      <th>number_of_dependents</th>\n",
       "    </tr>\n",
       "    <tr>\n",
       "      <th>PersonID</th>\n",
       "      <th></th>\n",
       "      <th></th>\n",
       "      <th></th>\n",
       "      <th></th>\n",
       "      <th></th>\n",
       "      <th></th>\n",
       "      <th></th>\n",
       "      <th></th>\n",
       "      <th></th>\n",
       "      <th></th>\n",
       "      <th></th>\n",
       "      <th></th>\n",
       "    </tr>\n",
       "  </thead>\n",
       "  <tbody>\n",
       "    <tr>\n",
       "      <th>1</th>\n",
       "      <td>1</td>\n",
       "      <td>0.766127</td>\n",
       "      <td>45</td>\n",
       "      <td>60644</td>\n",
       "      <td>2</td>\n",
       "      <td>0.802982</td>\n",
       "      <td>9120.0</td>\n",
       "      <td>13</td>\n",
       "      <td>0</td>\n",
       "      <td>6</td>\n",
       "      <td>0</td>\n",
       "      <td>2.0</td>\n",
       "    </tr>\n",
       "    <tr>\n",
       "      <th>2</th>\n",
       "      <td>0</td>\n",
       "      <td>0.957151</td>\n",
       "      <td>40</td>\n",
       "      <td>60637</td>\n",
       "      <td>0</td>\n",
       "      <td>0.121876</td>\n",
       "      <td>2600.0</td>\n",
       "      <td>4</td>\n",
       "      <td>0</td>\n",
       "      <td>0</td>\n",
       "      <td>0</td>\n",
       "      <td>1.0</td>\n",
       "    </tr>\n",
       "    <tr>\n",
       "      <th>3</th>\n",
       "      <td>0</td>\n",
       "      <td>0.658180</td>\n",
       "      <td>38</td>\n",
       "      <td>60601</td>\n",
       "      <td>1</td>\n",
       "      <td>0.085113</td>\n",
       "      <td>3042.0</td>\n",
       "      <td>2</td>\n",
       "      <td>1</td>\n",
       "      <td>0</td>\n",
       "      <td>0</td>\n",
       "      <td>0.0</td>\n",
       "    </tr>\n",
       "    <tr>\n",
       "      <th>4</th>\n",
       "      <td>0</td>\n",
       "      <td>0.233810</td>\n",
       "      <td>30</td>\n",
       "      <td>60601</td>\n",
       "      <td>0</td>\n",
       "      <td>0.036050</td>\n",
       "      <td>3300.0</td>\n",
       "      <td>5</td>\n",
       "      <td>0</td>\n",
       "      <td>0</td>\n",
       "      <td>0</td>\n",
       "      <td>0.0</td>\n",
       "    </tr>\n",
       "    <tr>\n",
       "      <th>5</th>\n",
       "      <td>0</td>\n",
       "      <td>0.907239</td>\n",
       "      <td>49</td>\n",
       "      <td>60625</td>\n",
       "      <td>1</td>\n",
       "      <td>0.024926</td>\n",
       "      <td>63588.0</td>\n",
       "      <td>7</td>\n",
       "      <td>0</td>\n",
       "      <td>1</td>\n",
       "      <td>0</td>\n",
       "      <td>0.0</td>\n",
       "    </tr>\n",
       "  </tbody>\n",
       "</table>\n",
       "</div>"
      ],
      "text/plain": [
       "          serious_dlqin2yrs  revolving_utilization_of_unsecured_lines  age  \\\n",
       "PersonID                                                                     \n",
       "1                         1                                  0.766127   45   \n",
       "2                         0                                  0.957151   40   \n",
       "3                         0                                  0.658180   38   \n",
       "4                         0                                  0.233810   30   \n",
       "5                         0                                  0.907239   49   \n",
       "\n",
       "          zipcode  number_of_time30-59_days_past_due_not_worse  debt_ratio  \\\n",
       "PersonID                                                                     \n",
       "1           60644                                            2    0.802982   \n",
       "2           60637                                            0    0.121876   \n",
       "3           60601                                            1    0.085113   \n",
       "4           60601                                            0    0.036050   \n",
       "5           60625                                            1    0.024926   \n",
       "\n",
       "          monthly_income  number_of_open_credit_lines_and_loans  \\\n",
       "PersonID                                                          \n",
       "1                 9120.0                                     13   \n",
       "2                 2600.0                                      4   \n",
       "3                 3042.0                                      2   \n",
       "4                 3300.0                                      5   \n",
       "5                63588.0                                      7   \n",
       "\n",
       "          number_of_times90_days_late  number_real_estate_loans_or_lines  \\\n",
       "PersonID                                                                   \n",
       "1                                   0                                  6   \n",
       "2                                   0                                  0   \n",
       "3                                   1                                  0   \n",
       "4                                   0                                  0   \n",
       "5                                   0                                  1   \n",
       "\n",
       "          number_of_time60-89_days_past_due_not_worse  number_of_dependents  \n",
       "PersonID                                                                     \n",
       "1                                                   0                   2.0  \n",
       "2                                                   0                   1.0  \n",
       "3                                                   0                   0.0  \n",
       "4                                                   0                   0.0  \n",
       "5                                                   0                   0.0  "
      ]
     },
     "execution_count": 66,
     "metadata": {},
     "output_type": "execute_result"
    }
   ],
   "source": [
    "#covert a string that is camelcase into snake_case\n",
    "def camel_to_snake(column_name):\n",
    "    s1 = re.sub('(.)([A-Z][a-z]+)', r'\\1_\\2', column_name)\n",
    "    return re.sub('([a-z0-9])([A-Z])', r'\\1_\\2', s1).lower()\n",
    "\n",
    "# convert each column name to snake case\n",
    "df.columns = [camel_to_snake(col) for col in df.columns]\n",
    "label_name = 'serious_dlqin2yrs'\n",
    "feature_names = [col for col in df.columns if col != label_name]\n",
    "df.head()"
   ]
  },
  {
   "cell_type": "markdown",
   "metadata": {},
   "source": [
    "## Explore Data"
   ]
  },
  {
   "cell_type": "code",
   "execution_count": 67,
   "metadata": {},
   "outputs": [
    {
     "data": {
      "text/plain": [
       "serious_dlqin2yrs                              150000\n",
       "revolving_utilization_of_unsecured_lines       150000\n",
       "age                                            150000\n",
       "zipcode                                        150000\n",
       "number_of_time30-59_days_past_due_not_worse    150000\n",
       "debt_ratio                                     150000\n",
       "monthly_income                                 120269\n",
       "number_of_open_credit_lines_and_loans          150000\n",
       "number_of_times90_days_late                    150000\n",
       "number_real_estate_loans_or_lines              150000\n",
       "number_of_time60-89_days_past_due_not_worse    150000\n",
       "number_of_dependents                           146076\n",
       "dtype: int64"
      ]
     },
     "execution_count": 67,
     "metadata": {},
     "output_type": "execute_result"
    }
   ],
   "source": [
    "df.count()"
   ]
  },
  {
   "cell_type": "code",
   "execution_count": 68,
   "metadata": {},
   "outputs": [
    {
     "data": {
      "text/html": [
       "<div>\n",
       "<style>\n",
       "    .dataframe thead tr:only-child th {\n",
       "        text-align: right;\n",
       "    }\n",
       "\n",
       "    .dataframe thead th {\n",
       "        text-align: left;\n",
       "    }\n",
       "\n",
       "    .dataframe tbody tr th {\n",
       "        vertical-align: top;\n",
       "    }\n",
       "</style>\n",
       "<table border=\"1\" class=\"dataframe\">\n",
       "  <thead>\n",
       "    <tr style=\"text-align: right;\">\n",
       "      <th>value</th>\n",
       "      <th>False</th>\n",
       "      <th>True</th>\n",
       "    </tr>\n",
       "    <tr>\n",
       "      <th>variable</th>\n",
       "      <th></th>\n",
       "      <th></th>\n",
       "    </tr>\n",
       "  </thead>\n",
       "  <tbody>\n",
       "    <tr>\n",
       "      <th>age</th>\n",
       "      <td>150000</td>\n",
       "      <td>0</td>\n",
       "    </tr>\n",
       "    <tr>\n",
       "      <th>debt_ratio</th>\n",
       "      <td>150000</td>\n",
       "      <td>0</td>\n",
       "    </tr>\n",
       "    <tr>\n",
       "      <th>monthly_income</th>\n",
       "      <td>120269</td>\n",
       "      <td>29731</td>\n",
       "    </tr>\n",
       "    <tr>\n",
       "      <th>number_of_dependents</th>\n",
       "      <td>146076</td>\n",
       "      <td>3924</td>\n",
       "    </tr>\n",
       "    <tr>\n",
       "      <th>number_of_open_credit_lines_and_loans</th>\n",
       "      <td>150000</td>\n",
       "      <td>0</td>\n",
       "    </tr>\n",
       "    <tr>\n",
       "      <th>number_of_time30-59_days_past_due_not_worse</th>\n",
       "      <td>150000</td>\n",
       "      <td>0</td>\n",
       "    </tr>\n",
       "    <tr>\n",
       "      <th>number_of_time60-89_days_past_due_not_worse</th>\n",
       "      <td>150000</td>\n",
       "      <td>0</td>\n",
       "    </tr>\n",
       "    <tr>\n",
       "      <th>number_of_times90_days_late</th>\n",
       "      <td>150000</td>\n",
       "      <td>0</td>\n",
       "    </tr>\n",
       "    <tr>\n",
       "      <th>number_real_estate_loans_or_lines</th>\n",
       "      <td>150000</td>\n",
       "      <td>0</td>\n",
       "    </tr>\n",
       "    <tr>\n",
       "      <th>revolving_utilization_of_unsecured_lines</th>\n",
       "      <td>150000</td>\n",
       "      <td>0</td>\n",
       "    </tr>\n",
       "    <tr>\n",
       "      <th>serious_dlqin2yrs</th>\n",
       "      <td>150000</td>\n",
       "      <td>0</td>\n",
       "    </tr>\n",
       "    <tr>\n",
       "      <th>zipcode</th>\n",
       "      <td>150000</td>\n",
       "      <td>0</td>\n",
       "    </tr>\n",
       "  </tbody>\n",
       "</table>\n",
       "</div>"
      ],
      "text/plain": [
       "value                                         False  True \n",
       "variable                                                  \n",
       "age                                          150000      0\n",
       "debt_ratio                                   150000      0\n",
       "monthly_income                               120269  29731\n",
       "number_of_dependents                         146076   3924\n",
       "number_of_open_credit_lines_and_loans        150000      0\n",
       "number_of_time30-59_days_past_due_not_worse  150000      0\n",
       "number_of_time60-89_days_past_due_not_worse  150000      0\n",
       "number_of_times90_days_late                  150000      0\n",
       "number_real_estate_loans_or_lines            150000      0\n",
       "revolving_utilization_of_unsecured_lines     150000      0\n",
       "serious_dlqin2yrs                            150000      0\n",
       "zipcode                                      150000      0"
      ]
     },
     "execution_count": 68,
     "metadata": {},
     "output_type": "execute_result"
    }
   ],
   "source": [
    "#figure out which variables contain null values. First, melt our data into long format.print a table telling the no of null and non-null instances.\n",
    "df_lng = pd.melt(df)\n",
    "null_variables = df_lng.value.isnull()\n",
    "pd.crosstab(df_lng.variable, null_variables)"
   ]
  },
  {
   "cell_type": "markdown",
   "metadata": {},
   "source": [
    "## Pre Process Data"
   ]
  },
  {
   "cell_type": "code",
   "execution_count": 69,
   "metadata": {},
   "outputs": [
    {
     "data": {
      "text/plain": [
       "['monthly_income', 'number_of_dependents']"
      ]
     },
     "execution_count": 69,
     "metadata": {},
     "output_type": "execute_result"
    }
   ],
   "source": [
    "def check_missing(df):\n",
    "    return [col for col in df.columns if any(df[col].isnull()) == True]\n",
    "\n",
    "def fill_missing(df, col_name, method):\n",
    "    if method == 'mean':\n",
    "        df[col_name] = df[col_name].fillna(df[col_name].mean())\n",
    "    elif method == 'median':\n",
    "        df[col_name] = df[col_name].fillna(df[col_name].median())\n",
    "    elif method == 'zero':\n",
    "        df[col_name] = df[col_name].fillna(0)\n",
    "        \n",
    "missing_cols = check_missing(df)\n",
    "missing_cols"
   ]
  },
  {
   "cell_type": "code",
   "execution_count": 70,
   "metadata": {},
   "outputs": [
    {
     "data": {
      "text/plain": [
       "[]"
      ]
     },
     "execution_count": 70,
     "metadata": {},
     "output_type": "execute_result"
    }
   ],
   "source": [
    "for col in missing_cols:\n",
    "    fill_missing(df, col, 'mean')\n",
    "check_missing(df)"
   ]
  },
  {
   "cell_type": "markdown",
   "metadata": {},
   "source": [
    "As we can see, there is no missing values."
   ]
  },
  {
   "cell_type": "code",
   "execution_count": 71,
   "metadata": {},
   "outputs": [
    {
     "data": {
      "text/html": [
       "<div>\n",
       "<style>\n",
       "    .dataframe thead tr:only-child th {\n",
       "        text-align: right;\n",
       "    }\n",
       "\n",
       "    .dataframe thead th {\n",
       "        text-align: left;\n",
       "    }\n",
       "\n",
       "    .dataframe tbody tr th {\n",
       "        vertical-align: top;\n",
       "    }\n",
       "</style>\n",
       "<table border=\"1\" class=\"dataframe\">\n",
       "  <thead>\n",
       "    <tr style=\"text-align: right;\">\n",
       "      <th></th>\n",
       "      <th>age</th>\n",
       "    </tr>\n",
       "    <tr>\n",
       "      <th>zipcode</th>\n",
       "      <th></th>\n",
       "    </tr>\n",
       "  </thead>\n",
       "  <tbody>\n",
       "    <tr>\n",
       "      <th>0</th>\n",
       "      <td>16599</td>\n",
       "    </tr>\n",
       "    <tr>\n",
       "      <th>1</th>\n",
       "      <td>16612</td>\n",
       "    </tr>\n",
       "    <tr>\n",
       "      <th>2</th>\n",
       "      <td>33514</td>\n",
       "    </tr>\n",
       "    <tr>\n",
       "      <th>3</th>\n",
       "      <td>16840</td>\n",
       "    </tr>\n",
       "    <tr>\n",
       "      <th>4</th>\n",
       "      <td>16625</td>\n",
       "    </tr>\n",
       "    <tr>\n",
       "      <th>5</th>\n",
       "      <td>16581</td>\n",
       "    </tr>\n",
       "    <tr>\n",
       "      <th>6</th>\n",
       "      <td>16624</td>\n",
       "    </tr>\n",
       "    <tr>\n",
       "      <th>7</th>\n",
       "      <td>16605</td>\n",
       "    </tr>\n",
       "  </tbody>\n",
       "</table>\n",
       "</div>"
      ],
      "text/plain": [
       "           age\n",
       "zipcode       \n",
       "0        16599\n",
       "1        16612\n",
       "2        33514\n",
       "3        16840\n",
       "4        16625\n",
       "5        16581\n",
       "6        16624\n",
       "7        16605"
      ]
     },
     "execution_count": 71,
     "metadata": {},
     "output_type": "execute_result"
    }
   ],
   "source": [
    "# encode zipcode by unique number idx\n",
    "df['zipcode'] = df['zipcode'].astype('category').cat.codes\n",
    "df[['zipcode', 'age']].groupby('zipcode').count()"
   ]
  },
  {
   "cell_type": "markdown",
   "metadata": {},
   "source": [
    "##  Generate Features"
   ]
  },
  {
   "cell_type": "code",
   "execution_count": 72,
   "metadata": {},
   "outputs": [
    {
     "data": {
      "image/png": "[encoded data removed]",
      "text/plain": [
       "<matplotlib.figure.Figure at 0x1126d1da0>"
      ]
     },
     "metadata": {},
     "output_type": "display_data"
    }
   ],
   "source": [
    "def sort_features_through_dt(df_features, df_label):\n",
    "    features = df_features.columns\n",
    "    model = DecisionTreeClassifier()\n",
    "    model.fit(df_features, df_label)\n",
    "    importances = model.feature_importances_\n",
    "    sorted_idx = np.argsort(importances)\n",
    "    padding = np.arange(len(features)) + 0.5\n",
    "    plt.barh(padding, importances[sorted_idx], align='center')\n",
    "    plt.yticks(padding, np.asarray(features)[sorted_idx])\n",
    "    plt.xlabel(\"Relative Importance\")\n",
    "    plt.title(\"Features Importance Through DT\")\n",
    "    \n",
    "    return list(np.asarray(features)[sorted_idx][::-1])\n",
    "\n",
    "\n",
    "df_features, df_label = df[feature_names], df[label_name]\n",
    "\n",
    "# sort all the features by importance\n",
    "sorted_features = sort_features_through_dt(df_features, df_label)"
   ]
  },
  {
   "cell_type": "code",
   "execution_count": 73,
   "metadata": {},
   "outputs": [
    {
     "data": {
      "text/html": [
       "<div>\n",
       "<style>\n",
       "    .dataframe thead tr:only-child th {\n",
       "        text-align: right;\n",
       "    }\n",
       "\n",
       "    .dataframe thead th {\n",
       "        text-align: left;\n",
       "    }\n",
       "\n",
       "    .dataframe tbody tr th {\n",
       "        vertical-align: top;\n",
       "    }\n",
       "</style>\n",
       "<table border=\"1\" class=\"dataframe\">\n",
       "  <thead>\n",
       "    <tr style=\"text-align: right;\">\n",
       "      <th></th>\n",
       "      <th>debt_ratio</th>\n",
       "      <th>revolving_utilization_of_unsecured_lines</th>\n",
       "      <th>monthly_income</th>\n",
       "      <th>number_of_times90_days_late</th>\n",
       "      <th>age</th>\n",
       "      <th>number_of_open_credit_lines_and_loans</th>\n",
       "      <th>zipcode</th>\n",
       "    </tr>\n",
       "    <tr>\n",
       "      <th>PersonID</th>\n",
       "      <th></th>\n",
       "      <th></th>\n",
       "      <th></th>\n",
       "      <th></th>\n",
       "      <th></th>\n",
       "      <th></th>\n",
       "      <th></th>\n",
       "    </tr>\n",
       "  </thead>\n",
       "  <tbody>\n",
       "    <tr>\n",
       "      <th>1</th>\n",
       "      <td>0.802982</td>\n",
       "      <td>0.766127</td>\n",
       "      <td>9120.0</td>\n",
       "      <td>0</td>\n",
       "      <td>45</td>\n",
       "      <td>13</td>\n",
       "      <td>5</td>\n",
       "    </tr>\n",
       "    <tr>\n",
       "      <th>2</th>\n",
       "      <td>0.121876</td>\n",
       "      <td>0.957151</td>\n",
       "      <td>2600.0</td>\n",
       "      <td>0</td>\n",
       "      <td>40</td>\n",
       "      <td>4</td>\n",
       "      <td>4</td>\n",
       "    </tr>\n",
       "    <tr>\n",
       "      <th>3</th>\n",
       "      <td>0.085113</td>\n",
       "      <td>0.658180</td>\n",
       "      <td>3042.0</td>\n",
       "      <td>1</td>\n",
       "      <td>38</td>\n",
       "      <td>2</td>\n",
       "      <td>0</td>\n",
       "    </tr>\n",
       "    <tr>\n",
       "      <th>4</th>\n",
       "      <td>0.036050</td>\n",
       "      <td>0.233810</td>\n",
       "      <td>3300.0</td>\n",
       "      <td>0</td>\n",
       "      <td>30</td>\n",
       "      <td>5</td>\n",
       "      <td>0</td>\n",
       "    </tr>\n",
       "    <tr>\n",
       "      <th>5</th>\n",
       "      <td>0.024926</td>\n",
       "      <td>0.907239</td>\n",
       "      <td>63588.0</td>\n",
       "      <td>0</td>\n",
       "      <td>49</td>\n",
       "      <td>7</td>\n",
       "      <td>2</td>\n",
       "    </tr>\n",
       "  </tbody>\n",
       "</table>\n",
       "</div>"
      ],
      "text/plain": [
       "          debt_ratio  revolving_utilization_of_unsecured_lines  \\\n",
       "PersonID                                                         \n",
       "1           0.802982                                  0.766127   \n",
       "2           0.121876                                  0.957151   \n",
       "3           0.085113                                  0.658180   \n",
       "4           0.036050                                  0.233810   \n",
       "5           0.024926                                  0.907239   \n",
       "\n",
       "          monthly_income  number_of_times90_days_late  age  \\\n",
       "PersonID                                                     \n",
       "1                 9120.0                            0   45   \n",
       "2                 2600.0                            0   40   \n",
       "3                 3042.0                            1   38   \n",
       "4                 3300.0                            0   30   \n",
       "5                63588.0                            0   49   \n",
       "\n",
       "          number_of_open_credit_lines_and_loans  zipcode  \n",
       "PersonID                                                  \n",
       "1                                            13        5  \n",
       "2                                             4        4  \n",
       "3                                             2        0  \n",
       "4                                             5        0  \n",
       "5                                             7        2  "
      ]
     },
     "execution_count": 73,
     "metadata": {},
     "output_type": "execute_result"
    }
   ],
   "source": [
    "# Select top 2/3 features\n",
    "count = int(len(sorted_features) * 0.67)\n",
    "df_features = df_features[sorted_features[:count]]\n",
    "df_features.head()"
   ]
  },
  {
   "cell_type": "code",
   "execution_count": 74,
   "metadata": {},
   "outputs": [],
   "source": [
    "# normalize\n",
    "df_features = preprocessing.MinMaxScaler().fit_transform(df_features)\n",
    "df_features = preprocessing.normalize(df_features, norm='max')"
   ]
  },
  {
   "cell_type": "markdown",
   "metadata": {},
   "source": [
    "## Build Classifier"
   ]
  },
  {
   "cell_type": "code",
   "execution_count": 75,
   "metadata": {},
   "outputs": [],
   "source": [
    "from sklearn.linear_model import LogisticRegression\n",
    "from sklearn.model_selection import ParameterGrid, GridSearchCV\n",
    "from sklearn.neighbors import KNeighborsClassifier\n",
    "from sklearn.ensemble import (RandomForestClassifier,\n",
    "                              GradientBoostingClassifier,\n",
    "                              BaggingClassifier)\n",
    "from sklearn.svm import LinearSVC\n",
    "from sklearn.model_selection import train_test_split\n",
    "from sklearn.tree import DecisionTreeClassifier\n",
    "from sklearn.dummy import DummyClassifier\n",
    "from sklearn.metrics import (precision_recall_curve, roc_auc_score, roc_curve, auc,\n",
    "                             precision_score, recall_score, f1_score)"
   ]
  },
  {
   "cell_type": "code",
   "execution_count": 76,
   "metadata": {},
   "outputs": [],
   "source": [
    "# split train set and test set\n",
    "df_features, df_label = df_features[:10000], df_label[:10000]\n",
    "X_train, X_test, y_train, y_test = train_test_split(df_features, df_label, test_size=0.2)"
   ]
  },
  {
   "cell_type": "code",
   "execution_count": 77,
   "metadata": {},
   "outputs": [],
   "source": [
    "classifier_constructors = {\n",
    "    'LR': LogisticRegression,\n",
    "    'KNN': KNeighborsClassifier,\n",
    "    'DT': DecisionTreeClassifier,\n",
    "    'SVM': LinearSVC,\n",
    "    'RF': RandomForestClassifier,\n",
    "    'GB': GradientBoostingClassifier,\n",
    "    'BG': BaggingClassifier\n",
    "}\n",
    "\n",
    "grid = dict()\n",
    "grid['LR'] = {'penalty': ['l1', 'l2'], 'C': [10 ** i for i in range(-5, 2)]}\n",
    "grid['DT'] = {'max_depth': [1, 5, 10, 20, 50, 100],\n",
    "              'min_samples_split': [2, 5, 10]}\n",
    "grid['KNN'] = {'n_neighbors': [1, 5, 10, 25, 50, 100]}\n",
    "grid['SVM'] = {'C': [0.1, 0.5, 1]}\n",
    "grid['RF'] = {'n_estimators': [1, 5, 10], 'max_depth': [1, 5, 10]}\n",
    "grid['GB'] = {'n_estimators': [1, 5, 10], 'learning_rate': [0.1, 0.3, 0.5],\n",
    "              'max_depth': [1, 3, 5]}\n",
    "grid['BG'] = {'n_estimators': [1, 5, 10]}"
   ]
  },
  {
   "cell_type": "code",
   "execution_count": 78,
   "metadata": {},
   "outputs": [
    {
     "name": "stdout",
     "output_type": "stream",
     "text": [
      "LR best params: {'C': 1, 'penalty': 'l1'}, best score: 0.9354\n",
      "KNN best params: {'n_neighbors': 25}, best score: 0.9354\n",
      "DT best params: {'max_depth': 1, 'min_samples_split': 2}, best score: 0.9351\n",
      "SVM best params: {'C': 0.1}, best score: 0.9351\n",
      "RF best params: {'max_depth': 10, 'n_estimators': 10}, best score: 0.9366\n",
      "GB best params: {'learning_rate': 0.3, 'max_depth': 3, 'n_estimators': 1}, best score: 0.9361\n",
      "BG best params: {'n_estimators': 10}, best score: 0.9287\n"
     ]
    }
   ],
   "source": [
    "def build_clf(X_train, y_train):\n",
    "    classifiers = dict()\n",
    "    for k, clf_constructor in classifier_constructors.items():\n",
    "        clf = GridSearchCV(clf_constructor(), grid[k], cv=5)\n",
    "        clf.fit(X_train, y_train)\n",
    "        classifiers[k] = clf\n",
    "        print('%s best params: %s, best score: %.4f' % (k, clf.best_params_, clf.best_score_))\n",
    "    \n",
    "    return classifiers\n",
    "\n",
    "    \n",
    "classifiers = build_clf(X_train, y_train)"
   ]
  },
  {
   "cell_type": "markdown",
   "metadata": {},
   "source": [
    "## Evaluate Classifier"
   ]
  },
  {
   "cell_type": "markdown",
   "metadata": {},
   "source": [
    "### Calculate precision, recall, f1, and auc"
   ]
  },
  {
   "cell_type": "code",
   "execution_count": 79,
   "metadata": {},
   "outputs": [
    {
     "data": {
      "text/plain": [
       "{'BG': {'auc': 0.6791, 'f1': 0.186, 'precision': 0.1103, 'recall': 0.595},\n",
       " 'DT': {'auc': 0.6641, 'f1': 0.3629, 'precision': 0.3543, 'recall': 0.3719},\n",
       " 'GB': {'auc': 0.7731, 'f1': 0.1141, 'precision': 0.0605, 'recall': 1.0},\n",
       " 'KNN': {'auc': 0.5731, 'f1': 0.1376, 'precision': 0.0803, 'recall': 0.4793},\n",
       " 'LR': {'auc': 0.6402, 'f1': 0.1146, 'precision': 0.0608, 'recall': 0.9917},\n",
       " 'RF': {'auc': 0.774, 'f1': 0.2196, 'precision': 0.1304, 'recall': 0.6942},\n",
       " 'SVM': {'auc': 0.6558, 'f1': 0.032, 'precision': 0.5, 'recall': 0.0165}}"
      ]
     },
     "execution_count": 79,
     "metadata": {},
     "output_type": "execute_result"
    }
   ],
   "source": [
    "# evalute metrics\n",
    "def evaluate_classifier(y_test, y_pre, y_prob):\n",
    "    return {\n",
    "        'precision': float(\"%.4f\" % precision_score(y_test, y_pre)),\n",
    "        'recall': float(\"%.4f\" % recall_score(y_test, y_pre)),\n",
    "        'f1': float(\"%.4f\" % f1_score(y_test, y_pre)),\n",
    "        'auc': float(\"%.4f\" % roc_auc_score(y_test, y_prob))\n",
    "    }\n",
    "\n",
    "def evaluate_classifiers(X_test, y_test, threshold):\n",
    "    metrics = dict()\n",
    "    probas = dict()\n",
    "    for k, clf in classifiers.items():\n",
    "        if hasattr(clf, 'predict_proba'):\n",
    "            y_prob = clf.predict_proba(X_test)[:, 1]\n",
    "        else:\n",
    "            y_prob = clf.decision_function(X_test)\n",
    "        y_pre = np.asarray([1 if run >= threshold else 0 for run in y_prob])\n",
    "        metrics[k] = evaluate_classifier(y_test, y_pre, y_prob)\n",
    "        probas[k] = y_prob\n",
    "    return metrics, probas\n",
    "        \n",
    "metrics, probas = evaluate_classifiers(X_test, y_test, 0.05)\n",
    "metrics"
   ]
  },
  {
   "cell_type": "markdown",
   "metadata": {},
   "source": [
    "### Draw AUC"
   ]
  },
  {
   "cell_type": "code",
   "execution_count": 80,
   "metadata": {},
   "outputs": [
    {
     "data": {
      "image/png": "[encoded data removed]",
      "text/plain": [
       "<matplotlib.figure.Figure at 0x112411ac8>"
      ]
     },
     "metadata": {},
     "output_type": "display_data"
    }
   ],
   "source": [
    "def draw_auc(probas, y_test):\n",
    "    plt.clf()\n",
    "    auc_list = []\n",
    "    for k, prob in probas.items():\n",
    "        fpr, tpr, thresholds = roc_curve(y_test, prob)\n",
    "        roc_auc = auc(fpr, tpr)\n",
    "        auc_list.append((k, roc_auc))\n",
    "        \n",
    "    auc_list.sort(key=lambda x: x[1], reverse=True)\n",
    "    \n",
    "    for k, roc_auc in auc_list:\n",
    "        fpr, tpr, thresholds = roc_curve(y_test, probas[k])\n",
    "        plt.plot(fpr, tpr, lw=1, label=('%s AUC %.2f' % (k, roc_auc)))\n",
    "    \n",
    "    \n",
    "    plt.plot([0, 1], [0, 1], '--', color=(0.6, 0.6, 0.6), label='Luck')\n",
    "    plt.xlim([-0.05, 1.05])\n",
    "    plt.ylim([-0.05, 1.05])\n",
    "    plt.xlabel('False Positive Rate')\n",
    "    plt.ylabel('True Positive Rate')\n",
    "    plt.title('AUC Graph')\n",
    "    plt.legend(loc=\"lower right\")\n",
    "\n",
    "draw_auc(probas, y_test)"
   ]
  },
  {
   "cell_type": "markdown",
   "metadata": {},
   "source": [
    "### Draw Precision-Recall Curves"
   ]
  },
  {
   "cell_type": "code",
   "execution_count": 81,
   "metadata": {},
   "outputs": [
    {
     "data": {
      "text/plain": [
       "<matplotlib.figure.Figure at 0x1126b4e48>"
      ]
     },
     "metadata": {},
     "output_type": "display_data"
    },
    {
     "data": {
      "image/png": "[encoded data removed]",
      "text/plain": [
       "<matplotlib.figure.Figure at 0x110130898>"
      ]
     },
     "metadata": {},
     "output_type": "display_data"
    },
    {
     "data": {
      "text/plain": [
       "<matplotlib.figure.Figure at 0x10a286860>"
      ]
     },
     "metadata": {},
     "output_type": "display_data"
    },
    {
     "data": {
      "image/png": "[encoded data removed]",
      "text/plain": [
       "<matplotlib.figure.Figure at 0x1103fb390>"
      ]
     },
     "metadata": {},
     "output_type": "display_data"
    },
    {
     "data": {
      "text/plain": [
       "<matplotlib.figure.Figure at 0x110883c18>"
      ]
     },
     "metadata": {},
     "output_type": "display_data"
    },
    {
     "data": {
      "image/png": "[encoded data removed]",
      "text/plain": [
       "<matplotlib.figure.Figure at 0x110146780>"
      ]
     },
     "metadata": {},
     "output_type": "display_data"
    },
    {
     "data": {
      "text/plain": [
       "<matplotlib.figure.Figure at 0x11015f160>"
      ]
     },
     "metadata": {},
     "output_type": "display_data"
    },
    {
     "data": {
      "image/png": "[encoded data removed]",
      "text/plain": [
       "<matplotlib.figure.Figure at 0x110530198>"
      ]
     },
     "metadata": {},
     "output_type": "display_data"
    },
    {
     "data": {
      "text/plain": [
       "<matplotlib.figure.Figure at 0x1103ac208>"
      ]
     },
     "metadata": {},
     "output_type": "display_data"
    },
    {
     "data": {
      "image/png": "[encoded data removed]",
      "text/plain": [
       "<matplotlib.figure.Figure at 0x110d65668>"
      ]
     },
     "metadata": {},
     "output_type": "display_data"
    },
    {
     "data": {
      "text/plain": [
       "<matplotlib.figure.Figure at 0x1103fa198>"
      ]
     },
     "metadata": {},
     "output_type": "display_data"
    },
    {
     "data": {
      "image/png": "[encoded data removed]",
      "text/plain": [
       "<matplotlib.figure.Figure at 0x1108912e8>"
      ]
     },
     "metadata": {},
     "output_type": "display_data"
    },
    {
     "data": {
      "text/plain": [
       "<matplotlib.figure.Figure at 0x11243b630>"
      ]
     },
     "metadata": {},
     "output_type": "display_data"
    },
    {
     "data": {
      "image/png": "[encoded data removed]",
      "text/plain": [
       "<matplotlib.figure.Figure at 0x110884940>"
      ]
     },
     "metadata": {},
     "output_type": "display_data"
    }
   ],
   "source": [
    "def plot_precision_recall(y_test, key):\n",
    "    plt.clf()\n",
    "    y_prob = probas[key]\n",
    "    precision_curve, recall_curve, pr_thresholds = precision_recall_curve(y_test, y_prob)\n",
    "    precision_curve = precision_curve[:-1]\n",
    "    recall_curve = recall_curve[:-1]\n",
    "    pct_per_thresh = []\n",
    "    number_scored = len(y_prob)\n",
    "    for value in pr_thresholds:\n",
    "        num_above_thresh = len(y_prob[y_prob >= value])\n",
    "        pct_above_thresh = num_above_thresh / float(number_scored)\n",
    "        pct_per_thresh.append(pct_above_thresh)\n",
    "    pct_per_thresh = np.array(pct_per_thresh)\n",
    "    plt.clf()\n",
    "    fig, ax1 = plt.subplots()\n",
    "    ax1.plot(pct_per_thresh, precision_curve, 'b')\n",
    "    ax1.set_xlabel('percent of population')\n",
    "    ax1.set_ylabel('precision', color='b')\n",
    "    ax2 = ax1.twinx()\n",
    "    ax2.plot(pct_per_thresh, recall_curve, 'y')\n",
    "    ax2.set_ylabel('recall', color='y')\n",
    "    plt.title(key)\n",
    "    plt.show()\n",
    "    \n",
    "for key in probas.keys():\n",
    "    plot_precision_recall(y_test, key)"
   ]
  },
  {
   "cell_type": "markdown",
   "metadata": {},
   "source": [
    "### Draw Precision, Recall, Auc and F1"
   ]
  },
  {
   "cell_type": "code",
   "execution_count": 82,
   "metadata": {},
   "outputs": [
    {
     "data": {
      "text/html": [
       "<div>\n",
       "<style>\n",
       "    .dataframe thead tr:only-child th {\n",
       "        text-align: right;\n",
       "    }\n",
       "\n",
       "    .dataframe thead th {\n",
       "        text-align: left;\n",
       "    }\n",
       "\n",
       "    .dataframe tbody tr th {\n",
       "        vertical-align: top;\n",
       "    }\n",
       "</style>\n",
       "<table border=\"1\" class=\"dataframe\">\n",
       "  <thead>\n",
       "    <tr style=\"text-align: right;\">\n",
       "      <th></th>\n",
       "      <th>BG</th>\n",
       "      <th>DT</th>\n",
       "      <th>GB</th>\n",
       "      <th>KNN</th>\n",
       "      <th>LR</th>\n",
       "      <th>RF</th>\n",
       "      <th>SVM</th>\n",
       "    </tr>\n",
       "    <tr>\n",
       "      <th>key</th>\n",
       "      <th></th>\n",
       "      <th></th>\n",
       "      <th></th>\n",
       "      <th></th>\n",
       "      <th></th>\n",
       "      <th></th>\n",
       "      <th></th>\n",
       "    </tr>\n",
       "  </thead>\n",
       "  <tbody>\n",
       "    <tr>\n",
       "      <th>precision</th>\n",
       "      <td>0.1103</td>\n",
       "      <td>0.3543</td>\n",
       "      <td>0.0605</td>\n",
       "      <td>0.0803</td>\n",
       "      <td>0.0608</td>\n",
       "      <td>0.1304</td>\n",
       "      <td>0.5000</td>\n",
       "    </tr>\n",
       "    <tr>\n",
       "      <th>recall</th>\n",
       "      <td>0.5950</td>\n",
       "      <td>0.3719</td>\n",
       "      <td>1.0000</td>\n",
       "      <td>0.4793</td>\n",
       "      <td>0.9917</td>\n",
       "      <td>0.6942</td>\n",
       "      <td>0.0165</td>\n",
       "    </tr>\n",
       "    <tr>\n",
       "      <th>f1</th>\n",
       "      <td>0.1860</td>\n",
       "      <td>0.3629</td>\n",
       "      <td>0.1141</td>\n",
       "      <td>0.1376</td>\n",
       "      <td>0.1146</td>\n",
       "      <td>0.2196</td>\n",
       "      <td>0.0320</td>\n",
       "    </tr>\n",
       "    <tr>\n",
       "      <th>auc</th>\n",
       "      <td>0.6791</td>\n",
       "      <td>0.6641</td>\n",
       "      <td>0.7731</td>\n",
       "      <td>0.5731</td>\n",
       "      <td>0.6402</td>\n",
       "      <td>0.7740</td>\n",
       "      <td>0.6558</td>\n",
       "    </tr>\n",
       "  </tbody>\n",
       "</table>\n",
       "</div>"
      ],
      "text/plain": [
       "               BG      DT      GB     KNN      LR      RF     SVM\n",
       "key                                                              \n",
       "precision  0.1103  0.3543  0.0605  0.0803  0.0608  0.1304  0.5000\n",
       "recall     0.5950  0.3719  1.0000  0.4793  0.9917  0.6942  0.0165\n",
       "f1         0.1860  0.3629  0.1141  0.1376  0.1146  0.2196  0.0320\n",
       "auc        0.6791  0.6641  0.7731  0.5731  0.6402  0.7740  0.6558"
      ]
     },
     "execution_count": 82,
     "metadata": {},
     "output_type": "execute_result"
    }
   ],
   "source": [
    "data = dict()\n",
    "data['key'] =  ['precision', 'recall', 'f1', 'auc']\n",
    "\n",
    "for k, metric in metrics.items():\n",
    "    data[k] = [metric[item] for item in data['key']]\n",
    "\n",
    "df_result = pd.DataFrame(data)\n",
    "\n",
    "df_result = df_result.set_index('key')\n",
    "df_result.head()"
   ]
  },
  {
   "cell_type": "code",
   "execution_count": 83,
   "metadata": {},
   "outputs": [
    {
     "data": {
      "image/png": "[encoded data removed]",
      "text/plain": [
       "<matplotlib.figure.Figure at 0x110130828>"
      ]
     },
     "metadata": {},
     "output_type": "display_data"
    }
   ],
   "source": [
    "df_result.plot.bar();\n",
    "plt.show()"
   ]
  },
  {
   "cell_type": "markdown",
   "metadata": {},
   "source": [
    "### The Best Classifier"
   ]
  },
  {
   "cell_type": "code",
   "execution_count": 84,
   "metadata": {},
   "outputs": [
    {
     "data": {
      "text/plain": [
       "('SVM', {'auc': 0.6558, 'f1': 0.032, 'precision': 0.5, 'recall': 0.0165})"
      ]
     },
     "execution_count": 84,
     "metadata": {},
     "output_type": "execute_result"
    }
   ],
   "source": [
    "# find the best one\n",
    "def find_the_best_model(target='auc'):\n",
    "    metrics_list = list(metrics.items())\n",
    "    metrics_list.sort(key=lambda x: x[1][target], reverse=True)\n",
    "    return metrics_list[0]\n",
    "\n",
    "find_the_best_model('precision')"
   ]
  },
  {
   "cell_type": "code",
   "execution_count": 85,
   "metadata": {},
   "outputs": [
    {
     "data": {
      "text/plain": [
       "('Baseline',\n",
       " {'auc': 0.4841, 'f1': 0.0781, 'precision': 0.0741, 'recall': 0.0826})"
      ]
     },
     "execution_count": 85,
     "metadata": {},
     "output_type": "execute_result"
    }
   ],
   "source": [
    "def get_baseline_metric():\n",
    "    base_clf = DummyClassifier()\n",
    "    base_clf.fit(X_train, y_train)\n",
    "    y_pre = base_clf.predict(X_test)\n",
    "    y_prob = base_clf.predict_proba(X_test)[:, 1]\n",
    "    return evaluate_classifier(y_test, y_pre, y_prob)\n",
    "\n",
    "baseline_metric = get_baseline_metric()\n",
    "('Baseline', baseline_metric)"
   ]
  }
 ],
 "metadata": {
  "kernelspec": {
   "display_name": "Python 3",
   "language": "python",
   "name": "python3"
  },
  "language_info": {
   "codemirror_mode": {
    "name": "ipython",
    "version": 3
   },
   "file_extension": ".py",
   "mimetype": "text/x-python",
   "name": "python",
   "nbconvert_exporter": "python",
   "pygments_lexer": "ipython3",
   "version": "3.6.2"
  }
 },
 "nbformat": 4,
 "nbformat_minor": 1
}

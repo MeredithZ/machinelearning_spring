{
 "cells": [
  {
   "cell_type": "code",
   "execution_count": 1,
   "metadata": {},
   "outputs": [],
   "source": [
    "import re\n",
    "import time\n",
    "\n",
    "import pandas as pd\n",
    "import numpy as np\n",
    "import pylab as plt\n",
    "%matplotlib inline\n",
    "from sklearn.tree import DecisionTreeClassifier\n",
    "from sklearn import preprocessing"
   ]
  },
  {
   "cell_type": "markdown",
   "metadata": {},
   "source": [
    "# Step 1: Read CSV"
   ]
  },
  {
   "cell_type": "markdown",
   "metadata": {},
   "source": [
    "To save typos in the future, we first convert a string that is camelcase into snake_case. Use underscores to avoid spaces in between of compound words."
   ]
  },
  {
   "cell_type": "code",
   "execution_count": 2,
   "metadata": {},
   "outputs": [],
   "source": [
    "def camel_to_snake(column_name):\n",
    "    s1 = re.sub('(.)([A-Z][a-z]+)', r'\\1_\\2', column_name)\n",
    "    return re.sub('([a-z0-9])([A-Z])', r'\\1_\\2', s1).lower()\n",
    "\n",
    "def read(file_name):\n",
    "    if not os.path.isfile(file_name):\n",
    "        raise ValueError('File Not Found')\n",
    "        \n",
    "    ext = file_name.split('.')[-1].lower()\n",
    "    if 'csv' == ext:\n",
    "        df = pd.read_csv(file_name)\n",
    "    elif 'xls' in ext:\n",
    "        df = pd.read_excel(file_name)\n",
    "    elif 'json' == ext:\n",
    "        df = pd.read_json(file_name)\n",
    "    else:\n",
    "        raise ValueError('Only support csv, xls and json')\n",
    "\n",
    "    return df"
   ]
  },
  {
   "cell_type": "markdown",
   "metadata": {},
   "source": [
    "## Merge on projectid"
   ]
  },
  {
   "cell_type": "markdown",
   "metadata": {},
   "source": [
    "Basic description: Projects data lists the demographics data of school profiles and associated socio-economic factors, and the project applications data. Outcomes data lists the outcomes(whether it is exciting or not) for each project. To be exciting, a project must meet all of the top five criteria,and meet at least one extra criteria. Donations data comprises donors information and donation details associated with each individual project. Essays data conclude all essay questions funding application materials. Resources data specifies those who requested resources. \n",
    "\n",
    "Data choosing criteria: Since the natural language processing is beyond the scope of the project, we will rule 'Essays' dataset out of our analysis.  \n",
    "\n",
    "Merging purpose: Merging is the first step to explore and pre-process data. For this step, I see Projects.csv as the master dataset, and merge outcomes, donations and resources datasets on projects dataset. By browsing the head of these dataset, we found the projectid could be used as primary key to merge data as it is the unique identification number that link all these four datasets together. "
   ]
  },
  {
   "cell_type": "code",
   "execution_count": 3,
   "metadata": {},
   "outputs": [],
   "source": [
    "df_project = pd.read_csv('/home/xinyuan/projects.csv', index_col='projectid')\n",
    "df_outcome = pd.read_csv('/home/xinyuan/outcomes.csv', index_col='projectid')\n",
    "df_donation = pd.read_csv('/home/xinyuan/donations.csv', index_col='projectid')\n",
    "df_resource = pd.read_csv('/home/xinyuan/resources.csv', index_col='projectid')"
   ]
  },
  {
   "cell_type": "code",
   "execution_count": 4,
   "metadata": {},
   "outputs": [
    {
     "data": {
      "text/html": [
       "<div>\n",
       "<style scoped>\n",
       "    .dataframe tbody tr th:only-of-type {\n",
       "        vertical-align: middle;\n",
       "    }\n",
       "\n",
       "    .dataframe tbody tr th {\n",
       "        vertical-align: top;\n",
       "    }\n",
       "\n",
       "    .dataframe thead th {\n",
       "        text-align: right;\n",
       "    }\n",
       "</style>\n",
       "<table border=\"1\" class=\"dataframe\">\n",
       "  <thead>\n",
       "    <tr style=\"text-align: right;\">\n",
       "      <th></th>\n",
       "      <th>teacher_acctid</th>\n",
       "      <th>schoolid</th>\n",
       "      <th>school_ncesid</th>\n",
       "      <th>school_latitude</th>\n",
       "      <th>school_longitude</th>\n",
       "      <th>school_city</th>\n",
       "      <th>school_state</th>\n",
       "      <th>school_zip</th>\n",
       "      <th>school_metro</th>\n",
       "      <th>school_district</th>\n",
       "      <th>...</th>\n",
       "      <th>for_honoree</th>\n",
       "      <th>donation_message</th>\n",
       "      <th>resourceid</th>\n",
       "      <th>vendorid</th>\n",
       "      <th>vendor_name</th>\n",
       "      <th>project_resource_type</th>\n",
       "      <th>item_name</th>\n",
       "      <th>item_number</th>\n",
       "      <th>item_unit_price</th>\n",
       "      <th>item_quantity</th>\n",
       "    </tr>\n",
       "    <tr>\n",
       "      <th>projectid</th>\n",
       "      <th></th>\n",
       "      <th></th>\n",
       "      <th></th>\n",
       "      <th></th>\n",
       "      <th></th>\n",
       "      <th></th>\n",
       "      <th></th>\n",
       "      <th></th>\n",
       "      <th></th>\n",
       "      <th></th>\n",
       "      <th></th>\n",
       "      <th></th>\n",
       "      <th></th>\n",
       "      <th></th>\n",
       "      <th></th>\n",
       "      <th></th>\n",
       "      <th></th>\n",
       "      <th></th>\n",
       "      <th></th>\n",
       "      <th></th>\n",
       "      <th></th>\n",
       "    </tr>\n",
       "  </thead>\n",
       "  <tbody>\n",
       "    <tr>\n",
       "      <th>00001ccc0e81598c4bd86bacb94d7acb</th>\n",
       "      <td>96963218e74e10c3764a5cfb153e6fea</td>\n",
       "      <td>9f3f9f2c2da7edda5648ccd10554ed8c</td>\n",
       "      <td>1.709930e+11</td>\n",
       "      <td>41.807654</td>\n",
       "      <td>-87.673257</td>\n",
       "      <td>Chicago</td>\n",
       "      <td>IL</td>\n",
       "      <td>60609.0</td>\n",
       "      <td>urban</td>\n",
       "      <td>Pershing Elem Network</td>\n",
       "      <td>...</td>\n",
       "      <td>f</td>\n",
       "      <td>I gave because my students are AWESOME and the...</td>\n",
       "      <td>b3af2be825736f6d530314ae70e7c16c</td>\n",
       "      <td>767.0</td>\n",
       "      <td>Lakeshore Learning Materials</td>\n",
       "      <td>Supplies</td>\n",
       "      <td>CG582 - Adjustable Apron - Red</td>\n",
       "      <td>CG582</td>\n",
       "      <td>3.99</td>\n",
       "      <td>2.0</td>\n",
       "    </tr>\n",
       "    <tr>\n",
       "      <th>00001ccc0e81598c4bd86bacb94d7acb</th>\n",
       "      <td>96963218e74e10c3764a5cfb153e6fea</td>\n",
       "      <td>9f3f9f2c2da7edda5648ccd10554ed8c</td>\n",
       "      <td>1.709930e+11</td>\n",
       "      <td>41.807654</td>\n",
       "      <td>-87.673257</td>\n",
       "      <td>Chicago</td>\n",
       "      <td>IL</td>\n",
       "      <td>60609.0</td>\n",
       "      <td>urban</td>\n",
       "      <td>Pershing Elem Network</td>\n",
       "      <td>...</td>\n",
       "      <td>f</td>\n",
       "      <td>I gave because my students are AWESOME and the...</td>\n",
       "      <td>72f084e8c03ce9b3eff6e59de0476ef8</td>\n",
       "      <td>767.0</td>\n",
       "      <td>Lakeshore Learning Materials</td>\n",
       "      <td>Supplies</td>\n",
       "      <td>FF534 - Tissue Paper Squares</td>\n",
       "      <td>FF534</td>\n",
       "      <td>9.99</td>\n",
       "      <td>1.0</td>\n",
       "    </tr>\n",
       "    <tr>\n",
       "      <th>00001ccc0e81598c4bd86bacb94d7acb</th>\n",
       "      <td>96963218e74e10c3764a5cfb153e6fea</td>\n",
       "      <td>9f3f9f2c2da7edda5648ccd10554ed8c</td>\n",
       "      <td>1.709930e+11</td>\n",
       "      <td>41.807654</td>\n",
       "      <td>-87.673257</td>\n",
       "      <td>Chicago</td>\n",
       "      <td>IL</td>\n",
       "      <td>60609.0</td>\n",
       "      <td>urban</td>\n",
       "      <td>Pershing Elem Network</td>\n",
       "      <td>...</td>\n",
       "      <td>f</td>\n",
       "      <td>I gave because my students are AWESOME and the...</td>\n",
       "      <td>c2ea7ecbc583410fcec74c87ff102299</td>\n",
       "      <td>767.0</td>\n",
       "      <td>Lakeshore Learning Materials</td>\n",
       "      <td>Supplies</td>\n",
       "      <td>LM941 - Kid Counters</td>\n",
       "      <td>LM941</td>\n",
       "      <td>29.99</td>\n",
       "      <td>1.0</td>\n",
       "    </tr>\n",
       "    <tr>\n",
       "      <th>00001ccc0e81598c4bd86bacb94d7acb</th>\n",
       "      <td>96963218e74e10c3764a5cfb153e6fea</td>\n",
       "      <td>9f3f9f2c2da7edda5648ccd10554ed8c</td>\n",
       "      <td>1.709930e+11</td>\n",
       "      <td>41.807654</td>\n",
       "      <td>-87.673257</td>\n",
       "      <td>Chicago</td>\n",
       "      <td>IL</td>\n",
       "      <td>60609.0</td>\n",
       "      <td>urban</td>\n",
       "      <td>Pershing Elem Network</td>\n",
       "      <td>...</td>\n",
       "      <td>f</td>\n",
       "      <td>I gave because my students are AWESOME and the...</td>\n",
       "      <td>06d48fb6646b17eea8dd7e5fdd9a6178</td>\n",
       "      <td>767.0</td>\n",
       "      <td>Lakeshore Learning Materials</td>\n",
       "      <td>Supplies</td>\n",
       "      <td>LC987 - Newsprint Easel Paper - 16&amp;amp;#34; x ...</td>\n",
       "      <td>LC987</td>\n",
       "      <td>7.99</td>\n",
       "      <td>6.0</td>\n",
       "    </tr>\n",
       "    <tr>\n",
       "      <th>00001ccc0e81598c4bd86bacb94d7acb</th>\n",
       "      <td>96963218e74e10c3764a5cfb153e6fea</td>\n",
       "      <td>9f3f9f2c2da7edda5648ccd10554ed8c</td>\n",
       "      <td>1.709930e+11</td>\n",
       "      <td>41.807654</td>\n",
       "      <td>-87.673257</td>\n",
       "      <td>Chicago</td>\n",
       "      <td>IL</td>\n",
       "      <td>60609.0</td>\n",
       "      <td>urban</td>\n",
       "      <td>Pershing Elem Network</td>\n",
       "      <td>...</td>\n",
       "      <td>f</td>\n",
       "      <td>I gave because my students are AWESOME and the...</td>\n",
       "      <td>aac3650483a9c0a6614ebccc6c6ced90</td>\n",
       "      <td>767.0</td>\n",
       "      <td>Lakeshore Learning Materials</td>\n",
       "      <td>Supplies</td>\n",
       "      <td>LA743 - Glitter Pack - Set of 12</td>\n",
       "      <td>LA743</td>\n",
       "      <td>12.99</td>\n",
       "      <td>2.0</td>\n",
       "    </tr>\n",
       "  </tbody>\n",
       "</table>\n",
       "<p>5 rows × 73 columns</p>\n",
       "</div>"
      ],
      "text/plain": [
       "                                                    teacher_acctid  \\\n",
       "projectid                                                            \n",
       "00001ccc0e81598c4bd86bacb94d7acb  96963218e74e10c3764a5cfb153e6fea   \n",
       "00001ccc0e81598c4bd86bacb94d7acb  96963218e74e10c3764a5cfb153e6fea   \n",
       "00001ccc0e81598c4bd86bacb94d7acb  96963218e74e10c3764a5cfb153e6fea   \n",
       "00001ccc0e81598c4bd86bacb94d7acb  96963218e74e10c3764a5cfb153e6fea   \n",
       "00001ccc0e81598c4bd86bacb94d7acb  96963218e74e10c3764a5cfb153e6fea   \n",
       "\n",
       "                                                          schoolid  \\\n",
       "projectid                                                            \n",
       "00001ccc0e81598c4bd86bacb94d7acb  9f3f9f2c2da7edda5648ccd10554ed8c   \n",
       "00001ccc0e81598c4bd86bacb94d7acb  9f3f9f2c2da7edda5648ccd10554ed8c   \n",
       "00001ccc0e81598c4bd86bacb94d7acb  9f3f9f2c2da7edda5648ccd10554ed8c   \n",
       "00001ccc0e81598c4bd86bacb94d7acb  9f3f9f2c2da7edda5648ccd10554ed8c   \n",
       "00001ccc0e81598c4bd86bacb94d7acb  9f3f9f2c2da7edda5648ccd10554ed8c   \n",
       "\n",
       "                                  school_ncesid  school_latitude  \\\n",
       "projectid                                                          \n",
       "00001ccc0e81598c4bd86bacb94d7acb   1.709930e+11        41.807654   \n",
       "00001ccc0e81598c4bd86bacb94d7acb   1.709930e+11        41.807654   \n",
       "00001ccc0e81598c4bd86bacb94d7acb   1.709930e+11        41.807654   \n",
       "00001ccc0e81598c4bd86bacb94d7acb   1.709930e+11        41.807654   \n",
       "00001ccc0e81598c4bd86bacb94d7acb   1.709930e+11        41.807654   \n",
       "\n",
       "                                  school_longitude school_city school_state  \\\n",
       "projectid                                                                     \n",
       "00001ccc0e81598c4bd86bacb94d7acb        -87.673257     Chicago           IL   \n",
       "00001ccc0e81598c4bd86bacb94d7acb        -87.673257     Chicago           IL   \n",
       "00001ccc0e81598c4bd86bacb94d7acb        -87.673257     Chicago           IL   \n",
       "00001ccc0e81598c4bd86bacb94d7acb        -87.673257     Chicago           IL   \n",
       "00001ccc0e81598c4bd86bacb94d7acb        -87.673257     Chicago           IL   \n",
       "\n",
       "                                  school_zip school_metro  \\\n",
       "projectid                                                   \n",
       "00001ccc0e81598c4bd86bacb94d7acb     60609.0        urban   \n",
       "00001ccc0e81598c4bd86bacb94d7acb     60609.0        urban   \n",
       "00001ccc0e81598c4bd86bacb94d7acb     60609.0        urban   \n",
       "00001ccc0e81598c4bd86bacb94d7acb     60609.0        urban   \n",
       "00001ccc0e81598c4bd86bacb94d7acb     60609.0        urban   \n",
       "\n",
       "                                        school_district      ...       \\\n",
       "projectid                                                    ...        \n",
       "00001ccc0e81598c4bd86bacb94d7acb  Pershing Elem Network      ...        \n",
       "00001ccc0e81598c4bd86bacb94d7acb  Pershing Elem Network      ...        \n",
       "00001ccc0e81598c4bd86bacb94d7acb  Pershing Elem Network      ...        \n",
       "00001ccc0e81598c4bd86bacb94d7acb  Pershing Elem Network      ...        \n",
       "00001ccc0e81598c4bd86bacb94d7acb  Pershing Elem Network      ...        \n",
       "\n",
       "                                 for_honoree  \\\n",
       "projectid                                      \n",
       "00001ccc0e81598c4bd86bacb94d7acb           f   \n",
       "00001ccc0e81598c4bd86bacb94d7acb           f   \n",
       "00001ccc0e81598c4bd86bacb94d7acb           f   \n",
       "00001ccc0e81598c4bd86bacb94d7acb           f   \n",
       "00001ccc0e81598c4bd86bacb94d7acb           f   \n",
       "\n",
       "                                                                   donation_message  \\\n",
       "projectid                                                                             \n",
       "00001ccc0e81598c4bd86bacb94d7acb  I gave because my students are AWESOME and the...   \n",
       "00001ccc0e81598c4bd86bacb94d7acb  I gave because my students are AWESOME and the...   \n",
       "00001ccc0e81598c4bd86bacb94d7acb  I gave because my students are AWESOME and the...   \n",
       "00001ccc0e81598c4bd86bacb94d7acb  I gave because my students are AWESOME and the...   \n",
       "00001ccc0e81598c4bd86bacb94d7acb  I gave because my students are AWESOME and the...   \n",
       "\n",
       "                                                        resourceid vendorid  \\\n",
       "projectid                                                                     \n",
       "00001ccc0e81598c4bd86bacb94d7acb  b3af2be825736f6d530314ae70e7c16c    767.0   \n",
       "00001ccc0e81598c4bd86bacb94d7acb  72f084e8c03ce9b3eff6e59de0476ef8    767.0   \n",
       "00001ccc0e81598c4bd86bacb94d7acb  c2ea7ecbc583410fcec74c87ff102299    767.0   \n",
       "00001ccc0e81598c4bd86bacb94d7acb  06d48fb6646b17eea8dd7e5fdd9a6178    767.0   \n",
       "00001ccc0e81598c4bd86bacb94d7acb  aac3650483a9c0a6614ebccc6c6ced90    767.0   \n",
       "\n",
       "                                                   vendor_name  \\\n",
       "projectid                                                        \n",
       "00001ccc0e81598c4bd86bacb94d7acb  Lakeshore Learning Materials   \n",
       "00001ccc0e81598c4bd86bacb94d7acb  Lakeshore Learning Materials   \n",
       "00001ccc0e81598c4bd86bacb94d7acb  Lakeshore Learning Materials   \n",
       "00001ccc0e81598c4bd86bacb94d7acb  Lakeshore Learning Materials   \n",
       "00001ccc0e81598c4bd86bacb94d7acb  Lakeshore Learning Materials   \n",
       "\n",
       "                                 project_resource_type  \\\n",
       "projectid                                                \n",
       "00001ccc0e81598c4bd86bacb94d7acb              Supplies   \n",
       "00001ccc0e81598c4bd86bacb94d7acb              Supplies   \n",
       "00001ccc0e81598c4bd86bacb94d7acb              Supplies   \n",
       "00001ccc0e81598c4bd86bacb94d7acb              Supplies   \n",
       "00001ccc0e81598c4bd86bacb94d7acb              Supplies   \n",
       "\n",
       "                                                                          item_name  \\\n",
       "projectid                                                                             \n",
       "00001ccc0e81598c4bd86bacb94d7acb                     CG582 - Adjustable Apron - Red   \n",
       "00001ccc0e81598c4bd86bacb94d7acb                       FF534 - Tissue Paper Squares   \n",
       "00001ccc0e81598c4bd86bacb94d7acb                               LM941 - Kid Counters   \n",
       "00001ccc0e81598c4bd86bacb94d7acb  LC987 - Newsprint Easel Paper - 16&amp;#34; x ...   \n",
       "00001ccc0e81598c4bd86bacb94d7acb                   LA743 - Glitter Pack - Set of 12   \n",
       "\n",
       "                                 item_number item_unit_price item_quantity  \n",
       "projectid                                                                   \n",
       "00001ccc0e81598c4bd86bacb94d7acb       CG582            3.99           2.0  \n",
       "00001ccc0e81598c4bd86bacb94d7acb       FF534            9.99           1.0  \n",
       "00001ccc0e81598c4bd86bacb94d7acb       LM941           29.99           1.0  \n",
       "00001ccc0e81598c4bd86bacb94d7acb       LC987            7.99           6.0  \n",
       "00001ccc0e81598c4bd86bacb94d7acb       LA743           12.99           2.0  \n",
       "\n",
       "[5 rows x 73 columns]"
      ]
     },
     "execution_count": 4,
     "metadata": {},
     "output_type": "execute_result"
    }
   ],
   "source": [
    "df_origin = df_project.join(df_outcome)\n",
    "df_origin = df_origin.join(df_donation)\n",
    "df_origin = df_origin.join(df_resource)\n",
    "df_origin.columns = [camel_to_snake(col) for col in df_origin.columns]\n",
    "df_origin.head()"
   ]
  },
  {
   "cell_type": "markdown",
   "metadata": {},
   "source": [
    "# Step 2：Explore Data"
   ]
  },
  {
   "cell_type": "markdown",
   "metadata": {},
   "source": [
    "## 2.1 Basic info"
   ]
  },
  {
   "cell_type": "code",
   "execution_count": 5,
   "metadata": {},
   "outputs": [
    {
     "data": {
      "text/plain": [
       "teacher_acctid                              19044197\n",
       "schoolid                                    19044197\n",
       "school_ncesid                               17580019\n",
       "school_latitude                             19044197\n",
       "school_longitude                            19044197\n",
       "school_city                                 19044197\n",
       "school_state                                19044197\n",
       "school_zip                                  19044182\n",
       "school_metro                                16923956\n",
       "school_district                             19014316\n",
       "school_county                               19044141\n",
       "school_charter                              19044197\n",
       "school_magnet                               19044197\n",
       "school_year_round                           19044197\n",
       "school_nlns                                 19044197\n",
       "school_kipp                                 19044197\n",
       "school_charter_ready_promise                19044197\n",
       "teacher_prefix                              19044186\n",
       "teacher_teach_for_america                   19044197\n",
       "teacher_ny_teaching_fellow                  19044197\n",
       "primary_focus_subject                       19043011\n",
       "primary_focus_area                          19043011\n",
       "secondary_focus_subject                     12841828\n",
       "secondary_focus_area                        12841828\n",
       "resource_type                               19042934\n",
       "poverty_level                               19044197\n",
       "grade_level                                 19044097\n",
       "fulfillment_labor_materials                 18710148\n",
       "total_price_excluding_optional_support      19044197\n",
       "total_price_including_optional_support      19044197\n",
       "                                              ...   \n",
       "teacher_referred_count                      18351531\n",
       "non_teacher_referred_count                  18351531\n",
       "donationid                                  18352488\n",
       "donor_acctid                                18352488\n",
       "donor_city                                   6548659\n",
       "donor_state                                 14745298\n",
       "donor_zip                                    8310948\n",
       "is_teacher_acct                             18352488\n",
       "donation_timestamp                          18352488\n",
       "donation_to_project                         18352488\n",
       "donation_optional_support                   18352488\n",
       "donation_total                              18352488\n",
       "dollar_amount                               18352488\n",
       "donation_included_optional_support          18352488\n",
       "payment_method                              18352488\n",
       "payment_included_acct_credit                18352488\n",
       "payment_included_campaign_gift_card         18352488\n",
       "payment_included_web_purchased_gift_card    18352488\n",
       "payment_was_promo_matched                   18352488\n",
       "via_giving_page                             18352488\n",
       "for_honoree                                 18352488\n",
       "donation_message                            13774612\n",
       "resourceid                                  19043808\n",
       "vendorid                                    18616371\n",
       "vendor_name                                 18616188\n",
       "project_resource_type                       19042546\n",
       "item_name                                   18987760\n",
       "item_number                                 18905416\n",
       "item_unit_price                             18988742\n",
       "item_quantity                               18998342\n",
       "Length: 73, dtype: int64"
      ]
     },
     "execution_count": 5,
     "metadata": {},
     "output_type": "execute_result"
    }
   ],
   "source": [
    "df = df_origin\n",
    "df.count()"
   ]
  },
  {
   "cell_type": "markdown",
   "metadata": {},
   "source": [
    "## 2.2 Data discriptions"
   ]
  },
  {
   "cell_type": "markdown",
   "metadata": {},
   "source": [
    "In this section, we want know the distributions of these variables, and correlations between these variables, as well as the changes and trends over time."
   ]
  },
  {
   "cell_type": "markdown",
   "metadata": {},
   "source": [
    "## 2.2.1 Distributions of different variables"
   ]
  },
  {
   "cell_type": "markdown",
   "metadata": {},
   "source": [
    "From literature review, TFA teachers, charter schools, magnet schools and poverty level are terminologies that always appear in the paper of low income education. We would like to examine the distributions of these variables."
   ]
  },
  {
   "cell_type": "code",
   "execution_count": 6,
   "metadata": {
    "scrolled": true
   },
   "outputs": [
    {
     "name": "stdout",
     "output_type": "stream",
     "text": [
      "mean period:  37.28581258301327\n"
     ]
    },
    {
     "data": {
      "image/png": "[encoded data removed]",
      "text/plain": [
       "<Figure size 432x288 with 1 Axes>"
      ]
     },
     "metadata": {},
     "output_type": "display_data"
    }
   ],
   "source": [
    "df['period'] = pd.to_datetime(df['donation_timestamp']) -  pd.to_datetime(df['date_posted'])\n",
    "df['period'] = df['period'].apply(lambda x: x.days)\n",
    "df[(df['period'] > -1) & (df['period'] < 101)]['period'].hist()\n",
    "print('mean period: ', np.mean(df['period'].dropna()))"
   ]
  },
  {
   "cell_type": "code",
   "execution_count": 7,
   "metadata": {},
   "outputs": [
    {
     "data": {
      "text/html": [
       "<div>\n",
       "<style scoped>\n",
       "    .dataframe tbody tr th:only-of-type {\n",
       "        vertical-align: middle;\n",
       "    }\n",
       "\n",
       "    .dataframe tbody tr th {\n",
       "        vertical-align: top;\n",
       "    }\n",
       "\n",
       "    .dataframe thead th {\n",
       "        text-align: right;\n",
       "    }\n",
       "</style>\n",
       "<table border=\"1\" class=\"dataframe\">\n",
       "  <thead>\n",
       "    <tr style=\"text-align: right;\">\n",
       "      <th></th>\n",
       "      <th>school_ncesid</th>\n",
       "      <th>school_latitude</th>\n",
       "      <th>school_longitude</th>\n",
       "      <th>school_zip</th>\n",
       "      <th>fulfillment_labor_materials</th>\n",
       "      <th>total_price_excluding_optional_support</th>\n",
       "      <th>total_price_including_optional_support</th>\n",
       "      <th>students_reached</th>\n",
       "      <th>great_messages_proportion</th>\n",
       "      <th>teacher_referred_count</th>\n",
       "      <th>non_teacher_referred_count</th>\n",
       "      <th>donor_zip</th>\n",
       "      <th>donation_to_project</th>\n",
       "      <th>donation_optional_support</th>\n",
       "      <th>donation_total</th>\n",
       "      <th>vendorid</th>\n",
       "      <th>item_unit_price</th>\n",
       "      <th>item_quantity</th>\n",
       "      <th>period</th>\n",
       "    </tr>\n",
       "  </thead>\n",
       "  <tbody>\n",
       "    <tr>\n",
       "      <th>count</th>\n",
       "      <td>1.758002e+07</td>\n",
       "      <td>1.904420e+07</td>\n",
       "      <td>1.904420e+07</td>\n",
       "      <td>1.904418e+07</td>\n",
       "      <td>1.871015e+07</td>\n",
       "      <td>1.904420e+07</td>\n",
       "      <td>1.904420e+07</td>\n",
       "      <td>1.904118e+07</td>\n",
       "      <td>1.726390e+07</td>\n",
       "      <td>1.835153e+07</td>\n",
       "      <td>1.835153e+07</td>\n",
       "      <td>8.310948e+06</td>\n",
       "      <td>1.835249e+07</td>\n",
       "      <td>1.835249e+07</td>\n",
       "      <td>1.835249e+07</td>\n",
       "      <td>1.861637e+07</td>\n",
       "      <td>1.898874e+07</td>\n",
       "      <td>1.899834e+07</td>\n",
       "      <td>1.835249e+07</td>\n",
       "    </tr>\n",
       "    <tr>\n",
       "      <th>mean</th>\n",
       "      <td>2.555818e+11</td>\n",
       "      <td>3.733742e+01</td>\n",
       "      <td>-9.450415e+01</td>\n",
       "      <td>5.453665e+04</td>\n",
       "      <td>2.927995e+01</td>\n",
       "      <td>6.040844e+02</td>\n",
       "      <td>7.154270e+02</td>\n",
       "      <td>9.422115e+01</td>\n",
       "      <td>5.624667e+01</td>\n",
       "      <td>2.178887e+00</td>\n",
       "      <td>1.131106e+01</td>\n",
       "      <td>5.025699e+04</td>\n",
       "      <td>6.955396e+01</td>\n",
       "      <td>1.098474e+01</td>\n",
       "      <td>8.053700e+01</td>\n",
       "      <td>4.088562e+02</td>\n",
       "      <td>8.135608e+01</td>\n",
       "      <td>3.036285e+00</td>\n",
       "      <td>3.728581e+01</td>\n",
       "    </tr>\n",
       "    <tr>\n",
       "      <th>std</th>\n",
       "      <td>1.633250e+11</td>\n",
       "      <td>5.032572e+00</td>\n",
       "      <td>1.833371e+01</td>\n",
       "      <td>3.162554e+04</td>\n",
       "      <td>8.019937e+00</td>\n",
       "      <td>3.898604e+03</td>\n",
       "      <td>4.745673e+03</td>\n",
       "      <td>7.077699e+02</td>\n",
       "      <td>2.774719e+01</td>\n",
       "      <td>4.849054e+00</td>\n",
       "      <td>1.366981e+01</td>\n",
       "      <td>3.340080e+04</td>\n",
       "      <td>2.604724e+02</td>\n",
       "      <td>3.471341e+01</td>\n",
       "      <td>2.866598e+02</td>\n",
       "      <td>3.563131e+02</td>\n",
       "      <td>1.029324e+05</td>\n",
       "      <td>2.280887e+02</td>\n",
       "      <td>4.463085e+01</td>\n",
       "    </tr>\n",
       "    <tr>\n",
       "      <th>min</th>\n",
       "      <td>1.000050e+10</td>\n",
       "      <td>1.824914e+01</td>\n",
       "      <td>-1.766350e+02</td>\n",
       "      <td>4.100000e+02</td>\n",
       "      <td>9.000000e+00</td>\n",
       "      <td>0.000000e+00</td>\n",
       "      <td>0.000000e+00</td>\n",
       "      <td>0.000000e+00</td>\n",
       "      <td>0.000000e+00</td>\n",
       "      <td>0.000000e+00</td>\n",
       "      <td>0.000000e+00</td>\n",
       "      <td>0.000000e+00</td>\n",
       "      <td>-1.275000e+01</td>\n",
       "      <td>-2.250000e+00</td>\n",
       "      <td>-1.500000e+01</td>\n",
       "      <td>1.000000e+00</td>\n",
       "      <td>-9.960000e+01</td>\n",
       "      <td>0.000000e+00</td>\n",
       "      <td>-2.230000e+03</td>\n",
       "    </tr>\n",
       "    <tr>\n",
       "      <th>25%</th>\n",
       "      <td>8.057900e+10</td>\n",
       "      <td>3.401798e+01</td>\n",
       "      <td>-1.170882e+02</td>\n",
       "      <td>2.789300e+04</td>\n",
       "      <td>3.000000e+01</td>\n",
       "      <td>3.365300e+02</td>\n",
       "      <td>3.973100e+02</td>\n",
       "      <td>2.200000e+01</td>\n",
       "      <td>4.000000e+01</td>\n",
       "      <td>0.000000e+00</td>\n",
       "      <td>3.000000e+00</td>\n",
       "      <td>1.942600e+04</td>\n",
       "      <td>9.840000e+00</td>\n",
       "      <td>1.500000e+00</td>\n",
       "      <td>1.000000e+01</td>\n",
       "      <td>2.100000e+01</td>\n",
       "      <td>6.290000e+00</td>\n",
       "      <td>1.000000e+00</td>\n",
       "      <td>4.000000e+00</td>\n",
       "    </tr>\n",
       "    <tr>\n",
       "      <th>50%</th>\n",
       "      <td>2.400330e+11</td>\n",
       "      <td>3.775066e+01</td>\n",
       "      <td>-8.792043e+01</td>\n",
       "      <td>5.511800e+04</td>\n",
       "      <td>3.000000e+01</td>\n",
       "      <td>4.480000e+02</td>\n",
       "      <td>5.312600e+02</td>\n",
       "      <td>3.000000e+01</td>\n",
       "      <td>5.700000e+01</td>\n",
       "      <td>0.000000e+00</td>\n",
       "      <td>7.000000e+00</td>\n",
       "      <td>4.631900e+04</td>\n",
       "      <td>2.125000e+01</td>\n",
       "      <td>3.750000e+00</td>\n",
       "      <td>2.500000e+01</td>\n",
       "      <td>4.300000e+02</td>\n",
       "      <td>1.385000e+01</td>\n",
       "      <td>1.000000e+00</td>\n",
       "      <td>1.800000e+01</td>\n",
       "    </tr>\n",
       "    <tr>\n",
       "      <th>75%</th>\n",
       "      <td>3.806780e+11</td>\n",
       "      <td>4.081389e+01</td>\n",
       "      <td>-7.985607e+01</td>\n",
       "      <td>9.000500e+04</td>\n",
       "      <td>3.500000e+01</td>\n",
       "      <td>6.572400e+02</td>\n",
       "      <td>7.776700e+02</td>\n",
       "      <td>9.700000e+01</td>\n",
       "      <td>7.500000e+01</td>\n",
       "      <td>3.000000e+00</td>\n",
       "      <td>1.400000e+01</td>\n",
       "      <td>8.901100e+04</td>\n",
       "      <td>5.000000e+01</td>\n",
       "      <td>7.500000e+00</td>\n",
       "      <td>5.381000e+01</td>\n",
       "      <td>7.670000e+02</td>\n",
       "      <td>3.600000e+01</td>\n",
       "      <td>2.000000e+00</td>\n",
       "      <td>5.900000e+01</td>\n",
       "    </tr>\n",
       "    <tr>\n",
       "      <th>max</th>\n",
       "      <td>6.100009e+11</td>\n",
       "      <td>6.725816e+01</td>\n",
       "      <td>-6.662804e+01</td>\n",
       "      <td>9.995000e+04</td>\n",
       "      <td>3.500000e+01</td>\n",
       "      <td>1.025002e+07</td>\n",
       "      <td>1.250002e+07</td>\n",
       "      <td>9.999990e+05</td>\n",
       "      <td>1.000000e+02</td>\n",
       "      <td>1.510000e+02</td>\n",
       "      <td>3.040000e+02</td>\n",
       "      <td>9.999900e+04</td>\n",
       "      <td>1.472040e+05</td>\n",
       "      <td>2.199600e+04</td>\n",
       "      <td>1.692000e+05</td>\n",
       "      <td>1.020000e+03</td>\n",
       "      <td>4.484216e+08</td>\n",
       "      <td>9.931080e+05</td>\n",
       "      <td>1.474000e+03</td>\n",
       "    </tr>\n",
       "  </tbody>\n",
       "</table>\n",
       "</div>"
      ],
      "text/plain": [
       "       school_ncesid  school_latitude  school_longitude    school_zip  \\\n",
       "count   1.758002e+07     1.904420e+07      1.904420e+07  1.904418e+07   \n",
       "mean    2.555818e+11     3.733742e+01     -9.450415e+01  5.453665e+04   \n",
       "std     1.633250e+11     5.032572e+00      1.833371e+01  3.162554e+04   \n",
       "min     1.000050e+10     1.824914e+01     -1.766350e+02  4.100000e+02   \n",
       "25%     8.057900e+10     3.401798e+01     -1.170882e+02  2.789300e+04   \n",
       "50%     2.400330e+11     3.775066e+01     -8.792043e+01  5.511800e+04   \n",
       "75%     3.806780e+11     4.081389e+01     -7.985607e+01  9.000500e+04   \n",
       "max     6.100009e+11     6.725816e+01     -6.662804e+01  9.995000e+04   \n",
       "\n",
       "       fulfillment_labor_materials  total_price_excluding_optional_support  \\\n",
       "count                 1.871015e+07                            1.904420e+07   \n",
       "mean                  2.927995e+01                            6.040844e+02   \n",
       "std                   8.019937e+00                            3.898604e+03   \n",
       "min                   9.000000e+00                            0.000000e+00   \n",
       "25%                   3.000000e+01                            3.365300e+02   \n",
       "50%                   3.000000e+01                            4.480000e+02   \n",
       "75%                   3.500000e+01                            6.572400e+02   \n",
       "max                   3.500000e+01                            1.025002e+07   \n",
       "\n",
       "       total_price_including_optional_support  students_reached  \\\n",
       "count                            1.904420e+07      1.904118e+07   \n",
       "mean                             7.154270e+02      9.422115e+01   \n",
       "std                              4.745673e+03      7.077699e+02   \n",
       "min                              0.000000e+00      0.000000e+00   \n",
       "25%                              3.973100e+02      2.200000e+01   \n",
       "50%                              5.312600e+02      3.000000e+01   \n",
       "75%                              7.776700e+02      9.700000e+01   \n",
       "max                              1.250002e+07      9.999990e+05   \n",
       "\n",
       "       great_messages_proportion  teacher_referred_count  \\\n",
       "count               1.726390e+07            1.835153e+07   \n",
       "mean                5.624667e+01            2.178887e+00   \n",
       "std                 2.774719e+01            4.849054e+00   \n",
       "min                 0.000000e+00            0.000000e+00   \n",
       "25%                 4.000000e+01            0.000000e+00   \n",
       "50%                 5.700000e+01            0.000000e+00   \n",
       "75%                 7.500000e+01            3.000000e+00   \n",
       "max                 1.000000e+02            1.510000e+02   \n",
       "\n",
       "       non_teacher_referred_count     donor_zip  donation_to_project  \\\n",
       "count                1.835153e+07  8.310948e+06         1.835249e+07   \n",
       "mean                 1.131106e+01  5.025699e+04         6.955396e+01   \n",
       "std                  1.366981e+01  3.340080e+04         2.604724e+02   \n",
       "min                  0.000000e+00  0.000000e+00        -1.275000e+01   \n",
       "25%                  3.000000e+00  1.942600e+04         9.840000e+00   \n",
       "50%                  7.000000e+00  4.631900e+04         2.125000e+01   \n",
       "75%                  1.400000e+01  8.901100e+04         5.000000e+01   \n",
       "max                  3.040000e+02  9.999900e+04         1.472040e+05   \n",
       "\n",
       "       donation_optional_support  donation_total      vendorid  \\\n",
       "count               1.835249e+07    1.835249e+07  1.861637e+07   \n",
       "mean                1.098474e+01    8.053700e+01  4.088562e+02   \n",
       "std                 3.471341e+01    2.866598e+02  3.563131e+02   \n",
       "min                -2.250000e+00   -1.500000e+01  1.000000e+00   \n",
       "25%                 1.500000e+00    1.000000e+01  2.100000e+01   \n",
       "50%                 3.750000e+00    2.500000e+01  4.300000e+02   \n",
       "75%                 7.500000e+00    5.381000e+01  7.670000e+02   \n",
       "max                 2.199600e+04    1.692000e+05  1.020000e+03   \n",
       "\n",
       "       item_unit_price  item_quantity        period  \n",
       "count     1.898874e+07   1.899834e+07  1.835249e+07  \n",
       "mean      8.135608e+01   3.036285e+00  3.728581e+01  \n",
       "std       1.029324e+05   2.280887e+02  4.463085e+01  \n",
       "min      -9.960000e+01   0.000000e+00 -2.230000e+03  \n",
       "25%       6.290000e+00   1.000000e+00  4.000000e+00  \n",
       "50%       1.385000e+01   1.000000e+00  1.800000e+01  \n",
       "75%       3.600000e+01   2.000000e+00  5.900000e+01  \n",
       "max       4.484216e+08   9.931080e+05  1.474000e+03  "
      ]
     },
     "execution_count": 7,
     "metadata": {},
     "output_type": "execute_result"
    }
   ],
   "source": [
    "df.describe()"
   ]
  },
  {
   "cell_type": "markdown",
   "metadata": {},
   "source": [
    "We can see the data skewed when the period time is shorter than 60 days. So I choose 60 for the threshold as it covers majority of the population and the intervention plan will become more meaningful."
   ]
  },
  {
   "cell_type": "code",
   "execution_count": 20,
   "metadata": {
    "scrolled": true
   },
   "outputs": [
    {
     "data": {
      "text/plain": [
       "<matplotlib.axes._subplots.AxesSubplot at 0x7fb3a99db710>"
      ]
     },
     "execution_count": 20,
     "metadata": {},
     "output_type": "execute_result"
    },
    {
     "data": {
      "image/png": "[encoded data removed]",
      "text/plain": [
       "<Figure size 432x288 with 1 Axes>"
      ]
     },
     "metadata": {},
     "output_type": "display_data"
    }
   ],
   "source": [
    "# if period > 60 & fully_funded == 't', then change its value to 'f'\n",
    "df.loc[(df['period'] > 60) & (df['fully_funded'] == 't'), 'fully_funded'] = 'f'\n",
    "del df['period']\n",
    "del df['donation_timestamp']\n",
    "df['fully_funded'].value_counts().plot.bar(title = \"fully_funded frequency\", color = \"steelblue\")"
   ]
  },
  {
   "cell_type": "code",
   "execution_count": 42,
   "metadata": {},
   "outputs": [
    {
     "data": {
      "text/plain": [
       "t    0.695826\n",
       "f    0.304174\n",
       "Name: fully_funded, dtype: float64"
      ]
     },
     "execution_count": 42,
     "metadata": {},
     "output_type": "execute_result"
    }
   ],
   "source": [
    "ratio = df[\"fully_funded\"].value_counts(normalize = True)\n",
    "ratio"
   ]
  },
  {
   "cell_type": "code",
   "execution_count": 21,
   "metadata": {},
   "outputs": [
    {
     "data": {
      "text/plain": [
       "7166.69     1.319195e-03\n",
       "3201.26     1.156153e-03\n",
       "900.32      6.857207e-04\n",
       "568.29      6.682351e-04\n",
       "11223.08    6.307433e-04\n",
       "567.07      6.131527e-04\n",
       "565.85      5.922014e-04\n",
       "569.51      5.788640e-04\n",
       "527.05      4.932736e-04\n",
       "563.41      4.728475e-04\n",
       "532.93      4.004895e-04\n",
       "553.66      3.952385e-04\n",
       "562.20      3.870995e-04\n",
       "554.88      3.800633e-04\n",
       "560.98      3.493978e-04\n",
       "3114.04     3.455121e-04\n",
       "564.63      3.423090e-04\n",
       "539.02      3.412588e-04\n",
       "3312.28     3.396310e-04\n",
       "534.15      3.387384e-04\n",
       "551.22      3.294442e-04\n",
       "4334.12     3.262411e-04\n",
       "1489.04     3.226180e-04\n",
       "513.41      3.156342e-04\n",
       "575.99      3.061825e-04\n",
       "514.63      3.035045e-04\n",
       "837.51      2.978335e-04\n",
       "503.66      2.972034e-04\n",
       "512.92      2.949455e-04\n",
       "481.71      2.942629e-04\n",
       "                ...     \n",
       "1148.24     5.250943e-08\n",
       "1166.83     5.250943e-08\n",
       "1182.67     5.250943e-08\n",
       "2821.95     5.250943e-08\n",
       "3058.80     5.250943e-08\n",
       "3032.17     5.250943e-08\n",
       "1223.83     5.250943e-08\n",
       "1273.92     5.250943e-08\n",
       "977.16      5.250943e-08\n",
       "1903.31     5.250943e-08\n",
       "1219.83     5.250943e-08\n",
       "3059.95     5.250943e-08\n",
       "1248.42     5.250943e-08\n",
       "901.73      5.250943e-08\n",
       "3406.00     5.250943e-08\n",
       "979.34      5.250943e-08\n",
       "751.32      5.250943e-08\n",
       "1896.23     5.250943e-08\n",
       "739.17      5.250943e-08\n",
       "1896.73     5.250943e-08\n",
       "2853.95     5.250943e-08\n",
       "1197.08     5.250943e-08\n",
       "1892.52     5.250943e-08\n",
       "1173.92     5.250943e-08\n",
       "1174.67     5.250943e-08\n",
       "26150.65    5.250943e-08\n",
       "1883.69     5.250943e-08\n",
       "2866.45     5.250943e-08\n",
       "1188.08     5.250943e-08\n",
       "771.01      5.250943e-08\n",
       "Name: total_price_including_optional_support, Length: 110532, dtype: float64"
      ]
     },
     "execution_count": 21,
     "metadata": {},
     "output_type": "execute_result"
    }
   ],
   "source": [
    "ratio = df[\"total_price_including_optional_support\"].value_counts(normalize = True)\n",
    "ratio"
   ]
  },
  {
   "cell_type": "code",
   "execution_count": 22,
   "metadata": {},
   "outputs": [
    {
     "data": {
      "text/html": [
       "<div>\n",
       "<style scoped>\n",
       "    .dataframe tbody tr th:only-of-type {\n",
       "        vertical-align: middle;\n",
       "    }\n",
       "\n",
       "    .dataframe tbody tr th {\n",
       "        vertical-align: top;\n",
       "    }\n",
       "\n",
       "    .dataframe thead th {\n",
       "        text-align: right;\n",
       "    }\n",
       "</style>\n",
       "<table border=\"1\" class=\"dataframe\">\n",
       "  <thead>\n",
       "    <tr style=\"text-align: right;\">\n",
       "      <th></th>\n",
       "      <th>count</th>\n",
       "      <th>mean</th>\n",
       "      <th>std</th>\n",
       "      <th>min</th>\n",
       "      <th>25%</th>\n",
       "      <th>50%</th>\n",
       "      <th>75%</th>\n",
       "      <th>max</th>\n",
       "    </tr>\n",
       "    <tr>\n",
       "      <th>resource_type</th>\n",
       "      <th></th>\n",
       "      <th></th>\n",
       "      <th></th>\n",
       "      <th></th>\n",
       "      <th></th>\n",
       "      <th></th>\n",
       "      <th></th>\n",
       "      <th></th>\n",
       "    </tr>\n",
       "  </thead>\n",
       "  <tbody>\n",
       "    <tr>\n",
       "      <th>Books</th>\n",
       "      <td>8334537.0</td>\n",
       "      <td>624.846463</td>\n",
       "      <td>633.497443</td>\n",
       "      <td>0.00</td>\n",
       "      <td>395.87</td>\n",
       "      <td>516.73</td>\n",
       "      <td>719.52</td>\n",
       "      <td>22351.22</td>\n",
       "    </tr>\n",
       "    <tr>\n",
       "      <th>Other</th>\n",
       "      <td>1417780.0</td>\n",
       "      <td>970.388412</td>\n",
       "      <td>16957.919205</td>\n",
       "      <td>0.00</td>\n",
       "      <td>387.80</td>\n",
       "      <td>523.54</td>\n",
       "      <td>774.11</td>\n",
       "      <td>12500020.73</td>\n",
       "    </tr>\n",
       "    <tr>\n",
       "      <th>Supplies</th>\n",
       "      <td>6778301.0</td>\n",
       "      <td>652.039987</td>\n",
       "      <td>739.360981</td>\n",
       "      <td>0.00</td>\n",
       "      <td>386.16</td>\n",
       "      <td>524.54</td>\n",
       "      <td>753.47</td>\n",
       "      <td>69670.89</td>\n",
       "    </tr>\n",
       "    <tr>\n",
       "      <th>Technology</th>\n",
       "      <td>2466025.0</td>\n",
       "      <td>968.252804</td>\n",
       "      <td>1924.418468</td>\n",
       "      <td>10.98</td>\n",
       "      <td>471.19</td>\n",
       "      <td>665.20</td>\n",
       "      <td>965.55</td>\n",
       "      <td>533185.37</td>\n",
       "    </tr>\n",
       "    <tr>\n",
       "      <th>Trips</th>\n",
       "      <td>39355.0</td>\n",
       "      <td>5577.439407</td>\n",
       "      <td>9627.791085</td>\n",
       "      <td>10.98</td>\n",
       "      <td>886.01</td>\n",
       "      <td>2090.00</td>\n",
       "      <td>5148.21</td>\n",
       "      <td>100800.01</td>\n",
       "    </tr>\n",
       "    <tr>\n",
       "      <th>Visitors</th>\n",
       "      <td>6936.0</td>\n",
       "      <td>1954.618749</td>\n",
       "      <td>3237.651489</td>\n",
       "      <td>20.73</td>\n",
       "      <td>632.35</td>\n",
       "      <td>990.59</td>\n",
       "      <td>2113.06</td>\n",
       "      <td>24767.07</td>\n",
       "    </tr>\n",
       "  </tbody>\n",
       "</table>\n",
       "</div>"
      ],
      "text/plain": [
       "                   count         mean           std    min     25%      50%  \\\n",
       "resource_type                                                                 \n",
       "Books          8334537.0   624.846463    633.497443   0.00  395.87   516.73   \n",
       "Other          1417780.0   970.388412  16957.919205   0.00  387.80   523.54   \n",
       "Supplies       6778301.0   652.039987    739.360981   0.00  386.16   524.54   \n",
       "Technology     2466025.0   968.252804   1924.418468  10.98  471.19   665.20   \n",
       "Trips            39355.0  5577.439407   9627.791085  10.98  886.01  2090.00   \n",
       "Visitors          6936.0  1954.618749   3237.651489  20.73  632.35   990.59   \n",
       "\n",
       "                   75%          max  \n",
       "resource_type                        \n",
       "Books           719.52     22351.22  \n",
       "Other           774.11  12500020.73  \n",
       "Supplies        753.47     69670.89  \n",
       "Technology      965.55    533185.37  \n",
       "Trips          5148.21    100800.01  \n",
       "Visitors       2113.06     24767.07  "
      ]
     },
     "execution_count": 22,
     "metadata": {},
     "output_type": "execute_result"
    }
   ],
   "source": [
    "df.groupby('resource_type')['total_price_including_optional_support'].describe()"
   ]
  },
  {
   "cell_type": "code",
   "execution_count": 23,
   "metadata": {},
   "outputs": [
    {
     "data": {
      "text/html": [
       "<div>\n",
       "<style scoped>\n",
       "    .dataframe tbody tr th:only-of-type {\n",
       "        vertical-align: middle;\n",
       "    }\n",
       "\n",
       "    .dataframe tbody tr th {\n",
       "        vertical-align: top;\n",
       "    }\n",
       "\n",
       "    .dataframe thead th {\n",
       "        text-align: right;\n",
       "    }\n",
       "</style>\n",
       "<table border=\"1\" class=\"dataframe\">\n",
       "  <thead>\n",
       "    <tr style=\"text-align: right;\">\n",
       "      <th></th>\n",
       "      <th>count</th>\n",
       "      <th>unique</th>\n",
       "      <th>top</th>\n",
       "      <th>freq</th>\n",
       "    </tr>\n",
       "    <tr>\n",
       "      <th>resource_type</th>\n",
       "      <th></th>\n",
       "      <th></th>\n",
       "      <th></th>\n",
       "      <th></th>\n",
       "    </tr>\n",
       "  </thead>\n",
       "  <tbody>\n",
       "    <tr>\n",
       "      <th>Books</th>\n",
       "      <td>8234435</td>\n",
       "      <td>2</td>\n",
       "      <td>t</td>\n",
       "      <td>5877107</td>\n",
       "    </tr>\n",
       "    <tr>\n",
       "      <th>Other</th>\n",
       "      <td>1398280</td>\n",
       "      <td>2</td>\n",
       "      <td>t</td>\n",
       "      <td>947232</td>\n",
       "    </tr>\n",
       "    <tr>\n",
       "      <th>Supplies</th>\n",
       "      <td>6683859</td>\n",
       "      <td>2</td>\n",
       "      <td>t</td>\n",
       "      <td>4556400</td>\n",
       "    </tr>\n",
       "    <tr>\n",
       "      <th>Technology</th>\n",
       "      <td>2427116</td>\n",
       "      <td>2</td>\n",
       "      <td>t</td>\n",
       "      <td>1658032</td>\n",
       "    </tr>\n",
       "    <tr>\n",
       "      <th>Trips</th>\n",
       "      <td>38591</td>\n",
       "      <td>2</td>\n",
       "      <td>t</td>\n",
       "      <td>30262</td>\n",
       "    </tr>\n",
       "    <tr>\n",
       "      <th>Visitors</th>\n",
       "      <td>6810</td>\n",
       "      <td>2</td>\n",
       "      <td>t</td>\n",
       "      <td>4732</td>\n",
       "    </tr>\n",
       "  </tbody>\n",
       "</table>\n",
       "</div>"
      ],
      "text/plain": [
       "                 count unique top     freq\n",
       "resource_type                             \n",
       "Books          8234435      2   t  5877107\n",
       "Other          1398280      2   t   947232\n",
       "Supplies       6683859      2   t  4556400\n",
       "Technology     2427116      2   t  1658032\n",
       "Trips            38591      2   t    30262\n",
       "Visitors          6810      2   t     4732"
      ]
     },
     "execution_count": 23,
     "metadata": {},
     "output_type": "execute_result"
    }
   ],
   "source": [
    "df.groupby('resource_type')['fully_funded'].describe()"
   ]
  },
  {
   "cell_type": "code",
   "execution_count": 24,
   "metadata": {},
   "outputs": [
    {
     "data": {
      "text/plain": [
       "<matplotlib.axes._subplots.AxesSubplot at 0x7fb3a99598d0>"
      ]
     },
     "execution_count": 24,
     "metadata": {},
     "output_type": "execute_result"
    },
    {
     "data": {
      "image/png": "[encoded data removed]",
      "text/plain": [
       "<Figure size 432x288 with 1 Axes>"
      ]
     },
     "metadata": {},
     "output_type": "display_data"
    }
   ],
   "source": [
    "df['teacher_teach_for_america'].value_counts().plot.bar(title = \"TFA teachers distribution\", color = \"steelblue\")"
   ]
  },
  {
   "cell_type": "code",
   "execution_count": 25,
   "metadata": {},
   "outputs": [
    {
     "data": {
      "text/plain": [
       "<matplotlib.axes._subplots.AxesSubplot at 0x7fb3a99e8f28>"
      ]
     },
     "execution_count": 25,
     "metadata": {},
     "output_type": "execute_result"
    },
    {
     "data": {
      "image/png": "[encoded data removed]",
      "text/plain": [
       "<Figure size 432x288 with 1 Axes>"
      ]
     },
     "metadata": {},
     "output_type": "display_data"
    }
   ],
   "source": [
    "df['school_charter'].value_counts().plot.bar(title = \"Charter school distribution\", color = \"steelblue\")"
   ]
  },
  {
   "cell_type": "code",
   "execution_count": 26,
   "metadata": {},
   "outputs": [
    {
     "data": {
      "text/plain": [
       "<matplotlib.axes._subplots.AxesSubplot at 0x7fb3a990ee10>"
      ]
     },
     "execution_count": 26,
     "metadata": {},
     "output_type": "execute_result"
    },
    {
     "data": {
      "image/png": "[encoded data removed]",
      "text/plain": [
       "<Figure size 432x288 with 1 Axes>"
      ]
     },
     "metadata": {},
     "output_type": "display_data"
    }
   ],
   "source": [
    "df['school_magnet'].value_counts().plot.bar(title = \"magnet schools distribution\", color = \"steelblue\")"
   ]
  },
  {
   "cell_type": "code",
   "execution_count": 27,
   "metadata": {},
   "outputs": [
    {
     "data": {
      "text/plain": [
       "<matplotlib.axes._subplots.AxesSubplot at 0x7fb3a9861b38>"
      ]
     },
     "execution_count": 27,
     "metadata": {},
     "output_type": "execute_result"
    },
    {
     "data": {
      "image/png": "[encoded data removed]",
      "text/plain": [
       "<Figure size 432x288 with 1 Axes>"
      ]
     },
     "metadata": {},
     "output_type": "display_data"
    }
   ],
   "source": [
    "df['school_kipp'].value_counts().plot.bar(title = \"KIPP schools distribution\", color = \"steelblue\")"
   ]
  },
  {
   "cell_type": "code",
   "execution_count": 28,
   "metadata": {
    "scrolled": true
   },
   "outputs": [
    {
     "data": {
      "text/plain": [
       "<matplotlib.axes._subplots.AxesSubplot at 0x7fb3a9897588>"
      ]
     },
     "execution_count": 28,
     "metadata": {},
     "output_type": "execute_result"
    },
    {
     "data": {
      "image/png": "[encoded data removed]",
      "text/plain": [
       "<Figure size 432x288 with 1 Axes>"
      ]
     },
     "metadata": {},
     "output_type": "display_data"
    }
   ],
   "source": [
    "df['primary_focus_subject'].value_counts().plot.bar(title = \"Funding primary focus\", color = \"steelblue\")"
   ]
  },
  {
   "cell_type": "code",
   "execution_count": 29,
   "metadata": {},
   "outputs": [
    {
     "data": {
      "text/plain": [
       "<matplotlib.axes._subplots.AxesSubplot at 0x7fb3a984ae10>"
      ]
     },
     "execution_count": 29,
     "metadata": {},
     "output_type": "execute_result"
    },
    {
     "data": {
      "image/png": "[encoded data removed]",
      "text/plain": [
       "<Figure size 432x288 with 1 Axes>"
      ]
     },
     "metadata": {},
     "output_type": "display_data"
    }
   ],
   "source": [
    "df['resource_type'].value_counts().plot.bar(title = \"Resource Type Distribution\", color = \"steelblue\")"
   ]
  },
  {
   "cell_type": "code",
   "execution_count": 30,
   "metadata": {
    "scrolled": true
   },
   "outputs": [
    {
     "data": {
      "text/plain": [
       "Books         0.437671\n",
       "Supplies      0.355948\n",
       "Technology    0.129498\n",
       "Other         0.074452\n",
       "Trips         0.002067\n",
       "Visitors      0.000364\n",
       "Name: resource_type, dtype: float64"
      ]
     },
     "execution_count": 30,
     "metadata": {},
     "output_type": "execute_result"
    }
   ],
   "source": [
    "ratio = df[\"resource_type\"].value_counts(normalize = True)\n",
    "ratio"
   ]
  },
  {
   "cell_type": "code",
   "execution_count": 33,
   "metadata": {},
   "outputs": [
    {
     "data": {
      "text/plain": [
       "highest poverty     0.605772\n",
       "high poverty        0.242633\n",
       "moderate poverty    0.127664\n",
       "low poverty         0.023932\n",
       "Name: poverty_level, dtype: float64"
      ]
     },
     "execution_count": 33,
     "metadata": {},
     "output_type": "execute_result"
    }
   ],
   "source": [
    "ratio = df[\"poverty_level\"].value_counts(normalize = True)\n",
    "ratio"
   ]
  },
  {
   "cell_type": "code",
   "execution_count": 34,
   "metadata": {},
   "outputs": [
    {
     "data": {
      "text/plain": [
       "<matplotlib.axes._subplots.AxesSubplot at 0x7fb3a9701470>"
      ]
     },
     "execution_count": 34,
     "metadata": {},
     "output_type": "execute_result"
    },
    {
     "data": {
      "image/png": "[encoded data removed]",
      "text/plain": [
       "<Figure size 432x288 with 1 Axes>"
      ]
     },
     "metadata": {},
     "output_type": "display_data"
    }
   ],
   "source": [
    "df['poverty_level'].value_counts().plot.bar(title = \"Poverty Level_distribution\", color = \"steelblue\")"
   ]
  },
  {
   "cell_type": "code",
   "execution_count": 35,
   "metadata": {
    "scrolled": true
   },
   "outputs": [
    {
     "data": {
      "text/plain": [
       "<matplotlib.axes._subplots.AxesSubplot at 0x7fb3a96cfe80>"
      ]
     },
     "execution_count": 35,
     "metadata": {},
     "output_type": "execute_result"
    },
    {
     "data": {
      "image/png": "[encoded data removed]",
      "text/plain": [
       "<Figure size 432x288 with 1 Axes>"
      ]
     },
     "metadata": {},
     "output_type": "display_data"
    }
   ],
   "source": [
    "df['grade_level'].value_counts().plot.bar(title = \"Grade level distribution\", color = \"steelblue\")"
   ]
  },
  {
   "cell_type": "markdown",
   "metadata": {},
   "source": [
    "In general, it is noticed that the data is imbalanced for true and false values. Besides, most of the projects are concentrated in Pre-K, highest-poverty regions and for the purpose of literacy. The most funded materials are books."
   ]
  },
  {
   "cell_type": "markdown",
   "metadata": {},
   "source": [
    "## 2.2.2 Changes and trends over time"
   ]
  },
  {
   "cell_type": "markdown",
   "metadata": {},
   "source": [
    "In this section, we want to explore the landscape and trends of grantees(schools), donors and grantmaking."
   ]
  },
  {
   "cell_type": "markdown",
   "metadata": {},
   "source": [
    "### Sum and rate of fully funded projects over year"
   ]
  },
  {
   "cell_type": "markdown",
   "metadata": {},
   "source": [
    "Not only we need to learn the landscape of grantees side, we should also capture the key features of grantmaking, and donors."
   ]
  },
  {
   "cell_type": "code",
   "execution_count": 36,
   "metadata": {},
   "outputs": [],
   "source": [
    "sum_cols = ['fully_funded']\n",
    "df_by_day = df[sum_cols + ['date_posted']]\n",
    "df_by_day = df_by_day.replace('t', 1).replace('f', 0)\n",
    "df_by_day = df_by_day.set_index('date_posted')\n",
    "df_by_day.index = pd.to_datetime(df_by_day.index)\n",
    "df_by_day['year'] = df_by_day.index.year\n",
    "df_by_year_sum = df_by_day.groupby('year').sum()\n",
    "df_by_year_mean = df_by_day.groupby('year').mean()"
   ]
  },
  {
   "cell_type": "code",
   "execution_count": 37,
   "metadata": {
    "scrolled": true
   },
   "outputs": [
    {
     "data": {
      "text/plain": [
       "<Figure size 432x288 with 0 Axes>"
      ]
     },
     "metadata": {},
     "output_type": "display_data"
    },
    {
     "data": {
      "image/png": "[encoded data removed]",
      "text/plain": [
       "<Figure size 720x216 with 1 Axes>"
      ]
     },
     "metadata": {},
     "output_type": "display_data"
    },
    {
     "data": {
      "text/html": [
       "<div>\n",
       "<style scoped>\n",
       "    .dataframe tbody tr th:only-of-type {\n",
       "        vertical-align: middle;\n",
       "    }\n",
       "\n",
       "    .dataframe tbody tr th {\n",
       "        vertical-align: top;\n",
       "    }\n",
       "\n",
       "    .dataframe thead th {\n",
       "        text-align: right;\n",
       "    }\n",
       "</style>\n",
       "<table border=\"1\" class=\"dataframe\">\n",
       "  <thead>\n",
       "    <tr style=\"text-align: right;\">\n",
       "      <th></th>\n",
       "      <th>fully_funded</th>\n",
       "    </tr>\n",
       "    <tr>\n",
       "      <th>year</th>\n",
       "      <th></th>\n",
       "    </tr>\n",
       "  </thead>\n",
       "  <tbody>\n",
       "    <tr>\n",
       "      <th>2002</th>\n",
       "      <td>908.0</td>\n",
       "    </tr>\n",
       "    <tr>\n",
       "      <th>2003</th>\n",
       "      <td>8181.0</td>\n",
       "    </tr>\n",
       "    <tr>\n",
       "      <th>2004</th>\n",
       "      <td>17952.0</td>\n",
       "    </tr>\n",
       "    <tr>\n",
       "      <th>2005</th>\n",
       "      <td>32701.0</td>\n",
       "    </tr>\n",
       "    <tr>\n",
       "      <th>2006</th>\n",
       "      <td>92097.0</td>\n",
       "    </tr>\n",
       "  </tbody>\n",
       "</table>\n",
       "</div>"
      ],
      "text/plain": [
       "      fully_funded\n",
       "year              \n",
       "2002         908.0\n",
       "2003        8181.0\n",
       "2004       17952.0\n",
       "2005       32701.0\n",
       "2006       92097.0"
      ]
     },
     "execution_count": 37,
     "metadata": {},
     "output_type": "execute_result"
    }
   ],
   "source": [
    "def plot_hist(df, name='mean'):\n",
    "    for col in df.columns:\n",
    "        plt.clf()\n",
    "        plt.figure(figsize=(10, 3))\n",
    "        plt.plot(df.index, df[col],'')  \n",
    "        plt.xlabel('year')\n",
    "        plt.ylabel(col)\n",
    "        plt.title('{} {} per year'.format(name, col))\n",
    "        plt.show()\n",
    "\n",
    "plot_hist(df_by_year_sum, 'sum')\n",
    "df_by_year_sum.head()"
   ]
  },
  {
   "cell_type": "code",
   "execution_count": 38,
   "metadata": {},
   "outputs": [
    {
     "data": {
      "text/plain": [
       "<Figure size 432x288 with 0 Axes>"
      ]
     },
     "metadata": {},
     "output_type": "display_data"
    },
    {
     "data": {
      "image/png": "[encoded data removed]",
      "text/plain": [
       "<Figure size 720x216 with 1 Axes>"
      ]
     },
     "metadata": {},
     "output_type": "display_data"
    },
    {
     "data": {
      "text/html": [
       "<div>\n",
       "<style scoped>\n",
       "    .dataframe tbody tr th:only-of-type {\n",
       "        vertical-align: middle;\n",
       "    }\n",
       "\n",
       "    .dataframe tbody tr th {\n",
       "        vertical-align: top;\n",
       "    }\n",
       "\n",
       "    .dataframe thead th {\n",
       "        text-align: right;\n",
       "    }\n",
       "</style>\n",
       "<table border=\"1\" class=\"dataframe\">\n",
       "  <thead>\n",
       "    <tr style=\"text-align: right;\">\n",
       "      <th></th>\n",
       "      <th>fully_funded</th>\n",
       "    </tr>\n",
       "    <tr>\n",
       "      <th>year</th>\n",
       "      <th></th>\n",
       "    </tr>\n",
       "  </thead>\n",
       "  <tbody>\n",
       "    <tr>\n",
       "      <th>2002</th>\n",
       "      <td>0.609396</td>\n",
       "    </tr>\n",
       "    <tr>\n",
       "      <th>2003</th>\n",
       "      <td>0.650163</td>\n",
       "    </tr>\n",
       "    <tr>\n",
       "      <th>2004</th>\n",
       "      <td>0.576975</td>\n",
       "    </tr>\n",
       "    <tr>\n",
       "      <th>2005</th>\n",
       "      <td>0.392080</td>\n",
       "    </tr>\n",
       "    <tr>\n",
       "      <th>2006</th>\n",
       "      <td>0.416770</td>\n",
       "    </tr>\n",
       "  </tbody>\n",
       "</table>\n",
       "</div>"
      ],
      "text/plain": [
       "      fully_funded\n",
       "year              \n",
       "2002      0.609396\n",
       "2003      0.650163\n",
       "2004      0.576975\n",
       "2005      0.392080\n",
       "2006      0.416770"
      ]
     },
     "execution_count": 38,
     "metadata": {},
     "output_type": "execute_result"
    }
   ],
   "source": [
    "plot_hist(df_by_year_mean, 'rate')\n",
    "df_by_year_mean.head()"
   ]
  },
  {
   "cell_type": "markdown",
   "metadata": {},
   "source": [
    "In general, the sum of fully-funded projects increase year by year. Before 2009, the sum of fully-funded projects stablished at a relatively lower level compared to years after 2009. During the year of 2005 to 2008, there was a fluctuation for rate of fully-funded projects before it increased steadily after 2008. \n",
    "\n",
    "In conclusion, the years since 2007 is relatively a good duration to observe and examine funding patterns. "
   ]
  },
  {
   "cell_type": "markdown",
   "metadata": {},
   "source": [
    "### Changes and trends in grants and donors"
   ]
  },
  {
   "cell_type": "code",
   "execution_count": 39,
   "metadata": {},
   "outputs": [
    {
     "data": {
      "text/html": [
       "<div>\n",
       "<style scoped>\n",
       "    .dataframe tbody tr th:only-of-type {\n",
       "        vertical-align: middle;\n",
       "    }\n",
       "\n",
       "    .dataframe tbody tr th {\n",
       "        vertical-align: top;\n",
       "    }\n",
       "\n",
       "    .dataframe thead th {\n",
       "        text-align: right;\n",
       "    }\n",
       "</style>\n",
       "<table border=\"1\" class=\"dataframe\">\n",
       "  <thead>\n",
       "    <tr style=\"text-align: right;\">\n",
       "      <th></th>\n",
       "      <th>donation_to_project</th>\n",
       "      <th>donation_optional_support</th>\n",
       "      <th>donation_total</th>\n",
       "      <th>item_quantity</th>\n",
       "      <th>total_price_including_optional_support</th>\n",
       "    </tr>\n",
       "    <tr>\n",
       "      <th>year</th>\n",
       "      <th></th>\n",
       "      <th></th>\n",
       "      <th></th>\n",
       "      <th></th>\n",
       "      <th></th>\n",
       "    </tr>\n",
       "  </thead>\n",
       "  <tbody>\n",
       "    <tr>\n",
       "      <th>2002</th>\n",
       "      <td>561.368417</td>\n",
       "      <td>41.751107</td>\n",
       "      <td>603.119517</td>\n",
       "      <td>9.705750</td>\n",
       "      <td>2029.885007</td>\n",
       "    </tr>\n",
       "    <tr>\n",
       "      <th>2003</th>\n",
       "      <td>332.782686</td>\n",
       "      <td>46.947805</td>\n",
       "      <td>379.723427</td>\n",
       "      <td>5.484919</td>\n",
       "      <td>16771.333426</td>\n",
       "    </tr>\n",
       "    <tr>\n",
       "      <th>2004</th>\n",
       "      <td>262.941351</td>\n",
       "      <td>38.805454</td>\n",
       "      <td>301.746807</td>\n",
       "      <td>37.283577</td>\n",
       "      <td>774.661285</td>\n",
       "    </tr>\n",
       "    <tr>\n",
       "      <th>2005</th>\n",
       "      <td>214.122841</td>\n",
       "      <td>29.425803</td>\n",
       "      <td>243.550009</td>\n",
       "      <td>4.389194</td>\n",
       "      <td>752.023558</td>\n",
       "    </tr>\n",
       "    <tr>\n",
       "      <th>2006</th>\n",
       "      <td>180.249763</td>\n",
       "      <td>27.211696</td>\n",
       "      <td>207.465539</td>\n",
       "      <td>3.832543</td>\n",
       "      <td>902.639854</td>\n",
       "    </tr>\n",
       "  </tbody>\n",
       "</table>\n",
       "</div>"
      ],
      "text/plain": [
       "      donation_to_project  donation_optional_support  donation_total  \\\n",
       "year                                                                   \n",
       "2002           561.368417                  41.751107      603.119517   \n",
       "2003           332.782686                  46.947805      379.723427   \n",
       "2004           262.941351                  38.805454      301.746807   \n",
       "2005           214.122841                  29.425803      243.550009   \n",
       "2006           180.249763                  27.211696      207.465539   \n",
       "\n",
       "      item_quantity  total_price_including_optional_support  \n",
       "year                                                         \n",
       "2002       9.705750                             2029.885007  \n",
       "2003       5.484919                            16771.333426  \n",
       "2004      37.283577                              774.661285  \n",
       "2005       4.389194                              752.023558  \n",
       "2006       3.832543                              902.639854  "
      ]
     },
     "execution_count": 39,
     "metadata": {},
     "output_type": "execute_result"
    }
   ],
   "source": [
    "mean_cols = ['donation_to_project', 'donation_optional_support', 'donation_total', 'item_quantity', \n",
    "             'total_price_including_optional_support']\n",
    "df_by_day = df[mean_cols + ['date_posted']]\n",
    "df_by_day = df_by_day.set_index('date_posted')\n",
    "df_by_day.index = pd.to_datetime(df_by_day.index)\n",
    "df_by_day['year'] = df_by_day.index.year\n",
    "df_by_year = df_by_day.groupby('year').mean()\n",
    "df_by_year.head()"
   ]
  },
  {
   "cell_type": "code",
   "execution_count": 40,
   "metadata": {
    "scrolled": true
   },
   "outputs": [
    {
     "data": {
      "text/plain": [
       "<Figure size 432x288 with 0 Axes>"
      ]
     },
     "metadata": {},
     "output_type": "display_data"
    },
    {
     "data": {
      "image/png": "[encoded data removed]",
      "text/plain": [
       "<Figure size 720x216 with 1 Axes>"
      ]
     },
     "metadata": {},
     "output_type": "display_data"
    },
    {
     "data": {
      "text/plain": [
       "<Figure size 432x288 with 0 Axes>"
      ]
     },
     "metadata": {},
     "output_type": "display_data"
    },
    {
     "data": {
      "image/png": "[encoded data removed]",
      "text/plain": [
       "<Figure size 720x216 with 1 Axes>"
      ]
     },
     "metadata": {},
     "output_type": "display_data"
    },
    {
     "data": {
      "text/plain": [
       "<Figure size 432x288 with 0 Axes>"
      ]
     },
     "metadata": {},
     "output_type": "display_data"
    },
    {
     "data": {
      "image/png": "[encoded data removed]",
      "text/plain": [
       "<Figure size 720x216 with 1 Axes>"
      ]
     },
     "metadata": {},
     "output_type": "display_data"
    },
    {
     "data": {
      "text/plain": [
       "<Figure size 432x288 with 0 Axes>"
      ]
     },
     "metadata": {},
     "output_type": "display_data"
    },
    {
     "data": {
      "image/png": "[encoded data removed]",
      "text/plain": [
       "<Figure size 720x216 with 1 Axes>"
      ]
     },
     "metadata": {},
     "output_type": "display_data"
    },
    {
     "data": {
      "text/plain": [
       "<Figure size 432x288 with 0 Axes>"
      ]
     },
     "metadata": {},
     "output_type": "display_data"
    },
    {
     "data": {
      "image/png": "[encoded data removed]",
      "text/plain": [
       "<Figure size 720x216 with 1 Axes>"
      ]
     },
     "metadata": {},
     "output_type": "display_data"
    }
   ],
   "source": [
    "plot_hist(df_by_year)"
   ]
  },
  {
   "cell_type": "markdown",
   "metadata": {},
   "source": [
    "In general, the amount of grants decrease since 2002. Although there is a peak period during the year of 2004 and 2003 for the items or total amount of grants, it decrease dramatically after the year 2003-2004 period."
   ]
  },
  {
   "cell_type": "markdown",
   "metadata": {},
   "source": [
    "## 2.3 Cross-tabs"
   ]
  },
  {
   "cell_type": "markdown",
   "metadata": {},
   "source": [
    "In order to further examine the relations between key factors and fully funded projects, the crosstabs would help us figure out."
   ]
  },
  {
   "cell_type": "code",
   "execution_count": 41,
   "metadata": {},
   "outputs": [
    {
     "data": {
      "image/png": "[encoded data removed]",
      "text/plain": [
       "<Figure size 432x288 with 2 Axes>"
      ]
     },
     "metadata": {},
     "output_type": "display_data"
    },
    {
     "data": {
      "image/png": "[encoded data removed]",
      "text/plain": [
       "<Figure size 432x288 with 2 Axes>"
      ]
     },
     "metadata": {},
     "output_type": "display_data"
    },
    {
     "data": {
      "image/png": "[encoded data removed]",
      "text/plain": [
       "<Figure size 432x288 with 2 Axes>"
      ]
     },
     "metadata": {},
     "output_type": "display_data"
    },
    {
     "data": {
      "image/png": "[encoded data removed]",
      "text/plain": [
       "<Figure size 432x288 with 2 Axes>"
      ]
     },
     "metadata": {},
     "output_type": "display_data"
    },
    {
     "data": {
      "image/png": "[encoded data removed]",
      "text/plain": [
       "<Figure size 432x288 with 2 Axes>"
      ]
     },
     "metadata": {},
     "output_type": "display_data"
    },
    {
     "data": {
      "image/png": "[encoded data removed]",
      "text/plain": [
       "<Figure size 432x288 with 2 Axes>"
      ]
     },
     "metadata": {},
     "output_type": "display_data"
    },
    {
     "data": {
      "image/png": "[encoded data removed]",
      "text/plain": [
       "<Figure size 432x288 with 2 Axes>"
      ]
     },
     "metadata": {},
     "output_type": "display_data"
    }
   ],
   "source": [
    "import seaborn as sns\n",
    "\n",
    "def plot_crosstab(df):\n",
    "    check_df = df.applymap(lambda x: isinstance(x, (int, float)))\n",
    "    cols = [\"teacher_teach_for_america\", \"primary_focus_area\", \"school_charter\", \"school_magnet\", \"grade_level\", \"poverty_level\", \"project_resource_type\"]\n",
    "    for col in cols:\n",
    "        plt.clf()\n",
    "        df_result = pd.crosstab(df['fully_funded'], df[col])\n",
    "        sns.heatmap(df_result, xticklabels=df_result.columns, yticklabels=df_result.index)\n",
    "        plt.show()\n",
    "        \n",
    " \n",
    "plot_crosstab(df)"
   ]
  },
  {
   "cell_type": "markdown",
   "metadata": {},
   "source": [
    "The crosstab results fit what we found in the literature review. Compared to those projects that were not fully-funded, there were more Teach for America teachers in fully funded projects. Most of the highest poverty schools were fully funded. They often received books, and supplies from donors."
   ]
  },
  {
   "cell_type": "markdown",
   "metadata": {},
   "source": [
    "### *Remove id columns, address and essay question entries"
   ]
  },
  {
   "cell_type": "markdown",
   "metadata": {},
   "source": [
    "In order to simplify the data explorations and reduce irrelevant correlations, we select cities, counties or states as representatives of geographic features and remove all the left. IDs of teachers, schools and donors are not the only variables to demonstrate identities, so we remove id columns to reduce training time. In addition, essay questions are out of project scope and we remove them from main data."
   ]
  },
  {
   "cell_type": "code",
   "execution_count": 43,
   "metadata": {},
   "outputs": [
    {
     "data": {
      "text/html": [
       "<div>\n",
       "<style scoped>\n",
       "    .dataframe tbody tr th:only-of-type {\n",
       "        vertical-align: middle;\n",
       "    }\n",
       "\n",
       "    .dataframe tbody tr th {\n",
       "        vertical-align: top;\n",
       "    }\n",
       "\n",
       "    .dataframe thead th {\n",
       "        text-align: right;\n",
       "    }\n",
       "</style>\n",
       "<table border=\"1\" class=\"dataframe\">\n",
       "  <thead>\n",
       "    <tr style=\"text-align: right;\">\n",
       "      <th></th>\n",
       "      <th>school_city</th>\n",
       "      <th>school_state</th>\n",
       "      <th>school_district</th>\n",
       "      <th>school_county</th>\n",
       "      <th>school_charter</th>\n",
       "      <th>school_magnet</th>\n",
       "      <th>school_year_round</th>\n",
       "      <th>school_nlns</th>\n",
       "      <th>school_kipp</th>\n",
       "      <th>school_charter_ready_promise</th>\n",
       "      <th>...</th>\n",
       "      <th>donation_included_optional_support</th>\n",
       "      <th>payment_included_acct_credit</th>\n",
       "      <th>payment_included_campaign_gift_card</th>\n",
       "      <th>payment_included_web_purchased_gift_card</th>\n",
       "      <th>payment_was_promo_matched</th>\n",
       "      <th>via_giving_page</th>\n",
       "      <th>for_honoree</th>\n",
       "      <th>project_resource_type</th>\n",
       "      <th>item_unit_price</th>\n",
       "      <th>item_quantity</th>\n",
       "    </tr>\n",
       "    <tr>\n",
       "      <th>projectid</th>\n",
       "      <th></th>\n",
       "      <th></th>\n",
       "      <th></th>\n",
       "      <th></th>\n",
       "      <th></th>\n",
       "      <th></th>\n",
       "      <th></th>\n",
       "      <th></th>\n",
       "      <th></th>\n",
       "      <th></th>\n",
       "      <th></th>\n",
       "      <th></th>\n",
       "      <th></th>\n",
       "      <th></th>\n",
       "      <th></th>\n",
       "      <th></th>\n",
       "      <th></th>\n",
       "      <th></th>\n",
       "      <th></th>\n",
       "      <th></th>\n",
       "      <th></th>\n",
       "    </tr>\n",
       "  </thead>\n",
       "  <tbody>\n",
       "    <tr>\n",
       "      <th>00001ccc0e81598c4bd86bacb94d7acb</th>\n",
       "      <td>Chicago</td>\n",
       "      <td>IL</td>\n",
       "      <td>Pershing Elem Network</td>\n",
       "      <td>Cook</td>\n",
       "      <td>0</td>\n",
       "      <td>0</td>\n",
       "      <td>0</td>\n",
       "      <td>0</td>\n",
       "      <td>0</td>\n",
       "      <td>0</td>\n",
       "      <td>...</td>\n",
       "      <td>1.0</td>\n",
       "      <td>0.0</td>\n",
       "      <td>0.0</td>\n",
       "      <td>0.0</td>\n",
       "      <td>1.0</td>\n",
       "      <td>0.0</td>\n",
       "      <td>0.0</td>\n",
       "      <td>Supplies</td>\n",
       "      <td>3.99</td>\n",
       "      <td>2.0</td>\n",
       "    </tr>\n",
       "    <tr>\n",
       "      <th>00001ccc0e81598c4bd86bacb94d7acb</th>\n",
       "      <td>Chicago</td>\n",
       "      <td>IL</td>\n",
       "      <td>Pershing Elem Network</td>\n",
       "      <td>Cook</td>\n",
       "      <td>0</td>\n",
       "      <td>0</td>\n",
       "      <td>0</td>\n",
       "      <td>0</td>\n",
       "      <td>0</td>\n",
       "      <td>0</td>\n",
       "      <td>...</td>\n",
       "      <td>1.0</td>\n",
       "      <td>0.0</td>\n",
       "      <td>0.0</td>\n",
       "      <td>0.0</td>\n",
       "      <td>1.0</td>\n",
       "      <td>0.0</td>\n",
       "      <td>0.0</td>\n",
       "      <td>Supplies</td>\n",
       "      <td>9.99</td>\n",
       "      <td>1.0</td>\n",
       "    </tr>\n",
       "    <tr>\n",
       "      <th>00001ccc0e81598c4bd86bacb94d7acb</th>\n",
       "      <td>Chicago</td>\n",
       "      <td>IL</td>\n",
       "      <td>Pershing Elem Network</td>\n",
       "      <td>Cook</td>\n",
       "      <td>0</td>\n",
       "      <td>0</td>\n",
       "      <td>0</td>\n",
       "      <td>0</td>\n",
       "      <td>0</td>\n",
       "      <td>0</td>\n",
       "      <td>...</td>\n",
       "      <td>1.0</td>\n",
       "      <td>0.0</td>\n",
       "      <td>0.0</td>\n",
       "      <td>0.0</td>\n",
       "      <td>1.0</td>\n",
       "      <td>0.0</td>\n",
       "      <td>0.0</td>\n",
       "      <td>Supplies</td>\n",
       "      <td>29.99</td>\n",
       "      <td>1.0</td>\n",
       "    </tr>\n",
       "    <tr>\n",
       "      <th>00001ccc0e81598c4bd86bacb94d7acb</th>\n",
       "      <td>Chicago</td>\n",
       "      <td>IL</td>\n",
       "      <td>Pershing Elem Network</td>\n",
       "      <td>Cook</td>\n",
       "      <td>0</td>\n",
       "      <td>0</td>\n",
       "      <td>0</td>\n",
       "      <td>0</td>\n",
       "      <td>0</td>\n",
       "      <td>0</td>\n",
       "      <td>...</td>\n",
       "      <td>1.0</td>\n",
       "      <td>0.0</td>\n",
       "      <td>0.0</td>\n",
       "      <td>0.0</td>\n",
       "      <td>1.0</td>\n",
       "      <td>0.0</td>\n",
       "      <td>0.0</td>\n",
       "      <td>Supplies</td>\n",
       "      <td>7.99</td>\n",
       "      <td>6.0</td>\n",
       "    </tr>\n",
       "    <tr>\n",
       "      <th>00001ccc0e81598c4bd86bacb94d7acb</th>\n",
       "      <td>Chicago</td>\n",
       "      <td>IL</td>\n",
       "      <td>Pershing Elem Network</td>\n",
       "      <td>Cook</td>\n",
       "      <td>0</td>\n",
       "      <td>0</td>\n",
       "      <td>0</td>\n",
       "      <td>0</td>\n",
       "      <td>0</td>\n",
       "      <td>0</td>\n",
       "      <td>...</td>\n",
       "      <td>1.0</td>\n",
       "      <td>0.0</td>\n",
       "      <td>0.0</td>\n",
       "      <td>0.0</td>\n",
       "      <td>1.0</td>\n",
       "      <td>0.0</td>\n",
       "      <td>0.0</td>\n",
       "      <td>Supplies</td>\n",
       "      <td>12.99</td>\n",
       "      <td>2.0</td>\n",
       "    </tr>\n",
       "  </tbody>\n",
       "</table>\n",
       "<p>5 rows × 56 columns</p>\n",
       "</div>"
      ],
      "text/plain": [
       "                                 school_city school_state  \\\n",
       "projectid                                                   \n",
       "00001ccc0e81598c4bd86bacb94d7acb     Chicago           IL   \n",
       "00001ccc0e81598c4bd86bacb94d7acb     Chicago           IL   \n",
       "00001ccc0e81598c4bd86bacb94d7acb     Chicago           IL   \n",
       "00001ccc0e81598c4bd86bacb94d7acb     Chicago           IL   \n",
       "00001ccc0e81598c4bd86bacb94d7acb     Chicago           IL   \n",
       "\n",
       "                                        school_district school_county  \\\n",
       "projectid                                                               \n",
       "00001ccc0e81598c4bd86bacb94d7acb  Pershing Elem Network          Cook   \n",
       "00001ccc0e81598c4bd86bacb94d7acb  Pershing Elem Network          Cook   \n",
       "00001ccc0e81598c4bd86bacb94d7acb  Pershing Elem Network          Cook   \n",
       "00001ccc0e81598c4bd86bacb94d7acb  Pershing Elem Network          Cook   \n",
       "00001ccc0e81598c4bd86bacb94d7acb  Pershing Elem Network          Cook   \n",
       "\n",
       "                                  school_charter  school_magnet  \\\n",
       "projectid                                                         \n",
       "00001ccc0e81598c4bd86bacb94d7acb               0              0   \n",
       "00001ccc0e81598c4bd86bacb94d7acb               0              0   \n",
       "00001ccc0e81598c4bd86bacb94d7acb               0              0   \n",
       "00001ccc0e81598c4bd86bacb94d7acb               0              0   \n",
       "00001ccc0e81598c4bd86bacb94d7acb               0              0   \n",
       "\n",
       "                                  school_year_round  school_nlns  school_kipp  \\\n",
       "projectid                                                                       \n",
       "00001ccc0e81598c4bd86bacb94d7acb                  0            0            0   \n",
       "00001ccc0e81598c4bd86bacb94d7acb                  0            0            0   \n",
       "00001ccc0e81598c4bd86bacb94d7acb                  0            0            0   \n",
       "00001ccc0e81598c4bd86bacb94d7acb                  0            0            0   \n",
       "00001ccc0e81598c4bd86bacb94d7acb                  0            0            0   \n",
       "\n",
       "                                  school_charter_ready_promise      ...       \\\n",
       "projectid                                                           ...        \n",
       "00001ccc0e81598c4bd86bacb94d7acb                             0      ...        \n",
       "00001ccc0e81598c4bd86bacb94d7acb                             0      ...        \n",
       "00001ccc0e81598c4bd86bacb94d7acb                             0      ...        \n",
       "00001ccc0e81598c4bd86bacb94d7acb                             0      ...        \n",
       "00001ccc0e81598c4bd86bacb94d7acb                             0      ...        \n",
       "\n",
       "                                 donation_included_optional_support  \\\n",
       "projectid                                                             \n",
       "00001ccc0e81598c4bd86bacb94d7acb                                1.0   \n",
       "00001ccc0e81598c4bd86bacb94d7acb                                1.0   \n",
       "00001ccc0e81598c4bd86bacb94d7acb                                1.0   \n",
       "00001ccc0e81598c4bd86bacb94d7acb                                1.0   \n",
       "00001ccc0e81598c4bd86bacb94d7acb                                1.0   \n",
       "\n",
       "                                  payment_included_acct_credit  \\\n",
       "projectid                                                        \n",
       "00001ccc0e81598c4bd86bacb94d7acb                           0.0   \n",
       "00001ccc0e81598c4bd86bacb94d7acb                           0.0   \n",
       "00001ccc0e81598c4bd86bacb94d7acb                           0.0   \n",
       "00001ccc0e81598c4bd86bacb94d7acb                           0.0   \n",
       "00001ccc0e81598c4bd86bacb94d7acb                           0.0   \n",
       "\n",
       "                                  payment_included_campaign_gift_card  \\\n",
       "projectid                                                               \n",
       "00001ccc0e81598c4bd86bacb94d7acb                                  0.0   \n",
       "00001ccc0e81598c4bd86bacb94d7acb                                  0.0   \n",
       "00001ccc0e81598c4bd86bacb94d7acb                                  0.0   \n",
       "00001ccc0e81598c4bd86bacb94d7acb                                  0.0   \n",
       "00001ccc0e81598c4bd86bacb94d7acb                                  0.0   \n",
       "\n",
       "                                 payment_included_web_purchased_gift_card  \\\n",
       "projectid                                                                   \n",
       "00001ccc0e81598c4bd86bacb94d7acb                                      0.0   \n",
       "00001ccc0e81598c4bd86bacb94d7acb                                      0.0   \n",
       "00001ccc0e81598c4bd86bacb94d7acb                                      0.0   \n",
       "00001ccc0e81598c4bd86bacb94d7acb                                      0.0   \n",
       "00001ccc0e81598c4bd86bacb94d7acb                                      0.0   \n",
       "\n",
       "                                 payment_was_promo_matched via_giving_page  \\\n",
       "projectid                                                                    \n",
       "00001ccc0e81598c4bd86bacb94d7acb                       1.0             0.0   \n",
       "00001ccc0e81598c4bd86bacb94d7acb                       1.0             0.0   \n",
       "00001ccc0e81598c4bd86bacb94d7acb                       1.0             0.0   \n",
       "00001ccc0e81598c4bd86bacb94d7acb                       1.0             0.0   \n",
       "00001ccc0e81598c4bd86bacb94d7acb                       1.0             0.0   \n",
       "\n",
       "                                 for_honoree project_resource_type  \\\n",
       "projectid                                                            \n",
       "00001ccc0e81598c4bd86bacb94d7acb         0.0              Supplies   \n",
       "00001ccc0e81598c4bd86bacb94d7acb         0.0              Supplies   \n",
       "00001ccc0e81598c4bd86bacb94d7acb         0.0              Supplies   \n",
       "00001ccc0e81598c4bd86bacb94d7acb         0.0              Supplies   \n",
       "00001ccc0e81598c4bd86bacb94d7acb         0.0              Supplies   \n",
       "\n",
       "                                 item_unit_price item_quantity  \n",
       "projectid                                                       \n",
       "00001ccc0e81598c4bd86bacb94d7acb            3.99           2.0  \n",
       "00001ccc0e81598c4bd86bacb94d7acb            9.99           1.0  \n",
       "00001ccc0e81598c4bd86bacb94d7acb           29.99           1.0  \n",
       "00001ccc0e81598c4bd86bacb94d7acb            7.99           6.0  \n",
       "00001ccc0e81598c4bd86bacb94d7acb           12.99           2.0  \n",
       "\n",
       "[5 rows x 56 columns]"
      ]
     },
     "execution_count": 43,
     "metadata": {},
     "output_type": "execute_result"
    }
   ],
   "source": [
    "df = df.replace('f', 0).replace('t', 1)\n",
    "exclude_cols = ['school_latitude', 'school_longitude', 'school_zip',\n",
    "               'donation_message', 'vendor_name', 'item_name', 'item_number', 'school_metro', 'payment_method']\n",
    "left_cols = [col for col in df.columns if (not col.endswith('id')) and col not in exclude_cols]\n",
    "df = df[left_cols]\n",
    "df.head()"
   ]
  },
  {
   "cell_type": "markdown",
   "metadata": {},
   "source": [
    "## 2.4 Correlations between variables"
   ]
  },
  {
   "cell_type": "markdown",
   "metadata": {},
   "source": [
    "In order to investigate the dependence between multiple variables at the same time, we would like to plot a table with correlation coefficients between each variable and the others. The first step is to calculate the correlation matrix, and then plot the heatmap."
   ]
  },
  {
   "cell_type": "code",
   "execution_count": 29,
   "metadata": {},
   "outputs": [
    {
     "data": {
      "text/plain": [
       "<matplotlib.axes._subplots.AxesSubplot at 0x7fc47a91fac8>"
      ]
     },
     "execution_count": 29,
     "metadata": {},
     "output_type": "execute_result"
    },
    {
     "data": {
      "image/png": "[encoded data removed]",
      "text/plain": [
       "<Figure size 720x720 with 2 Axes>"
      ]
     },
     "metadata": {},
     "output_type": "display_data"
    }
   ],
   "source": [
    "corr = df.corr()\n",
    "\n",
    "fig, ax = plt.subplots(figsize=(10,10))  \n",
    "sns.heatmap(corr, \n",
    "        xticklabels=corr.columns,\n",
    "        yticklabels=corr.columns)"
   ]
  },
  {
   "cell_type": "markdown",
   "metadata": {},
   "source": [
    "# Step 3: Pre Process Data"
   ]
  },
  {
   "cell_type": "markdown",
   "metadata": {},
   "source": [
    "## Change non-numberic columns into numeric variables"
   ]
  },
  {
   "cell_type": "markdown",
   "metadata": {},
   "source": [
    "We change all of the categorical and dummy variables into numeric variables."
   ]
  },
  {
   "cell_type": "code",
   "execution_count": 30,
   "metadata": {},
   "outputs": [
    {
     "data": {
      "text/html": [
       "<div>\n",
       "<style scoped>\n",
       "    .dataframe tbody tr th:only-of-type {\n",
       "        vertical-align: middle;\n",
       "    }\n",
       "\n",
       "    .dataframe tbody tr th {\n",
       "        vertical-align: top;\n",
       "    }\n",
       "\n",
       "    .dataframe thead th {\n",
       "        text-align: right;\n",
       "    }\n",
       "</style>\n",
       "<table border=\"1\" class=\"dataframe\">\n",
       "  <thead>\n",
       "    <tr style=\"text-align: right;\">\n",
       "      <th></th>\n",
       "      <th>school_city</th>\n",
       "      <th>school_state</th>\n",
       "      <th>school_district</th>\n",
       "      <th>school_county</th>\n",
       "      <th>teacher_prefix</th>\n",
       "      <th>primary_focus_subject</th>\n",
       "      <th>primary_focus_area</th>\n",
       "      <th>secondary_focus_subject</th>\n",
       "      <th>secondary_focus_area</th>\n",
       "      <th>resource_type</th>\n",
       "      <th>poverty_level</th>\n",
       "      <th>grade_level</th>\n",
       "      <th>donor_city</th>\n",
       "      <th>donor_state</th>\n",
       "      <th>dollar_amount</th>\n",
       "      <th>project_resource_type</th>\n",
       "    </tr>\n",
       "    <tr>\n",
       "      <th>projectid</th>\n",
       "      <th></th>\n",
       "      <th></th>\n",
       "      <th></th>\n",
       "      <th></th>\n",
       "      <th></th>\n",
       "      <th></th>\n",
       "      <th></th>\n",
       "      <th></th>\n",
       "      <th></th>\n",
       "      <th></th>\n",
       "      <th></th>\n",
       "      <th></th>\n",
       "      <th></th>\n",
       "      <th></th>\n",
       "      <th></th>\n",
       "      <th></th>\n",
       "    </tr>\n",
       "  </thead>\n",
       "  <tbody>\n",
       "    <tr>\n",
       "      <th>ed778c79be307654af5ee43da9ed3349</th>\n",
       "      <td>Los Angeles</td>\n",
       "      <td>CA</td>\n",
       "      <td>Los Angeles Unif Sch Dist</td>\n",
       "      <td>Los Angeles</td>\n",
       "      <td>Mrs.</td>\n",
       "      <td>Visual Arts</td>\n",
       "      <td>Music &amp; The Arts</td>\n",
       "      <td>NaN</td>\n",
       "      <td>NaN</td>\n",
       "      <td>Supplies</td>\n",
       "      <td>highest poverty</td>\n",
       "      <td>Grades 9-12</td>\n",
       "      <td>NaN</td>\n",
       "      <td>CA</td>\n",
       "      <td>10_to_100</td>\n",
       "      <td>Supplies</td>\n",
       "    </tr>\n",
       "    <tr>\n",
       "      <th>445c927173df6aef2f2a84a0faad947e</th>\n",
       "      <td>Medford</td>\n",
       "      <td>OR</td>\n",
       "      <td>Medford School District 549c</td>\n",
       "      <td>Jackson</td>\n",
       "      <td>Ms.</td>\n",
       "      <td>Literacy</td>\n",
       "      <td>Literacy &amp; Language</td>\n",
       "      <td>Health &amp; Life Science</td>\n",
       "      <td>Math &amp; Science</td>\n",
       "      <td>Books</td>\n",
       "      <td>highest poverty</td>\n",
       "      <td>Grades PreK-2</td>\n",
       "      <td>CASTLE ROCK</td>\n",
       "      <td>WA</td>\n",
       "      <td>10_to_100</td>\n",
       "      <td>Books</td>\n",
       "    </tr>\n",
       "    <tr>\n",
       "      <th>1fbaf5dcb7cff46eaaf7887efbe14d32</th>\n",
       "      <td>Detroit</td>\n",
       "      <td>MI</td>\n",
       "      <td>Detroit Public School District</td>\n",
       "      <td>Wayne</td>\n",
       "      <td>Mrs.</td>\n",
       "      <td>Performing Arts</td>\n",
       "      <td>Music &amp; The Arts</td>\n",
       "      <td>Music</td>\n",
       "      <td>Music &amp; The Arts</td>\n",
       "      <td>Supplies</td>\n",
       "      <td>highest poverty</td>\n",
       "      <td>Grades 6-8</td>\n",
       "      <td>El Lago</td>\n",
       "      <td>TX</td>\n",
       "      <td>10_to_100</td>\n",
       "      <td>Supplies</td>\n",
       "    </tr>\n",
       "    <tr>\n",
       "      <th>6084e2c13b245b75da35354f362992fb</th>\n",
       "      <td>Hillsboro</td>\n",
       "      <td>OR</td>\n",
       "      <td>Hillsboro School District 1j</td>\n",
       "      <td>Washington</td>\n",
       "      <td>Mrs.</td>\n",
       "      <td>Applied Sciences</td>\n",
       "      <td>Math &amp; Science</td>\n",
       "      <td>Mathematics</td>\n",
       "      <td>Math &amp; Science</td>\n",
       "      <td>Supplies</td>\n",
       "      <td>high poverty</td>\n",
       "      <td>Grades PreK-2</td>\n",
       "      <td>decatur</td>\n",
       "      <td>GA</td>\n",
       "      <td>100_and_up</td>\n",
       "      <td>Supplies</td>\n",
       "    </tr>\n",
       "    <tr>\n",
       "      <th>707c51383131dd33bcb0a88183a08ed2</th>\n",
       "      <td>Corbin</td>\n",
       "      <td>KY</td>\n",
       "      <td>Knox Co School District</td>\n",
       "      <td>Knox</td>\n",
       "      <td>Mrs.</td>\n",
       "      <td>Environmental Science</td>\n",
       "      <td>Math &amp; Science</td>\n",
       "      <td>Applied Sciences</td>\n",
       "      <td>Math &amp; Science</td>\n",
       "      <td>Supplies</td>\n",
       "      <td>highest poverty</td>\n",
       "      <td>Grades 9-12</td>\n",
       "      <td>NaN</td>\n",
       "      <td>NaN</td>\n",
       "      <td>100_and_up</td>\n",
       "      <td>Supplies</td>\n",
       "    </tr>\n",
       "  </tbody>\n",
       "</table>\n",
       "</div>"
      ],
      "text/plain": [
       "                                  school_city school_state  \\\n",
       "projectid                                                    \n",
       "ed778c79be307654af5ee43da9ed3349  Los Angeles           CA   \n",
       "445c927173df6aef2f2a84a0faad947e      Medford           OR   \n",
       "1fbaf5dcb7cff46eaaf7887efbe14d32      Detroit           MI   \n",
       "6084e2c13b245b75da35354f362992fb    Hillsboro           OR   \n",
       "707c51383131dd33bcb0a88183a08ed2       Corbin           KY   \n",
       "\n",
       "                                                 school_district  \\\n",
       "projectid                                                          \n",
       "ed778c79be307654af5ee43da9ed3349       Los Angeles Unif Sch Dist   \n",
       "445c927173df6aef2f2a84a0faad947e    Medford School District 549c   \n",
       "1fbaf5dcb7cff46eaaf7887efbe14d32  Detroit Public School District   \n",
       "6084e2c13b245b75da35354f362992fb    Hillsboro School District 1j   \n",
       "707c51383131dd33bcb0a88183a08ed2         Knox Co School District   \n",
       "\n",
       "                                 school_county teacher_prefix  \\\n",
       "projectid                                                       \n",
       "ed778c79be307654af5ee43da9ed3349   Los Angeles           Mrs.   \n",
       "445c927173df6aef2f2a84a0faad947e       Jackson            Ms.   \n",
       "1fbaf5dcb7cff46eaaf7887efbe14d32         Wayne           Mrs.   \n",
       "6084e2c13b245b75da35354f362992fb    Washington           Mrs.   \n",
       "707c51383131dd33bcb0a88183a08ed2          Knox           Mrs.   \n",
       "\n",
       "                                  primary_focus_subject   primary_focus_area  \\\n",
       "projectid                                                                      \n",
       "ed778c79be307654af5ee43da9ed3349            Visual Arts     Music & The Arts   \n",
       "445c927173df6aef2f2a84a0faad947e               Literacy  Literacy & Language   \n",
       "1fbaf5dcb7cff46eaaf7887efbe14d32        Performing Arts     Music & The Arts   \n",
       "6084e2c13b245b75da35354f362992fb       Applied Sciences       Math & Science   \n",
       "707c51383131dd33bcb0a88183a08ed2  Environmental Science       Math & Science   \n",
       "\n",
       "                                 secondary_focus_subject secondary_focus_area  \\\n",
       "projectid                                                                       \n",
       "ed778c79be307654af5ee43da9ed3349                     NaN                  NaN   \n",
       "445c927173df6aef2f2a84a0faad947e   Health & Life Science       Math & Science   \n",
       "1fbaf5dcb7cff46eaaf7887efbe14d32                   Music     Music & The Arts   \n",
       "6084e2c13b245b75da35354f362992fb             Mathematics       Math & Science   \n",
       "707c51383131dd33bcb0a88183a08ed2        Applied Sciences       Math & Science   \n",
       "\n",
       "                                 resource_type    poverty_level  \\\n",
       "projectid                                                         \n",
       "ed778c79be307654af5ee43da9ed3349      Supplies  highest poverty   \n",
       "445c927173df6aef2f2a84a0faad947e         Books  highest poverty   \n",
       "1fbaf5dcb7cff46eaaf7887efbe14d32      Supplies  highest poverty   \n",
       "6084e2c13b245b75da35354f362992fb      Supplies     high poverty   \n",
       "707c51383131dd33bcb0a88183a08ed2      Supplies  highest poverty   \n",
       "\n",
       "                                    grade_level   donor_city donor_state  \\\n",
       "projectid                                                                  \n",
       "ed778c79be307654af5ee43da9ed3349    Grades 9-12          NaN          CA   \n",
       "445c927173df6aef2f2a84a0faad947e  Grades PreK-2  CASTLE ROCK          WA   \n",
       "1fbaf5dcb7cff46eaaf7887efbe14d32     Grades 6-8      El Lago          TX   \n",
       "6084e2c13b245b75da35354f362992fb  Grades PreK-2      decatur          GA   \n",
       "707c51383131dd33bcb0a88183a08ed2    Grades 9-12          NaN         NaN   \n",
       "\n",
       "                                 dollar_amount project_resource_type  \n",
       "projectid                                                             \n",
       "ed778c79be307654af5ee43da9ed3349     10_to_100              Supplies  \n",
       "445c927173df6aef2f2a84a0faad947e     10_to_100                 Books  \n",
       "1fbaf5dcb7cff46eaaf7887efbe14d32     10_to_100              Supplies  \n",
       "6084e2c13b245b75da35354f362992fb    100_and_up              Supplies  \n",
       "707c51383131dd33bcb0a88183a08ed2    100_and_up              Supplies  "
      ]
     },
     "execution_count": 30,
     "metadata": {},
     "output_type": "execute_result"
    }
   ],
   "source": [
    "def check_not_numberic(df):\n",
    "    check_df = df.applymap(lambda x: isinstance(x, (int, float)))\n",
    "    return [col for col in check_df.columns if any(check_df[col] == False) and col != 'date_posted']\n",
    "str_cols = check_not_numberic(df)\n",
    "df[str_cols].head()"
   ]
  },
  {
   "cell_type": "code",
   "execution_count": 31,
   "metadata": {},
   "outputs": [
    {
     "data": {
      "text/html": [
       "<div>\n",
       "<style scoped>\n",
       "    .dataframe tbody tr th:only-of-type {\n",
       "        vertical-align: middle;\n",
       "    }\n",
       "\n",
       "    .dataframe tbody tr th {\n",
       "        vertical-align: top;\n",
       "    }\n",
       "\n",
       "    .dataframe thead th {\n",
       "        text-align: right;\n",
       "    }\n",
       "</style>\n",
       "<table border=\"1\" class=\"dataframe\">\n",
       "  <thead>\n",
       "    <tr style=\"text-align: right;\">\n",
       "      <th></th>\n",
       "      <th>school_city</th>\n",
       "      <th>school_state</th>\n",
       "      <th>school_district</th>\n",
       "      <th>school_county</th>\n",
       "      <th>school_charter</th>\n",
       "      <th>school_magnet</th>\n",
       "      <th>school_year_round</th>\n",
       "      <th>school_nlns</th>\n",
       "      <th>school_kipp</th>\n",
       "      <th>school_charter_ready_promise</th>\n",
       "      <th>...</th>\n",
       "      <th>donation_included_optional_support</th>\n",
       "      <th>payment_included_acct_credit</th>\n",
       "      <th>payment_included_campaign_gift_card</th>\n",
       "      <th>payment_included_web_purchased_gift_card</th>\n",
       "      <th>payment_was_promo_matched</th>\n",
       "      <th>via_giving_page</th>\n",
       "      <th>for_honoree</th>\n",
       "      <th>project_resource_type</th>\n",
       "      <th>item_unit_price</th>\n",
       "      <th>item_quantity</th>\n",
       "    </tr>\n",
       "    <tr>\n",
       "      <th>projectid</th>\n",
       "      <th></th>\n",
       "      <th></th>\n",
       "      <th></th>\n",
       "      <th></th>\n",
       "      <th></th>\n",
       "      <th></th>\n",
       "      <th></th>\n",
       "      <th></th>\n",
       "      <th></th>\n",
       "      <th></th>\n",
       "      <th></th>\n",
       "      <th></th>\n",
       "      <th></th>\n",
       "      <th></th>\n",
       "      <th></th>\n",
       "      <th></th>\n",
       "      <th></th>\n",
       "      <th></th>\n",
       "      <th></th>\n",
       "      <th></th>\n",
       "      <th></th>\n",
       "    </tr>\n",
       "  </thead>\n",
       "  <tbody>\n",
       "    <tr>\n",
       "      <th>ed778c79be307654af5ee43da9ed3349</th>\n",
       "      <td>2769</td>\n",
       "      <td>4</td>\n",
       "      <td>2740</td>\n",
       "      <td>722</td>\n",
       "      <td>0</td>\n",
       "      <td>0</td>\n",
       "      <td>0</td>\n",
       "      <td>0</td>\n",
       "      <td>0</td>\n",
       "      <td>0</td>\n",
       "      <td>...</td>\n",
       "      <td>1.0</td>\n",
       "      <td>0.0</td>\n",
       "      <td>1.0</td>\n",
       "      <td>0.0</td>\n",
       "      <td>0.0</td>\n",
       "      <td>0.0</td>\n",
       "      <td>0.0</td>\n",
       "      <td>2</td>\n",
       "      <td>3.99</td>\n",
       "      <td>2.0</td>\n",
       "    </tr>\n",
       "    <tr>\n",
       "      <th>445c927173df6aef2f2a84a0faad947e</th>\n",
       "      <td>3008</td>\n",
       "      <td>38</td>\n",
       "      <td>2957</td>\n",
       "      <td>609</td>\n",
       "      <td>0</td>\n",
       "      <td>0</td>\n",
       "      <td>0</td>\n",
       "      <td>0</td>\n",
       "      <td>0</td>\n",
       "      <td>0</td>\n",
       "      <td>...</td>\n",
       "      <td>1.0</td>\n",
       "      <td>0.0</td>\n",
       "      <td>0.0</td>\n",
       "      <td>0.0</td>\n",
       "      <td>0.0</td>\n",
       "      <td>1.0</td>\n",
       "      <td>1.0</td>\n",
       "      <td>0</td>\n",
       "      <td>7.15</td>\n",
       "      <td>1.0</td>\n",
       "    </tr>\n",
       "    <tr>\n",
       "      <th>1fbaf5dcb7cff46eaaf7887efbe14d32</th>\n",
       "      <td>1199</td>\n",
       "      <td>23</td>\n",
       "      <td>1250</td>\n",
       "      <td>1315</td>\n",
       "      <td>0</td>\n",
       "      <td>0</td>\n",
       "      <td>0</td>\n",
       "      <td>0</td>\n",
       "      <td>0</td>\n",
       "      <td>0</td>\n",
       "      <td>...</td>\n",
       "      <td>1.0</td>\n",
       "      <td>0.0</td>\n",
       "      <td>0.0</td>\n",
       "      <td>0.0</td>\n",
       "      <td>0.0</td>\n",
       "      <td>1.0</td>\n",
       "      <td>0.0</td>\n",
       "      <td>2</td>\n",
       "      <td>28.49</td>\n",
       "      <td>4.0</td>\n",
       "    </tr>\n",
       "    <tr>\n",
       "      <th>6084e2c13b245b75da35354f362992fb</th>\n",
       "      <td>2133</td>\n",
       "      <td>38</td>\n",
       "      <td>2128</td>\n",
       "      <td>1306</td>\n",
       "      <td>0</td>\n",
       "      <td>0</td>\n",
       "      <td>0</td>\n",
       "      <td>0</td>\n",
       "      <td>0</td>\n",
       "      <td>0</td>\n",
       "      <td>...</td>\n",
       "      <td>1.0</td>\n",
       "      <td>0.0</td>\n",
       "      <td>0.0</td>\n",
       "      <td>0.0</td>\n",
       "      <td>0.0</td>\n",
       "      <td>0.0</td>\n",
       "      <td>1.0</td>\n",
       "      <td>2</td>\n",
       "      <td>28.49</td>\n",
       "      <td>2.0</td>\n",
       "    </tr>\n",
       "    <tr>\n",
       "      <th>707c51383131dd33bcb0a88183a08ed2</th>\n",
       "      <td>1012</td>\n",
       "      <td>17</td>\n",
       "      <td>2440</td>\n",
       "      <td>658</td>\n",
       "      <td>0</td>\n",
       "      <td>0</td>\n",
       "      <td>0</td>\n",
       "      <td>0</td>\n",
       "      <td>0</td>\n",
       "      <td>0</td>\n",
       "      <td>...</td>\n",
       "      <td>0.0</td>\n",
       "      <td>0.0</td>\n",
       "      <td>0.0</td>\n",
       "      <td>0.0</td>\n",
       "      <td>0.0</td>\n",
       "      <td>0.0</td>\n",
       "      <td>0.0</td>\n",
       "      <td>2</td>\n",
       "      <td>9.49</td>\n",
       "      <td>2.0</td>\n",
       "    </tr>\n",
       "  </tbody>\n",
       "</table>\n",
       "<p>5 rows × 56 columns</p>\n",
       "</div>"
      ],
      "text/plain": [
       "                                  school_city  school_state  school_district  \\\n",
       "projectid                                                                      \n",
       "ed778c79be307654af5ee43da9ed3349         2769             4             2740   \n",
       "445c927173df6aef2f2a84a0faad947e         3008            38             2957   \n",
       "1fbaf5dcb7cff46eaaf7887efbe14d32         1199            23             1250   \n",
       "6084e2c13b245b75da35354f362992fb         2133            38             2128   \n",
       "707c51383131dd33bcb0a88183a08ed2         1012            17             2440   \n",
       "\n",
       "                                  school_county  school_charter  \\\n",
       "projectid                                                         \n",
       "ed778c79be307654af5ee43da9ed3349            722               0   \n",
       "445c927173df6aef2f2a84a0faad947e            609               0   \n",
       "1fbaf5dcb7cff46eaaf7887efbe14d32           1315               0   \n",
       "6084e2c13b245b75da35354f362992fb           1306               0   \n",
       "707c51383131dd33bcb0a88183a08ed2            658               0   \n",
       "\n",
       "                                  school_magnet  school_year_round  \\\n",
       "projectid                                                            \n",
       "ed778c79be307654af5ee43da9ed3349              0                  0   \n",
       "445c927173df6aef2f2a84a0faad947e              0                  0   \n",
       "1fbaf5dcb7cff46eaaf7887efbe14d32              0                  0   \n",
       "6084e2c13b245b75da35354f362992fb              0                  0   \n",
       "707c51383131dd33bcb0a88183a08ed2              0                  0   \n",
       "\n",
       "                                  school_nlns  school_kipp  \\\n",
       "projectid                                                    \n",
       "ed778c79be307654af5ee43da9ed3349            0            0   \n",
       "445c927173df6aef2f2a84a0faad947e            0            0   \n",
       "1fbaf5dcb7cff46eaaf7887efbe14d32            0            0   \n",
       "6084e2c13b245b75da35354f362992fb            0            0   \n",
       "707c51383131dd33bcb0a88183a08ed2            0            0   \n",
       "\n",
       "                                  school_charter_ready_promise      ...        \\\n",
       "projectid                                                           ...         \n",
       "ed778c79be307654af5ee43da9ed3349                             0      ...         \n",
       "445c927173df6aef2f2a84a0faad947e                             0      ...         \n",
       "1fbaf5dcb7cff46eaaf7887efbe14d32                             0      ...         \n",
       "6084e2c13b245b75da35354f362992fb                             0      ...         \n",
       "707c51383131dd33bcb0a88183a08ed2                             0      ...         \n",
       "\n",
       "                                  donation_included_optional_support  \\\n",
       "projectid                                                              \n",
       "ed778c79be307654af5ee43da9ed3349                                 1.0   \n",
       "445c927173df6aef2f2a84a0faad947e                                 1.0   \n",
       "1fbaf5dcb7cff46eaaf7887efbe14d32                                 1.0   \n",
       "6084e2c13b245b75da35354f362992fb                                 1.0   \n",
       "707c51383131dd33bcb0a88183a08ed2                                 0.0   \n",
       "\n",
       "                                  payment_included_acct_credit  \\\n",
       "projectid                                                        \n",
       "ed778c79be307654af5ee43da9ed3349                           0.0   \n",
       "445c927173df6aef2f2a84a0faad947e                           0.0   \n",
       "1fbaf5dcb7cff46eaaf7887efbe14d32                           0.0   \n",
       "6084e2c13b245b75da35354f362992fb                           0.0   \n",
       "707c51383131dd33bcb0a88183a08ed2                           0.0   \n",
       "\n",
       "                                  payment_included_campaign_gift_card  \\\n",
       "projectid                                                               \n",
       "ed778c79be307654af5ee43da9ed3349                                  1.0   \n",
       "445c927173df6aef2f2a84a0faad947e                                  0.0   \n",
       "1fbaf5dcb7cff46eaaf7887efbe14d32                                  0.0   \n",
       "6084e2c13b245b75da35354f362992fb                                  0.0   \n",
       "707c51383131dd33bcb0a88183a08ed2                                  0.0   \n",
       "\n",
       "                                  payment_included_web_purchased_gift_card  \\\n",
       "projectid                                                                    \n",
       "ed778c79be307654af5ee43da9ed3349                                       0.0   \n",
       "445c927173df6aef2f2a84a0faad947e                                       0.0   \n",
       "1fbaf5dcb7cff46eaaf7887efbe14d32                                       0.0   \n",
       "6084e2c13b245b75da35354f362992fb                                       0.0   \n",
       "707c51383131dd33bcb0a88183a08ed2                                       0.0   \n",
       "\n",
       "                                  payment_was_promo_matched  via_giving_page  \\\n",
       "projectid                                                                      \n",
       "ed778c79be307654af5ee43da9ed3349                        0.0              0.0   \n",
       "445c927173df6aef2f2a84a0faad947e                        0.0              1.0   \n",
       "1fbaf5dcb7cff46eaaf7887efbe14d32                        0.0              1.0   \n",
       "6084e2c13b245b75da35354f362992fb                        0.0              0.0   \n",
       "707c51383131dd33bcb0a88183a08ed2                        0.0              0.0   \n",
       "\n",
       "                                  for_honoree  project_resource_type  \\\n",
       "projectid                                                              \n",
       "ed778c79be307654af5ee43da9ed3349          0.0                      2   \n",
       "445c927173df6aef2f2a84a0faad947e          1.0                      0   \n",
       "1fbaf5dcb7cff46eaaf7887efbe14d32          0.0                      2   \n",
       "6084e2c13b245b75da35354f362992fb          1.0                      2   \n",
       "707c51383131dd33bcb0a88183a08ed2          0.0                      2   \n",
       "\n",
       "                                  item_unit_price  item_quantity  \n",
       "projectid                                                         \n",
       "ed778c79be307654af5ee43da9ed3349             3.99            2.0  \n",
       "445c927173df6aef2f2a84a0faad947e             7.15            1.0  \n",
       "1fbaf5dcb7cff46eaaf7887efbe14d32            28.49            4.0  \n",
       "6084e2c13b245b75da35354f362992fb            28.49            2.0  \n",
       "707c51383131dd33bcb0a88183a08ed2             9.49            2.0  \n",
       "\n",
       "[5 rows x 56 columns]"
      ]
     },
     "execution_count": 31,
     "metadata": {},
     "output_type": "execute_result"
    }
   ],
   "source": [
    "for col in str_cols:\n",
    "    df[col] = df[col].astype('category').cat.codes\n",
    "\n",
    "df.head()"
   ]
  },
  {
   "cell_type": "markdown",
   "metadata": {},
   "source": [
    "## Check and Fill out missing value"
   ]
  },
  {
   "cell_type": "markdown",
   "metadata": {},
   "source": [
    "A standard and often very good approach is to replace missing values with mean, median and zeros. For numerical values we usually go with mean. If there are some outliers, try median first since it is less sensitive to them."
   ]
  },
  {
   "cell_type": "code",
   "execution_count": 32,
   "metadata": {},
   "outputs": [
    {
     "data": {
      "text/plain": [
       "['fulfillment_labor_materials',\n",
       " 'students_reached',\n",
       " 'is_exciting',\n",
       " 'at_least_1_teacher_referred_donor',\n",
       " 'fully_funded',\n",
       " 'at_least_1_green_donation',\n",
       " 'great_chat',\n",
       " 'three_or_more_non_teacher_referred_donors',\n",
       " 'one_non_teacher_referred_donor_giving_100_plus',\n",
       " 'donation_from_thoughtful_donor',\n",
       " 'great_messages_proportion',\n",
       " 'teacher_referred_count',\n",
       " 'non_teacher_referred_count',\n",
       " 'donor_zip',\n",
       " 'is_teacher_acct',\n",
       " 'donation_to_project',\n",
       " 'donation_optional_support',\n",
       " 'donation_total',\n",
       " 'donation_included_optional_support',\n",
       " 'payment_included_acct_credit',\n",
       " 'payment_included_campaign_gift_card',\n",
       " 'payment_included_web_purchased_gift_card',\n",
       " 'payment_was_promo_matched',\n",
       " 'via_giving_page',\n",
       " 'for_honoree',\n",
       " 'item_unit_price',\n",
       " 'item_quantity']"
      ]
     },
     "execution_count": 32,
     "metadata": {},
     "output_type": "execute_result"
    }
   ],
   "source": [
    "def check_missing(df):\n",
    "    return [col for col in df.columns if any(df[col].isnull()) == True]\n",
    "\n",
    "def fill_missing(df, col_name, method):\n",
    "    if method == 'mean':\n",
    "        df[col_name] = df[col_name].fillna(df[col_name].mean())\n",
    "    elif method == 'median':\n",
    "        df[col_name] = df[col_name].fillna(df[col_name].median())\n",
    "    elif method == 'zero':\n",
    "        df[col_name] = df[col_name].fillna(0)\n",
    "        \n",
    "missing_cols = check_missing(df)\n",
    "missing_cols"
   ]
  },
  {
   "cell_type": "code",
   "execution_count": 33,
   "metadata": {},
   "outputs": [
    {
     "data": {
      "text/plain": [
       "[]"
      ]
     },
     "execution_count": 33,
     "metadata": {},
     "output_type": "execute_result"
    }
   ],
   "source": [
    "for col in missing_cols:\n",
    "    fill_missing(df, col, 'mean')\n",
    "check_missing(df)"
   ]
  },
  {
   "cell_type": "markdown",
   "metadata": {},
   "source": [
    "As we can see, there is no missing values."
   ]
  },
  {
   "cell_type": "markdown",
   "metadata": {},
   "source": [
    "## Drop out outliers"
   ]
  },
  {
   "cell_type": "markdown",
   "metadata": {},
   "source": [
    "The impact of outliers could be not only seen in predictive modeling but also in statistical tests where it reduced the power of tests. Most paremetric statistics like means, standard deviations and correlations, and every statistics based on these, are highly sensitive to outliers. We care for the impact of outliers in predictivae modeling in this case.\n",
    "\n",
    "From the statistics below, in order to get a better fit and more general solutions, we first detecting outliers, and then use '(data - mean) < 3 * std' to determine whether to drop these outliers."
   ]
  },
  {
   "cell_type": "code",
   "execution_count": 34,
   "metadata": {},
   "outputs": [
    {
     "data": {
      "text/html": [
       "<div>\n",
       "<style scoped>\n",
       "    .dataframe tbody tr th:only-of-type {\n",
       "        vertical-align: middle;\n",
       "    }\n",
       "\n",
       "    .dataframe tbody tr th {\n",
       "        vertical-align: top;\n",
       "    }\n",
       "\n",
       "    .dataframe thead th {\n",
       "        text-align: right;\n",
       "    }\n",
       "</style>\n",
       "<table border=\"1\" class=\"dataframe\">\n",
       "  <thead>\n",
       "    <tr style=\"text-align: right;\">\n",
       "      <th></th>\n",
       "      <th>school_city</th>\n",
       "      <th>school_state</th>\n",
       "      <th>school_district</th>\n",
       "      <th>school_county</th>\n",
       "      <th>school_charter</th>\n",
       "      <th>school_magnet</th>\n",
       "      <th>school_year_round</th>\n",
       "      <th>school_nlns</th>\n",
       "      <th>school_kipp</th>\n",
       "      <th>school_charter_ready_promise</th>\n",
       "      <th>...</th>\n",
       "      <th>donation_included_optional_support</th>\n",
       "      <th>payment_included_acct_credit</th>\n",
       "      <th>payment_included_campaign_gift_card</th>\n",
       "      <th>payment_included_web_purchased_gift_card</th>\n",
       "      <th>payment_was_promo_matched</th>\n",
       "      <th>via_giving_page</th>\n",
       "      <th>for_honoree</th>\n",
       "      <th>project_resource_type</th>\n",
       "      <th>item_unit_price</th>\n",
       "      <th>item_quantity</th>\n",
       "    </tr>\n",
       "  </thead>\n",
       "  <tbody>\n",
       "    <tr>\n",
       "      <th>count</th>\n",
       "      <td>200000.00000</td>\n",
       "      <td>200000.00000</td>\n",
       "      <td>200000.000000</td>\n",
       "      <td>200000.000000</td>\n",
       "      <td>200000.000000</td>\n",
       "      <td>200000.000000</td>\n",
       "      <td>200000.000000</td>\n",
       "      <td>200000.000000</td>\n",
       "      <td>200000.00000</td>\n",
       "      <td>200000.000000</td>\n",
       "      <td>...</td>\n",
       "      <td>200000.000000</td>\n",
       "      <td>200000.000000</td>\n",
       "      <td>200000.000000</td>\n",
       "      <td>200000.000000</td>\n",
       "      <td>200000.000000</td>\n",
       "      <td>200000.000000</td>\n",
       "      <td>200000.000000</td>\n",
       "      <td>200000.000000</td>\n",
       "      <td>200000.000000</td>\n",
       "      <td>200000.000000</td>\n",
       "    </tr>\n",
       "    <tr>\n",
       "      <th>mean</th>\n",
       "      <td>2597.34106</td>\n",
       "      <td>22.41381</td>\n",
       "      <td>2638.716615</td>\n",
       "      <td>664.746840</td>\n",
       "      <td>0.113590</td>\n",
       "      <td>0.093450</td>\n",
       "      <td>0.050295</td>\n",
       "      <td>0.018525</td>\n",
       "      <td>0.00999</td>\n",
       "      <td>0.008180</td>\n",
       "      <td>...</td>\n",
       "      <td>0.901211</td>\n",
       "      <td>0.105175</td>\n",
       "      <td>0.326865</td>\n",
       "      <td>0.054629</td>\n",
       "      <td>0.077832</td>\n",
       "      <td>0.338381</td>\n",
       "      <td>0.022192</td>\n",
       "      <td>1.180490</td>\n",
       "      <td>56.209790</td>\n",
       "      <td>3.010235</td>\n",
       "    </tr>\n",
       "    <tr>\n",
       "      <th>std</th>\n",
       "      <td>1552.56468</td>\n",
       "      <td>15.61845</td>\n",
       "      <td>1372.815326</td>\n",
       "      <td>352.758289</td>\n",
       "      <td>0.317313</td>\n",
       "      <td>0.291063</td>\n",
       "      <td>0.218554</td>\n",
       "      <td>0.134840</td>\n",
       "      <td>0.09945</td>\n",
       "      <td>0.090073</td>\n",
       "      <td>...</td>\n",
       "      <td>0.292940</td>\n",
       "      <td>0.301187</td>\n",
       "      <td>0.460517</td>\n",
       "      <td>0.223112</td>\n",
       "      <td>0.263024</td>\n",
       "      <td>0.464534</td>\n",
       "      <td>0.144622</td>\n",
       "      <td>1.141192</td>\n",
       "      <td>339.483642</td>\n",
       "      <td>14.963602</td>\n",
       "    </tr>\n",
       "    <tr>\n",
       "      <th>min</th>\n",
       "      <td>0.00000</td>\n",
       "      <td>0.00000</td>\n",
       "      <td>-1.000000</td>\n",
       "      <td>0.000000</td>\n",
       "      <td>0.000000</td>\n",
       "      <td>0.000000</td>\n",
       "      <td>0.000000</td>\n",
       "      <td>0.000000</td>\n",
       "      <td>0.00000</td>\n",
       "      <td>0.000000</td>\n",
       "      <td>...</td>\n",
       "      <td>0.000000</td>\n",
       "      <td>0.000000</td>\n",
       "      <td>0.000000</td>\n",
       "      <td>0.000000</td>\n",
       "      <td>0.000000</td>\n",
       "      <td>0.000000</td>\n",
       "      <td>0.000000</td>\n",
       "      <td>-1.000000</td>\n",
       "      <td>-26.050000</td>\n",
       "      <td>1.000000</td>\n",
       "    </tr>\n",
       "    <tr>\n",
       "      <th>25%</th>\n",
       "      <td>1007.00000</td>\n",
       "      <td>6.00000</td>\n",
       "      <td>1505.000000</td>\n",
       "      <td>362.000000</td>\n",
       "      <td>0.000000</td>\n",
       "      <td>0.000000</td>\n",
       "      <td>0.000000</td>\n",
       "      <td>0.000000</td>\n",
       "      <td>0.00000</td>\n",
       "      <td>0.000000</td>\n",
       "      <td>...</td>\n",
       "      <td>1.000000</td>\n",
       "      <td>0.000000</td>\n",
       "      <td>0.000000</td>\n",
       "      <td>0.000000</td>\n",
       "      <td>0.000000</td>\n",
       "      <td>0.000000</td>\n",
       "      <td>0.000000</td>\n",
       "      <td>0.000000</td>\n",
       "      <td>6.290000</td>\n",
       "      <td>1.000000</td>\n",
       "    </tr>\n",
       "    <tr>\n",
       "      <th>50%</th>\n",
       "      <td>2769.00000</td>\n",
       "      <td>21.00000</td>\n",
       "      <td>2740.000000</td>\n",
       "      <td>720.000000</td>\n",
       "      <td>0.000000</td>\n",
       "      <td>0.000000</td>\n",
       "      <td>0.000000</td>\n",
       "      <td>0.000000</td>\n",
       "      <td>0.00000</td>\n",
       "      <td>0.000000</td>\n",
       "      <td>...</td>\n",
       "      <td>1.000000</td>\n",
       "      <td>0.000000</td>\n",
       "      <td>0.000000</td>\n",
       "      <td>0.000000</td>\n",
       "      <td>0.000000</td>\n",
       "      <td>0.000000</td>\n",
       "      <td>0.000000</td>\n",
       "      <td>1.000000</td>\n",
       "      <td>13.960000</td>\n",
       "      <td>1.000000</td>\n",
       "    </tr>\n",
       "    <tr>\n",
       "      <th>75%</th>\n",
       "      <td>3945.00000</td>\n",
       "      <td>35.00000</td>\n",
       "      <td>3606.000000</td>\n",
       "      <td>916.000000</td>\n",
       "      <td>0.000000</td>\n",
       "      <td>0.000000</td>\n",
       "      <td>0.000000</td>\n",
       "      <td>0.000000</td>\n",
       "      <td>0.00000</td>\n",
       "      <td>0.000000</td>\n",
       "      <td>...</td>\n",
       "      <td>1.000000</td>\n",
       "      <td>0.000000</td>\n",
       "      <td>1.000000</td>\n",
       "      <td>0.000000</td>\n",
       "      <td>0.000000</td>\n",
       "      <td>1.000000</td>\n",
       "      <td>0.000000</td>\n",
       "      <td>2.000000</td>\n",
       "      <td>36.395000</td>\n",
       "      <td>2.000000</td>\n",
       "    </tr>\n",
       "    <tr>\n",
       "      <th>max</th>\n",
       "      <td>5434.00000</td>\n",
       "      <td>51.00000</td>\n",
       "      <td>5352.000000</td>\n",
       "      <td>1382.000000</td>\n",
       "      <td>1.000000</td>\n",
       "      <td>1.000000</td>\n",
       "      <td>1.000000</td>\n",
       "      <td>1.000000</td>\n",
       "      <td>1.00000</td>\n",
       "      <td>1.000000</td>\n",
       "      <td>...</td>\n",
       "      <td>1.000000</td>\n",
       "      <td>1.000000</td>\n",
       "      <td>1.000000</td>\n",
       "      <td>1.000000</td>\n",
       "      <td>1.000000</td>\n",
       "      <td>1.000000</td>\n",
       "      <td>1.000000</td>\n",
       "      <td>5.000000</td>\n",
       "      <td>93425.780000</td>\n",
       "      <td>5000.000000</td>\n",
       "    </tr>\n",
       "  </tbody>\n",
       "</table>\n",
       "<p>8 rows × 55 columns</p>\n",
       "</div>"
      ],
      "text/plain": [
       "        school_city  school_state  school_district  school_county  \\\n",
       "count  200000.00000  200000.00000    200000.000000  200000.000000   \n",
       "mean     2597.34106      22.41381      2638.716615     664.746840   \n",
       "std      1552.56468      15.61845      1372.815326     352.758289   \n",
       "min         0.00000       0.00000        -1.000000       0.000000   \n",
       "25%      1007.00000       6.00000      1505.000000     362.000000   \n",
       "50%      2769.00000      21.00000      2740.000000     720.000000   \n",
       "75%      3945.00000      35.00000      3606.000000     916.000000   \n",
       "max      5434.00000      51.00000      5352.000000    1382.000000   \n",
       "\n",
       "       school_charter  school_magnet  school_year_round    school_nlns  \\\n",
       "count   200000.000000  200000.000000      200000.000000  200000.000000   \n",
       "mean         0.113590       0.093450           0.050295       0.018525   \n",
       "std          0.317313       0.291063           0.218554       0.134840   \n",
       "min          0.000000       0.000000           0.000000       0.000000   \n",
       "25%          0.000000       0.000000           0.000000       0.000000   \n",
       "50%          0.000000       0.000000           0.000000       0.000000   \n",
       "75%          0.000000       0.000000           0.000000       0.000000   \n",
       "max          1.000000       1.000000           1.000000       1.000000   \n",
       "\n",
       "        school_kipp  school_charter_ready_promise      ...        \\\n",
       "count  200000.00000                 200000.000000      ...         \n",
       "mean        0.00999                      0.008180      ...         \n",
       "std         0.09945                      0.090073      ...         \n",
       "min         0.00000                      0.000000      ...         \n",
       "25%         0.00000                      0.000000      ...         \n",
       "50%         0.00000                      0.000000      ...         \n",
       "75%         0.00000                      0.000000      ...         \n",
       "max         1.00000                      1.000000      ...         \n",
       "\n",
       "       donation_included_optional_support  payment_included_acct_credit  \\\n",
       "count                       200000.000000                 200000.000000   \n",
       "mean                             0.901211                      0.105175   \n",
       "std                              0.292940                      0.301187   \n",
       "min                              0.000000                      0.000000   \n",
       "25%                              1.000000                      0.000000   \n",
       "50%                              1.000000                      0.000000   \n",
       "75%                              1.000000                      0.000000   \n",
       "max                              1.000000                      1.000000   \n",
       "\n",
       "       payment_included_campaign_gift_card  \\\n",
       "count                        200000.000000   \n",
       "mean                              0.326865   \n",
       "std                               0.460517   \n",
       "min                               0.000000   \n",
       "25%                               0.000000   \n",
       "50%                               0.000000   \n",
       "75%                               1.000000   \n",
       "max                               1.000000   \n",
       "\n",
       "       payment_included_web_purchased_gift_card  payment_was_promo_matched  \\\n",
       "count                             200000.000000              200000.000000   \n",
       "mean                                   0.054629                   0.077832   \n",
       "std                                    0.223112                   0.263024   \n",
       "min                                    0.000000                   0.000000   \n",
       "25%                                    0.000000                   0.000000   \n",
       "50%                                    0.000000                   0.000000   \n",
       "75%                                    0.000000                   0.000000   \n",
       "max                                    1.000000                   1.000000   \n",
       "\n",
       "       via_giving_page    for_honoree  project_resource_type  item_unit_price  \\\n",
       "count    200000.000000  200000.000000          200000.000000    200000.000000   \n",
       "mean          0.338381       0.022192               1.180490        56.209790   \n",
       "std           0.464534       0.144622               1.141192       339.483642   \n",
       "min           0.000000       0.000000              -1.000000       -26.050000   \n",
       "25%           0.000000       0.000000               0.000000         6.290000   \n",
       "50%           0.000000       0.000000               1.000000        13.960000   \n",
       "75%           1.000000       0.000000               2.000000        36.395000   \n",
       "max           1.000000       1.000000               5.000000     93425.780000   \n",
       "\n",
       "       item_quantity  \n",
       "count  200000.000000  \n",
       "mean        3.010235  \n",
       "std        14.963602  \n",
       "min         1.000000  \n",
       "25%         1.000000  \n",
       "50%         1.000000  \n",
       "75%         2.000000  \n",
       "max      5000.000000  \n",
       "\n",
       "[8 rows x 55 columns]"
      ]
     },
     "execution_count": 34,
     "metadata": {},
     "output_type": "execute_result"
    }
   ],
   "source": [
    "df.describe()"
   ]
  },
  {
   "cell_type": "code",
   "execution_count": 35,
   "metadata": {},
   "outputs": [
    {
     "data": {
      "text/plain": [
       "[('donation_included_optional_support', 19044), ('school_magnet', 18690)]"
      ]
     },
     "execution_count": 35,
     "metadata": {},
     "output_type": "execute_result"
    }
   ],
   "source": [
    "def find_outliers(df, col):\n",
    "    return df[((df[col] - df[col].mean()) / df[col].std()).abs() >= 3]\n",
    "\n",
    "def find_all_outliers(df):\n",
    "    counter = []\n",
    "    for f in df.columns:\n",
    "        if f != 'date_posted':\n",
    "            counter.append((f, len(find_outliers(df, f))))\n",
    "    counter.sort(key=lambda x: x[1], reverse=True)\n",
    "    counter = counter[:2]\n",
    "    return counter\n",
    "        \n",
    "cols = find_all_outliers(df)\n",
    "cols"
   ]
  },
  {
   "cell_type": "code",
   "execution_count": 36,
   "metadata": {},
   "outputs": [
    {
     "name": "stdout",
     "output_type": "stream",
     "text": [
      "drop out 35852 outliers\n"
     ]
    }
   ],
   "source": [
    "# use (data - mean) < 3 * std to determine whether to drop\n",
    "def drop_outliers(df, col):\n",
    "    return df[((df[col] - df[col].mean()) / df[col].std()).abs() < 3]\n",
    "old_len = len(df)\n",
    "for f, _ in cols:\n",
    "    df = drop_outliers(df, f)\n",
    "\n",
    "print('drop out {} outliers'.format(old_len - len(df)))"
   ]
  },
  {
   "cell_type": "markdown",
   "metadata": {},
   "source": [
    "# Step 4: Generate Features"
   ]
  },
  {
   "cell_type": "markdown",
   "metadata": {},
   "source": [
    "There are 54 variables in our data. Unneeded, irrelevant and redundant attributes from data that do not contribute to the accuracy of a predictive model or may in fact decrease the accuracy of the model. In order to find variables that most contribute to the prediction variable, we first plot and rank features importance. This step will help us reduce overfitting problem, improve accuracy and reduce training time."
   ]
  },
  {
   "cell_type": "code",
   "execution_count": 37,
   "metadata": {},
   "outputs": [
    {
     "data": {
      "image/png": "[encoded data removed]",
      "text/plain": [
       "<Figure size 576x864 with 1 Axes>"
      ]
     },
     "metadata": {},
     "output_type": "display_data"
    }
   ],
   "source": [
    "def sort_features_through_dt(df_features, df_label):\n",
    "    features = df_features.columns\n",
    "    model = DecisionTreeClassifier()\n",
    "    model.fit(df_features, df_label)\n",
    "    importances = model.feature_importances_\n",
    "    sorted_idx = np.argsort(importances)\n",
    "    padding = np.arange(len(features)) + 0.5\n",
    "    plt.figure(figsize=(8, 12))\n",
    "    plt.barh(padding, importances[sorted_idx], align='center')\n",
    "    plt.yticks(padding, np.asarray(features)[sorted_idx])\n",
    "    plt.xlabel(\"Relative Importance\")\n",
    "    plt.title(\"Features Importance Through DT\")\n",
    "    \n",
    "    return list(np.asarray(features)[sorted_idx][::-1])\n",
    "\n",
    "df['fully_funded'] = df['fully_funded'].astype('int')\n",
    "df['fully_funded'] = 1 - df['fully_funded']\n",
    "all_x= df.drop(['date_posted', 'fully_funded'], axis=1)\n",
    "all_y = df['fully_funded']\n",
    "\n",
    "sorted_train_features = sort_features_through_dt(all_x, all_y)"
   ]
  },
  {
   "cell_type": "markdown",
   "metadata": {},
   "source": [
    "Fewer attributes is desirable because it reduces the complexity of the model, and a simpler model is simpler to understand and explain. Thus, we would like to select the top 1/3 features into the predictive model."
   ]
  },
  {
   "cell_type": "code",
   "execution_count": 38,
   "metadata": {},
   "outputs": [
    {
     "data": {
      "text/html": [
       "<div>\n",
       "<style scoped>\n",
       "    .dataframe tbody tr th:only-of-type {\n",
       "        vertical-align: middle;\n",
       "    }\n",
       "\n",
       "    .dataframe tbody tr th {\n",
       "        vertical-align: top;\n",
       "    }\n",
       "\n",
       "    .dataframe thead th {\n",
       "        text-align: right;\n",
       "    }\n",
       "</style>\n",
       "<table border=\"1\" class=\"dataframe\">\n",
       "  <thead>\n",
       "    <tr style=\"text-align: right;\">\n",
       "      <th></th>\n",
       "      <th>donation_included_optional_support</th>\n",
       "      <th>non_teacher_referred_count</th>\n",
       "      <th>total_price_including_optional_support</th>\n",
       "      <th>total_price_excluding_optional_support</th>\n",
       "      <th>item_unit_price</th>\n",
       "      <th>school_city</th>\n",
       "      <th>students_reached</th>\n",
       "      <th>great_messages_proportion</th>\n",
       "      <th>school_district</th>\n",
       "      <th>school_county</th>\n",
       "      <th>teacher_referred_count</th>\n",
       "      <th>school_state</th>\n",
       "      <th>donor_zip</th>\n",
       "      <th>donor_state</th>\n",
       "      <th>donation_optional_support</th>\n",
       "      <th>fulfillment_labor_materials</th>\n",
       "      <th>secondary_focus_subject</th>\n",
       "    </tr>\n",
       "    <tr>\n",
       "      <th>projectid</th>\n",
       "      <th></th>\n",
       "      <th></th>\n",
       "      <th></th>\n",
       "      <th></th>\n",
       "      <th></th>\n",
       "      <th></th>\n",
       "      <th></th>\n",
       "      <th></th>\n",
       "      <th></th>\n",
       "      <th></th>\n",
       "      <th></th>\n",
       "      <th></th>\n",
       "      <th></th>\n",
       "      <th></th>\n",
       "      <th></th>\n",
       "      <th></th>\n",
       "      <th></th>\n",
       "    </tr>\n",
       "  </thead>\n",
       "  <tbody>\n",
       "    <tr>\n",
       "      <th>ed778c79be307654af5ee43da9ed3349</th>\n",
       "      <td>1.0</td>\n",
       "      <td>21.0</td>\n",
       "      <td>388.79</td>\n",
       "      <td>330.47</td>\n",
       "      <td>3.99</td>\n",
       "      <td>2769</td>\n",
       "      <td>70.0</td>\n",
       "      <td>0.0</td>\n",
       "      <td>2740</td>\n",
       "      <td>722</td>\n",
       "      <td>0.0</td>\n",
       "      <td>4</td>\n",
       "      <td>50113.518311</td>\n",
       "      <td>9</td>\n",
       "      <td>1.50</td>\n",
       "      <td>35.0</td>\n",
       "      <td>-1</td>\n",
       "    </tr>\n",
       "    <tr>\n",
       "      <th>445c927173df6aef2f2a84a0faad947e</th>\n",
       "      <td>1.0</td>\n",
       "      <td>15.0</td>\n",
       "      <td>693.85</td>\n",
       "      <td>568.96</td>\n",
       "      <td>7.15</td>\n",
       "      <td>3008</td>\n",
       "      <td>25.0</td>\n",
       "      <td>100.0</td>\n",
       "      <td>2957</td>\n",
       "      <td>609</td>\n",
       "      <td>0.0</td>\n",
       "      <td>38</td>\n",
       "      <td>98611.000000</td>\n",
       "      <td>56</td>\n",
       "      <td>3.60</td>\n",
       "      <td>9.0</td>\n",
       "      <td>12</td>\n",
       "    </tr>\n",
       "    <tr>\n",
       "      <th>1fbaf5dcb7cff46eaaf7887efbe14d32</th>\n",
       "      <td>1.0</td>\n",
       "      <td>4.0</td>\n",
       "      <td>434.68</td>\n",
       "      <td>369.48</td>\n",
       "      <td>28.49</td>\n",
       "      <td>1199</td>\n",
       "      <td>100.0</td>\n",
       "      <td>80.0</td>\n",
       "      <td>1250</td>\n",
       "      <td>1315</td>\n",
       "      <td>0.0</td>\n",
       "      <td>23</td>\n",
       "      <td>77586.000000</td>\n",
       "      <td>51</td>\n",
       "      <td>7.50</td>\n",
       "      <td>30.0</td>\n",
       "      <td>18</td>\n",
       "    </tr>\n",
       "    <tr>\n",
       "      <th>6084e2c13b245b75da35354f362992fb</th>\n",
       "      <td>1.0</td>\n",
       "      <td>1.0</td>\n",
       "      <td>237.13</td>\n",
       "      <td>201.56</td>\n",
       "      <td>28.49</td>\n",
       "      <td>2133</td>\n",
       "      <td>70.0</td>\n",
       "      <td>100.0</td>\n",
       "      <td>2128</td>\n",
       "      <td>1306</td>\n",
       "      <td>0.0</td>\n",
       "      <td>38</td>\n",
       "      <td>30030.000000</td>\n",
       "      <td>15</td>\n",
       "      <td>35.57</td>\n",
       "      <td>30.0</td>\n",
       "      <td>17</td>\n",
       "    </tr>\n",
       "    <tr>\n",
       "      <th>b5edc1145caaaa902141290efc38abd5</th>\n",
       "      <td>1.0</td>\n",
       "      <td>4.0</td>\n",
       "      <td>396.18</td>\n",
       "      <td>336.75</td>\n",
       "      <td>36.45</td>\n",
       "      <td>4981</td>\n",
       "      <td>43.0</td>\n",
       "      <td>57.0</td>\n",
       "      <td>1534</td>\n",
       "      <td>255</td>\n",
       "      <td>4.0</td>\n",
       "      <td>48</td>\n",
       "      <td>91701.000000</td>\n",
       "      <td>9</td>\n",
       "      <td>7.50</td>\n",
       "      <td>30.0</td>\n",
       "      <td>16</td>\n",
       "    </tr>\n",
       "  </tbody>\n",
       "</table>\n",
       "</div>"
      ],
      "text/plain": [
       "                                  donation_included_optional_support  \\\n",
       "projectid                                                              \n",
       "ed778c79be307654af5ee43da9ed3349                                 1.0   \n",
       "445c927173df6aef2f2a84a0faad947e                                 1.0   \n",
       "1fbaf5dcb7cff46eaaf7887efbe14d32                                 1.0   \n",
       "6084e2c13b245b75da35354f362992fb                                 1.0   \n",
       "b5edc1145caaaa902141290efc38abd5                                 1.0   \n",
       "\n",
       "                                  non_teacher_referred_count  \\\n",
       "projectid                                                      \n",
       "ed778c79be307654af5ee43da9ed3349                        21.0   \n",
       "445c927173df6aef2f2a84a0faad947e                        15.0   \n",
       "1fbaf5dcb7cff46eaaf7887efbe14d32                         4.0   \n",
       "6084e2c13b245b75da35354f362992fb                         1.0   \n",
       "b5edc1145caaaa902141290efc38abd5                         4.0   \n",
       "\n",
       "                                  total_price_including_optional_support  \\\n",
       "projectid                                                                  \n",
       "ed778c79be307654af5ee43da9ed3349                                  388.79   \n",
       "445c927173df6aef2f2a84a0faad947e                                  693.85   \n",
       "1fbaf5dcb7cff46eaaf7887efbe14d32                                  434.68   \n",
       "6084e2c13b245b75da35354f362992fb                                  237.13   \n",
       "b5edc1145caaaa902141290efc38abd5                                  396.18   \n",
       "\n",
       "                                  total_price_excluding_optional_support  \\\n",
       "projectid                                                                  \n",
       "ed778c79be307654af5ee43da9ed3349                                  330.47   \n",
       "445c927173df6aef2f2a84a0faad947e                                  568.96   \n",
       "1fbaf5dcb7cff46eaaf7887efbe14d32                                  369.48   \n",
       "6084e2c13b245b75da35354f362992fb                                  201.56   \n",
       "b5edc1145caaaa902141290efc38abd5                                  336.75   \n",
       "\n",
       "                                  item_unit_price  school_city  \\\n",
       "projectid                                                        \n",
       "ed778c79be307654af5ee43da9ed3349             3.99         2769   \n",
       "445c927173df6aef2f2a84a0faad947e             7.15         3008   \n",
       "1fbaf5dcb7cff46eaaf7887efbe14d32            28.49         1199   \n",
       "6084e2c13b245b75da35354f362992fb            28.49         2133   \n",
       "b5edc1145caaaa902141290efc38abd5            36.45         4981   \n",
       "\n",
       "                                  students_reached  great_messages_proportion  \\\n",
       "projectid                                                                       \n",
       "ed778c79be307654af5ee43da9ed3349              70.0                        0.0   \n",
       "445c927173df6aef2f2a84a0faad947e              25.0                      100.0   \n",
       "1fbaf5dcb7cff46eaaf7887efbe14d32             100.0                       80.0   \n",
       "6084e2c13b245b75da35354f362992fb              70.0                      100.0   \n",
       "b5edc1145caaaa902141290efc38abd5              43.0                       57.0   \n",
       "\n",
       "                                  school_district  school_county  \\\n",
       "projectid                                                          \n",
       "ed778c79be307654af5ee43da9ed3349             2740            722   \n",
       "445c927173df6aef2f2a84a0faad947e             2957            609   \n",
       "1fbaf5dcb7cff46eaaf7887efbe14d32             1250           1315   \n",
       "6084e2c13b245b75da35354f362992fb             2128           1306   \n",
       "b5edc1145caaaa902141290efc38abd5             1534            255   \n",
       "\n",
       "                                  teacher_referred_count  school_state  \\\n",
       "projectid                                                                \n",
       "ed778c79be307654af5ee43da9ed3349                     0.0             4   \n",
       "445c927173df6aef2f2a84a0faad947e                     0.0            38   \n",
       "1fbaf5dcb7cff46eaaf7887efbe14d32                     0.0            23   \n",
       "6084e2c13b245b75da35354f362992fb                     0.0            38   \n",
       "b5edc1145caaaa902141290efc38abd5                     4.0            48   \n",
       "\n",
       "                                     donor_zip  donor_state  \\\n",
       "projectid                                                     \n",
       "ed778c79be307654af5ee43da9ed3349  50113.518311            9   \n",
       "445c927173df6aef2f2a84a0faad947e  98611.000000           56   \n",
       "1fbaf5dcb7cff46eaaf7887efbe14d32  77586.000000           51   \n",
       "6084e2c13b245b75da35354f362992fb  30030.000000           15   \n",
       "b5edc1145caaaa902141290efc38abd5  91701.000000            9   \n",
       "\n",
       "                                  donation_optional_support  \\\n",
       "projectid                                                     \n",
       "ed778c79be307654af5ee43da9ed3349                       1.50   \n",
       "445c927173df6aef2f2a84a0faad947e                       3.60   \n",
       "1fbaf5dcb7cff46eaaf7887efbe14d32                       7.50   \n",
       "6084e2c13b245b75da35354f362992fb                      35.57   \n",
       "b5edc1145caaaa902141290efc38abd5                       7.50   \n",
       "\n",
       "                                  fulfillment_labor_materials  \\\n",
       "projectid                                                       \n",
       "ed778c79be307654af5ee43da9ed3349                         35.0   \n",
       "445c927173df6aef2f2a84a0faad947e                          9.0   \n",
       "1fbaf5dcb7cff46eaaf7887efbe14d32                         30.0   \n",
       "6084e2c13b245b75da35354f362992fb                         30.0   \n",
       "b5edc1145caaaa902141290efc38abd5                         30.0   \n",
       "\n",
       "                                  secondary_focus_subject  \n",
       "projectid                                                  \n",
       "ed778c79be307654af5ee43da9ed3349                       -1  \n",
       "445c927173df6aef2f2a84a0faad947e                       12  \n",
       "1fbaf5dcb7cff46eaaf7887efbe14d32                       18  \n",
       "6084e2c13b245b75da35354f362992fb                       17  \n",
       "b5edc1145caaaa902141290efc38abd5                       16  "
      ]
     },
     "execution_count": 38,
     "metadata": {},
     "output_type": "execute_result"
    }
   ],
   "source": [
    "count = int(len(sorted_train_features) * 0.33)\n",
    "all_x = all_x[sorted_train_features[:count]]\n",
    "all_x.head()"
   ]
  },
  {
   "cell_type": "markdown",
   "metadata": {},
   "source": [
    "# Step 5: Split Train and Test Set\n",
    "## construct test window"
   ]
  },
  {
   "cell_type": "markdown",
   "metadata": {},
   "source": [
    "We select 2007 to 2014 as main dataframe. In general, we create the training sets for 3 years long and the test sets for the year afterwards. For example, we train 2009-2011, and test 2012. Overall, we will produce 5 train-test windows. The result for each window is also plotted behind."
   ]
  },
  {
   "cell_type": "code",
   "execution_count": 39,
   "metadata": {},
   "outputs": [
    {
     "name": "stdout",
     "output_type": "stream",
     "text": [
      "has construct 5 test window, every three years'data as one\n"
     ]
    },
    {
     "data": {
      "text/plain": [
       "array([[1.00000000e+00, 5.49019608e-02, 7.68363233e-03, 7.68365439e-03,\n",
       "        5.50362816e-04, 5.53653598e-01, 1.50009376e-03, 1.00000000e+00,\n",
       "        5.52587334e-01, 4.40665702e-01, 0.00000000e+00, 7.60000000e-01,\n",
       "        9.86119861e-01, 9.50000000e-01, 4.28221592e-04, 0.00000000e+00,\n",
       "        4.81481481e-01],\n",
       "       [1.00000000e+00, 7.84313725e-03, 6.54270790e-03, 6.54271607e-03,\n",
       "        5.38431874e-03, 5.17209645e-02, 2.75017189e-03, 1.00000000e+00,\n",
       "        5.80982627e-02, 1.68596237e-01, 0.00000000e+00, 3.20000000e-01,\n",
       "        6.48046480e-01, 5.16666667e-01, 8.93420536e-04, 3.94499507e-01,\n",
       "        9.25925926e-01],\n",
       "       [1.00000000e+00, 1.96078431e-02, 4.14842177e-03, 4.14836040e-03,\n",
       "        1.15306783e-03, 9.41284741e-01, 1.18757422e-03, 5.61899582e-01,\n",
       "        2.47524752e-01, 2.73516643e-01, 0.00000000e+00, 5.60000000e-01,\n",
       "        8.07018070e-01, 1.83333333e-01, 2.67191188e-04, 3.94499507e-01,\n",
       "        0.00000000e+00],\n",
       "       [1.00000000e+00, 5.09803922e-02, 7.96261375e-03, 7.96262466e-03,\n",
       "        6.22718207e-04, 4.50947911e-02, 3.68773048e-03, 1.00000000e+00,\n",
       "        5.08126284e-02, 4.70332851e-02, 0.00000000e+00, 4.20000000e-01,\n",
       "        2.11142111e-01, 4.50000000e-01, 1.48982944e-03, 3.94499507e-01,\n",
       "        0.00000000e+00],\n",
       "       [1.00000000e+00, 3.92156863e-03, 3.70289620e-03, 3.70289888e-03,\n",
       "        4.81086378e-04, 3.54868397e-01, 1.93762110e-03, 1.00000000e+00,\n",
       "        3.62600411e-01, 1.24457308e-01, 0.00000000e+00, 8.00000000e-02,\n",
       "        9.41339413e-01, 1.66666667e-01, 2.52161684e-03, 3.94499507e-01,\n",
       "        3.70370370e-02]])"
      ]
     },
     "execution_count": 39,
     "metadata": {},
     "output_type": "execute_result"
    }
   ],
   "source": [
    "def norm(df_features):\n",
    "    # normalize\n",
    "    df_features = preprocessing.MinMaxScaler().fit_transform(df_features)\n",
    "    df_features = preprocessing.normalize(df_features, norm='max')\n",
    "    return df_features\n",
    "\n",
    "def build_test_window(df):\n",
    "    dataset = []\n",
    "    name = 'date_posted'\n",
    "    label_name = 'fully_funded'\n",
    "    start, end = 2007, 2012\n",
    "    for year in range(start, end):\n",
    "        test_year = start + 3\n",
    "        df_left = df[(df[name] >= '{}-01-01'.format(start)) & (df[name] <= '{}-12-31'.format(start+2))]\n",
    "        y_train = df_left[label_name]\n",
    "        x_train = df_left[all_x.columns]\n",
    "        \n",
    "        df_right = df[(df[name] >= '{}-01-01'.format(test_year)) & (df[name] <= '{}-12-31'.format(test_year))]\n",
    "        y_test = df_right[label_name]\n",
    "        x_test = df_right[all_x.columns]\n",
    "        \n",
    "        # normalization\n",
    "        x_train = norm(x_train)\n",
    "        x_test = norm(x_test)\n",
    "        dataset.append((x_train, y_train, x_test, y_test))\n",
    "    return dataset\n",
    "\n",
    "\n",
    "dataset = build_test_window(df)\n",
    "print(\"has construct {} test window, every three years'data as one\".format(len(dataset)))\n",
    "dataset[0][0][:5]"
   ]
  },
  {
   "cell_type": "markdown",
   "metadata": {},
   "source": [
    "# Step 6: Build Classifier"
   ]
  },
  {
   "cell_type": "markdown",
   "metadata": {},
   "source": [
    "Derived from the project descriptions, we use Logistic Regression, K-NN, Decision Trees, SVM, Random Forest, Boosting and Bagging as classifers. For each classifier, we select several default parameters into grid search"
   ]
  },
  {
   "cell_type": "code",
   "execution_count": 40,
   "metadata": {},
   "outputs": [],
   "source": [
    "from sklearn.linear_model import LogisticRegression\n",
    "from sklearn.model_selection import ParameterGrid, GridSearchCV\n",
    "from sklearn.neighbors import KNeighborsClassifier\n",
    "from sklearn.ensemble import (RandomForestClassifier,\n",
    "                              GradientBoostingClassifier,\n",
    "                              BaggingClassifier)\n",
    "from sklearn.svm import SVC\n",
    "from sklearn.model_selection import train_test_split\n",
    "from sklearn.tree import DecisionTreeClassifier\n",
    "from sklearn.dummy import DummyClassifier\n",
    "from sklearn.metrics import (precision_recall_curve, roc_auc_score, roc_curve, auc,\n",
    "                             precision_score, recall_score, f1_score)"
   ]
  },
  {
   "cell_type": "code",
   "execution_count": 41,
   "metadata": {},
   "outputs": [],
   "source": [
    "classifier_constructors = {\n",
    "    'LR': LogisticRegression,\n",
    "    'KNN': KNeighborsClassifier,\n",
    "    'DT': DecisionTreeClassifier,\n",
    "    'SVM': SVC,\n",
    "    'RF': RandomForestClassifier,\n",
    "    'GB': GradientBoostingClassifier,\n",
    "    'BG': BaggingClassifier\n",
    "}\n",
    "\n",
    "grid = dict()\n",
    "grid['LR'] = {\n",
    "    'penalty': ['l1', 'l2'],\n",
    "    'C': [0.0001 * (10**i) for i in range(5)]\n",
    "}\n",
    "grid['DT'] = {\n",
    "    'max_depth': [5, 10, 20],\n",
    "    'criterion': ['gini', 'entropy']\n",
    "}\n",
    "grid['KNN'] = {\n",
    "    'n_neighbors': [1, 5, 100],\n",
    "    'algorithm': ['ball_tree', 'kd_tree']\n",
    "}\n",
    "grid['SVM'] = {\n",
    "    'C': [0.1, 0.5, 1],\n",
    "    'gamma': [1e-3, 1e-4],\n",
    "    'kernel': ['rbf', 'linear']\n",
    "}\n",
    "grid['RF'] = {\n",
    "    'n_estimators': [1, 5, 100],\n",
    "    'max_depth': [5, 10, 20], \n",
    "    'max_features': ['sqrt', 'log2']\n",
    "}\n",
    "grid['GB'] = {\n",
    "    'n_estimators': [1, 5, 100],\n",
    "    'learning_rate' : [0.1, 0.5]\n",
    "}\n",
    "grid['BG'] = {\n",
    "    'n_estimators': [1, 5, 100],\n",
    "    \"bootstrap\": [True, False],\n",
    "    \"bootstrap_features\": [True, False]\n",
    "}"
   ]
  },
  {
   "cell_type": "markdown",
   "metadata": {},
   "source": [
    "## Temporal validation\n",
    "Since our data contains time series components, we could not use KFold cross validations. We would like to use f1-score to find the best parameters."
   ]
  },
  {
   "cell_type": "code",
   "execution_count": 42,
   "metadata": {},
   "outputs": [],
   "source": [
    "import warnings\n",
    "warnings.filterwarnings('ignore')\n",
    "\n",
    "def classify(x_train, y_train, x_test, y_test, clf):\n",
    "    clf.fit(x_train, y_train)\n",
    "    y_pre = clf.predict(x_test)\n",
    "    return f1_score(y_test, y_pre)"
   ]
  },
  {
   "cell_type": "code",
   "execution_count": 43,
   "metadata": {},
   "outputs": [],
   "source": [
    "def select_best_parameters(x_train, y_train, x_test, y_test):\n",
    "    # iter three times\n",
    "    number = 3\n",
    "    # store all the scores and parameters\n",
    "    classifiers = {}\n",
    "    results = {}\n",
    "    for k, clf_constructor in classifier_constructors.items():\n",
    "        results[k] = []\n",
    "        params = grid[k]\n",
    "        for p in ParameterGrid(params):\n",
    "            clf = clf_constructor(**p)\n",
    "            f1_scores = [classify(x_train, y_train, x_test, y_test, clf) for i in range(number)]\n",
    "            f1_score_mean = sum(f1_scores) / len(f1_scores)\n",
    "            results[k].append((p, f1_score_mean))\n",
    "    return results"
   ]
  },
  {
   "cell_type": "code",
   "execution_count": 44,
   "metadata": {},
   "outputs": [],
   "source": [
    "all_best = {}\n",
    "for x_train, y_train, x_test, y_test in dataset:\n",
    "    results = select_best_parameters(x_train, y_train, x_test, y_test)\n",
    "    for k, p_list in results.items():\n",
    "        p = max(p_list, key=lambda x: x[1])\n",
    "        if k not in all_best:\n",
    "            all_best[k] = [p]\n",
    "        else:\n",
    "            all_best[k].append(p)"
   ]
  },
  {
   "cell_type": "code",
   "execution_count": 45,
   "metadata": {},
   "outputs": [
    {
     "name": "stdout",
     "output_type": "stream",
     "text": [
      "LR\n",
      "train: 2009-2011, test: 2012 ({'C': 1.0, 'penalty': 'l1'}, 0.30320739984664735)\n",
      "train: 2010-2012, test: 2013 ({'C': 1.0, 'penalty': 'l1'}, 0.3032514120144955)\n",
      "train: 2011-2013, test: 2014 ({'C': 1.0, 'penalty': 'l1'}, 0.3032761094881715)\n",
      "KNN\n",
      "train: 2009-2011, test: 2012 ({'algorithm': 'ball_tree', 'n_neighbors': 1}, 0.3607002716571084)\n",
      "train: 2010-2012, test: 2013 ({'algorithm': 'ball_tree', 'n_neighbors': 1}, 0.3607002716571084)\n",
      "train: 2011-2013, test: 2014 ({'algorithm': 'ball_tree', 'n_neighbors': 1}, 0.3607002716571084)\n",
      "DT\n",
      "train: 2009-2011, test: 2012 ({'criterion': 'gini', 'max_depth': 20}, 0.4084038985521328)\n",
      "train: 2010-2012, test: 2013 ({'criterion': 'gini', 'max_depth': 20}, 0.4015076622562048)\n",
      "train: 2011-2013, test: 2014 ({'criterion': 'gini', 'max_depth': 20}, 0.4063284100850108)\n",
      "SVM\n",
      "train: 2009-2011, test: 2012 ({'C': 1, 'gamma': 0.001, 'kernel': 'linear'}, 0.1027511463109629)\n",
      "train: 2010-2012, test: 2013 ({'C': 1, 'gamma': 0.001, 'kernel': 'linear'}, 0.1027511463109629)\n",
      "train: 2011-2013, test: 2014 ({'C': 1, 'gamma': 0.001, 'kernel': 'linear'}, 0.1027511463109629)\n",
      "RF\n",
      "train: 2009-2011, test: 2012 ({'max_depth': 20, 'max_features': 'sqrt', 'n_estimators': 100}, 0.43388242250401343)\n",
      "train: 2010-2012, test: 2013 ({'max_depth': 20, 'max_features': 'sqrt', 'n_estimators': 100}, 0.4341991048443165)\n",
      "train: 2011-2013, test: 2014 ({'max_depth': 20, 'max_features': 'sqrt', 'n_estimators': 100}, 0.4428841333737443)\n",
      "GB\n",
      "train: 2009-2011, test: 2012 ({'learning_rate': 0.5, 'n_estimators': 100}, 0.43743475030927276)\n",
      "train: 2010-2012, test: 2013 ({'learning_rate': 0.5, 'n_estimators': 100}, 0.4373204878354642)\n",
      "train: 2011-2013, test: 2014 ({'learning_rate': 0.5, 'n_estimators': 100}, 0.4320035606781471)\n",
      "BG\n",
      "train: 2009-2011, test: 2012 ({'bootstrap': True, 'bootstrap_features': False, 'n_estimators': 100}, 0.43175971534980556)\n",
      "train: 2010-2012, test: 2013 ({'bootstrap': True, 'bootstrap_features': True, 'n_estimators': 100}, 0.42759642468555015)\n",
      "train: 2011-2013, test: 2014 ({'bootstrap': True, 'bootstrap_features': True, 'n_estimators': 100}, 0.43254111045342675)\n"
     ]
    }
   ],
   "source": [
    "# PLEASE TAKE NOTE: MAKE SURE THE NUMBER IN THE []IS RIGHT, COMBINE 44 AND 45\n",
    "# print last 3 window value\n",
    "for k, p in all_best.items():\n",
    "    print(k)\n",
    "    print('train: 2009-2011, test: 2012', p[-3])\n",
    "    print('train: 2010-2012, test: 2013', p[-2])\n",
    "    print('train: 2011-2013, test: 2014', p[-1])"
   ]
  },
  {
   "cell_type": "markdown",
   "metadata": {},
   "source": [
    "As we see, when years changes, the best parameters doesn't change almostly.\n",
    "So we can use 2011-2013/2014 data to evaluate the classifier"
   ]
  },
  {
   "cell_type": "markdown",
   "metadata": {},
   "source": [
    "# Step 7: Evaluate Classifier"
   ]
  },
  {
   "cell_type": "markdown",
   "metadata": {},
   "source": [
    "In this section, in order to evaluate the classifers, we plot accuracy, precision at different levels, recall at different levels, F1, area under curve and precision-recall curves. Then we select best perform classifers based on different thresholds, and compare the results with baselines."
   ]
  },
  {
   "cell_type": "markdown",
   "metadata": {},
   "source": [
    "## 7.1 Calculating, Selecting and Comparing"
   ]
  },
  {
   "cell_type": "code",
   "execution_count": 46,
   "metadata": {},
   "outputs": [
    {
     "data": {
      "text/plain": [
       "{'BG': {'auc': 0.5634,\n",
       "  'cost_time': 0.6698,\n",
       "  'f1': 0.4826,\n",
       "  'precision': 0.3181,\n",
       "  'recall': 1.0},\n",
       " 'DT': {'auc': 0.5273,\n",
       "  'cost_time': 0.0148,\n",
       "  'f1': 0.441,\n",
       "  'precision': 0.331,\n",
       "  'recall': 0.6602},\n",
       " 'GB': {'auc': 0.5532,\n",
       "  'cost_time': 0.0637,\n",
       "  'f1': 0.4826,\n",
       "  'precision': 0.3181,\n",
       "  'recall': 1.0},\n",
       " 'KNN': {'auc': 0.5113,\n",
       "  'cost_time': 19.1912,\n",
       "  'f1': 0.3607,\n",
       "  'precision': 0.331,\n",
       "  'recall': 0.3963},\n",
       " 'LR': {'auc': 0.5496,\n",
       "  'cost_time': 0.0181,\n",
       "  'f1': 0.4826,\n",
       "  'precision': 0.3181,\n",
       "  'recall': 1.0},\n",
       " 'RF': {'auc': 0.5672,\n",
       "  'cost_time': 0.5251,\n",
       "  'f1': 0.4826,\n",
       "  'precision': 0.3181,\n",
       "  'recall': 1.0},\n",
       " 'SVM': {'auc': 0.5677,\n",
       "  'cost_time': 12.7923,\n",
       "  'f1': 0.1028,\n",
       "  'precision': 0.8964,\n",
       "  'recall': 0.0545}}"
      ]
     },
     "execution_count": 46,
     "metadata": {},
     "output_type": "execute_result"
    }
   ],
   "source": [
    "# evalute metrics\n",
    "def evaluate_classifier(y_test, y_pre, y_prob, cost_time=0):\n",
    "    return {\n",
    "        'precision': float(\"%.4f\" % precision_score(y_test, y_pre)),\n",
    "        'recall': float(\"%.4f\" % recall_score(y_test, y_pre)),\n",
    "        'f1': float(\"%.4f\" % f1_score(y_test, y_pre)),\n",
    "        'auc': float(\"%.4f\" % roc_auc_score(y_test, y_prob)),\n",
    "        'cost_time': float(\"%.4f\" % cost_time)\n",
    "    }\n",
    "\n",
    "def evaluate_classifiers(X_test, y_test, threshold):\n",
    "    metrics = dict()\n",
    "    probas = dict()\n",
    "    for k, clf in classifiers.items():\n",
    "        start = time.time()\n",
    "        if hasattr(clf, 'predict_proba'):\n",
    "            y_prob = clf.predict_proba(X_test)[:, 1]\n",
    "        else:\n",
    "            y_prob = clf.decision_function(X_test)\n",
    "        y_pre = np.asarray([1 if run >= threshold else 0 for run in y_prob])\n",
    "        cost_time = time.time() - start\n",
    "        metrics[k] = evaluate_classifier(y_test, y_pre, y_prob, cost_time)\n",
    "        probas[k] = y_prob\n",
    "    return metrics, probas\n",
    "        \n",
    "# we use 2011-2013 data for train, 2014 data for test\n",
    "classifiers = {}\n",
    "x_train, y_train, x_test, y_test = dataset[-1]\n",
    "\n",
    "for k, p in all_best.items():\n",
    "    clf = classifier_constructors[k](**p[-1][0])\n",
    "    clf.fit(x_train, y_train)\n",
    "    classifiers[k] = clf\n",
    "\n",
    "metrics, probas = evaluate_classifiers(x_test, y_test, 0.001)\n",
    "metrics"
   ]
  },
  {
   "cell_type": "code",
   "execution_count": 47,
   "metadata": {},
   "outputs": [
    {
     "data": {
      "text/plain": [
       "{'BG': {'auc': 0.5603,\n",
       "  'cost_time': 0.7236,\n",
       "  'f1': 0.4826,\n",
       "  'precision': 0.3181,\n",
       "  'recall': 1.0},\n",
       " 'DT': {'auc': 0.524,\n",
       "  'cost_time': 0.0184,\n",
       "  'f1': 0.4317,\n",
       "  'precision': 0.3297,\n",
       "  'recall': 0.6252},\n",
       " 'GB': {'auc': 0.5519,\n",
       "  'cost_time': 0.0904,\n",
       "  'f1': 0.4825,\n",
       "  'precision': 0.318,\n",
       "  'recall': 0.9992},\n",
       " 'KNN': {'auc': 0.5113,\n",
       "  'cost_time': 18.9314,\n",
       "  'f1': 0.3607,\n",
       "  'precision': 0.331,\n",
       "  'recall': 0.3963},\n",
       " 'LR': {'auc': 0.5497,\n",
       "  'cost_time': 0.0112,\n",
       "  'f1': 0.4826,\n",
       "  'precision': 0.3181,\n",
       "  'recall': 1.0},\n",
       " 'RF': {'auc': 0.5529,\n",
       "  'cost_time': 0.6093,\n",
       "  'f1': 0.4826,\n",
       "  'precision': 0.3181,\n",
       "  'recall': 1.0},\n",
       " 'SVM': {'auc': 0.5677,\n",
       "  'cost_time': 12.9179,\n",
       "  'f1': 0.1028,\n",
       "  'precision': 0.8964,\n",
       "  'recall': 0.0545}}"
      ]
     },
     "execution_count": 47,
     "metadata": {},
     "output_type": "execute_result"
    }
   ],
   "source": [
    "classifiers = {}\n",
    "x_train, y_train, x_test, y_test = dataset[-1]\n",
    "\n",
    "for k, p in all_best.items():\n",
    "    clf = classifier_constructors[k](**p[-1][0])\n",
    "    clf.fit(x_train, y_train)\n",
    "    classifiers[k] = clf\n",
    "\n",
    "metrics, probas = evaluate_classifiers(x_test, y_test, 0.01)\n",
    "metrics"
   ]
  },
  {
   "cell_type": "code",
   "execution_count": 48,
   "metadata": {},
   "outputs": [
    {
     "data": {
      "text/plain": [
       "{'BG': {'auc': 0.5612,\n",
       "  'cost_time': 0.8414,\n",
       "  'f1': 0.4826,\n",
       "  'precision': 0.3181,\n",
       "  'recall': 1.0},\n",
       " 'DT': {'auc': 0.5012,\n",
       "  'cost_time': 0.016,\n",
       "  'f1': 0.416,\n",
       "  'precision': 0.3173,\n",
       "  'recall': 0.6039},\n",
       " 'GB': {'auc': 0.5587,\n",
       "  'cost_time': 0.0574,\n",
       "  'f1': 0.4806,\n",
       "  'precision': 0.3184,\n",
       "  'recall': 0.9801},\n",
       " 'KNN': {'auc': 0.5113,\n",
       "  'cost_time': 19.6411,\n",
       "  'f1': 0.3607,\n",
       "  'precision': 0.331,\n",
       "  'recall': 0.3963},\n",
       " 'LR': {'auc': 0.5497,\n",
       "  'cost_time': 0.0233,\n",
       "  'f1': 0.4826,\n",
       "  'precision': 0.3181,\n",
       "  'recall': 1.0},\n",
       " 'RF': {'auc': 0.5723,\n",
       "  'cost_time': 0.6998,\n",
       "  'f1': 0.4826,\n",
       "  'precision': 0.3181,\n",
       "  'recall': 1.0},\n",
       " 'SVM': {'auc': 0.5677,\n",
       "  'cost_time': 12.5872,\n",
       "  'f1': 0.0416,\n",
       "  'precision': 0.7942,\n",
       "  'recall': 0.0213}}"
      ]
     },
     "execution_count": 48,
     "metadata": {},
     "output_type": "execute_result"
    }
   ],
   "source": [
    "classifiers = {}\n",
    "x_train, y_train, x_test, y_test = dataset[-1]\n",
    "\n",
    "for k, p in all_best.items():\n",
    "    clf = classifier_constructors[k](**p[-1][0])\n",
    "    clf.fit(x_train, y_train)\n",
    "    classifiers[k] = clf\n",
    "\n",
    "metrics, probas = evaluate_classifiers(x_test, y_test, 0.1)\n",
    "metrics"
   ]
  },
  {
   "cell_type": "markdown",
   "metadata": {},
   "source": [
    "## 7.2 Draw AUC"
   ]
  },
  {
   "cell_type": "code",
   "execution_count": 49,
   "metadata": {},
   "outputs": [
    {
     "data": {
      "image/png": "[encoded data removed]",
      "text/plain": [
       "<Figure size 432x288 with 1 Axes>"
      ]
     },
     "metadata": {},
     "output_type": "display_data"
    }
   ],
   "source": [
    "def draw_auc(probas, y_test):\n",
    "    plt.clf()\n",
    "    auc_list = []\n",
    "    for k, prob in probas.items():\n",
    "        fpr, tpr, thresholds = roc_curve(y_test, prob)\n",
    "        roc_auc = auc(fpr, tpr)\n",
    "        auc_list.append((k, roc_auc))\n",
    "        \n",
    "    auc_list.sort(key=lambda x: x[1], reverse=True)\n",
    "    \n",
    "    for k, roc_auc in auc_list:\n",
    "        fpr, tpr, thresholds = roc_curve(y_test, probas[k])\n",
    "        plt.plot(fpr, tpr, lw=1, label=('%s AUC %.2f' % (k, roc_auc)))\n",
    "    \n",
    "    \n",
    "    plt.plot([0, 1], [0, 1], '--', color=(0.6, 0.6, 0.6), label='Luck')\n",
    "    plt.xlim([-0.05, 1.05])\n",
    "    plt.ylim([-0.05, 1.05])\n",
    "    plt.xlabel('False Positive Rate')\n",
    "    plt.ylabel('True Positive Rate')\n",
    "    plt.title('AUC Graph')\n",
    "    plt.legend(loc=\"lower right\")\n",
    "\n",
    "draw_auc(probas, y_test)"
   ]
  },
  {
   "cell_type": "markdown",
   "metadata": {},
   "source": [
    "## 7.3 Draw Precision-Recall Curves"
   ]
  },
  {
   "cell_type": "code",
   "execution_count": 50,
   "metadata": {},
   "outputs": [
    {
     "data": {
      "text/plain": [
       "<Figure size 432x288 with 0 Axes>"
      ]
     },
     "metadata": {},
     "output_type": "display_data"
    },
    {
     "data": {
      "image/png": "[encoded data removed]",
      "text/plain": [
       "<Figure size 432x288 with 2 Axes>"
      ]
     },
     "metadata": {},
     "output_type": "display_data"
    },
    {
     "data": {
      "text/plain": [
       "<Figure size 432x288 with 0 Axes>"
      ]
     },
     "metadata": {},
     "output_type": "display_data"
    },
    {
     "data": {
      "image/png": "[encoded data removed]",
      "text/plain": [
       "<Figure size 432x288 with 2 Axes>"
      ]
     },
     "metadata": {},
     "output_type": "display_data"
    },
    {
     "data": {
      "text/plain": [
       "<Figure size 432x288 with 0 Axes>"
      ]
     },
     "metadata": {},
     "output_type": "display_data"
    },
    {
     "data": {
      "image/png": "[encoded data removed]",
      "text/plain": [
       "<Figure size 432x288 with 2 Axes>"
      ]
     },
     "metadata": {},
     "output_type": "display_data"
    },
    {
     "data": {
      "text/plain": [
       "<Figure size 432x288 with 0 Axes>"
      ]
     },
     "metadata": {},
     "output_type": "display_data"
    },
    {
     "data": {
      "image/png": "[encoded data removed]",
      "text/plain": [
       "<Figure size 432x288 with 2 Axes>"
      ]
     },
     "metadata": {},
     "output_type": "display_data"
    },
    {
     "data": {
      "text/plain": [
       "<Figure size 432x288 with 0 Axes>"
      ]
     },
     "metadata": {},
     "output_type": "display_data"
    },
    {
     "data": {
      "image/png": "[encoded data removed]",
      "text/plain": [
       "<Figure size 432x288 with 2 Axes>"
      ]
     },
     "metadata": {},
     "output_type": "display_data"
    },
    {
     "data": {
      "text/plain": [
       "<Figure size 432x288 with 0 Axes>"
      ]
     },
     "metadata": {},
     "output_type": "display_data"
    },
    {
     "data": {
      "image/png": "[encoded data removed]",
      "text/plain": [
       "<Figure size 432x288 with 2 Axes>"
      ]
     },
     "metadata": {},
     "output_type": "display_data"
    },
    {
     "data": {
      "text/plain": [
       "<Figure size 432x288 with 0 Axes>"
      ]
     },
     "metadata": {},
     "output_type": "display_data"
    },
    {
     "data": {
      "image/png": "[encoded data removed]",
      "text/plain": [
       "<Figure size 432x288 with 2 Axes>"
      ]
     },
     "metadata": {},
     "output_type": "display_data"
    }
   ],
   "source": [
    "def plot_precision_recall(y_test, key):\n",
    "    plt.clf()\n",
    "    y_prob = probas[key]\n",
    "    precision_curve, recall_curve, pr_thresholds = precision_recall_curve(y_test, y_prob)\n",
    "    precision_curve = precision_curve[:-1]\n",
    "    recall_curve = recall_curve[:-1]\n",
    "    pct_per_thresh = []\n",
    "    number_scored = len(y_prob)\n",
    "    for value in pr_thresholds:\n",
    "        num_above_thresh = len(y_prob[y_prob >= value])\n",
    "        pct_above_thresh = num_above_thresh / float(number_scored)\n",
    "        pct_per_thresh.append(pct_above_thresh)\n",
    "    pct_per_thresh = np.array(pct_per_thresh)\n",
    "    plt.clf()\n",
    "    fig, ax1 = plt.subplots()\n",
    "    ax1.plot(pct_per_thresh, precision_curve, 'b')\n",
    "    ax1.set_xlabel('percent of population')\n",
    "    ax1.set_ylabel('precision', color='b')\n",
    "    ax1.set_xlim(0, max(pct_per_thresh))\n",
    "    ax2 = ax1.twinx()\n",
    "    ax2.plot(pct_per_thresh, recall_curve, 'y')\n",
    "    ax2.set_ylabel('recall', color='y')\n",
    "    ax2.set_xlim(0, max(pct_per_thresh))\n",
    "    plt.title(key)\n",
    "    plt.show()\n",
    "    \n",
    "for key in probas.keys():\n",
    "    plot_precision_recall(y_test, key)"
   ]
  },
  {
   "cell_type": "markdown",
   "metadata": {},
   "source": [
    "## 7.4 Draw Precision, Recall, Auc and F1"
   ]
  },
  {
   "cell_type": "code",
   "execution_count": 51,
   "metadata": {
    "scrolled": true
   },
   "outputs": [
    {
     "data": {
      "text/html": [
       "<div>\n",
       "<style scoped>\n",
       "    .dataframe tbody tr th:only-of-type {\n",
       "        vertical-align: middle;\n",
       "    }\n",
       "\n",
       "    .dataframe tbody tr th {\n",
       "        vertical-align: top;\n",
       "    }\n",
       "\n",
       "    .dataframe thead th {\n",
       "        text-align: right;\n",
       "    }\n",
       "</style>\n",
       "<table border=\"1\" class=\"dataframe\">\n",
       "  <thead>\n",
       "    <tr style=\"text-align: right;\">\n",
       "      <th></th>\n",
       "      <th>BG</th>\n",
       "      <th>DT</th>\n",
       "      <th>GB</th>\n",
       "      <th>KNN</th>\n",
       "      <th>LR</th>\n",
       "      <th>RF</th>\n",
       "      <th>SVM</th>\n",
       "    </tr>\n",
       "    <tr>\n",
       "      <th>key</th>\n",
       "      <th></th>\n",
       "      <th></th>\n",
       "      <th></th>\n",
       "      <th></th>\n",
       "      <th></th>\n",
       "      <th></th>\n",
       "      <th></th>\n",
       "    </tr>\n",
       "  </thead>\n",
       "  <tbody>\n",
       "    <tr>\n",
       "      <th>precision</th>\n",
       "      <td>0.3181</td>\n",
       "      <td>0.3173</td>\n",
       "      <td>0.3184</td>\n",
       "      <td>0.3310</td>\n",
       "      <td>0.3181</td>\n",
       "      <td>0.3181</td>\n",
       "      <td>0.7942</td>\n",
       "    </tr>\n",
       "    <tr>\n",
       "      <th>recall</th>\n",
       "      <td>1.0000</td>\n",
       "      <td>0.6039</td>\n",
       "      <td>0.9801</td>\n",
       "      <td>0.3963</td>\n",
       "      <td>1.0000</td>\n",
       "      <td>1.0000</td>\n",
       "      <td>0.0213</td>\n",
       "    </tr>\n",
       "    <tr>\n",
       "      <th>f1</th>\n",
       "      <td>0.4826</td>\n",
       "      <td>0.4160</td>\n",
       "      <td>0.4806</td>\n",
       "      <td>0.3607</td>\n",
       "      <td>0.4826</td>\n",
       "      <td>0.4826</td>\n",
       "      <td>0.0416</td>\n",
       "    </tr>\n",
       "    <tr>\n",
       "      <th>auc</th>\n",
       "      <td>0.5612</td>\n",
       "      <td>0.5012</td>\n",
       "      <td>0.5587</td>\n",
       "      <td>0.5113</td>\n",
       "      <td>0.5497</td>\n",
       "      <td>0.5723</td>\n",
       "      <td>0.5677</td>\n",
       "    </tr>\n",
       "    <tr>\n",
       "      <th>cost_time</th>\n",
       "      <td>0.8414</td>\n",
       "      <td>0.0160</td>\n",
       "      <td>0.0574</td>\n",
       "      <td>19.6411</td>\n",
       "      <td>0.0233</td>\n",
       "      <td>0.6998</td>\n",
       "      <td>12.5872</td>\n",
       "    </tr>\n",
       "  </tbody>\n",
       "</table>\n",
       "</div>"
      ],
      "text/plain": [
       "               BG      DT      GB      KNN      LR      RF      SVM\n",
       "key                                                                \n",
       "precision  0.3181  0.3173  0.3184   0.3310  0.3181  0.3181   0.7942\n",
       "recall     1.0000  0.6039  0.9801   0.3963  1.0000  1.0000   0.0213\n",
       "f1         0.4826  0.4160  0.4806   0.3607  0.4826  0.4826   0.0416\n",
       "auc        0.5612  0.5012  0.5587   0.5113  0.5497  0.5723   0.5677\n",
       "cost_time  0.8414  0.0160  0.0574  19.6411  0.0233  0.6998  12.5872"
      ]
     },
     "execution_count": 51,
     "metadata": {},
     "output_type": "execute_result"
    }
   ],
   "source": [
    "data = dict()\n",
    "data['key'] =  ['precision', 'recall', 'f1', 'auc', 'cost_time']\n",
    "\n",
    "for k, metric in metrics.items():\n",
    "    data[k] = [metric[item] for item in data['key']]\n",
    "\n",
    "df_result = pd.DataFrame(data)\n",
    "\n",
    "df_result = df_result.set_index('key')\n",
    "df_result.head()"
   ]
  },
  {
   "cell_type": "markdown",
   "metadata": {},
   "source": [
    "As we can see, this table shows the summary of precision, recall, f1, auc, cost time of these 7 classifers."
   ]
  },
  {
   "cell_type": "code",
   "execution_count": 52,
   "metadata": {
    "scrolled": true
   },
   "outputs": [
    {
     "data": {
      "image/png": "[encoded data removed]",
      "text/plain": [
       "<Figure size 432x288 with 1 Axes>"
      ]
     },
     "metadata": {},
     "output_type": "display_data"
    }
   ],
   "source": [
    "df_result.plot.bar();\n",
    "plt.show()"
   ]
  },
  {
   "cell_type": "markdown",
   "metadata": {},
   "source": [
    "This is the graph for the table above. We can see all of the 7 classifiers maintained high level of the precision, recall, f1, and auc. However, as we compared the cost time for classifiers, the KNN and SVM model consumes much more time than the 5 classifers."
   ]
  },
  {
   "cell_type": "markdown",
   "metadata": {},
   "source": [
    "# 7.5 Select the best classifier"
   ]
  },
  {
   "cell_type": "code",
   "execution_count": 53,
   "metadata": {},
   "outputs": [
    {
     "data": {
      "text/plain": [
       "('SVM',\n",
       " {'auc': 0.5677,\n",
       "  'cost_time': 12.5872,\n",
       "  'f1': 0.0416,\n",
       "  'precision': 0.7942,\n",
       "  'recall': 0.0213})"
      ]
     },
     "execution_count": 53,
     "metadata": {},
     "output_type": "execute_result"
    }
   ],
   "source": [
    "# find the best one\n",
    "def find_the_best_model(target='auc'):\n",
    "    metrics_list = list(metrics.items())\n",
    "    metrics_list.sort(key=lambda x: x[1][target], reverse=True)\n",
    "    return metrics_list[0]\n",
    "\n",
    "best = find_the_best_model('precision')\n",
    "best"
   ]
  },
  {
   "cell_type": "markdown",
   "metadata": {},
   "source": [
    "We cares about precison. In general, if we don't differentiate thresholds, KNN classifer competes against other 6 classifers."
   ]
  },
  {
   "cell_type": "code",
   "execution_count": 54,
   "metadata": {},
   "outputs": [
    {
     "data": {
      "text/plain": [
       "('Baseline',\n",
       " {'auc': 0.5001,\n",
       "  'cost_time': 0.0103,\n",
       "  'f1': 0.3792,\n",
       "  'precision': 0.3166,\n",
       "  'recall': 0.4728})"
      ]
     },
     "execution_count": 54,
     "metadata": {},
     "output_type": "execute_result"
    }
   ],
   "source": [
    "def get_baseline_metric():\n",
    "    base_clf = DummyClassifier()\n",
    "    base_clf.fit(x_train, y_train)\n",
    "    start = time.time()\n",
    "    y_pre = base_clf.predict(x_test)\n",
    "    cost_time = time.time() - start\n",
    "    y_prob = base_clf.predict_proba(x_test)[:, 1]\n",
    "    return evaluate_classifier(y_test, y_pre, y_prob, cost_time)\n",
    "\n",
    "baseline_metric = get_baseline_metric()\n",
    "('Baseline', baseline_metric)"
   ]
  },
  {
   "cell_type": "markdown",
   "metadata": {},
   "source": [
    "## Compare to Baseline"
   ]
  },
  {
   "cell_type": "code",
   "execution_count": 55,
   "metadata": {},
   "outputs": [],
   "source": [
    "thresholds = [0.001, 0.01, 0.02, 0.05, 0.1, 0.2, 0.3, 0.5]\n",
    "threshold_metrics = {}\n",
    "for threshold in thresholds:\n",
    "    threshold_metrics[str(threshold)] = evaluate_classifiers(x_test, y_test, threshold)[0]  "
   ]
  },
  {
   "cell_type": "code",
   "execution_count": 56,
   "metadata": {},
   "outputs": [
    {
     "data": {
      "text/html": [
       "<div>\n",
       "<style scoped>\n",
       "    .dataframe tbody tr th:only-of-type {\n",
       "        vertical-align: middle;\n",
       "    }\n",
       "\n",
       "    .dataframe tbody tr th {\n",
       "        vertical-align: top;\n",
       "    }\n",
       "\n",
       "    .dataframe thead th {\n",
       "        text-align: right;\n",
       "    }\n",
       "</style>\n",
       "<table border=\"1\" class=\"dataframe\">\n",
       "  <thead>\n",
       "    <tr style=\"text-align: right;\">\n",
       "      <th></th>\n",
       "      <th>auc</th>\n",
       "      <th>cost_time</th>\n",
       "      <th>f1</th>\n",
       "      <th>precision</th>\n",
       "      <th>recall</th>\n",
       "    </tr>\n",
       "    <tr>\n",
       "      <th>key</th>\n",
       "      <th></th>\n",
       "      <th></th>\n",
       "      <th></th>\n",
       "      <th></th>\n",
       "      <th></th>\n",
       "    </tr>\n",
       "  </thead>\n",
       "  <tbody>\n",
       "    <tr>\n",
       "      <th>best-0.01</th>\n",
       "      <td>0.5677</td>\n",
       "      <td>12.4829</td>\n",
       "      <td>0.1028</td>\n",
       "      <td>0.8964</td>\n",
       "      <td>0.0545</td>\n",
       "    </tr>\n",
       "    <tr>\n",
       "      <th>best-0.001</th>\n",
       "      <td>0.5677</td>\n",
       "      <td>12.4427</td>\n",
       "      <td>0.1028</td>\n",
       "      <td>0.8964</td>\n",
       "      <td>0.0545</td>\n",
       "    </tr>\n",
       "    <tr>\n",
       "      <th>best-0.02</th>\n",
       "      <td>0.5677</td>\n",
       "      <td>12.4772</td>\n",
       "      <td>0.1020</td>\n",
       "      <td>0.8956</td>\n",
       "      <td>0.0541</td>\n",
       "    </tr>\n",
       "    <tr>\n",
       "      <th>best-0.05</th>\n",
       "      <td>0.5677</td>\n",
       "      <td>12.6352</td>\n",
       "      <td>0.0950</td>\n",
       "      <td>0.8919</td>\n",
       "      <td>0.0502</td>\n",
       "    </tr>\n",
       "    <tr>\n",
       "      <th>best-0.1</th>\n",
       "      <td>0.5677</td>\n",
       "      <td>12.7760</td>\n",
       "      <td>0.0416</td>\n",
       "      <td>0.7942</td>\n",
       "      <td>0.0213</td>\n",
       "    </tr>\n",
       "    <tr>\n",
       "      <th>best-0.2</th>\n",
       "      <td>0.5677</td>\n",
       "      <td>13.1796</td>\n",
       "      <td>0.0205</td>\n",
       "      <td>0.6861</td>\n",
       "      <td>0.0104</td>\n",
       "    </tr>\n",
       "    <tr>\n",
       "      <th>best-0.3</th>\n",
       "      <td>0.5677</td>\n",
       "      <td>12.4346</td>\n",
       "      <td>0.0155</td>\n",
       "      <td>0.6827</td>\n",
       "      <td>0.0078</td>\n",
       "    </tr>\n",
       "    <tr>\n",
       "      <th>best-0.5</th>\n",
       "      <td>0.5677</td>\n",
       "      <td>13.4307</td>\n",
       "      <td>0.0094</td>\n",
       "      <td>0.6719</td>\n",
       "      <td>0.0048</td>\n",
       "    </tr>\n",
       "    <tr>\n",
       "      <th>baseline</th>\n",
       "      <td>0.5001</td>\n",
       "      <td>0.0103</td>\n",
       "      <td>0.3792</td>\n",
       "      <td>0.3166</td>\n",
       "      <td>0.4728</td>\n",
       "    </tr>\n",
       "  </tbody>\n",
       "</table>\n",
       "</div>"
      ],
      "text/plain": [
       "               auc  cost_time      f1  precision  recall\n",
       "key                                                     \n",
       "best-0.01   0.5677    12.4829  0.1028     0.8964  0.0545\n",
       "best-0.001  0.5677    12.4427  0.1028     0.8964  0.0545\n",
       "best-0.02   0.5677    12.4772  0.1020     0.8956  0.0541\n",
       "best-0.05   0.5677    12.6352  0.0950     0.8919  0.0502\n",
       "best-0.1    0.5677    12.7760  0.0416     0.7942  0.0213\n",
       "best-0.2    0.5677    13.1796  0.0205     0.6861  0.0104\n",
       "best-0.3    0.5677    12.4346  0.0155     0.6827  0.0078\n",
       "best-0.5    0.5677    13.4307  0.0094     0.6719  0.0048\n",
       "baseline    0.5001     0.0103  0.3792     0.3166  0.4728"
      ]
     },
     "execution_count": 56,
     "metadata": {},
     "output_type": "execute_result"
    }
   ],
   "source": [
    "data = dict()\n",
    "data['key'] =  ['best-%s' % item for item in thresholds] + ['baseline']\n",
    "\n",
    "for k in ['recall', 'f1', 'auc', 'precision', 'cost_time']:\n",
    "    data[k] = [threshold_metrics[str(threshold)][best[0]][k] for threshold in thresholds]\n",
    "    data[k].append(baseline_metric[k])\n",
    "\n",
    "    \n",
    "df_result = pd.DataFrame(data)\n",
    "df_result = df_result.set_index('key')\n",
    "df_result = df_result.sort_values(by='precision')[::-1]\n",
    "df_result.head(10)"
   ]
  },
  {
   "cell_type": "markdown",
   "metadata": {},
   "source": [
    "As we see, when threshold equals 0.1, the BG classifier perform best, as it has higher precision and least cost time."
   ]
  }
 ],
 "metadata": {
  "kernelspec": {
   "display_name": "Python 3.6.4",
   "language": "python",
   "name": "python3"
  },
  "language_info": {
   "codemirror_mode": {
    "name": "ipython",
    "version": 3
   },
   "file_extension": ".py",
   "mimetype": "text/x-python",
   "name": "python",
   "nbconvert_exporter": "python",
   "pygments_lexer": "ipython3",
   "version": "3.6.4"
  }
 },
 "nbformat": 4,
 "nbformat_minor": 2
}

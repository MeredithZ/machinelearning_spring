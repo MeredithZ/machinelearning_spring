{
 "cells": [
  {
   "cell_type": "code",
   "execution_count": 1,
   "metadata": {},
   "outputs": [],
   "source": [
    "import re\n",
    "import time\n",
    "\n",
    "import pandas as pd\n",
    "import numpy as np\n",
    "import pylab as plt\n",
    "%matplotlib inline\n",
    "from sklearn.tree import DecisionTreeClassifier\n",
    "from sklearn import preprocessing"
   ]
  },
  {
   "cell_type": "markdown",
   "metadata": {},
   "source": [
    "# Step 1: Read CSV"
   ]
  },
  {
   "cell_type": "markdown",
   "metadata": {},
   "source": [
    "To save typos in the future, we first convert a string that is camelcase into snake_case. Use underscores to avoid spaces in between of compound words."
   ]
  },
  {
   "cell_type": "code",
   "execution_count": 2,
   "metadata": {},
   "outputs": [],
   "source": [
    "def camel_to_snake(column_name):\n",
    "    s1 = re.sub('(.)([A-Z][a-z]+)', r'\\1_\\2', column_name)\n",
    "    return re.sub('([a-z0-9])([A-Z])', r'\\1_\\2', s1).lower()\n",
    "\n",
    "def read(file_name):\n",
    "    if not os.path.isfile(file_name):\n",
    "        raise ValueError('File Not Found')\n",
    "        \n",
    "    ext = file_name.split('.')[-1].lower()\n",
    "    if 'csv' == ext:\n",
    "        df = pd.read_csv(file_name)\n",
    "    elif 'xls' in ext:\n",
    "        df = pd.read_excel(file_name)\n",
    "    elif 'json' == ext:\n",
    "        df = pd.read_json(file_name)\n",
    "    else:\n",
    "        raise ValueError('Only support csv, xls and json')\n",
    "\n",
    "    return df"
   ]
  },
  {
   "cell_type": "markdown",
   "metadata": {},
   "source": [
    "## Merge on projectid"
   ]
  },
  {
   "cell_type": "markdown",
   "metadata": {},
   "source": [
    "Basic description: Projects data lists the demographics data of school profiles and associated socio-economic factors, and the project applications data. Outcomes data lists the outcomes(whether it is exciting or not) for each project. To be exciting, a project must meet all of the top five criteria,and meet at least one extra criteria. Donations data comprises donors information and donation details associated with each individual project. Essays data conclude all essay questions funding application materials. Resources data specifies those who requested resources. \n",
    "\n",
    "Data choosing criteria: Since the natural language processing is beyond the scope of the project, we will rule 'Essays' dataset out of our analysis.  \n",
    "\n",
    "Merging purpose: Merging is the first step to explore and pre-process data. For this step, I see Projects.csv as the master dataset, and merge outcomes, donations and resources datasets on projects dataset. By browsing the head of these dataset, we found the projectid could be used as primary key to merge data as it is the unique identification number that link all these four datasets together. "
   ]
  },
  {
   "cell_type": "code",
   "execution_count": 3,
   "metadata": {},
   "outputs": [],
   "source": [
    "df_project = pd.read_csv('/home/xinyuan/projects.csv', index_col='projectid')\n",
    "df_outcome = pd.read_csv('/home/xinyuan/outcomes.csv', index_col='projectid')\n",
    "df_donation = pd.read_csv('/home/xinyuan/donations.csv', index_col='projectid')\n",
    "df_resource = pd.read_csv('/home/xinyuan/resources.csv', index_col='projectid')"
   ]
  },
  {
   "cell_type": "code",
   "execution_count": 4,
   "metadata": {},
   "outputs": [
    {
     "data": {
      "text/html": [
       "<div>\n",
       "<style>\n",
       "    .dataframe thead tr:only-child th {\n",
       "        text-align: right;\n",
       "    }\n",
       "\n",
       "    .dataframe thead th {\n",
       "        text-align: left;\n",
       "    }\n",
       "\n",
       "    .dataframe tbody tr th {\n",
       "        vertical-align: top;\n",
       "    }\n",
       "</style>\n",
       "<table border=\"1\" class=\"dataframe\">\n",
       "  <thead>\n",
       "    <tr style=\"text-align: right;\">\n",
       "      <th></th>\n",
       "      <th>teacher_acctid</th>\n",
       "      <th>schoolid</th>\n",
       "      <th>school_ncesid</th>\n",
       "      <th>school_latitude</th>\n",
       "      <th>school_longitude</th>\n",
       "      <th>school_city</th>\n",
       "      <th>school_state</th>\n",
       "      <th>school_zip</th>\n",
       "      <th>school_metro</th>\n",
       "      <th>school_district</th>\n",
       "      <th>...</th>\n",
       "      <th>for_honoree</th>\n",
       "      <th>donation_message</th>\n",
       "      <th>resourceid</th>\n",
       "      <th>vendorid</th>\n",
       "      <th>vendor_name</th>\n",
       "      <th>project_resource_type</th>\n",
       "      <th>item_name</th>\n",
       "      <th>item_number</th>\n",
       "      <th>item_unit_price</th>\n",
       "      <th>item_quantity</th>\n",
       "    </tr>\n",
       "    <tr>\n",
       "      <th>projectid</th>\n",
       "      <th></th>\n",
       "      <th></th>\n",
       "      <th></th>\n",
       "      <th></th>\n",
       "      <th></th>\n",
       "      <th></th>\n",
       "      <th></th>\n",
       "      <th></th>\n",
       "      <th></th>\n",
       "      <th></th>\n",
       "      <th></th>\n",
       "      <th></th>\n",
       "      <th></th>\n",
       "      <th></th>\n",
       "      <th></th>\n",
       "      <th></th>\n",
       "      <th></th>\n",
       "      <th></th>\n",
       "      <th></th>\n",
       "      <th></th>\n",
       "      <th></th>\n",
       "    </tr>\n",
       "  </thead>\n",
       "  <tbody>\n",
       "    <tr>\n",
       "      <th>00001ccc0e81598c4bd86bacb94d7acb</th>\n",
       "      <td>96963218e74e10c3764a5cfb153e6fea</td>\n",
       "      <td>9f3f9f2c2da7edda5648ccd10554ed8c</td>\n",
       "      <td>1.709930e+11</td>\n",
       "      <td>41.807654</td>\n",
       "      <td>-87.673257</td>\n",
       "      <td>Chicago</td>\n",
       "      <td>IL</td>\n",
       "      <td>60609.0</td>\n",
       "      <td>urban</td>\n",
       "      <td>Pershing Elem Network</td>\n",
       "      <td>...</td>\n",
       "      <td>f</td>\n",
       "      <td>I gave because my students are AWESOME and the...</td>\n",
       "      <td>b3af2be825736f6d530314ae70e7c16c</td>\n",
       "      <td>767.0</td>\n",
       "      <td>Lakeshore Learning Materials</td>\n",
       "      <td>Supplies</td>\n",
       "      <td>CG582 - Adjustable Apron - Red</td>\n",
       "      <td>CG582</td>\n",
       "      <td>3.99</td>\n",
       "      <td>2.0</td>\n",
       "    </tr>\n",
       "    <tr>\n",
       "      <th>00001ccc0e81598c4bd86bacb94d7acb</th>\n",
       "      <td>96963218e74e10c3764a5cfb153e6fea</td>\n",
       "      <td>9f3f9f2c2da7edda5648ccd10554ed8c</td>\n",
       "      <td>1.709930e+11</td>\n",
       "      <td>41.807654</td>\n",
       "      <td>-87.673257</td>\n",
       "      <td>Chicago</td>\n",
       "      <td>IL</td>\n",
       "      <td>60609.0</td>\n",
       "      <td>urban</td>\n",
       "      <td>Pershing Elem Network</td>\n",
       "      <td>...</td>\n",
       "      <td>f</td>\n",
       "      <td>I gave because my students are AWESOME and the...</td>\n",
       "      <td>72f084e8c03ce9b3eff6e59de0476ef8</td>\n",
       "      <td>767.0</td>\n",
       "      <td>Lakeshore Learning Materials</td>\n",
       "      <td>Supplies</td>\n",
       "      <td>FF534 - Tissue Paper Squares</td>\n",
       "      <td>FF534</td>\n",
       "      <td>9.99</td>\n",
       "      <td>1.0</td>\n",
       "    </tr>\n",
       "    <tr>\n",
       "      <th>00001ccc0e81598c4bd86bacb94d7acb</th>\n",
       "      <td>96963218e74e10c3764a5cfb153e6fea</td>\n",
       "      <td>9f3f9f2c2da7edda5648ccd10554ed8c</td>\n",
       "      <td>1.709930e+11</td>\n",
       "      <td>41.807654</td>\n",
       "      <td>-87.673257</td>\n",
       "      <td>Chicago</td>\n",
       "      <td>IL</td>\n",
       "      <td>60609.0</td>\n",
       "      <td>urban</td>\n",
       "      <td>Pershing Elem Network</td>\n",
       "      <td>...</td>\n",
       "      <td>f</td>\n",
       "      <td>I gave because my students are AWESOME and the...</td>\n",
       "      <td>c2ea7ecbc583410fcec74c87ff102299</td>\n",
       "      <td>767.0</td>\n",
       "      <td>Lakeshore Learning Materials</td>\n",
       "      <td>Supplies</td>\n",
       "      <td>LM941 - Kid Counters</td>\n",
       "      <td>LM941</td>\n",
       "      <td>29.99</td>\n",
       "      <td>1.0</td>\n",
       "    </tr>\n",
       "    <tr>\n",
       "      <th>00001ccc0e81598c4bd86bacb94d7acb</th>\n",
       "      <td>96963218e74e10c3764a5cfb153e6fea</td>\n",
       "      <td>9f3f9f2c2da7edda5648ccd10554ed8c</td>\n",
       "      <td>1.709930e+11</td>\n",
       "      <td>41.807654</td>\n",
       "      <td>-87.673257</td>\n",
       "      <td>Chicago</td>\n",
       "      <td>IL</td>\n",
       "      <td>60609.0</td>\n",
       "      <td>urban</td>\n",
       "      <td>Pershing Elem Network</td>\n",
       "      <td>...</td>\n",
       "      <td>f</td>\n",
       "      <td>I gave because my students are AWESOME and the...</td>\n",
       "      <td>06d48fb6646b17eea8dd7e5fdd9a6178</td>\n",
       "      <td>767.0</td>\n",
       "      <td>Lakeshore Learning Materials</td>\n",
       "      <td>Supplies</td>\n",
       "      <td>LC987 - Newsprint Easel Paper - 16&amp;amp;#34; x ...</td>\n",
       "      <td>LC987</td>\n",
       "      <td>7.99</td>\n",
       "      <td>6.0</td>\n",
       "    </tr>\n",
       "    <tr>\n",
       "      <th>00001ccc0e81598c4bd86bacb94d7acb</th>\n",
       "      <td>96963218e74e10c3764a5cfb153e6fea</td>\n",
       "      <td>9f3f9f2c2da7edda5648ccd10554ed8c</td>\n",
       "      <td>1.709930e+11</td>\n",
       "      <td>41.807654</td>\n",
       "      <td>-87.673257</td>\n",
       "      <td>Chicago</td>\n",
       "      <td>IL</td>\n",
       "      <td>60609.0</td>\n",
       "      <td>urban</td>\n",
       "      <td>Pershing Elem Network</td>\n",
       "      <td>...</td>\n",
       "      <td>f</td>\n",
       "      <td>I gave because my students are AWESOME and the...</td>\n",
       "      <td>aac3650483a9c0a6614ebccc6c6ced90</td>\n",
       "      <td>767.0</td>\n",
       "      <td>Lakeshore Learning Materials</td>\n",
       "      <td>Supplies</td>\n",
       "      <td>LA743 - Glitter Pack - Set of 12</td>\n",
       "      <td>LA743</td>\n",
       "      <td>12.99</td>\n",
       "      <td>2.0</td>\n",
       "    </tr>\n",
       "  </tbody>\n",
       "</table>\n",
       "<p>5 rows × 73 columns</p>\n",
       "</div>"
      ],
      "text/plain": [
       "                                                    teacher_acctid  \\\n",
       "projectid                                                            \n",
       "00001ccc0e81598c4bd86bacb94d7acb  96963218e74e10c3764a5cfb153e6fea   \n",
       "00001ccc0e81598c4bd86bacb94d7acb  96963218e74e10c3764a5cfb153e6fea   \n",
       "00001ccc0e81598c4bd86bacb94d7acb  96963218e74e10c3764a5cfb153e6fea   \n",
       "00001ccc0e81598c4bd86bacb94d7acb  96963218e74e10c3764a5cfb153e6fea   \n",
       "00001ccc0e81598c4bd86bacb94d7acb  96963218e74e10c3764a5cfb153e6fea   \n",
       "\n",
       "                                                          schoolid  \\\n",
       "projectid                                                            \n",
       "00001ccc0e81598c4bd86bacb94d7acb  9f3f9f2c2da7edda5648ccd10554ed8c   \n",
       "00001ccc0e81598c4bd86bacb94d7acb  9f3f9f2c2da7edda5648ccd10554ed8c   \n",
       "00001ccc0e81598c4bd86bacb94d7acb  9f3f9f2c2da7edda5648ccd10554ed8c   \n",
       "00001ccc0e81598c4bd86bacb94d7acb  9f3f9f2c2da7edda5648ccd10554ed8c   \n",
       "00001ccc0e81598c4bd86bacb94d7acb  9f3f9f2c2da7edda5648ccd10554ed8c   \n",
       "\n",
       "                                  school_ncesid  school_latitude  \\\n",
       "projectid                                                          \n",
       "00001ccc0e81598c4bd86bacb94d7acb   1.709930e+11        41.807654   \n",
       "00001ccc0e81598c4bd86bacb94d7acb   1.709930e+11        41.807654   \n",
       "00001ccc0e81598c4bd86bacb94d7acb   1.709930e+11        41.807654   \n",
       "00001ccc0e81598c4bd86bacb94d7acb   1.709930e+11        41.807654   \n",
       "00001ccc0e81598c4bd86bacb94d7acb   1.709930e+11        41.807654   \n",
       "\n",
       "                                  school_longitude school_city school_state  \\\n",
       "projectid                                                                     \n",
       "00001ccc0e81598c4bd86bacb94d7acb        -87.673257     Chicago           IL   \n",
       "00001ccc0e81598c4bd86bacb94d7acb        -87.673257     Chicago           IL   \n",
       "00001ccc0e81598c4bd86bacb94d7acb        -87.673257     Chicago           IL   \n",
       "00001ccc0e81598c4bd86bacb94d7acb        -87.673257     Chicago           IL   \n",
       "00001ccc0e81598c4bd86bacb94d7acb        -87.673257     Chicago           IL   \n",
       "\n",
       "                                  school_zip school_metro  \\\n",
       "projectid                                                   \n",
       "00001ccc0e81598c4bd86bacb94d7acb     60609.0        urban   \n",
       "00001ccc0e81598c4bd86bacb94d7acb     60609.0        urban   \n",
       "00001ccc0e81598c4bd86bacb94d7acb     60609.0        urban   \n",
       "00001ccc0e81598c4bd86bacb94d7acb     60609.0        urban   \n",
       "00001ccc0e81598c4bd86bacb94d7acb     60609.0        urban   \n",
       "\n",
       "                                        school_district      ...       \\\n",
       "projectid                                                    ...        \n",
       "00001ccc0e81598c4bd86bacb94d7acb  Pershing Elem Network      ...        \n",
       "00001ccc0e81598c4bd86bacb94d7acb  Pershing Elem Network      ...        \n",
       "00001ccc0e81598c4bd86bacb94d7acb  Pershing Elem Network      ...        \n",
       "00001ccc0e81598c4bd86bacb94d7acb  Pershing Elem Network      ...        \n",
       "00001ccc0e81598c4bd86bacb94d7acb  Pershing Elem Network      ...        \n",
       "\n",
       "                                 for_honoree  \\\n",
       "projectid                                      \n",
       "00001ccc0e81598c4bd86bacb94d7acb           f   \n",
       "00001ccc0e81598c4bd86bacb94d7acb           f   \n",
       "00001ccc0e81598c4bd86bacb94d7acb           f   \n",
       "00001ccc0e81598c4bd86bacb94d7acb           f   \n",
       "00001ccc0e81598c4bd86bacb94d7acb           f   \n",
       "\n",
       "                                                                   donation_message  \\\n",
       "projectid                                                                             \n",
       "00001ccc0e81598c4bd86bacb94d7acb  I gave because my students are AWESOME and the...   \n",
       "00001ccc0e81598c4bd86bacb94d7acb  I gave because my students are AWESOME and the...   \n",
       "00001ccc0e81598c4bd86bacb94d7acb  I gave because my students are AWESOME and the...   \n",
       "00001ccc0e81598c4bd86bacb94d7acb  I gave because my students are AWESOME and the...   \n",
       "00001ccc0e81598c4bd86bacb94d7acb  I gave because my students are AWESOME and the...   \n",
       "\n",
       "                                                        resourceid vendorid  \\\n",
       "projectid                                                                     \n",
       "00001ccc0e81598c4bd86bacb94d7acb  b3af2be825736f6d530314ae70e7c16c    767.0   \n",
       "00001ccc0e81598c4bd86bacb94d7acb  72f084e8c03ce9b3eff6e59de0476ef8    767.0   \n",
       "00001ccc0e81598c4bd86bacb94d7acb  c2ea7ecbc583410fcec74c87ff102299    767.0   \n",
       "00001ccc0e81598c4bd86bacb94d7acb  06d48fb6646b17eea8dd7e5fdd9a6178    767.0   \n",
       "00001ccc0e81598c4bd86bacb94d7acb  aac3650483a9c0a6614ebccc6c6ced90    767.0   \n",
       "\n",
       "                                                   vendor_name  \\\n",
       "projectid                                                        \n",
       "00001ccc0e81598c4bd86bacb94d7acb  Lakeshore Learning Materials   \n",
       "00001ccc0e81598c4bd86bacb94d7acb  Lakeshore Learning Materials   \n",
       "00001ccc0e81598c4bd86bacb94d7acb  Lakeshore Learning Materials   \n",
       "00001ccc0e81598c4bd86bacb94d7acb  Lakeshore Learning Materials   \n",
       "00001ccc0e81598c4bd86bacb94d7acb  Lakeshore Learning Materials   \n",
       "\n",
       "                                 project_resource_type  \\\n",
       "projectid                                                \n",
       "00001ccc0e81598c4bd86bacb94d7acb              Supplies   \n",
       "00001ccc0e81598c4bd86bacb94d7acb              Supplies   \n",
       "00001ccc0e81598c4bd86bacb94d7acb              Supplies   \n",
       "00001ccc0e81598c4bd86bacb94d7acb              Supplies   \n",
       "00001ccc0e81598c4bd86bacb94d7acb              Supplies   \n",
       "\n",
       "                                                                          item_name  \\\n",
       "projectid                                                                             \n",
       "00001ccc0e81598c4bd86bacb94d7acb                     CG582 - Adjustable Apron - Red   \n",
       "00001ccc0e81598c4bd86bacb94d7acb                       FF534 - Tissue Paper Squares   \n",
       "00001ccc0e81598c4bd86bacb94d7acb                               LM941 - Kid Counters   \n",
       "00001ccc0e81598c4bd86bacb94d7acb  LC987 - Newsprint Easel Paper - 16&amp;#34; x ...   \n",
       "00001ccc0e81598c4bd86bacb94d7acb                   LA743 - Glitter Pack - Set of 12   \n",
       "\n",
       "                                 item_number item_unit_price item_quantity  \n",
       "projectid                                                                   \n",
       "00001ccc0e81598c4bd86bacb94d7acb       CG582            3.99           2.0  \n",
       "00001ccc0e81598c4bd86bacb94d7acb       FF534            9.99           1.0  \n",
       "00001ccc0e81598c4bd86bacb94d7acb       LM941           29.99           1.0  \n",
       "00001ccc0e81598c4bd86bacb94d7acb       LC987            7.99           6.0  \n",
       "00001ccc0e81598c4bd86bacb94d7acb       LA743           12.99           2.0  \n",
       "\n",
       "[5 rows x 73 columns]"
      ]
     },
     "execution_count": 4,
     "metadata": {},
     "output_type": "execute_result"
    }
   ],
   "source": [
    "df_origin = df_project.join(df_outcome)\n",
    "df_origin = df_origin.join(df_donation)\n",
    "df_origin = df_origin.join(df_resource)\n",
    "df_origin.columns = [camel_to_snake(col) for col in df_origin.columns]\n",
    "df_origin.head()"
   ]
  },
  {
   "cell_type": "markdown",
   "metadata": {},
   "source": [
    "# Step 2：Explore Data"
   ]
  },
  {
   "cell_type": "markdown",
   "metadata": {},
   "source": [
    "## 2.1 Basic info"
   ]
  },
  {
   "cell_type": "code",
   "execution_count": 201,
   "metadata": {},
   "outputs": [
    {
     "data": {
      "text/plain": [
       "teacher_acctid                              5000\n",
       "schoolid                                    5000\n",
       "school_ncesid                               4598\n",
       "school_latitude                             5000\n",
       "school_longitude                            5000\n",
       "school_city                                 5000\n",
       "school_state                                5000\n",
       "school_zip                                  5000\n",
       "school_metro                                4440\n",
       "school_district                             4990\n",
       "school_county                               5000\n",
       "school_charter                              5000\n",
       "school_magnet                               5000\n",
       "school_year_round                           5000\n",
       "school_nlns                                 5000\n",
       "school_kipp                                 5000\n",
       "school_charter_ready_promise                5000\n",
       "teacher_prefix                              5000\n",
       "teacher_teach_for_america                   5000\n",
       "teacher_ny_teaching_fellow                  5000\n",
       "primary_focus_subject                       4999\n",
       "primary_focus_area                          4999\n",
       "secondary_focus_subject                     3380\n",
       "secondary_focus_area                        3380\n",
       "resource_type                               4999\n",
       "poverty_level                               5000\n",
       "grade_level                                 5000\n",
       "fulfillment_labor_materials                 4913\n",
       "total_price_excluding_optional_support      5000\n",
       "total_price_including_optional_support      5000\n",
       "                                            ... \n",
       "teacher_referred_count                      4824\n",
       "non_teacher_referred_count                  4824\n",
       "donationid                                  4824\n",
       "donor_acctid                                4824\n",
       "donor_city                                  1699\n",
       "donor_state                                 3877\n",
       "donor_zip                                   2204\n",
       "is_teacher_acct                             4824\n",
       "donation_timestamp                          4824\n",
       "donation_to_project                         4824\n",
       "donation_optional_support                   4824\n",
       "donation_total                              4824\n",
       "dollar_amount                               4824\n",
       "donation_included_optional_support          4824\n",
       "payment_method                              4824\n",
       "payment_included_acct_credit                4824\n",
       "payment_included_campaign_gift_card         4824\n",
       "payment_included_web_purchased_gift_card    4824\n",
       "payment_was_promo_matched                   4824\n",
       "via_giving_page                             4824\n",
       "for_honoree                                 4824\n",
       "donation_message                            3601\n",
       "resourceid                                  5000\n",
       "vendorid                                    4892\n",
       "vendor_name                                 4892\n",
       "project_resource_type                       4999\n",
       "item_name                                   4990\n",
       "item_number                                 4969\n",
       "item_unit_price                             4990\n",
       "item_quantity                               4993\n",
       "Length: 73, dtype: int64"
      ]
     },
     "execution_count": 201,
     "metadata": {},
     "output_type": "execute_result"
    }
   ],
   "source": [
    "df = df_origin.sample(50000)\n",
    "df.count()"
   ]
  },
  {
   "cell_type": "markdown",
   "metadata": {},
   "source": [
    "## 2.2 Data discriptions"
   ]
  },
  {
   "cell_type": "markdown",
   "metadata": {},
   "source": [
    "In this section, we want know the distributions of these variables, and correlations between these variables, as well as the changes and trends over time."
   ]
  },
  {
   "cell_type": "markdown",
   "metadata": {},
   "source": [
    "## 2.2.1 Distributions of different variables"
   ]
  },
  {
   "cell_type": "markdown",
   "metadata": {},
   "source": [
    "From literature review, TFA teachers, charter schools, magnet schools and poverty level are terminologies that always appear in the paper of low income education. We would like to examine the distributions of these variables."
   ]
  },
  {
   "cell_type": "code",
   "execution_count": 202,
   "metadata": {},
   "outputs": [
    {
     "data": {
      "text/plain": [
       "<matplotlib.axes._subplots.AxesSubplot at 0x1549a5278>"
      ]
     },
     "execution_count": 202,
     "metadata": {},
     "output_type": "execute_result"
    },
    {
     "data": {
      "image/png": "[encoded data removed]",
      "text/plain": [
       "<matplotlib.figure.Figure at 0x1564c5d68>"
      ]
     },
     "metadata": {},
     "output_type": "display_data"
    }
   ],
   "source": [
    "df['fully_funded'].value_counts().plot.bar(title = \"fully_funded frequency\", color = \"steelblue\")"
   ]
  },
  {
   "cell_type": "code",
   "execution_count": 203,
   "metadata": {},
   "outputs": [
    {
     "data": {
      "text/plain": [
       "567.07     0.0014\n",
       "7166.69    0.0012\n",
       "3312.28    0.0010\n",
       "565.85     0.0010\n",
       "3201.26    0.0010\n",
       "763.86     0.0008\n",
       "289.02     0.0008\n",
       "519.51     0.0008\n",
       "560.47     0.0008\n",
       "537.56     0.0008\n",
       "596.34     0.0008\n",
       "569.51     0.0008\n",
       "281.71     0.0006\n",
       "321.95     0.0006\n",
       "990.85     0.0006\n",
       "518.38     0.0006\n",
       "413.98     0.0006\n",
       "535.15     0.0006\n",
       "513.51     0.0006\n",
       "568.29     0.0006\n",
       "394.42     0.0006\n",
       "503.66     0.0006\n",
       "994.65     0.0006\n",
       "569.93     0.0006\n",
       "796.25     0.0006\n",
       "584.15     0.0006\n",
       "426.83     0.0006\n",
       "582.38     0.0006\n",
       "563.41     0.0006\n",
       "927.94     0.0006\n",
       "            ...  \n",
       "201.09     0.0002\n",
       "464.65     0.0002\n",
       "495.88     0.0002\n",
       "459.90     0.0002\n",
       "1038.65    0.0002\n",
       "792.24     0.0002\n",
       "1088.49    0.0002\n",
       "1127.51    0.0002\n",
       "818.15     0.0002\n",
       "904.51     0.0002\n",
       "414.98     0.0002\n",
       "1085.79    0.0002\n",
       "240.02     0.0002\n",
       "640.79     0.0002\n",
       "1235.07    0.0002\n",
       "527.49     0.0002\n",
       "792.68     0.0002\n",
       "602.41     0.0002\n",
       "780.06     0.0002\n",
       "506.20     0.0002\n",
       "511.69     0.0002\n",
       "980.89     0.0002\n",
       "1112.20    0.0002\n",
       "511.95     0.0002\n",
       "499.67     0.0002\n",
       "999.24     0.0002\n",
       "622.66     0.0002\n",
       "480.38     0.0002\n",
       "463.27     0.0002\n",
       "340.00     0.0002\n",
       "Name: total_price_including_optional_support, Length: 4498, dtype: float64"
      ]
     },
     "execution_count": 203,
     "metadata": {},
     "output_type": "execute_result"
    }
   ],
   "source": [
    "ratio = df[\"total_price_including_optional_support\"].value_counts(normalize = True)\n",
    "ratio"
   ]
  },
  {
   "cell_type": "code",
   "execution_count": 204,
   "metadata": {},
   "outputs": [
    {
     "data": {
      "text/html": [
       "<div>\n",
       "<style>\n",
       "    .dataframe thead tr:only-child th {\n",
       "        text-align: right;\n",
       "    }\n",
       "\n",
       "    .dataframe thead th {\n",
       "        text-align: left;\n",
       "    }\n",
       "\n",
       "    .dataframe tbody tr th {\n",
       "        vertical-align: top;\n",
       "    }\n",
       "</style>\n",
       "<table border=\"1\" class=\"dataframe\">\n",
       "  <thead>\n",
       "    <tr style=\"text-align: right;\">\n",
       "      <th></th>\n",
       "      <th>count</th>\n",
       "      <th>mean</th>\n",
       "      <th>std</th>\n",
       "      <th>min</th>\n",
       "      <th>25%</th>\n",
       "      <th>50%</th>\n",
       "      <th>75%</th>\n",
       "      <th>max</th>\n",
       "    </tr>\n",
       "    <tr>\n",
       "      <th>resource_type</th>\n",
       "      <th></th>\n",
       "      <th></th>\n",
       "      <th></th>\n",
       "      <th></th>\n",
       "      <th></th>\n",
       "      <th></th>\n",
       "      <th></th>\n",
       "      <th></th>\n",
       "    </tr>\n",
       "  </thead>\n",
       "  <tbody>\n",
       "    <tr>\n",
       "      <th>Books</th>\n",
       "      <td>2157.0</td>\n",
       "      <td>645.693579</td>\n",
       "      <td>768.076306</td>\n",
       "      <td>121.95</td>\n",
       "      <td>397.3400</td>\n",
       "      <td>518.670</td>\n",
       "      <td>721.9500</td>\n",
       "      <td>18344.82</td>\n",
       "    </tr>\n",
       "    <tr>\n",
       "      <th>Other</th>\n",
       "      <td>390.0</td>\n",
       "      <td>953.447923</td>\n",
       "      <td>5646.402844</td>\n",
       "      <td>151.56</td>\n",
       "      <td>384.7725</td>\n",
       "      <td>518.930</td>\n",
       "      <td>770.2925</td>\n",
       "      <td>111596.67</td>\n",
       "    </tr>\n",
       "    <tr>\n",
       "      <th>Supplies</th>\n",
       "      <td>1787.0</td>\n",
       "      <td>623.680571</td>\n",
       "      <td>491.861447</td>\n",
       "      <td>84.15</td>\n",
       "      <td>385.1200</td>\n",
       "      <td>518.650</td>\n",
       "      <td>742.0650</td>\n",
       "      <td>6692.84</td>\n",
       "    </tr>\n",
       "    <tr>\n",
       "      <th>Technology</th>\n",
       "      <td>658.0</td>\n",
       "      <td>988.691687</td>\n",
       "      <td>1769.159114</td>\n",
       "      <td>153.70</td>\n",
       "      <td>456.9900</td>\n",
       "      <td>688.100</td>\n",
       "      <td>935.1875</td>\n",
       "      <td>25058.76</td>\n",
       "    </tr>\n",
       "    <tr>\n",
       "      <th>Trips</th>\n",
       "      <td>6.0</td>\n",
       "      <td>5043.533333</td>\n",
       "      <td>6374.836120</td>\n",
       "      <td>1038.35</td>\n",
       "      <td>1733.2550</td>\n",
       "      <td>2539.865</td>\n",
       "      <td>4308.7175</td>\n",
       "      <td>17780.40</td>\n",
       "    </tr>\n",
       "    <tr>\n",
       "      <th>Visitors</th>\n",
       "      <td>1.0</td>\n",
       "      <td>1139.860000</td>\n",
       "      <td>NaN</td>\n",
       "      <td>1139.86</td>\n",
       "      <td>1139.8600</td>\n",
       "      <td>1139.860</td>\n",
       "      <td>1139.8600</td>\n",
       "      <td>1139.86</td>\n",
       "    </tr>\n",
       "  </tbody>\n",
       "</table>\n",
       "</div>"
      ],
      "text/plain": [
       "                count         mean          std      min        25%       50%  \\\n",
       "resource_type                                                                   \n",
       "Books          2157.0   645.693579   768.076306   121.95   397.3400   518.670   \n",
       "Other           390.0   953.447923  5646.402844   151.56   384.7725   518.930   \n",
       "Supplies       1787.0   623.680571   491.861447    84.15   385.1200   518.650   \n",
       "Technology      658.0   988.691687  1769.159114   153.70   456.9900   688.100   \n",
       "Trips             6.0  5043.533333  6374.836120  1038.35  1733.2550  2539.865   \n",
       "Visitors          1.0  1139.860000          NaN  1139.86  1139.8600  1139.860   \n",
       "\n",
       "                     75%        max  \n",
       "resource_type                        \n",
       "Books           721.9500   18344.82  \n",
       "Other           770.2925  111596.67  \n",
       "Supplies        742.0650    6692.84  \n",
       "Technology      935.1875   25058.76  \n",
       "Trips          4308.7175   17780.40  \n",
       "Visitors       1139.8600    1139.86  "
      ]
     },
     "execution_count": 204,
     "metadata": {},
     "output_type": "execute_result"
    }
   ],
   "source": [
    "df.groupby('resource_type')['total_price_including_optional_support'].describe()"
   ]
  },
  {
   "cell_type": "code",
   "execution_count": 205,
   "metadata": {},
   "outputs": [
    {
     "data": {
      "text/html": [
       "<div>\n",
       "<style>\n",
       "    .dataframe thead tr:only-child th {\n",
       "        text-align: right;\n",
       "    }\n",
       "\n",
       "    .dataframe thead th {\n",
       "        text-align: left;\n",
       "    }\n",
       "\n",
       "    .dataframe tbody tr th {\n",
       "        vertical-align: top;\n",
       "    }\n",
       "</style>\n",
       "<table border=\"1\" class=\"dataframe\">\n",
       "  <thead>\n",
       "    <tr style=\"text-align: right;\">\n",
       "      <th></th>\n",
       "      <th>count</th>\n",
       "      <th>unique</th>\n",
       "      <th>top</th>\n",
       "      <th>freq</th>\n",
       "    </tr>\n",
       "    <tr>\n",
       "      <th>resource_type</th>\n",
       "      <th></th>\n",
       "      <th></th>\n",
       "      <th></th>\n",
       "      <th></th>\n",
       "    </tr>\n",
       "  </thead>\n",
       "  <tbody>\n",
       "    <tr>\n",
       "      <th>Books</th>\n",
       "      <td>2133</td>\n",
       "      <td>2</td>\n",
       "      <td>t</td>\n",
       "      <td>1919</td>\n",
       "    </tr>\n",
       "    <tr>\n",
       "      <th>Other</th>\n",
       "      <td>382</td>\n",
       "      <td>2</td>\n",
       "      <td>t</td>\n",
       "      <td>338</td>\n",
       "    </tr>\n",
       "    <tr>\n",
       "      <th>Supplies</th>\n",
       "      <td>1765</td>\n",
       "      <td>2</td>\n",
       "      <td>t</td>\n",
       "      <td>1556</td>\n",
       "    </tr>\n",
       "    <tr>\n",
       "      <th>Technology</th>\n",
       "      <td>652</td>\n",
       "      <td>2</td>\n",
       "      <td>t</td>\n",
       "      <td>561</td>\n",
       "    </tr>\n",
       "    <tr>\n",
       "      <th>Trips</th>\n",
       "      <td>6</td>\n",
       "      <td>1</td>\n",
       "      <td>t</td>\n",
       "      <td>6</td>\n",
       "    </tr>\n",
       "    <tr>\n",
       "      <th>Visitors</th>\n",
       "      <td>1</td>\n",
       "      <td>1</td>\n",
       "      <td>t</td>\n",
       "      <td>1</td>\n",
       "    </tr>\n",
       "  </tbody>\n",
       "</table>\n",
       "</div>"
      ],
      "text/plain": [
       "              count unique top  freq\n",
       "resource_type                       \n",
       "Books          2133      2   t  1919\n",
       "Other           382      2   t   338\n",
       "Supplies       1765      2   t  1556\n",
       "Technology      652      2   t   561\n",
       "Trips             6      1   t     6\n",
       "Visitors          1      1   t     1"
      ]
     },
     "execution_count": 205,
     "metadata": {},
     "output_type": "execute_result"
    }
   ],
   "source": [
    "df.groupby('resource_type')['fully_funded'].describe()"
   ]
  },
  {
   "cell_type": "code",
   "execution_count": 206,
   "metadata": {},
   "outputs": [
    {
     "data": {
      "text/plain": [
       "<matplotlib.axes._subplots.AxesSubplot at 0x15a36ce10>"
      ]
     },
     "execution_count": 206,
     "metadata": {},
     "output_type": "execute_result"
    },
    {
     "data": {
      "image/png": "[encoded data removed]",
      "text/plain": [
       "<matplotlib.figure.Figure at 0x15a36cef0>"
      ]
     },
     "metadata": {},
     "output_type": "display_data"
    }
   ],
   "source": [
    "df['teacher_teach_for_america'].value_counts().plot.bar(title = \"TFA teachers distribution\", color = \"steelblue\")"
   ]
  },
  {
   "cell_type": "code",
   "execution_count": 207,
   "metadata": {},
   "outputs": [
    {
     "data": {
      "text/plain": [
       "<matplotlib.axes._subplots.AxesSubplot at 0x15a36c400>"
      ]
     },
     "execution_count": 207,
     "metadata": {},
     "output_type": "execute_result"
    },
    {
     "data": {
      "image/png": "[encoded data removed]",
      "text/plain": [
       "<matplotlib.figure.Figure at 0x155080240>"
      ]
     },
     "metadata": {},
     "output_type": "display_data"
    }
   ],
   "source": [
    "df['school_charter'].value_counts().plot.bar(title = \"Charter school distribution\", color = \"steelblue\")"
   ]
  },
  {
   "cell_type": "code",
   "execution_count": 208,
   "metadata": {},
   "outputs": [
    {
     "data": {
      "text/plain": [
       "<matplotlib.axes._subplots.AxesSubplot at 0x1564e83c8>"
      ]
     },
     "execution_count": 208,
     "metadata": {},
     "output_type": "execute_result"
    },
    {
     "data": {
      "image/png": "[encoded data removed]",
      "text/plain": [
       "<matplotlib.figure.Figure at 0x144936048>"
      ]
     },
     "metadata": {},
     "output_type": "display_data"
    }
   ],
   "source": [
    "df['school_magnet'].value_counts().plot.bar(title = \"magnet schools distribution\", color = \"steelblue\")"
   ]
  },
  {
   "cell_type": "code",
   "execution_count": 209,
   "metadata": {
    "scrolled": true
   },
   "outputs": [
    {
     "data": {
      "text/plain": [
       "<matplotlib.axes._subplots.AxesSubplot at 0x155c1c0b8>"
      ]
     },
     "execution_count": 209,
     "metadata": {},
     "output_type": "execute_result"
    },
    {
     "data": {
      "image/png": "[encoded data removed]",
      "text/plain": [
       "<matplotlib.figure.Figure at 0x155038e48>"
      ]
     },
     "metadata": {},
     "output_type": "display_data"
    }
   ],
   "source": [
    "df['school_kipp'].value_counts().plot.bar(title = \"KIPP schools distribution\", color = \"steelblue\")"
   ]
  },
  {
   "cell_type": "code",
   "execution_count": 210,
   "metadata": {},
   "outputs": [
    {
     "data": {
      "text/plain": [
       "<matplotlib.axes._subplots.AxesSubplot at 0x1564b9278>"
      ]
     },
     "execution_count": 210,
     "metadata": {},
     "output_type": "execute_result"
    },
    {
     "data": {
      "image/png": "[encoded data removed]",
      "text/plain": [
       "<matplotlib.figure.Figure at 0x14655ebe0>"
      ]
     },
     "metadata": {},
     "output_type": "display_data"
    }
   ],
   "source": [
    "df['primary_focus_subject'].value_counts().plot.bar(title = \"Funding primary focus\", color = \"steelblue\")"
   ]
  },
  {
   "cell_type": "code",
   "execution_count": 211,
   "metadata": {
    "scrolled": true
   },
   "outputs": [
    {
     "data": {
      "text/plain": [
       "<matplotlib.axes._subplots.AxesSubplot at 0x15b13c5f8>"
      ]
     },
     "execution_count": 211,
     "metadata": {},
     "output_type": "execute_result"
    },
    {
     "data": {
      "image/png": "[encoded data removed]",
      "text/plain": [
       "<matplotlib.figure.Figure at 0x15b1249b0>"
      ]
     },
     "metadata": {},
     "output_type": "display_data"
    }
   ],
   "source": [
    "df['resource_type'].value_counts().plot.bar(title = \"Resource Type Distribution\", color = \"steelblue\")"
   ]
  },
  {
   "cell_type": "code",
   "execution_count": 212,
   "metadata": {},
   "outputs": [
    {
     "data": {
      "text/plain": [
       "Books         0.431486\n",
       "Supplies      0.357471\n",
       "Technology    0.131626\n",
       "Other         0.078016\n",
       "Trips         0.001200\n",
       "Visitors      0.000200\n",
       "Name: resource_type, dtype: float64"
      ]
     },
     "execution_count": 212,
     "metadata": {},
     "output_type": "execute_result"
    }
   ],
   "source": [
    "ratio = df[\"resource_type\"].value_counts(normalize = True)\n",
    "ratio"
   ]
  },
  {
   "cell_type": "code",
   "execution_count": 213,
   "metadata": {},
   "outputs": [
    {
     "data": {
      "text/plain": [
       "<matplotlib.axes._subplots.AxesSubplot at 0x15b29acc0>"
      ]
     },
     "execution_count": 213,
     "metadata": {},
     "output_type": "execute_result"
    },
    {
     "data": {
      "image/png": "[encoded data removed]",
      "text/plain": [
       "<matplotlib.figure.Figure at 0x15865d588>"
      ]
     },
     "metadata": {},
     "output_type": "display_data"
    }
   ],
   "source": [
    "df['poverty_level'].value_counts().plot.bar(title = \"Poverty Level_distribution\", color = \"steelblue\")"
   ]
  },
  {
   "cell_type": "code",
   "execution_count": 214,
   "metadata": {
    "scrolled": true
   },
   "outputs": [
    {
     "data": {
      "text/plain": [
       "<matplotlib.axes._subplots.AxesSubplot at 0x14ce1d2e8>"
      ]
     },
     "execution_count": 214,
     "metadata": {},
     "output_type": "execute_result"
    },
    {
     "data": {
      "image/png": "[encoded data removed]",
      "text/plain": [
       "<matplotlib.figure.Figure at 0x14ce591d0>"
      ]
     },
     "metadata": {},
     "output_type": "display_data"
    }
   ],
   "source": [
    "df['grade_level'].value_counts().plot.bar(title = \"Grade level distribution\", color = \"steelblue\")"
   ]
  },
  {
   "cell_type": "markdown",
   "metadata": {},
   "source": [
    "In general, it is noticed that the data is imbalanced for true and false values. Besides, most of the projects are concentrated in Pre-K, highest-poverty regions and for the purpose of literacy."
   ]
  },
  {
   "cell_type": "markdown",
   "metadata": {},
   "source": [
    "## 2.2.2 Changes and trends over time"
   ]
  },
  {
   "cell_type": "markdown",
   "metadata": {},
   "source": [
    "In this section, we want to explore the landscape and trends of grantees(schools), donors and grantmaking."
   ]
  },
  {
   "cell_type": "markdown",
   "metadata": {},
   "source": [
    "### Sum and rate of fully funded projects over year"
   ]
  },
  {
   "cell_type": "markdown",
   "metadata": {},
   "source": [
    "Not only we need to learn the landscape of grantees side, we should also capture the key features of grantmaking, and donors."
   ]
  },
  {
   "cell_type": "code",
   "execution_count": 215,
   "metadata": {},
   "outputs": [],
   "source": [
    "sum_cols = ['fully_funded']\n",
    "df_by_day = df[sum_cols + ['date_posted']]\n",
    "df_by_day = df_by_day.replace('t', 1).replace('f', 0)\n",
    "df_by_day = df_by_day.set_index('date_posted')\n",
    "df_by_day.index = pd.to_datetime(df_by_day.index)\n",
    "df_by_day['year'] = df_by_day.index.year\n",
    "df_by_year_sum = df_by_day.groupby('year').sum()\n",
    "df_by_year_mean = df_by_day.groupby('year').mean()"
   ]
  },
  {
   "cell_type": "code",
   "execution_count": 216,
   "metadata": {
    "scrolled": true
   },
   "outputs": [
    {
     "data": {
      "text/plain": [
       "<matplotlib.figure.Figure at 0x1465c1400>"
      ]
     },
     "metadata": {},
     "output_type": "display_data"
    },
    {
     "data": {
      "image/png": "[encoded data removed]",
      "text/plain": [
       "<matplotlib.figure.Figure at 0x1510565c0>"
      ]
     },
     "metadata": {},
     "output_type": "display_data"
    },
    {
     "data": {
      "text/html": [
       "<div>\n",
       "<style>\n",
       "    .dataframe thead tr:only-child th {\n",
       "        text-align: right;\n",
       "    }\n",
       "\n",
       "    .dataframe thead th {\n",
       "        text-align: left;\n",
       "    }\n",
       "\n",
       "    .dataframe tbody tr th {\n",
       "        vertical-align: top;\n",
       "    }\n",
       "</style>\n",
       "<table border=\"1\" class=\"dataframe\">\n",
       "  <thead>\n",
       "    <tr style=\"text-align: right;\">\n",
       "      <th></th>\n",
       "      <th>fully_funded</th>\n",
       "    </tr>\n",
       "    <tr>\n",
       "      <th>year</th>\n",
       "      <th></th>\n",
       "    </tr>\n",
       "  </thead>\n",
       "  <tbody>\n",
       "    <tr>\n",
       "      <th>2003</th>\n",
       "      <td>3.0</td>\n",
       "    </tr>\n",
       "    <tr>\n",
       "      <th>2004</th>\n",
       "      <td>7.0</td>\n",
       "    </tr>\n",
       "    <tr>\n",
       "      <th>2005</th>\n",
       "      <td>21.0</td>\n",
       "    </tr>\n",
       "    <tr>\n",
       "      <th>2006</th>\n",
       "      <td>37.0</td>\n",
       "    </tr>\n",
       "    <tr>\n",
       "      <th>2007</th>\n",
       "      <td>105.0</td>\n",
       "    </tr>\n",
       "  </tbody>\n",
       "</table>\n",
       "</div>"
      ],
      "text/plain": [
       "      fully_funded\n",
       "year              \n",
       "2003           3.0\n",
       "2004           7.0\n",
       "2005          21.0\n",
       "2006          37.0\n",
       "2007         105.0"
      ]
     },
     "execution_count": 216,
     "metadata": {},
     "output_type": "execute_result"
    }
   ],
   "source": [
    "def plot_hist(df, name='mean'):\n",
    "    for col in df.columns:\n",
    "        plt.clf()\n",
    "        plt.figure(figsize=(10, 3))\n",
    "        plt.plot(df.index, df[col],'')  \n",
    "        plt.xlabel('year')\n",
    "        plt.ylabel(col)\n",
    "        plt.title('{} {} per year'.format(name, col))\n",
    "        plt.show()\n",
    "\n",
    "plot_hist(df_by_year_sum, 'sum')\n",
    "df_by_year_sum.head()"
   ]
  },
  {
   "cell_type": "code",
   "execution_count": 217,
   "metadata": {},
   "outputs": [
    {
     "data": {
      "text/plain": [
       "<matplotlib.figure.Figure at 0x14ce59f60>"
      ]
     },
     "metadata": {},
     "output_type": "display_data"
    },
    {
     "data": {
      "image/png": "[encoded data removed]",
      "text/plain": [
       "<matplotlib.figure.Figure at 0x151034eb8>"
      ]
     },
     "metadata": {},
     "output_type": "display_data"
    },
    {
     "data": {
      "text/html": [
       "<div>\n",
       "<style>\n",
       "    .dataframe thead tr:only-child th {\n",
       "        text-align: right;\n",
       "    }\n",
       "\n",
       "    .dataframe thead th {\n",
       "        text-align: left;\n",
       "    }\n",
       "\n",
       "    .dataframe tbody tr th {\n",
       "        vertical-align: top;\n",
       "    }\n",
       "</style>\n",
       "<table border=\"1\" class=\"dataframe\">\n",
       "  <thead>\n",
       "    <tr style=\"text-align: right;\">\n",
       "      <th></th>\n",
       "      <th>fully_funded</th>\n",
       "    </tr>\n",
       "    <tr>\n",
       "      <th>year</th>\n",
       "      <th></th>\n",
       "    </tr>\n",
       "  </thead>\n",
       "  <tbody>\n",
       "    <tr>\n",
       "      <th>2003</th>\n",
       "      <td>1.000000</td>\n",
       "    </tr>\n",
       "    <tr>\n",
       "      <th>2004</th>\n",
       "      <td>0.875000</td>\n",
       "    </tr>\n",
       "    <tr>\n",
       "      <th>2005</th>\n",
       "      <td>0.807692</td>\n",
       "    </tr>\n",
       "    <tr>\n",
       "      <th>2006</th>\n",
       "      <td>0.770833</td>\n",
       "    </tr>\n",
       "    <tr>\n",
       "      <th>2007</th>\n",
       "      <td>0.807692</td>\n",
       "    </tr>\n",
       "  </tbody>\n",
       "</table>\n",
       "</div>"
      ],
      "text/plain": [
       "      fully_funded\n",
       "year              \n",
       "2003      1.000000\n",
       "2004      0.875000\n",
       "2005      0.807692\n",
       "2006      0.770833\n",
       "2007      0.807692"
      ]
     },
     "execution_count": 217,
     "metadata": {},
     "output_type": "execute_result"
    }
   ],
   "source": [
    "plot_hist(df_by_year_mean, 'rate')\n",
    "df_by_year_mean.head()"
   ]
  },
  {
   "cell_type": "markdown",
   "metadata": {},
   "source": [
    "In general, the sum of fully-funded projects increase year by year. Before 2008, the sum of fully-funded projects stablished at a low level, and there was a fluctuation for rate of fully-funded projects after it dropped dramatically in 2014. After 2008, both the sum and rate increased. However, there were sharp reversals in 2014."
   ]
  },
  {
   "cell_type": "markdown",
   "metadata": {},
   "source": [
    "### Changes and trends in grants and donors"
   ]
  },
  {
   "cell_type": "code",
   "execution_count": 218,
   "metadata": {},
   "outputs": [
    {
     "data": {
      "text/html": [
       "<div>\n",
       "<style>\n",
       "    .dataframe thead tr:only-child th {\n",
       "        text-align: right;\n",
       "    }\n",
       "\n",
       "    .dataframe thead th {\n",
       "        text-align: left;\n",
       "    }\n",
       "\n",
       "    .dataframe tbody tr th {\n",
       "        vertical-align: top;\n",
       "    }\n",
       "</style>\n",
       "<table border=\"1\" class=\"dataframe\">\n",
       "  <thead>\n",
       "    <tr style=\"text-align: right;\">\n",
       "      <th></th>\n",
       "      <th>donation_to_project</th>\n",
       "      <th>donation_optional_support</th>\n",
       "      <th>donation_total</th>\n",
       "      <th>item_quantity</th>\n",
       "      <th>total_price_including_optional_support</th>\n",
       "    </tr>\n",
       "    <tr>\n",
       "      <th>year</th>\n",
       "      <th></th>\n",
       "      <th></th>\n",
       "      <th></th>\n",
       "      <th></th>\n",
       "      <th></th>\n",
       "    </tr>\n",
       "  </thead>\n",
       "  <tbody>\n",
       "    <tr>\n",
       "      <th>2003</th>\n",
       "      <td>475.000000</td>\n",
       "      <td>72.166667</td>\n",
       "      <td>547.166667</td>\n",
       "      <td>2.000000</td>\n",
       "      <td>1037.636667</td>\n",
       "    </tr>\n",
       "    <tr>\n",
       "      <th>2004</th>\n",
       "      <td>507.107143</td>\n",
       "      <td>72.757143</td>\n",
       "      <td>579.864286</td>\n",
       "      <td>5.125000</td>\n",
       "      <td>985.282500</td>\n",
       "    </tr>\n",
       "    <tr>\n",
       "      <th>2005</th>\n",
       "      <td>209.310909</td>\n",
       "      <td>26.502273</td>\n",
       "      <td>235.813182</td>\n",
       "      <td>2.500000</td>\n",
       "      <td>855.100000</td>\n",
       "    </tr>\n",
       "    <tr>\n",
       "      <th>2006</th>\n",
       "      <td>200.132439</td>\n",
       "      <td>33.636585</td>\n",
       "      <td>233.769024</td>\n",
       "      <td>5.625000</td>\n",
       "      <td>748.063125</td>\n",
       "    </tr>\n",
       "    <tr>\n",
       "      <th>2007</th>\n",
       "      <td>124.546750</td>\n",
       "      <td>19.520250</td>\n",
       "      <td>144.067000</td>\n",
       "      <td>9.823077</td>\n",
       "      <td>622.064692</td>\n",
       "    </tr>\n",
       "  </tbody>\n",
       "</table>\n",
       "</div>"
      ],
      "text/plain": [
       "      donation_to_project  donation_optional_support  donation_total  \\\n",
       "year                                                                   \n",
       "2003           475.000000                  72.166667      547.166667   \n",
       "2004           507.107143                  72.757143      579.864286   \n",
       "2005           209.310909                  26.502273      235.813182   \n",
       "2006           200.132439                  33.636585      233.769024   \n",
       "2007           124.546750                  19.520250      144.067000   \n",
       "\n",
       "      item_quantity  total_price_including_optional_support  \n",
       "year                                                         \n",
       "2003       2.000000                             1037.636667  \n",
       "2004       5.125000                              985.282500  \n",
       "2005       2.500000                              855.100000  \n",
       "2006       5.625000                              748.063125  \n",
       "2007       9.823077                              622.064692  "
      ]
     },
     "execution_count": 218,
     "metadata": {},
     "output_type": "execute_result"
    }
   ],
   "source": [
    "mean_cols = ['donation_to_project', 'donation_optional_support', 'donation_total', 'item_quantity', \n",
    "             'total_price_including_optional_support']\n",
    "df_by_day = df[mean_cols + ['date_posted']]\n",
    "df_by_day = df_by_day.set_index('date_posted')\n",
    "df_by_day.index = pd.to_datetime(df_by_day.index)\n",
    "df_by_day['year'] = df_by_day.index.year\n",
    "df_by_year = df_by_day.groupby('year').mean()\n",
    "df_by_year.head()"
   ]
  },
  {
   "cell_type": "code",
   "execution_count": 219,
   "metadata": {
    "scrolled": true
   },
   "outputs": [
    {
     "data": {
      "text/plain": [
       "<matplotlib.figure.Figure at 0x14ce84748>"
      ]
     },
     "metadata": {},
     "output_type": "display_data"
    },
    {
     "data": {
      "image/png": "[encoded data removed]",
      "text/plain": [
       "<matplotlib.figure.Figure at 0x1510560f0>"
      ]
     },
     "metadata": {},
     "output_type": "display_data"
    },
    {
     "data": {
      "text/plain": [
       "<matplotlib.figure.Figure at 0x15b28b7f0>"
      ]
     },
     "metadata": {},
     "output_type": "display_data"
    },
    {
     "data": {
      "image/png": "[encoded data removed]",
      "text/plain": [
       "<matplotlib.figure.Figure at 0x1594217b8>"
      ]
     },
     "metadata": {},
     "output_type": "display_data"
    },
    {
     "data": {
      "text/plain": [
       "<matplotlib.figure.Figure at 0x159843f60>"
      ]
     },
     "metadata": {},
     "output_type": "display_data"
    },
    {
     "data": {
      "image/png": "[encoded data removed]",
      "text/plain": [
       "<matplotlib.figure.Figure at 0x159843208>"
      ]
     },
     "metadata": {},
     "output_type": "display_data"
    },
    {
     "data": {
      "text/plain": [
       "<matplotlib.figure.Figure at 0x15b422f60>"
      ]
     },
     "metadata": {},
     "output_type": "display_data"
    },
    {
     "data": {
      "image/png": "[encoded data removed]",
      "text/plain": [
       "<matplotlib.figure.Figure at 0x15b416390>"
      ]
     },
     "metadata": {},
     "output_type": "display_data"
    },
    {
     "data": {
      "text/plain": [
       "<matplotlib.figure.Figure at 0x15b46e6a0>"
      ]
     },
     "metadata": {},
     "output_type": "display_data"
    },
    {
     "data": {
      "image/png": "[encoded data removed]",
      "text/plain": [
       "<matplotlib.figure.Figure at 0x15b436ac8>"
      ]
     },
     "metadata": {},
     "output_type": "display_data"
    }
   ],
   "source": [
    "plot_hist(df_by_year)"
   ]
  },
  {
   "cell_type": "markdown",
   "metadata": {},
   "source": [
    "There was a peak period during 2003 to 2005 for the total project costs and project items. Except for these years, the total amount of donation and project costs decrease year by year."
   ]
  },
  {
   "cell_type": "markdown",
   "metadata": {},
   "source": [
    "## 2.3 Cross-tabs"
   ]
  },
  {
   "cell_type": "markdown",
   "metadata": {},
   "source": [
    "In order to further examine the relations between key factors and fully funded projects, the crosstabs would help us figure out."
   ]
  },
  {
   "cell_type": "code",
   "execution_count": 220,
   "metadata": {},
   "outputs": [
    {
     "data": {
      "image/png": "[encoded data removed]",
      "text/plain": [
       "<matplotlib.figure.Figure at 0x14ce7f1d0>"
      ]
     },
     "metadata": {},
     "output_type": "display_data"
    },
    {
     "data": {
      "image/png": "[encoded data removed]",
      "text/plain": [
       "<matplotlib.figure.Figure at 0x15f10e6a0>"
      ]
     },
     "metadata": {},
     "output_type": "display_data"
    },
    {
     "data": {
      "image/png": "[encoded data removed]",
      "text/plain": [
       "<matplotlib.figure.Figure at 0x15c660fd0>"
      ]
     },
     "metadata": {},
     "output_type": "display_data"
    },
    {
     "data": {
      "image/png": "[encoded data removed]",
      "text/plain": [
       "<matplotlib.figure.Figure at 0x15cf73a90>"
      ]
     },
     "metadata": {},
     "output_type": "display_data"
    },
    {
     "data": {
      "image/png": "[encoded data removed]",
      "text/plain": [
       "<matplotlib.figure.Figure at 0x15f0f4c88>"
      ]
     },
     "metadata": {},
     "output_type": "display_data"
    },
    {
     "data": {
      "image/png": "[encoded data removed]",
      "text/plain": [
       "<matplotlib.figure.Figure at 0x1606d3080>"
      ]
     },
     "metadata": {},
     "output_type": "display_data"
    },
    {
     "data": {
      "image/png": "[encoded data removed]",
      "text/plain": [
       "<matplotlib.figure.Figure at 0x15f103320>"
      ]
     },
     "metadata": {},
     "output_type": "display_data"
    }
   ],
   "source": [
    "import seaborn as sns\n",
    "\n",
    "def plot_crosstab(df):\n",
    "    check_df = df.applymap(lambda x: isinstance(x, (int, float)))\n",
    "    cols = [\"teacher_teach_for_america\", \"primary_focus_area\", \"school_charter\", \"school_magnet\", \"grade_level\", \"poverty_level\", \"project_resource_type\"]\n",
    "    for col in cols:\n",
    "        plt.clf()\n",
    "        df_result = pd.crosstab(df['fully_funded'], df[col])\n",
    "        sns.heatmap(df_result, xticklabels=df_result.columns, yticklabels=df_result.index)\n",
    "        plt.show()\n",
    "        \n",
    " \n",
    "plot_crosstab(df)"
   ]
  },
  {
   "cell_type": "markdown",
   "metadata": {},
   "source": [
    "The crosstab results fit what we found in the literature review. Compared to those projects that were not fully-funded, there were more Teach for America teachers in fully funded projects. And the funding favored magnet schools and charter schools. Thirdly, most of the highest poverty schools were fully funded. They often received books, and supplies from donors.\n",
    "This showed the funding went into the right direction as the Donorchoose.org's mission did."
   ]
  },
  {
   "cell_type": "markdown",
   "metadata": {},
   "source": [
    "### *Remove id columns, address and essay question entries"
   ]
  },
  {
   "cell_type": "markdown",
   "metadata": {},
   "source": [
    "In order to simplify the data explorations and reduce irrelevant correlations, we select cities, counties or states as representatives of geographic features and remove all the left. IDs of teachers, schools and donors are not the only variables to demonstrate identities, so we remove id columns to reduce training time. In addition, essay questions are out of project scope and we remove them from main data."
   ]
  },
  {
   "cell_type": "code",
   "execution_count": 221,
   "metadata": {},
   "outputs": [
    {
     "data": {
      "text/html": [
       "<div>\n",
       "<style>\n",
       "    .dataframe thead tr:only-child th {\n",
       "        text-align: right;\n",
       "    }\n",
       "\n",
       "    .dataframe thead th {\n",
       "        text-align: left;\n",
       "    }\n",
       "\n",
       "    .dataframe tbody tr th {\n",
       "        vertical-align: top;\n",
       "    }\n",
       "</style>\n",
       "<table border=\"1\" class=\"dataframe\">\n",
       "  <thead>\n",
       "    <tr style=\"text-align: right;\">\n",
       "      <th></th>\n",
       "      <th>school_city</th>\n",
       "      <th>school_state</th>\n",
       "      <th>school_district</th>\n",
       "      <th>school_county</th>\n",
       "      <th>school_charter</th>\n",
       "      <th>school_magnet</th>\n",
       "      <th>school_year_round</th>\n",
       "      <th>school_nlns</th>\n",
       "      <th>school_kipp</th>\n",
       "      <th>school_charter_ready_promise</th>\n",
       "      <th>...</th>\n",
       "      <th>donation_included_optional_support</th>\n",
       "      <th>payment_included_acct_credit</th>\n",
       "      <th>payment_included_campaign_gift_card</th>\n",
       "      <th>payment_included_web_purchased_gift_card</th>\n",
       "      <th>payment_was_promo_matched</th>\n",
       "      <th>via_giving_page</th>\n",
       "      <th>for_honoree</th>\n",
       "      <th>project_resource_type</th>\n",
       "      <th>item_unit_price</th>\n",
       "      <th>item_quantity</th>\n",
       "    </tr>\n",
       "    <tr>\n",
       "      <th>projectid</th>\n",
       "      <th></th>\n",
       "      <th></th>\n",
       "      <th></th>\n",
       "      <th></th>\n",
       "      <th></th>\n",
       "      <th></th>\n",
       "      <th></th>\n",
       "      <th></th>\n",
       "      <th></th>\n",
       "      <th></th>\n",
       "      <th></th>\n",
       "      <th></th>\n",
       "      <th></th>\n",
       "      <th></th>\n",
       "      <th></th>\n",
       "      <th></th>\n",
       "      <th></th>\n",
       "      <th></th>\n",
       "      <th></th>\n",
       "      <th></th>\n",
       "      <th></th>\n",
       "    </tr>\n",
       "  </thead>\n",
       "  <tbody>\n",
       "    <tr>\n",
       "      <th>f6f0e6128c8a8a3f17b28e93007afe19</th>\n",
       "      <td>Dallas</td>\n",
       "      <td>TX</td>\n",
       "      <td>Dallas Ind School District</td>\n",
       "      <td>Dallas</td>\n",
       "      <td>0</td>\n",
       "      <td>0</td>\n",
       "      <td>0</td>\n",
       "      <td>0</td>\n",
       "      <td>0</td>\n",
       "      <td>0</td>\n",
       "      <td>...</td>\n",
       "      <td>1.0</td>\n",
       "      <td>1.0</td>\n",
       "      <td>0.0</td>\n",
       "      <td>0.0</td>\n",
       "      <td>0.0</td>\n",
       "      <td>0.0</td>\n",
       "      <td>0.0</td>\n",
       "      <td>Books</td>\n",
       "      <td>4.21</td>\n",
       "      <td>1.0</td>\n",
       "    </tr>\n",
       "    <tr>\n",
       "      <th>f8d31f4bf701d1ffa02c7b176c101850</th>\n",
       "      <td>Murfreesboro</td>\n",
       "      <td>TN</td>\n",
       "      <td>Murfreesboro City School Dist</td>\n",
       "      <td>Rutherford</td>\n",
       "      <td>0</td>\n",
       "      <td>0</td>\n",
       "      <td>0</td>\n",
       "      <td>0</td>\n",
       "      <td>0</td>\n",
       "      <td>0</td>\n",
       "      <td>...</td>\n",
       "      <td>1.0</td>\n",
       "      <td>0.0</td>\n",
       "      <td>1.0</td>\n",
       "      <td>0.0</td>\n",
       "      <td>0.0</td>\n",
       "      <td>0.0</td>\n",
       "      <td>1.0</td>\n",
       "      <td>Technology</td>\n",
       "      <td>179.99</td>\n",
       "      <td>1.0</td>\n",
       "    </tr>\n",
       "    <tr>\n",
       "      <th>99a903f2fe66705702e7e4a77410a806</th>\n",
       "      <td>New York</td>\n",
       "      <td>NY</td>\n",
       "      <td>New York City Dept Of Ed</td>\n",
       "      <td>New York (Manhattan)</td>\n",
       "      <td>0</td>\n",
       "      <td>0</td>\n",
       "      <td>0</td>\n",
       "      <td>0</td>\n",
       "      <td>0</td>\n",
       "      <td>0</td>\n",
       "      <td>...</td>\n",
       "      <td>1.0</td>\n",
       "      <td>0.0</td>\n",
       "      <td>1.0</td>\n",
       "      <td>0.0</td>\n",
       "      <td>0.0</td>\n",
       "      <td>0.0</td>\n",
       "      <td>0.0</td>\n",
       "      <td>Technology</td>\n",
       "      <td>49.99</td>\n",
       "      <td>1.0</td>\n",
       "    </tr>\n",
       "    <tr>\n",
       "      <th>f71b0045e9861618c587caf94211d2b7</th>\n",
       "      <td>Los Angeles</td>\n",
       "      <td>CA</td>\n",
       "      <td>Los Angeles Unif Sch Dist</td>\n",
       "      <td>Los Angeles</td>\n",
       "      <td>0</td>\n",
       "      <td>1</td>\n",
       "      <td>0</td>\n",
       "      <td>0</td>\n",
       "      <td>0</td>\n",
       "      <td>0</td>\n",
       "      <td>...</td>\n",
       "      <td>1.0</td>\n",
       "      <td>0.0</td>\n",
       "      <td>0.0</td>\n",
       "      <td>0.0</td>\n",
       "      <td>0.0</td>\n",
       "      <td>1.0</td>\n",
       "      <td>0.0</td>\n",
       "      <td>Technology</td>\n",
       "      <td>629.99</td>\n",
       "      <td>1.0</td>\n",
       "    </tr>\n",
       "    <tr>\n",
       "      <th>d57206aba5f50ea0f8d5f39dd800c4a3</th>\n",
       "      <td>Conway</td>\n",
       "      <td>MO</td>\n",
       "      <td>Laclede Co School District R1</td>\n",
       "      <td>Laclede</td>\n",
       "      <td>0</td>\n",
       "      <td>0</td>\n",
       "      <td>0</td>\n",
       "      <td>0</td>\n",
       "      <td>0</td>\n",
       "      <td>0</td>\n",
       "      <td>...</td>\n",
       "      <td>1.0</td>\n",
       "      <td>0.0</td>\n",
       "      <td>1.0</td>\n",
       "      <td>0.0</td>\n",
       "      <td>0.0</td>\n",
       "      <td>0.0</td>\n",
       "      <td>0.0</td>\n",
       "      <td>Supplies</td>\n",
       "      <td>19.95</td>\n",
       "      <td>1.0</td>\n",
       "    </tr>\n",
       "  </tbody>\n",
       "</table>\n",
       "<p>5 rows × 57 columns</p>\n",
       "</div>"
      ],
      "text/plain": [
       "                                   school_city school_state  \\\n",
       "projectid                                                     \n",
       "f6f0e6128c8a8a3f17b28e93007afe19        Dallas           TX   \n",
       "f8d31f4bf701d1ffa02c7b176c101850  Murfreesboro           TN   \n",
       "99a903f2fe66705702e7e4a77410a806      New York           NY   \n",
       "f71b0045e9861618c587caf94211d2b7   Los Angeles           CA   \n",
       "d57206aba5f50ea0f8d5f39dd800c4a3        Conway           MO   \n",
       "\n",
       "                                                school_district  \\\n",
       "projectid                                                         \n",
       "f6f0e6128c8a8a3f17b28e93007afe19     Dallas Ind School District   \n",
       "f8d31f4bf701d1ffa02c7b176c101850  Murfreesboro City School Dist   \n",
       "99a903f2fe66705702e7e4a77410a806       New York City Dept Of Ed   \n",
       "f71b0045e9861618c587caf94211d2b7      Los Angeles Unif Sch Dist   \n",
       "d57206aba5f50ea0f8d5f39dd800c4a3  Laclede Co School District R1   \n",
       "\n",
       "                                         school_county  school_charter  \\\n",
       "projectid                                                                \n",
       "f6f0e6128c8a8a3f17b28e93007afe19                Dallas               0   \n",
       "f8d31f4bf701d1ffa02c7b176c101850            Rutherford               0   \n",
       "99a903f2fe66705702e7e4a77410a806  New York (Manhattan)               0   \n",
       "f71b0045e9861618c587caf94211d2b7           Los Angeles               0   \n",
       "d57206aba5f50ea0f8d5f39dd800c4a3               Laclede               0   \n",
       "\n",
       "                                  school_magnet  school_year_round  \\\n",
       "projectid                                                            \n",
       "f6f0e6128c8a8a3f17b28e93007afe19              0                  0   \n",
       "f8d31f4bf701d1ffa02c7b176c101850              0                  0   \n",
       "99a903f2fe66705702e7e4a77410a806              0                  0   \n",
       "f71b0045e9861618c587caf94211d2b7              1                  0   \n",
       "d57206aba5f50ea0f8d5f39dd800c4a3              0                  0   \n",
       "\n",
       "                                  school_nlns  school_kipp  \\\n",
       "projectid                                                    \n",
       "f6f0e6128c8a8a3f17b28e93007afe19            0            0   \n",
       "f8d31f4bf701d1ffa02c7b176c101850            0            0   \n",
       "99a903f2fe66705702e7e4a77410a806            0            0   \n",
       "f71b0045e9861618c587caf94211d2b7            0            0   \n",
       "d57206aba5f50ea0f8d5f39dd800c4a3            0            0   \n",
       "\n",
       "                                  school_charter_ready_promise      ...       \\\n",
       "projectid                                                           ...        \n",
       "f6f0e6128c8a8a3f17b28e93007afe19                             0      ...        \n",
       "f8d31f4bf701d1ffa02c7b176c101850                             0      ...        \n",
       "99a903f2fe66705702e7e4a77410a806                             0      ...        \n",
       "f71b0045e9861618c587caf94211d2b7                             0      ...        \n",
       "d57206aba5f50ea0f8d5f39dd800c4a3                             0      ...        \n",
       "\n",
       "                                 donation_included_optional_support  \\\n",
       "projectid                                                             \n",
       "f6f0e6128c8a8a3f17b28e93007afe19                                1.0   \n",
       "f8d31f4bf701d1ffa02c7b176c101850                                1.0   \n",
       "99a903f2fe66705702e7e4a77410a806                                1.0   \n",
       "f71b0045e9861618c587caf94211d2b7                                1.0   \n",
       "d57206aba5f50ea0f8d5f39dd800c4a3                                1.0   \n",
       "\n",
       "                                  payment_included_acct_credit  \\\n",
       "projectid                                                        \n",
       "f6f0e6128c8a8a3f17b28e93007afe19                           1.0   \n",
       "f8d31f4bf701d1ffa02c7b176c101850                           0.0   \n",
       "99a903f2fe66705702e7e4a77410a806                           0.0   \n",
       "f71b0045e9861618c587caf94211d2b7                           0.0   \n",
       "d57206aba5f50ea0f8d5f39dd800c4a3                           0.0   \n",
       "\n",
       "                                  payment_included_campaign_gift_card  \\\n",
       "projectid                                                               \n",
       "f6f0e6128c8a8a3f17b28e93007afe19                                  0.0   \n",
       "f8d31f4bf701d1ffa02c7b176c101850                                  1.0   \n",
       "99a903f2fe66705702e7e4a77410a806                                  1.0   \n",
       "f71b0045e9861618c587caf94211d2b7                                  0.0   \n",
       "d57206aba5f50ea0f8d5f39dd800c4a3                                  1.0   \n",
       "\n",
       "                                 payment_included_web_purchased_gift_card  \\\n",
       "projectid                                                                   \n",
       "f6f0e6128c8a8a3f17b28e93007afe19                                      0.0   \n",
       "f8d31f4bf701d1ffa02c7b176c101850                                      0.0   \n",
       "99a903f2fe66705702e7e4a77410a806                                      0.0   \n",
       "f71b0045e9861618c587caf94211d2b7                                      0.0   \n",
       "d57206aba5f50ea0f8d5f39dd800c4a3                                      0.0   \n",
       "\n",
       "                                 payment_was_promo_matched via_giving_page  \\\n",
       "projectid                                                                    \n",
       "f6f0e6128c8a8a3f17b28e93007afe19                       0.0             0.0   \n",
       "f8d31f4bf701d1ffa02c7b176c101850                       0.0             0.0   \n",
       "99a903f2fe66705702e7e4a77410a806                       0.0             0.0   \n",
       "f71b0045e9861618c587caf94211d2b7                       0.0             1.0   \n",
       "d57206aba5f50ea0f8d5f39dd800c4a3                       0.0             0.0   \n",
       "\n",
       "                                 for_honoree project_resource_type  \\\n",
       "projectid                                                            \n",
       "f6f0e6128c8a8a3f17b28e93007afe19         0.0                 Books   \n",
       "f8d31f4bf701d1ffa02c7b176c101850         1.0            Technology   \n",
       "99a903f2fe66705702e7e4a77410a806         0.0            Technology   \n",
       "f71b0045e9861618c587caf94211d2b7         0.0            Technology   \n",
       "d57206aba5f50ea0f8d5f39dd800c4a3         0.0              Supplies   \n",
       "\n",
       "                                 item_unit_price item_quantity  \n",
       "projectid                                                       \n",
       "f6f0e6128c8a8a3f17b28e93007afe19            4.21           1.0  \n",
       "f8d31f4bf701d1ffa02c7b176c101850          179.99           1.0  \n",
       "99a903f2fe66705702e7e4a77410a806           49.99           1.0  \n",
       "f71b0045e9861618c587caf94211d2b7          629.99           1.0  \n",
       "d57206aba5f50ea0f8d5f39dd800c4a3           19.95           1.0  \n",
       "\n",
       "[5 rows x 57 columns]"
      ]
     },
     "execution_count": 221,
     "metadata": {},
     "output_type": "execute_result"
    }
   ],
   "source": [
    "df = df.replace('f', 0).replace('t', 1)\n",
    "exclude_cols = ['school_latitude', 'school_longitude', 'school_zip',\n",
    "               'donation_message', 'vendor_name', 'item_name', 'item_number', 'school_metro', 'payment_method']\n",
    "left_cols = [col for col in df.columns if (not col.endswith('id')) and col not in exclude_cols]\n",
    "df = df[left_cols]\n",
    "df.head()"
   ]
  },
  {
   "cell_type": "markdown",
   "metadata": {},
   "source": [
    "## 2.4 Correlations between variables"
   ]
  },
  {
   "cell_type": "markdown",
   "metadata": {},
   "source": [
    "In order to investigate the dependence between multiple variables at the same time, we would like to plot a table with correlation coefficients between each variable and the others. The first step is to calculate the correlation matrix, and then plot the heatmap."
   ]
  },
  {
   "cell_type": "code",
   "execution_count": 222,
   "metadata": {},
   "outputs": [
    {
     "data": {
      "text/plain": [
       "<matplotlib.axes._subplots.AxesSubplot at 0x15c6ad2e8>"
      ]
     },
     "execution_count": 222,
     "metadata": {},
     "output_type": "execute_result"
    },
    {
     "data": {
      "image/png": "[encoded data removed]",
      "text/plain": [
       "<matplotlib.figure.Figure at 0x15b44b5c0>"
      ]
     },
     "metadata": {},
     "output_type": "display_data"
    }
   ],
   "source": [
    "corr = df.corr()\n",
    "\n",
    "fig, ax = plt.subplots(figsize=(10,10))  \n",
    "sns.heatmap(corr, \n",
    "        xticklabels=corr.columns,\n",
    "        yticklabels=corr.columns)"
   ]
  },
  {
   "cell_type": "markdown",
   "metadata": {},
   "source": [
    "# Step 3: Pre Process Data"
   ]
  },
  {
   "cell_type": "markdown",
   "metadata": {},
   "source": [
    "## Change non-numberic columns into numeric variables"
   ]
  },
  {
   "cell_type": "markdown",
   "metadata": {},
   "source": [
    "We change all of the categorical and dummy variables into numeric variables."
   ]
  },
  {
   "cell_type": "code",
   "execution_count": 223,
   "metadata": {},
   "outputs": [
    {
     "data": {
      "text/html": [
       "<div>\n",
       "<style>\n",
       "    .dataframe thead tr:only-child th {\n",
       "        text-align: right;\n",
       "    }\n",
       "\n",
       "    .dataframe thead th {\n",
       "        text-align: left;\n",
       "    }\n",
       "\n",
       "    .dataframe tbody tr th {\n",
       "        vertical-align: top;\n",
       "    }\n",
       "</style>\n",
       "<table border=\"1\" class=\"dataframe\">\n",
       "  <thead>\n",
       "    <tr style=\"text-align: right;\">\n",
       "      <th></th>\n",
       "      <th>school_city</th>\n",
       "      <th>school_state</th>\n",
       "      <th>school_district</th>\n",
       "      <th>school_county</th>\n",
       "      <th>teacher_prefix</th>\n",
       "      <th>primary_focus_subject</th>\n",
       "      <th>primary_focus_area</th>\n",
       "      <th>secondary_focus_subject</th>\n",
       "      <th>secondary_focus_area</th>\n",
       "      <th>resource_type</th>\n",
       "      <th>poverty_level</th>\n",
       "      <th>grade_level</th>\n",
       "      <th>donor_city</th>\n",
       "      <th>donor_state</th>\n",
       "      <th>donation_timestamp</th>\n",
       "      <th>dollar_amount</th>\n",
       "      <th>project_resource_type</th>\n",
       "    </tr>\n",
       "    <tr>\n",
       "      <th>projectid</th>\n",
       "      <th></th>\n",
       "      <th></th>\n",
       "      <th></th>\n",
       "      <th></th>\n",
       "      <th></th>\n",
       "      <th></th>\n",
       "      <th></th>\n",
       "      <th></th>\n",
       "      <th></th>\n",
       "      <th></th>\n",
       "      <th></th>\n",
       "      <th></th>\n",
       "      <th></th>\n",
       "      <th></th>\n",
       "      <th></th>\n",
       "      <th></th>\n",
       "      <th></th>\n",
       "    </tr>\n",
       "  </thead>\n",
       "  <tbody>\n",
       "    <tr>\n",
       "      <th>f6f0e6128c8a8a3f17b28e93007afe19</th>\n",
       "      <td>Dallas</td>\n",
       "      <td>TX</td>\n",
       "      <td>Dallas Ind School District</td>\n",
       "      <td>Dallas</td>\n",
       "      <td>Ms.</td>\n",
       "      <td>Visual Arts</td>\n",
       "      <td>Music &amp; The Arts</td>\n",
       "      <td>Literacy</td>\n",
       "      <td>Literacy &amp; Language</td>\n",
       "      <td>Books</td>\n",
       "      <td>highest poverty</td>\n",
       "      <td>Grades 3-5</td>\n",
       "      <td>Desoto</td>\n",
       "      <td>TX</td>\n",
       "      <td>2012-10-20 21:15:28.499</td>\n",
       "      <td>10_to_100</td>\n",
       "      <td>Books</td>\n",
       "    </tr>\n",
       "    <tr>\n",
       "      <th>f8d31f4bf701d1ffa02c7b176c101850</th>\n",
       "      <td>Murfreesboro</td>\n",
       "      <td>TN</td>\n",
       "      <td>Murfreesboro City School Dist</td>\n",
       "      <td>Rutherford</td>\n",
       "      <td>Mrs.</td>\n",
       "      <td>Literacy</td>\n",
       "      <td>Literacy &amp; Language</td>\n",
       "      <td>NaN</td>\n",
       "      <td>NaN</td>\n",
       "      <td>Technology</td>\n",
       "      <td>highest poverty</td>\n",
       "      <td>Grades PreK-2</td>\n",
       "      <td>NaN</td>\n",
       "      <td>TN</td>\n",
       "      <td>2012-11-16 09:31:12.537</td>\n",
       "      <td>10_to_100</td>\n",
       "      <td>Technology</td>\n",
       "    </tr>\n",
       "    <tr>\n",
       "      <th>99a903f2fe66705702e7e4a77410a806</th>\n",
       "      <td>New York</td>\n",
       "      <td>NY</td>\n",
       "      <td>New York City Dept Of Ed</td>\n",
       "      <td>New York (Manhattan)</td>\n",
       "      <td>Mr.</td>\n",
       "      <td>Music</td>\n",
       "      <td>Music &amp; The Arts</td>\n",
       "      <td>NaN</td>\n",
       "      <td>NaN</td>\n",
       "      <td>Technology</td>\n",
       "      <td>highest poverty</td>\n",
       "      <td>Grades 9-12</td>\n",
       "      <td>NaN</td>\n",
       "      <td>NY</td>\n",
       "      <td>2010-10-16 00:06:35.795</td>\n",
       "      <td>10_to_100</td>\n",
       "      <td>Technology</td>\n",
       "    </tr>\n",
       "    <tr>\n",
       "      <th>f71b0045e9861618c587caf94211d2b7</th>\n",
       "      <td>Los Angeles</td>\n",
       "      <td>CA</td>\n",
       "      <td>Los Angeles Unif Sch Dist</td>\n",
       "      <td>Los Angeles</td>\n",
       "      <td>Ms.</td>\n",
       "      <td>Literacy</td>\n",
       "      <td>Literacy &amp; Language</td>\n",
       "      <td>Literature &amp; Writing</td>\n",
       "      <td>Literacy &amp; Language</td>\n",
       "      <td>Technology</td>\n",
       "      <td>high poverty</td>\n",
       "      <td>Grades 9-12</td>\n",
       "      <td>NaN</td>\n",
       "      <td>NY</td>\n",
       "      <td>2013-09-26 23:33:05.684</td>\n",
       "      <td>10_to_100</td>\n",
       "      <td>Technology</td>\n",
       "    </tr>\n",
       "    <tr>\n",
       "      <th>d57206aba5f50ea0f8d5f39dd800c4a3</th>\n",
       "      <td>Conway</td>\n",
       "      <td>MO</td>\n",
       "      <td>Laclede Co School District R1</td>\n",
       "      <td>Laclede</td>\n",
       "      <td>Mrs.</td>\n",
       "      <td>Special Needs</td>\n",
       "      <td>Special Needs</td>\n",
       "      <td>Mathematics</td>\n",
       "      <td>Math &amp; Science</td>\n",
       "      <td>Supplies</td>\n",
       "      <td>high poverty</td>\n",
       "      <td>Grades PreK-2</td>\n",
       "      <td>NaN</td>\n",
       "      <td></td>\n",
       "      <td>2010-04-19 17:51:50.83</td>\n",
       "      <td>under_10</td>\n",
       "      <td>Supplies</td>\n",
       "    </tr>\n",
       "  </tbody>\n",
       "</table>\n",
       "</div>"
      ],
      "text/plain": [
       "                                   school_city school_state  \\\n",
       "projectid                                                     \n",
       "f6f0e6128c8a8a3f17b28e93007afe19        Dallas           TX   \n",
       "f8d31f4bf701d1ffa02c7b176c101850  Murfreesboro           TN   \n",
       "99a903f2fe66705702e7e4a77410a806      New York           NY   \n",
       "f71b0045e9861618c587caf94211d2b7   Los Angeles           CA   \n",
       "d57206aba5f50ea0f8d5f39dd800c4a3        Conway           MO   \n",
       "\n",
       "                                                school_district  \\\n",
       "projectid                                                         \n",
       "f6f0e6128c8a8a3f17b28e93007afe19     Dallas Ind School District   \n",
       "f8d31f4bf701d1ffa02c7b176c101850  Murfreesboro City School Dist   \n",
       "99a903f2fe66705702e7e4a77410a806       New York City Dept Of Ed   \n",
       "f71b0045e9861618c587caf94211d2b7      Los Angeles Unif Sch Dist   \n",
       "d57206aba5f50ea0f8d5f39dd800c4a3  Laclede Co School District R1   \n",
       "\n",
       "                                         school_county teacher_prefix  \\\n",
       "projectid                                                               \n",
       "f6f0e6128c8a8a3f17b28e93007afe19                Dallas            Ms.   \n",
       "f8d31f4bf701d1ffa02c7b176c101850            Rutherford           Mrs.   \n",
       "99a903f2fe66705702e7e4a77410a806  New York (Manhattan)            Mr.   \n",
       "f71b0045e9861618c587caf94211d2b7           Los Angeles            Ms.   \n",
       "d57206aba5f50ea0f8d5f39dd800c4a3               Laclede           Mrs.   \n",
       "\n",
       "                                 primary_focus_subject   primary_focus_area  \\\n",
       "projectid                                                                     \n",
       "f6f0e6128c8a8a3f17b28e93007afe19           Visual Arts     Music & The Arts   \n",
       "f8d31f4bf701d1ffa02c7b176c101850              Literacy  Literacy & Language   \n",
       "99a903f2fe66705702e7e4a77410a806                 Music     Music & The Arts   \n",
       "f71b0045e9861618c587caf94211d2b7              Literacy  Literacy & Language   \n",
       "d57206aba5f50ea0f8d5f39dd800c4a3         Special Needs        Special Needs   \n",
       "\n",
       "                                 secondary_focus_subject secondary_focus_area  \\\n",
       "projectid                                                                       \n",
       "f6f0e6128c8a8a3f17b28e93007afe19                Literacy  Literacy & Language   \n",
       "f8d31f4bf701d1ffa02c7b176c101850                     NaN                  NaN   \n",
       "99a903f2fe66705702e7e4a77410a806                     NaN                  NaN   \n",
       "f71b0045e9861618c587caf94211d2b7    Literature & Writing  Literacy & Language   \n",
       "d57206aba5f50ea0f8d5f39dd800c4a3             Mathematics       Math & Science   \n",
       "\n",
       "                                 resource_type    poverty_level  \\\n",
       "projectid                                                         \n",
       "f6f0e6128c8a8a3f17b28e93007afe19         Books  highest poverty   \n",
       "f8d31f4bf701d1ffa02c7b176c101850    Technology  highest poverty   \n",
       "99a903f2fe66705702e7e4a77410a806    Technology  highest poverty   \n",
       "f71b0045e9861618c587caf94211d2b7    Technology     high poverty   \n",
       "d57206aba5f50ea0f8d5f39dd800c4a3      Supplies     high poverty   \n",
       "\n",
       "                                    grade_level donor_city donor_state  \\\n",
       "projectid                                                                \n",
       "f6f0e6128c8a8a3f17b28e93007afe19     Grades 3-5     Desoto          TX   \n",
       "f8d31f4bf701d1ffa02c7b176c101850  Grades PreK-2        NaN          TN   \n",
       "99a903f2fe66705702e7e4a77410a806    Grades 9-12        NaN          NY   \n",
       "f71b0045e9861618c587caf94211d2b7    Grades 9-12        NaN          NY   \n",
       "d57206aba5f50ea0f8d5f39dd800c4a3  Grades PreK-2        NaN               \n",
       "\n",
       "                                       donation_timestamp dollar_amount  \\\n",
       "projectid                                                                 \n",
       "f6f0e6128c8a8a3f17b28e93007afe19  2012-10-20 21:15:28.499     10_to_100   \n",
       "f8d31f4bf701d1ffa02c7b176c101850  2012-11-16 09:31:12.537     10_to_100   \n",
       "99a903f2fe66705702e7e4a77410a806  2010-10-16 00:06:35.795     10_to_100   \n",
       "f71b0045e9861618c587caf94211d2b7  2013-09-26 23:33:05.684     10_to_100   \n",
       "d57206aba5f50ea0f8d5f39dd800c4a3   2010-04-19 17:51:50.83      under_10   \n",
       "\n",
       "                                 project_resource_type  \n",
       "projectid                                               \n",
       "f6f0e6128c8a8a3f17b28e93007afe19                 Books  \n",
       "f8d31f4bf701d1ffa02c7b176c101850            Technology  \n",
       "99a903f2fe66705702e7e4a77410a806            Technology  \n",
       "f71b0045e9861618c587caf94211d2b7            Technology  \n",
       "d57206aba5f50ea0f8d5f39dd800c4a3              Supplies  "
      ]
     },
     "execution_count": 223,
     "metadata": {},
     "output_type": "execute_result"
    }
   ],
   "source": [
    "def check_not_numberic(df):\n",
    "    check_df = df.applymap(lambda x: isinstance(x, (int, float)))\n",
    "    return [col for col in check_df.columns if any(check_df[col] == False) and col != 'date_posted']\n",
    "str_cols = check_not_numberic(df)\n",
    "df[str_cols].head()"
   ]
  },
  {
   "cell_type": "code",
   "execution_count": 224,
   "metadata": {},
   "outputs": [
    {
     "data": {
      "text/html": [
       "<div>\n",
       "<style>\n",
       "    .dataframe thead tr:only-child th {\n",
       "        text-align: right;\n",
       "    }\n",
       "\n",
       "    .dataframe thead th {\n",
       "        text-align: left;\n",
       "    }\n",
       "\n",
       "    .dataframe tbody tr th {\n",
       "        vertical-align: top;\n",
       "    }\n",
       "</style>\n",
       "<table border=\"1\" class=\"dataframe\">\n",
       "  <thead>\n",
       "    <tr style=\"text-align: right;\">\n",
       "      <th></th>\n",
       "      <th>school_city</th>\n",
       "      <th>school_state</th>\n",
       "      <th>school_district</th>\n",
       "      <th>school_county</th>\n",
       "      <th>school_charter</th>\n",
       "      <th>school_magnet</th>\n",
       "      <th>school_year_round</th>\n",
       "      <th>school_nlns</th>\n",
       "      <th>school_kipp</th>\n",
       "      <th>school_charter_ready_promise</th>\n",
       "      <th>...</th>\n",
       "      <th>donation_included_optional_support</th>\n",
       "      <th>payment_included_acct_credit</th>\n",
       "      <th>payment_included_campaign_gift_card</th>\n",
       "      <th>payment_included_web_purchased_gift_card</th>\n",
       "      <th>payment_was_promo_matched</th>\n",
       "      <th>via_giving_page</th>\n",
       "      <th>for_honoree</th>\n",
       "      <th>project_resource_type</th>\n",
       "      <th>item_unit_price</th>\n",
       "      <th>item_quantity</th>\n",
       "    </tr>\n",
       "    <tr>\n",
       "      <th>projectid</th>\n",
       "      <th></th>\n",
       "      <th></th>\n",
       "      <th></th>\n",
       "      <th></th>\n",
       "      <th></th>\n",
       "      <th></th>\n",
       "      <th></th>\n",
       "      <th></th>\n",
       "      <th></th>\n",
       "      <th></th>\n",
       "      <th></th>\n",
       "      <th></th>\n",
       "      <th></th>\n",
       "      <th></th>\n",
       "      <th></th>\n",
       "      <th></th>\n",
       "      <th></th>\n",
       "      <th></th>\n",
       "      <th></th>\n",
       "      <th></th>\n",
       "      <th></th>\n",
       "    </tr>\n",
       "  </thead>\n",
       "  <tbody>\n",
       "    <tr>\n",
       "      <th>f6f0e6128c8a8a3f17b28e93007afe19</th>\n",
       "      <td>273</td>\n",
       "      <td>43</td>\n",
       "      <td>291</td>\n",
       "      <td>150</td>\n",
       "      <td>0</td>\n",
       "      <td>0</td>\n",
       "      <td>0</td>\n",
       "      <td>0</td>\n",
       "      <td>0</td>\n",
       "      <td>0</td>\n",
       "      <td>...</td>\n",
       "      <td>1.0</td>\n",
       "      <td>1.0</td>\n",
       "      <td>0.0</td>\n",
       "      <td>0.0</td>\n",
       "      <td>0.0</td>\n",
       "      <td>0.0</td>\n",
       "      <td>0.0</td>\n",
       "      <td>0</td>\n",
       "      <td>4.21</td>\n",
       "      <td>1.0</td>\n",
       "    </tr>\n",
       "    <tr>\n",
       "      <th>f8d31f4bf701d1ffa02c7b176c101850</th>\n",
       "      <td>809</td>\n",
       "      <td>42</td>\n",
       "      <td>792</td>\n",
       "      <td>460</td>\n",
       "      <td>0</td>\n",
       "      <td>0</td>\n",
       "      <td>0</td>\n",
       "      <td>0</td>\n",
       "      <td>0</td>\n",
       "      <td>0</td>\n",
       "      <td>...</td>\n",
       "      <td>1.0</td>\n",
       "      <td>0.0</td>\n",
       "      <td>1.0</td>\n",
       "      <td>0.0</td>\n",
       "      <td>0.0</td>\n",
       "      <td>0.0</td>\n",
       "      <td>1.0</td>\n",
       "      <td>3</td>\n",
       "      <td>179.99</td>\n",
       "      <td>1.0</td>\n",
       "    </tr>\n",
       "    <tr>\n",
       "      <th>99a903f2fe66705702e7e4a77410a806</th>\n",
       "      <td>840</td>\n",
       "      <td>34</td>\n",
       "      <td>819</td>\n",
       "      <td>376</td>\n",
       "      <td>0</td>\n",
       "      <td>0</td>\n",
       "      <td>0</td>\n",
       "      <td>0</td>\n",
       "      <td>0</td>\n",
       "      <td>0</td>\n",
       "      <td>...</td>\n",
       "      <td>1.0</td>\n",
       "      <td>0.0</td>\n",
       "      <td>1.0</td>\n",
       "      <td>0.0</td>\n",
       "      <td>0.0</td>\n",
       "      <td>0.0</td>\n",
       "      <td>0.0</td>\n",
       "      <td>3</td>\n",
       "      <td>49.99</td>\n",
       "      <td>1.0</td>\n",
       "    </tr>\n",
       "    <tr>\n",
       "      <th>f71b0045e9861618c587caf94211d2b7</th>\n",
       "      <td>677</td>\n",
       "      <td>4</td>\n",
       "      <td>674</td>\n",
       "      <td>308</td>\n",
       "      <td>0</td>\n",
       "      <td>1</td>\n",
       "      <td>0</td>\n",
       "      <td>0</td>\n",
       "      <td>0</td>\n",
       "      <td>0</td>\n",
       "      <td>...</td>\n",
       "      <td>1.0</td>\n",
       "      <td>0.0</td>\n",
       "      <td>0.0</td>\n",
       "      <td>0.0</td>\n",
       "      <td>0.0</td>\n",
       "      <td>1.0</td>\n",
       "      <td>0.0</td>\n",
       "      <td>3</td>\n",
       "      <td>629.99</td>\n",
       "      <td>1.0</td>\n",
       "    </tr>\n",
       "    <tr>\n",
       "      <th>d57206aba5f50ea0f8d5f39dd800c4a3</th>\n",
       "      <td>241</td>\n",
       "      <td>24</td>\n",
       "      <td>614</td>\n",
       "      <td>288</td>\n",
       "      <td>0</td>\n",
       "      <td>0</td>\n",
       "      <td>0</td>\n",
       "      <td>0</td>\n",
       "      <td>0</td>\n",
       "      <td>0</td>\n",
       "      <td>...</td>\n",
       "      <td>1.0</td>\n",
       "      <td>0.0</td>\n",
       "      <td>1.0</td>\n",
       "      <td>0.0</td>\n",
       "      <td>0.0</td>\n",
       "      <td>0.0</td>\n",
       "      <td>0.0</td>\n",
       "      <td>2</td>\n",
       "      <td>19.95</td>\n",
       "      <td>1.0</td>\n",
       "    </tr>\n",
       "  </tbody>\n",
       "</table>\n",
       "<p>5 rows × 57 columns</p>\n",
       "</div>"
      ],
      "text/plain": [
       "                                  school_city  school_state  school_district  \\\n",
       "projectid                                                                      \n",
       "f6f0e6128c8a8a3f17b28e93007afe19          273            43              291   \n",
       "f8d31f4bf701d1ffa02c7b176c101850          809            42              792   \n",
       "99a903f2fe66705702e7e4a77410a806          840            34              819   \n",
       "f71b0045e9861618c587caf94211d2b7          677             4              674   \n",
       "d57206aba5f50ea0f8d5f39dd800c4a3          241            24              614   \n",
       "\n",
       "                                  school_county  school_charter  \\\n",
       "projectid                                                         \n",
       "f6f0e6128c8a8a3f17b28e93007afe19            150               0   \n",
       "f8d31f4bf701d1ffa02c7b176c101850            460               0   \n",
       "99a903f2fe66705702e7e4a77410a806            376               0   \n",
       "f71b0045e9861618c587caf94211d2b7            308               0   \n",
       "d57206aba5f50ea0f8d5f39dd800c4a3            288               0   \n",
       "\n",
       "                                  school_magnet  school_year_round  \\\n",
       "projectid                                                            \n",
       "f6f0e6128c8a8a3f17b28e93007afe19              0                  0   \n",
       "f8d31f4bf701d1ffa02c7b176c101850              0                  0   \n",
       "99a903f2fe66705702e7e4a77410a806              0                  0   \n",
       "f71b0045e9861618c587caf94211d2b7              1                  0   \n",
       "d57206aba5f50ea0f8d5f39dd800c4a3              0                  0   \n",
       "\n",
       "                                  school_nlns  school_kipp  \\\n",
       "projectid                                                    \n",
       "f6f0e6128c8a8a3f17b28e93007afe19            0            0   \n",
       "f8d31f4bf701d1ffa02c7b176c101850            0            0   \n",
       "99a903f2fe66705702e7e4a77410a806            0            0   \n",
       "f71b0045e9861618c587caf94211d2b7            0            0   \n",
       "d57206aba5f50ea0f8d5f39dd800c4a3            0            0   \n",
       "\n",
       "                                  school_charter_ready_promise      ...        \\\n",
       "projectid                                                           ...         \n",
       "f6f0e6128c8a8a3f17b28e93007afe19                             0      ...         \n",
       "f8d31f4bf701d1ffa02c7b176c101850                             0      ...         \n",
       "99a903f2fe66705702e7e4a77410a806                             0      ...         \n",
       "f71b0045e9861618c587caf94211d2b7                             0      ...         \n",
       "d57206aba5f50ea0f8d5f39dd800c4a3                             0      ...         \n",
       "\n",
       "                                  donation_included_optional_support  \\\n",
       "projectid                                                              \n",
       "f6f0e6128c8a8a3f17b28e93007afe19                                 1.0   \n",
       "f8d31f4bf701d1ffa02c7b176c101850                                 1.0   \n",
       "99a903f2fe66705702e7e4a77410a806                                 1.0   \n",
       "f71b0045e9861618c587caf94211d2b7                                 1.0   \n",
       "d57206aba5f50ea0f8d5f39dd800c4a3                                 1.0   \n",
       "\n",
       "                                  payment_included_acct_credit  \\\n",
       "projectid                                                        \n",
       "f6f0e6128c8a8a3f17b28e93007afe19                           1.0   \n",
       "f8d31f4bf701d1ffa02c7b176c101850                           0.0   \n",
       "99a903f2fe66705702e7e4a77410a806                           0.0   \n",
       "f71b0045e9861618c587caf94211d2b7                           0.0   \n",
       "d57206aba5f50ea0f8d5f39dd800c4a3                           0.0   \n",
       "\n",
       "                                  payment_included_campaign_gift_card  \\\n",
       "projectid                                                               \n",
       "f6f0e6128c8a8a3f17b28e93007afe19                                  0.0   \n",
       "f8d31f4bf701d1ffa02c7b176c101850                                  1.0   \n",
       "99a903f2fe66705702e7e4a77410a806                                  1.0   \n",
       "f71b0045e9861618c587caf94211d2b7                                  0.0   \n",
       "d57206aba5f50ea0f8d5f39dd800c4a3                                  1.0   \n",
       "\n",
       "                                  payment_included_web_purchased_gift_card  \\\n",
       "projectid                                                                    \n",
       "f6f0e6128c8a8a3f17b28e93007afe19                                       0.0   \n",
       "f8d31f4bf701d1ffa02c7b176c101850                                       0.0   \n",
       "99a903f2fe66705702e7e4a77410a806                                       0.0   \n",
       "f71b0045e9861618c587caf94211d2b7                                       0.0   \n",
       "d57206aba5f50ea0f8d5f39dd800c4a3                                       0.0   \n",
       "\n",
       "                                  payment_was_promo_matched  via_giving_page  \\\n",
       "projectid                                                                      \n",
       "f6f0e6128c8a8a3f17b28e93007afe19                        0.0              0.0   \n",
       "f8d31f4bf701d1ffa02c7b176c101850                        0.0              0.0   \n",
       "99a903f2fe66705702e7e4a77410a806                        0.0              0.0   \n",
       "f71b0045e9861618c587caf94211d2b7                        0.0              1.0   \n",
       "d57206aba5f50ea0f8d5f39dd800c4a3                        0.0              0.0   \n",
       "\n",
       "                                  for_honoree  project_resource_type  \\\n",
       "projectid                                                              \n",
       "f6f0e6128c8a8a3f17b28e93007afe19          0.0                      0   \n",
       "f8d31f4bf701d1ffa02c7b176c101850          1.0                      3   \n",
       "99a903f2fe66705702e7e4a77410a806          0.0                      3   \n",
       "f71b0045e9861618c587caf94211d2b7          0.0                      3   \n",
       "d57206aba5f50ea0f8d5f39dd800c4a3          0.0                      2   \n",
       "\n",
       "                                  item_unit_price  item_quantity  \n",
       "projectid                                                         \n",
       "f6f0e6128c8a8a3f17b28e93007afe19             4.21            1.0  \n",
       "f8d31f4bf701d1ffa02c7b176c101850           179.99            1.0  \n",
       "99a903f2fe66705702e7e4a77410a806            49.99            1.0  \n",
       "f71b0045e9861618c587caf94211d2b7           629.99            1.0  \n",
       "d57206aba5f50ea0f8d5f39dd800c4a3            19.95            1.0  \n",
       "\n",
       "[5 rows x 57 columns]"
      ]
     },
     "execution_count": 224,
     "metadata": {},
     "output_type": "execute_result"
    }
   ],
   "source": [
    "for col in str_cols:\n",
    "    df[col] = df[col].astype('category').cat.codes\n",
    "\n",
    "df.head()"
   ]
  },
  {
   "cell_type": "markdown",
   "metadata": {},
   "source": [
    "## Check and Fill out missing value"
   ]
  },
  {
   "cell_type": "markdown",
   "metadata": {},
   "source": [
    "A standard and often very good approach is to replace missing values with mean, median and zeros. For numerical values we usually go with mean. If there are some outliers, try median first since it is less sensitive to them."
   ]
  },
  {
   "cell_type": "code",
   "execution_count": 225,
   "metadata": {},
   "outputs": [
    {
     "data": {
      "text/plain": [
       "['fulfillment_labor_materials',\n",
       " 'is_exciting',\n",
       " 'at_least_1_teacher_referred_donor',\n",
       " 'fully_funded',\n",
       " 'at_least_1_green_donation',\n",
       " 'great_chat',\n",
       " 'three_or_more_non_teacher_referred_donors',\n",
       " 'one_non_teacher_referred_donor_giving_100_plus',\n",
       " 'donation_from_thoughtful_donor',\n",
       " 'great_messages_proportion',\n",
       " 'teacher_referred_count',\n",
       " 'non_teacher_referred_count',\n",
       " 'donor_zip',\n",
       " 'is_teacher_acct',\n",
       " 'donation_to_project',\n",
       " 'donation_optional_support',\n",
       " 'donation_total',\n",
       " 'donation_included_optional_support',\n",
       " 'payment_included_acct_credit',\n",
       " 'payment_included_campaign_gift_card',\n",
       " 'payment_included_web_purchased_gift_card',\n",
       " 'payment_was_promo_matched',\n",
       " 'via_giving_page',\n",
       " 'for_honoree',\n",
       " 'item_unit_price',\n",
       " 'item_quantity']"
      ]
     },
     "execution_count": 225,
     "metadata": {},
     "output_type": "execute_result"
    }
   ],
   "source": [
    "def check_missing(df):\n",
    "    return [col for col in df.columns if any(df[col].isnull()) == True]\n",
    "\n",
    "def fill_missing(df, col_name, method):\n",
    "    if method == 'mean':\n",
    "        df[col_name] = df[col_name].fillna(df[col_name].mean())\n",
    "    elif method == 'median':\n",
    "        df[col_name] = df[col_name].fillna(df[col_name].median())\n",
    "    elif method == 'zero':\n",
    "        df[col_name] = df[col_name].fillna(0)\n",
    "        \n",
    "missing_cols = check_missing(df)\n",
    "missing_cols"
   ]
  },
  {
   "cell_type": "code",
   "execution_count": 226,
   "metadata": {},
   "outputs": [
    {
     "data": {
      "text/plain": [
       "[]"
      ]
     },
     "execution_count": 226,
     "metadata": {},
     "output_type": "execute_result"
    }
   ],
   "source": [
    "for col in missing_cols:\n",
    "    fill_missing(df, col, 'mean')\n",
    "check_missing(df)"
   ]
  },
  {
   "cell_type": "markdown",
   "metadata": {},
   "source": [
    "As we can see, there is no missing values."
   ]
  },
  {
   "cell_type": "markdown",
   "metadata": {},
   "source": [
    "## Drop out outliers"
   ]
  },
  {
   "cell_type": "markdown",
   "metadata": {},
   "source": [
    "The impact of outliers could be not only seen in predictive modeling but also in statistical tests where it reduced the power of tests. Most paremetric statistics like means, standard deviations and correlations, and every statistics based on these, are highly sensitive to outliers. We care for the impact of outliers in predictivae modeling in this case.\n",
    "\n",
    "From the statistics below, in order to get a better fit and more general solutions, we first detecting outliers, and then use '(data - mean) < 3 * std' to determine whether to drop these outliers."
   ]
  },
  {
   "cell_type": "code",
   "execution_count": 227,
   "metadata": {},
   "outputs": [
    {
     "data": {
      "text/html": [
       "<div>\n",
       "<style>\n",
       "    .dataframe thead tr:only-child th {\n",
       "        text-align: right;\n",
       "    }\n",
       "\n",
       "    .dataframe thead th {\n",
       "        text-align: left;\n",
       "    }\n",
       "\n",
       "    .dataframe tbody tr th {\n",
       "        vertical-align: top;\n",
       "    }\n",
       "</style>\n",
       "<table border=\"1\" class=\"dataframe\">\n",
       "  <thead>\n",
       "    <tr style=\"text-align: right;\">\n",
       "      <th></th>\n",
       "      <th>school_city</th>\n",
       "      <th>school_state</th>\n",
       "      <th>school_district</th>\n",
       "      <th>school_county</th>\n",
       "      <th>school_charter</th>\n",
       "      <th>school_magnet</th>\n",
       "      <th>school_year_round</th>\n",
       "      <th>school_nlns</th>\n",
       "      <th>school_kipp</th>\n",
       "      <th>school_charter_ready_promise</th>\n",
       "      <th>...</th>\n",
       "      <th>donation_included_optional_support</th>\n",
       "      <th>payment_included_acct_credit</th>\n",
       "      <th>payment_included_campaign_gift_card</th>\n",
       "      <th>payment_included_web_purchased_gift_card</th>\n",
       "      <th>payment_was_promo_matched</th>\n",
       "      <th>via_giving_page</th>\n",
       "      <th>for_honoree</th>\n",
       "      <th>project_resource_type</th>\n",
       "      <th>item_unit_price</th>\n",
       "      <th>item_quantity</th>\n",
       "    </tr>\n",
       "  </thead>\n",
       "  <tbody>\n",
       "    <tr>\n",
       "      <th>count</th>\n",
       "      <td>5000.000000</td>\n",
       "      <td>5000.000000</td>\n",
       "      <td>5000.000000</td>\n",
       "      <td>5000.00000</td>\n",
       "      <td>5000.000000</td>\n",
       "      <td>5000.000000</td>\n",
       "      <td>5000.000000</td>\n",
       "      <td>5000.00000</td>\n",
       "      <td>5000.000000</td>\n",
       "      <td>5000.000000</td>\n",
       "      <td>...</td>\n",
       "      <td>5000.000000</td>\n",
       "      <td>5000.000000</td>\n",
       "      <td>5000.000000</td>\n",
       "      <td>5000.000000</td>\n",
       "      <td>5000.000000</td>\n",
       "      <td>5000.000000</td>\n",
       "      <td>5000.000000</td>\n",
       "      <td>5000.000000</td>\n",
       "      <td>5000.000000</td>\n",
       "      <td>5000.000000</td>\n",
       "    </tr>\n",
       "    <tr>\n",
       "      <th>mean</th>\n",
       "      <td>635.293400</td>\n",
       "      <td>21.778600</td>\n",
       "      <td>652.983400</td>\n",
       "      <td>291.78820</td>\n",
       "      <td>0.123600</td>\n",
       "      <td>0.094400</td>\n",
       "      <td>0.047800</td>\n",
       "      <td>0.01660</td>\n",
       "      <td>0.011000</td>\n",
       "      <td>0.010000</td>\n",
       "      <td>...</td>\n",
       "      <td>0.904229</td>\n",
       "      <td>0.103648</td>\n",
       "      <td>0.326907</td>\n",
       "      <td>0.051410</td>\n",
       "      <td>0.079602</td>\n",
       "      <td>0.325871</td>\n",
       "      <td>0.022388</td>\n",
       "      <td>1.193200</td>\n",
       "      <td>83.144710</td>\n",
       "      <td>3.312638</td>\n",
       "    </tr>\n",
       "    <tr>\n",
       "      <th>std</th>\n",
       "      <td>383.537312</td>\n",
       "      <td>15.254236</td>\n",
       "      <td>336.543277</td>\n",
       "      <td>153.95501</td>\n",
       "      <td>0.329158</td>\n",
       "      <td>0.292414</td>\n",
       "      <td>0.213364</td>\n",
       "      <td>0.12778</td>\n",
       "      <td>0.104313</td>\n",
       "      <td>0.099509</td>\n",
       "      <td>...</td>\n",
       "      <td>0.289080</td>\n",
       "      <td>0.299421</td>\n",
       "      <td>0.460799</td>\n",
       "      <td>0.216932</td>\n",
       "      <td>0.265896</td>\n",
       "      <td>0.460422</td>\n",
       "      <td>0.145329</td>\n",
       "      <td>1.137072</td>\n",
       "      <td>1353.891719</td>\n",
       "      <td>16.998623</td>\n",
       "    </tr>\n",
       "    <tr>\n",
       "      <th>min</th>\n",
       "      <td>0.000000</td>\n",
       "      <td>0.000000</td>\n",
       "      <td>-1.000000</td>\n",
       "      <td>0.00000</td>\n",
       "      <td>0.000000</td>\n",
       "      <td>0.000000</td>\n",
       "      <td>0.000000</td>\n",
       "      <td>0.00000</td>\n",
       "      <td>0.000000</td>\n",
       "      <td>0.000000</td>\n",
       "      <td>...</td>\n",
       "      <td>0.000000</td>\n",
       "      <td>0.000000</td>\n",
       "      <td>0.000000</td>\n",
       "      <td>0.000000</td>\n",
       "      <td>0.000000</td>\n",
       "      <td>0.000000</td>\n",
       "      <td>0.000000</td>\n",
       "      <td>-1.000000</td>\n",
       "      <td>0.000000</td>\n",
       "      <td>0.000000</td>\n",
       "    </tr>\n",
       "    <tr>\n",
       "      <th>25%</th>\n",
       "      <td>244.000000</td>\n",
       "      <td>5.750000</td>\n",
       "      <td>377.000000</td>\n",
       "      <td>166.00000</td>\n",
       "      <td>0.000000</td>\n",
       "      <td>0.000000</td>\n",
       "      <td>0.000000</td>\n",
       "      <td>0.00000</td>\n",
       "      <td>0.000000</td>\n",
       "      <td>0.000000</td>\n",
       "      <td>...</td>\n",
       "      <td>1.000000</td>\n",
       "      <td>0.000000</td>\n",
       "      <td>0.000000</td>\n",
       "      <td>0.000000</td>\n",
       "      <td>0.000000</td>\n",
       "      <td>0.000000</td>\n",
       "      <td>0.000000</td>\n",
       "      <td>0.000000</td>\n",
       "      <td>6.300000</td>\n",
       "      <td>1.000000</td>\n",
       "    </tr>\n",
       "    <tr>\n",
       "      <th>50%</th>\n",
       "      <td>677.000000</td>\n",
       "      <td>19.000000</td>\n",
       "      <td>674.000000</td>\n",
       "      <td>308.00000</td>\n",
       "      <td>0.000000</td>\n",
       "      <td>0.000000</td>\n",
       "      <td>0.000000</td>\n",
       "      <td>0.00000</td>\n",
       "      <td>0.000000</td>\n",
       "      <td>0.000000</td>\n",
       "      <td>...</td>\n",
       "      <td>1.000000</td>\n",
       "      <td>0.000000</td>\n",
       "      <td>0.000000</td>\n",
       "      <td>0.000000</td>\n",
       "      <td>0.000000</td>\n",
       "      <td>0.000000</td>\n",
       "      <td>0.000000</td>\n",
       "      <td>1.000000</td>\n",
       "      <td>14.560000</td>\n",
       "      <td>1.000000</td>\n",
       "    </tr>\n",
       "    <tr>\n",
       "      <th>75%</th>\n",
       "      <td>965.000000</td>\n",
       "      <td>34.000000</td>\n",
       "      <td>894.000000</td>\n",
       "      <td>396.00000</td>\n",
       "      <td>0.000000</td>\n",
       "      <td>0.000000</td>\n",
       "      <td>0.000000</td>\n",
       "      <td>0.00000</td>\n",
       "      <td>0.000000</td>\n",
       "      <td>0.000000</td>\n",
       "      <td>...</td>\n",
       "      <td>1.000000</td>\n",
       "      <td>0.000000</td>\n",
       "      <td>1.000000</td>\n",
       "      <td>0.000000</td>\n",
       "      <td>0.000000</td>\n",
       "      <td>1.000000</td>\n",
       "      <td>0.000000</td>\n",
       "      <td>2.000000</td>\n",
       "      <td>39.950000</td>\n",
       "      <td>2.000000</td>\n",
       "    </tr>\n",
       "    <tr>\n",
       "      <th>max</th>\n",
       "      <td>1310.000000</td>\n",
       "      <td>50.000000</td>\n",
       "      <td>1284.000000</td>\n",
       "      <td>602.00000</td>\n",
       "      <td>1.000000</td>\n",
       "      <td>1.000000</td>\n",
       "      <td>1.000000</td>\n",
       "      <td>1.00000</td>\n",
       "      <td>1.000000</td>\n",
       "      <td>1.000000</td>\n",
       "      <td>...</td>\n",
       "      <td>1.000000</td>\n",
       "      <td>1.000000</td>\n",
       "      <td>1.000000</td>\n",
       "      <td>1.000000</td>\n",
       "      <td>1.000000</td>\n",
       "      <td>1.000000</td>\n",
       "      <td>1.000000</td>\n",
       "      <td>5.000000</td>\n",
       "      <td>93425.780000</td>\n",
       "      <td>1000.000000</td>\n",
       "    </tr>\n",
       "  </tbody>\n",
       "</table>\n",
       "<p>8 rows × 56 columns</p>\n",
       "</div>"
      ],
      "text/plain": [
       "       school_city  school_state  school_district  school_county  \\\n",
       "count  5000.000000   5000.000000      5000.000000     5000.00000   \n",
       "mean    635.293400     21.778600       652.983400      291.78820   \n",
       "std     383.537312     15.254236       336.543277      153.95501   \n",
       "min       0.000000      0.000000        -1.000000        0.00000   \n",
       "25%     244.000000      5.750000       377.000000      166.00000   \n",
       "50%     677.000000     19.000000       674.000000      308.00000   \n",
       "75%     965.000000     34.000000       894.000000      396.00000   \n",
       "max    1310.000000     50.000000      1284.000000      602.00000   \n",
       "\n",
       "       school_charter  school_magnet  school_year_round  school_nlns  \\\n",
       "count     5000.000000    5000.000000        5000.000000   5000.00000   \n",
       "mean         0.123600       0.094400           0.047800      0.01660   \n",
       "std          0.329158       0.292414           0.213364      0.12778   \n",
       "min          0.000000       0.000000           0.000000      0.00000   \n",
       "25%          0.000000       0.000000           0.000000      0.00000   \n",
       "50%          0.000000       0.000000           0.000000      0.00000   \n",
       "75%          0.000000       0.000000           0.000000      0.00000   \n",
       "max          1.000000       1.000000           1.000000      1.00000   \n",
       "\n",
       "       school_kipp  school_charter_ready_promise      ...        \\\n",
       "count  5000.000000                   5000.000000      ...         \n",
       "mean      0.011000                      0.010000      ...         \n",
       "std       0.104313                      0.099509      ...         \n",
       "min       0.000000                      0.000000      ...         \n",
       "25%       0.000000                      0.000000      ...         \n",
       "50%       0.000000                      0.000000      ...         \n",
       "75%       0.000000                      0.000000      ...         \n",
       "max       1.000000                      1.000000      ...         \n",
       "\n",
       "       donation_included_optional_support  payment_included_acct_credit  \\\n",
       "count                         5000.000000                   5000.000000   \n",
       "mean                             0.904229                      0.103648   \n",
       "std                              0.289080                      0.299421   \n",
       "min                              0.000000                      0.000000   \n",
       "25%                              1.000000                      0.000000   \n",
       "50%                              1.000000                      0.000000   \n",
       "75%                              1.000000                      0.000000   \n",
       "max                              1.000000                      1.000000   \n",
       "\n",
       "       payment_included_campaign_gift_card  \\\n",
       "count                          5000.000000   \n",
       "mean                              0.326907   \n",
       "std                               0.460799   \n",
       "min                               0.000000   \n",
       "25%                               0.000000   \n",
       "50%                               0.000000   \n",
       "75%                               1.000000   \n",
       "max                               1.000000   \n",
       "\n",
       "       payment_included_web_purchased_gift_card  payment_was_promo_matched  \\\n",
       "count                               5000.000000                5000.000000   \n",
       "mean                                   0.051410                   0.079602   \n",
       "std                                    0.216932                   0.265896   \n",
       "min                                    0.000000                   0.000000   \n",
       "25%                                    0.000000                   0.000000   \n",
       "50%                                    0.000000                   0.000000   \n",
       "75%                                    0.000000                   0.000000   \n",
       "max                                    1.000000                   1.000000   \n",
       "\n",
       "       via_giving_page  for_honoree  project_resource_type  item_unit_price  \\\n",
       "count      5000.000000  5000.000000            5000.000000      5000.000000   \n",
       "mean          0.325871     0.022388               1.193200        83.144710   \n",
       "std           0.460422     0.145329               1.137072      1353.891719   \n",
       "min           0.000000     0.000000              -1.000000         0.000000   \n",
       "25%           0.000000     0.000000               0.000000         6.300000   \n",
       "50%           0.000000     0.000000               1.000000        14.560000   \n",
       "75%           1.000000     0.000000               2.000000        39.950000   \n",
       "max           1.000000     1.000000               5.000000     93425.780000   \n",
       "\n",
       "       item_quantity  \n",
       "count    5000.000000  \n",
       "mean        3.312638  \n",
       "std        16.998623  \n",
       "min         0.000000  \n",
       "25%         1.000000  \n",
       "50%         1.000000  \n",
       "75%         2.000000  \n",
       "max      1000.000000  \n",
       "\n",
       "[8 rows x 56 columns]"
      ]
     },
     "execution_count": 227,
     "metadata": {},
     "output_type": "execute_result"
    }
   ],
   "source": [
    "df.describe()"
   ]
  },
  {
   "cell_type": "code",
   "execution_count": 228,
   "metadata": {},
   "outputs": [
    {
     "data": {
      "text/plain": [
       "[('school_magnet', 472), ('donation_included_optional_support', 462)]"
      ]
     },
     "execution_count": 228,
     "metadata": {},
     "output_type": "execute_result"
    }
   ],
   "source": [
    "def find_outliers(df, col):\n",
    "    return df[((df[col] - df[col].mean()) / df[col].std()).abs() >= 3]\n",
    "\n",
    "def find_all_outliers(df):\n",
    "    counter = []\n",
    "    for f in df.columns:\n",
    "        if f != 'date_posted':\n",
    "            counter.append((f, len(find_outliers(df, f))))\n",
    "    counter.sort(key=lambda x: x[1], reverse=True)\n",
    "    counter = counter[:2]\n",
    "    return counter\n",
    "        \n",
    "cols = find_all_outliers(df)\n",
    "cols"
   ]
  },
  {
   "cell_type": "code",
   "execution_count": 229,
   "metadata": {},
   "outputs": [
    {
     "name": "stdout",
     "output_type": "stream",
     "text": [
      "drop out 895 outliers\n"
     ]
    }
   ],
   "source": [
    "# use (data - mean) < 3 * std to determine whether to drop\n",
    "def drop_outliers(df, col):\n",
    "    return df[((df[col] - df[col].mean()) / df[col].std()).abs() < 3]\n",
    "old_len = len(df)\n",
    "for f, _ in cols:\n",
    "    df = drop_outliers(df, f)\n",
    "\n",
    "print('drop out {} outliers'.format(old_len - len(df)))"
   ]
  },
  {
   "cell_type": "markdown",
   "metadata": {},
   "source": [
    "# Step 4: Generate Features"
   ]
  },
  {
   "cell_type": "markdown",
   "metadata": {},
   "source": [
    "There are 54 variables in our data. Unneeded, irrelevant and redundant attributes from data that do not contribute to the accuracy of a predictive model or may in fact decrease the accuracy of the model. In order to find variables that most contribute to the prediction variable, we first plot and rank features importance. This step will help us reduce overfitting problem, improve accuracy and reduce training time."
   ]
  },
  {
   "cell_type": "code",
   "execution_count": 230,
   "metadata": {},
   "outputs": [
    {
     "data": {
      "image/png": "[encoded data removed]",
      "text/plain": [
       "<matplotlib.figure.Figure at 0x1564f7908>"
      ]
     },
     "metadata": {},
     "output_type": "display_data"
    }
   ],
   "source": [
    "def sort_features_through_dt(df_features, df_label):\n",
    "    features = df_features.columns\n",
    "    model = DecisionTreeClassifier()\n",
    "    model.fit(df_features, df_label)\n",
    "    importances = model.feature_importances_\n",
    "    sorted_idx = np.argsort(importances)\n",
    "    padding = np.arange(len(features)) + 0.5\n",
    "    plt.figure(figsize=(8, 12))\n",
    "    plt.barh(padding, importances[sorted_idx], align='center')\n",
    "    plt.yticks(padding, np.asarray(features)[sorted_idx])\n",
    "    plt.xlabel(\"Relative Importance\")\n",
    "    plt.title(\"Features Importance Through DT\")\n",
    "    \n",
    "    return list(np.asarray(features)[sorted_idx][::-1])\n",
    "\n",
    "df['fully_funded'] = df['fully_funded'].astype('int')\n",
    "all_x= df.drop(['date_posted', 'fully_funded'], axis=1)\n",
    "all_y = df['fully_funded']\n",
    "\n",
    "sorted_train_features = sort_features_through_dt(all_x, all_y)"
   ]
  },
  {
   "cell_type": "markdown",
   "metadata": {},
   "source": [
    "Fewer attributes is desirable because it reduces the complexity of the model, and a simpler model is simpler to understand and explain. Thus, we would like to select the top 1/3 features into the predictive model."
   ]
  },
  {
   "cell_type": "code",
   "execution_count": 231,
   "metadata": {},
   "outputs": [
    {
     "data": {
      "text/html": [
       "<div>\n",
       "<style>\n",
       "    .dataframe thead tr:only-child th {\n",
       "        text-align: right;\n",
       "    }\n",
       "\n",
       "    .dataframe thead th {\n",
       "        text-align: left;\n",
       "    }\n",
       "\n",
       "    .dataframe tbody tr th {\n",
       "        vertical-align: top;\n",
       "    }\n",
       "</style>\n",
       "<table border=\"1\" class=\"dataframe\">\n",
       "  <thead>\n",
       "    <tr style=\"text-align: right;\">\n",
       "      <th></th>\n",
       "      <th>dollar_amount</th>\n",
       "      <th>teacher_referred_count</th>\n",
       "      <th>total_price_including_optional_support</th>\n",
       "      <th>non_teacher_referred_count</th>\n",
       "      <th>one_non_teacher_referred_donor_giving_100_plus</th>\n",
       "      <th>total_price_excluding_optional_support</th>\n",
       "      <th>donation_timestamp</th>\n",
       "      <th>item_unit_price</th>\n",
       "      <th>school_district</th>\n",
       "      <th>donation_optional_support</th>\n",
       "      <th>students_reached</th>\n",
       "      <th>school_city</th>\n",
       "      <th>is_exciting</th>\n",
       "      <th>great_messages_proportion</th>\n",
       "      <th>donation_to_project</th>\n",
       "      <th>school_county</th>\n",
       "      <th>donation_total</th>\n",
       "      <th>donor_state</th>\n",
       "    </tr>\n",
       "    <tr>\n",
       "      <th>projectid</th>\n",
       "      <th></th>\n",
       "      <th></th>\n",
       "      <th></th>\n",
       "      <th></th>\n",
       "      <th></th>\n",
       "      <th></th>\n",
       "      <th></th>\n",
       "      <th></th>\n",
       "      <th></th>\n",
       "      <th></th>\n",
       "      <th></th>\n",
       "      <th></th>\n",
       "      <th></th>\n",
       "      <th></th>\n",
       "      <th></th>\n",
       "      <th></th>\n",
       "      <th></th>\n",
       "      <th></th>\n",
       "    </tr>\n",
       "  </thead>\n",
       "  <tbody>\n",
       "    <tr>\n",
       "      <th>f6f0e6128c8a8a3f17b28e93007afe19</th>\n",
       "      <td>1</td>\n",
       "      <td>1.0</td>\n",
       "      <td>511.51</td>\n",
       "      <td>5.0</td>\n",
       "      <td>1.0</td>\n",
       "      <td>434.78</td>\n",
       "      <td>3239</td>\n",
       "      <td>4.21</td>\n",
       "      <td>291</td>\n",
       "      <td>1.50</td>\n",
       "      <td>500.0</td>\n",
       "      <td>273</td>\n",
       "      <td>1.0</td>\n",
       "      <td>66.0</td>\n",
       "      <td>8.50</td>\n",
       "      <td>150</td>\n",
       "      <td>10.00</td>\n",
       "      <td>46</td>\n",
       "    </tr>\n",
       "    <tr>\n",
       "      <th>f8d31f4bf701d1ffa02c7b176c101850</th>\n",
       "      <td>1</td>\n",
       "      <td>0.0</td>\n",
       "      <td>264.34</td>\n",
       "      <td>6.0</td>\n",
       "      <td>0.0</td>\n",
       "      <td>224.69</td>\n",
       "      <td>3315</td>\n",
       "      <td>179.99</td>\n",
       "      <td>792</td>\n",
       "      <td>7.50</td>\n",
       "      <td>22.0</td>\n",
       "      <td>809</td>\n",
       "      <td>0.0</td>\n",
       "      <td>71.0</td>\n",
       "      <td>42.50</td>\n",
       "      <td>460</td>\n",
       "      <td>50.00</td>\n",
       "      <td>45</td>\n",
       "    </tr>\n",
       "    <tr>\n",
       "      <th>99a903f2fe66705702e7e4a77410a806</th>\n",
       "      <td>1</td>\n",
       "      <td>0.0</td>\n",
       "      <td>913.99</td>\n",
       "      <td>3.0</td>\n",
       "      <td>1.0</td>\n",
       "      <td>776.89</td>\n",
       "      <td>1058</td>\n",
       "      <td>49.99</td>\n",
       "      <td>819</td>\n",
       "      <td>3.75</td>\n",
       "      <td>92.0</td>\n",
       "      <td>840</td>\n",
       "      <td>0.0</td>\n",
       "      <td>33.0</td>\n",
       "      <td>21.25</td>\n",
       "      <td>376</td>\n",
       "      <td>25.00</td>\n",
       "      <td>36</td>\n",
       "    </tr>\n",
       "    <tr>\n",
       "      <th>d57206aba5f50ea0f8d5f39dd800c4a3</th>\n",
       "      <td>2</td>\n",
       "      <td>0.0</td>\n",
       "      <td>479.96</td>\n",
       "      <td>17.0</td>\n",
       "      <td>1.0</td>\n",
       "      <td>393.57</td>\n",
       "      <td>789</td>\n",
       "      <td>19.95</td>\n",
       "      <td>614</td>\n",
       "      <td>0.90</td>\n",
       "      <td>23.0</td>\n",
       "      <td>241</td>\n",
       "      <td>0.0</td>\n",
       "      <td>53.0</td>\n",
       "      <td>4.10</td>\n",
       "      <td>288</td>\n",
       "      <td>5.00</td>\n",
       "      <td>0</td>\n",
       "    </tr>\n",
       "    <tr>\n",
       "      <th>7bac9d6522bc3f161ec53a624ea858b9</th>\n",
       "      <td>0</td>\n",
       "      <td>0.0</td>\n",
       "      <td>301.18</td>\n",
       "      <td>4.0</td>\n",
       "      <td>1.0</td>\n",
       "      <td>256.00</td>\n",
       "      <td>1103</td>\n",
       "      <td>24.74</td>\n",
       "      <td>819</td>\n",
       "      <td>27.18</td>\n",
       "      <td>500.0</td>\n",
       "      <td>672</td>\n",
       "      <td>0.0</td>\n",
       "      <td>80.0</td>\n",
       "      <td>154.00</td>\n",
       "      <td>442</td>\n",
       "      <td>181.18</td>\n",
       "      <td>33</td>\n",
       "    </tr>\n",
       "  </tbody>\n",
       "</table>\n",
       "</div>"
      ],
      "text/plain": [
       "                                  dollar_amount  teacher_referred_count  \\\n",
       "projectid                                                                 \n",
       "f6f0e6128c8a8a3f17b28e93007afe19              1                     1.0   \n",
       "f8d31f4bf701d1ffa02c7b176c101850              1                     0.0   \n",
       "99a903f2fe66705702e7e4a77410a806              1                     0.0   \n",
       "d57206aba5f50ea0f8d5f39dd800c4a3              2                     0.0   \n",
       "7bac9d6522bc3f161ec53a624ea858b9              0                     0.0   \n",
       "\n",
       "                                  total_price_including_optional_support  \\\n",
       "projectid                                                                  \n",
       "f6f0e6128c8a8a3f17b28e93007afe19                                  511.51   \n",
       "f8d31f4bf701d1ffa02c7b176c101850                                  264.34   \n",
       "99a903f2fe66705702e7e4a77410a806                                  913.99   \n",
       "d57206aba5f50ea0f8d5f39dd800c4a3                                  479.96   \n",
       "7bac9d6522bc3f161ec53a624ea858b9                                  301.18   \n",
       "\n",
       "                                  non_teacher_referred_count  \\\n",
       "projectid                                                      \n",
       "f6f0e6128c8a8a3f17b28e93007afe19                         5.0   \n",
       "f8d31f4bf701d1ffa02c7b176c101850                         6.0   \n",
       "99a903f2fe66705702e7e4a77410a806                         3.0   \n",
       "d57206aba5f50ea0f8d5f39dd800c4a3                        17.0   \n",
       "7bac9d6522bc3f161ec53a624ea858b9                         4.0   \n",
       "\n",
       "                                  one_non_teacher_referred_donor_giving_100_plus  \\\n",
       "projectid                                                                          \n",
       "f6f0e6128c8a8a3f17b28e93007afe19                                             1.0   \n",
       "f8d31f4bf701d1ffa02c7b176c101850                                             0.0   \n",
       "99a903f2fe66705702e7e4a77410a806                                             1.0   \n",
       "d57206aba5f50ea0f8d5f39dd800c4a3                                             1.0   \n",
       "7bac9d6522bc3f161ec53a624ea858b9                                             1.0   \n",
       "\n",
       "                                  total_price_excluding_optional_support  \\\n",
       "projectid                                                                  \n",
       "f6f0e6128c8a8a3f17b28e93007afe19                                  434.78   \n",
       "f8d31f4bf701d1ffa02c7b176c101850                                  224.69   \n",
       "99a903f2fe66705702e7e4a77410a806                                  776.89   \n",
       "d57206aba5f50ea0f8d5f39dd800c4a3                                  393.57   \n",
       "7bac9d6522bc3f161ec53a624ea858b9                                  256.00   \n",
       "\n",
       "                                  donation_timestamp  item_unit_price  \\\n",
       "projectid                                                               \n",
       "f6f0e6128c8a8a3f17b28e93007afe19                3239             4.21   \n",
       "f8d31f4bf701d1ffa02c7b176c101850                3315           179.99   \n",
       "99a903f2fe66705702e7e4a77410a806                1058            49.99   \n",
       "d57206aba5f50ea0f8d5f39dd800c4a3                 789            19.95   \n",
       "7bac9d6522bc3f161ec53a624ea858b9                1103            24.74   \n",
       "\n",
       "                                  school_district  donation_optional_support  \\\n",
       "projectid                                                                      \n",
       "f6f0e6128c8a8a3f17b28e93007afe19              291                       1.50   \n",
       "f8d31f4bf701d1ffa02c7b176c101850              792                       7.50   \n",
       "99a903f2fe66705702e7e4a77410a806              819                       3.75   \n",
       "d57206aba5f50ea0f8d5f39dd800c4a3              614                       0.90   \n",
       "7bac9d6522bc3f161ec53a624ea858b9              819                      27.18   \n",
       "\n",
       "                                  students_reached  school_city  is_exciting  \\\n",
       "projectid                                                                      \n",
       "f6f0e6128c8a8a3f17b28e93007afe19             500.0          273          1.0   \n",
       "f8d31f4bf701d1ffa02c7b176c101850              22.0          809          0.0   \n",
       "99a903f2fe66705702e7e4a77410a806              92.0          840          0.0   \n",
       "d57206aba5f50ea0f8d5f39dd800c4a3              23.0          241          0.0   \n",
       "7bac9d6522bc3f161ec53a624ea858b9             500.0          672          0.0   \n",
       "\n",
       "                                  great_messages_proportion  \\\n",
       "projectid                                                     \n",
       "f6f0e6128c8a8a3f17b28e93007afe19                       66.0   \n",
       "f8d31f4bf701d1ffa02c7b176c101850                       71.0   \n",
       "99a903f2fe66705702e7e4a77410a806                       33.0   \n",
       "d57206aba5f50ea0f8d5f39dd800c4a3                       53.0   \n",
       "7bac9d6522bc3f161ec53a624ea858b9                       80.0   \n",
       "\n",
       "                                  donation_to_project  school_county  \\\n",
       "projectid                                                              \n",
       "f6f0e6128c8a8a3f17b28e93007afe19                 8.50            150   \n",
       "f8d31f4bf701d1ffa02c7b176c101850                42.50            460   \n",
       "99a903f2fe66705702e7e4a77410a806                21.25            376   \n",
       "d57206aba5f50ea0f8d5f39dd800c4a3                 4.10            288   \n",
       "7bac9d6522bc3f161ec53a624ea858b9               154.00            442   \n",
       "\n",
       "                                  donation_total  donor_state  \n",
       "projectid                                                      \n",
       "f6f0e6128c8a8a3f17b28e93007afe19           10.00           46  \n",
       "f8d31f4bf701d1ffa02c7b176c101850           50.00           45  \n",
       "99a903f2fe66705702e7e4a77410a806           25.00           36  \n",
       "d57206aba5f50ea0f8d5f39dd800c4a3            5.00            0  \n",
       "7bac9d6522bc3f161ec53a624ea858b9          181.18           33  "
      ]
     },
     "execution_count": 231,
     "metadata": {},
     "output_type": "execute_result"
    }
   ],
   "source": [
    "count = int(len(sorted_train_features) * 0.33)\n",
    "all_x = all_x[sorted_train_features[:count]]\n",
    "all_x.head()"
   ]
  },
  {
   "cell_type": "markdown",
   "metadata": {},
   "source": [
    "# Step 5: Split Train and Test Set\n",
    "## construct test window"
   ]
  },
  {
   "cell_type": "markdown",
   "metadata": {},
   "source": [
    "The main data is from 2002 to 2014.In general, we create the training sets for 3 years long and the test sets for the year afterwards. For example, we train 2009-2011, and test 2012. Overall, we will produce 10 train-test windows. The result for each window is also plotted behind."
   ]
  },
  {
   "cell_type": "code",
   "execution_count": 232,
   "metadata": {},
   "outputs": [
    {
     "name": "stdout",
     "output_type": "stream",
     "text": [
      "has construct 5 test window, every three years'data as one\n"
     ]
    },
    {
     "data": {
      "text/plain": [
       "array([[ 0.        ,  1.        ,  0.05388453,  0.09072811,  0.71455224,\n",
       "         0.05388455,  0.        ,  0.00188938,  0.94769711,  0.05309952,\n",
       "         0.00625782,  0.08172706,  0.        ,  0.56868642,  0.07630657,\n",
       "         0.94991653,  0.07212924,  0.        ],\n",
       "       [ 0.66666667,  0.        ,  0.06558352,  0.07758621,  1.        ,\n",
       "         0.06558425,  0.34320988,  0.00120119,  0.60577674,  0.0185902 ,\n",
       "         0.00208594,  0.42097147,  0.        ,  1.        ,  0.02324411,\n",
       "         0.5475793 ,  0.0224064 ,  0.        ],\n",
       "       [ 0.66666667,  0.        ,  0.06459576,  0.06896552,  1.        ,\n",
       "         0.06459554,  0.47160494,  0.074718  ,  0.18345043,  0.0185902 ,\n",
       "         0.03212349,  0.23901311,  0.        ,  1.        ,  0.02324411,\n",
       "         0.18864775,  0.0224064 ,  0.68518519],\n",
       "       [ 0.66666667,  0.        ,  0.0617933 ,  0.12931034,  1.        ,\n",
       "         0.06179421,  0.50864198,  0.00814559,  0.61982826,  0.0185902 ,\n",
       "         0.00876095,  0.62220509,  0.        ,  1.        ,  0.02324411,\n",
       "         0.61268781,  0.0224064 ,  0.        ],\n",
       "       [ 0.66666667,  0.        ,  0.05701534,  0.04310345,  1.        ,\n",
       "         0.05701546,  0.30617284,  0.00238987,  0.23028884,  0.04089844,\n",
       "         0.00500626,  0.96067849,  0.        ,  1.        ,  0.05097158,\n",
       "         0.2754591 ,  0.04915838,  0.68518519]])"
      ]
     },
     "execution_count": 232,
     "metadata": {},
     "output_type": "execute_result"
    }
   ],
   "source": [
    "def norm(df_features):\n",
    "    # normalize\n",
    "    df_features = preprocessing.MinMaxScaler().fit_transform(df_features)\n",
    "    df_features = preprocessing.normalize(df_features, norm='max')\n",
    "    return df_features\n",
    "\n",
    "def build_test_window(df):\n",
    "    dataset = []\n",
    "    name = 'date_posted'\n",
    "    label_name = 'fully_funded'\n",
    "    start, end = 2007, 2012\n",
    "    for year in range(start, end):\n",
    "        test_year = start + 3\n",
    "        df_left = df[(df[name] >= '{}-01-01'.format(start)) & (df[name] <= '{}-12-31'.format(start+2))]\n",
    "        y_train = df_left[label_name]\n",
    "        x_train = df_left[all_x.columns]\n",
    "        \n",
    "        df_right = df[(df[name] >= '{}-01-01'.format(test_year)) & (df[name] <= '{}-12-31'.format(test_year))]\n",
    "        y_test = df_right[label_name]\n",
    "        x_test = df_right[all_x.columns]\n",
    "        \n",
    "        # normalization\n",
    "        x_train = norm(x_train)\n",
    "        x_test = norm(x_test)\n",
    "        dataset.append((x_train, y_train, x_test, y_test))\n",
    "    return dataset\n",
    "\n",
    "\n",
    "dataset = build_test_window(df)\n",
    "print(\"has construct {} test window, every three years'data as one\".format(len(dataset)))\n",
    "dataset[0][0][:5]"
   ]
  },
  {
   "cell_type": "markdown",
   "metadata": {},
   "source": [
    "# Step 6: Build Classifier"
   ]
  },
  {
   "cell_type": "markdown",
   "metadata": {},
   "source": [
    "Derived from the project descriptions, we use Logistic Regression, K-NN, Decision Trees, SVM, Random Forest, Boosting and Bagging as classifers. For each classifier, we select several default parameters into grid search"
   ]
  },
  {
   "cell_type": "code",
   "execution_count": 233,
   "metadata": {},
   "outputs": [],
   "source": [
    "from sklearn.linear_model import LogisticRegression\n",
    "from sklearn.model_selection import ParameterGrid, GridSearchCV\n",
    "from sklearn.neighbors import KNeighborsClassifier\n",
    "from sklearn.ensemble import (RandomForestClassifier,\n",
    "                              GradientBoostingClassifier,\n",
    "                              BaggingClassifier)\n",
    "from sklearn.svm import SVC\n",
    "from sklearn.model_selection import train_test_split\n",
    "from sklearn.tree import DecisionTreeClassifier\n",
    "from sklearn.dummy import DummyClassifier\n",
    "from sklearn.metrics import (precision_recall_curve, roc_auc_score, roc_curve, auc,\n",
    "                             precision_score, recall_score, f1_score)"
   ]
  },
  {
   "cell_type": "code",
   "execution_count": 234,
   "metadata": {},
   "outputs": [],
   "source": [
    "classifier_constructors = {\n",
    "    'LR': LogisticRegression,\n",
    "    'KNN': KNeighborsClassifier,\n",
    "    'DT': DecisionTreeClassifier,\n",
    "    'SVM': SVC,\n",
    "    'RF': RandomForestClassifier,\n",
    "    'GB': GradientBoostingClassifier,\n",
    "    'BG': BaggingClassifier\n",
    "}\n",
    "\n",
    "grid = dict()\n",
    "grid['LR'] = {\n",
    "    'penalty': ['l1', 'l2'],\n",
    "    'C': [0.0001 * (10**i) for i in range(5)]\n",
    "}\n",
    "grid['DT'] = {\n",
    "    'max_depth': [10, 100, 1000, 2000],\n",
    "    'criterion': ['gini', 'entropy']\n",
    "}\n",
    "grid['KNN'] = {\n",
    "    'n_neighbors': [10, 100, 1000, 2000],\n",
    "    'algorithm': ['auto', 'ball_tree', 'kd_tree']\n",
    "}\n",
    "grid['SVM'] = {\n",
    "    'C': [0.1, 0.5, 1],\n",
    "    'gamma': [1e-3, 1e-4],\n",
    "    'kernel': ['rbf', 'linear']\n",
    "}\n",
    "grid['RF'] = {\n",
    "    'n_estimators': [10, 100, 1000, 2000],\n",
    "    'max_depth': [10, 100, 1000, 2000], \n",
    "    'max_features': ['sqrt', 'log2']\n",
    "}\n",
    "grid['GB'] = {\n",
    "    'n_estimators': [10, 100, 1000, 2000],\n",
    "    'learning_rate' : [0.1, 0.5]\n",
    "}\n",
    "grid['BG'] = {\n",
    "    'n_estimators': [10, 100, 1000, 2000],\n",
    "    \"bootstrap\": [True, False],\n",
    "    \"bootstrap_features\": [True, False]\n",
    "}"
   ]
  },
  {
   "cell_type": "markdown",
   "metadata": {},
   "source": [
    "## Temporal validation\n",
    "Since our data contains time series components, we could not use KFold cross validations. We would like to use f1-score to find the best parameters."
   ]
  },
  {
   "cell_type": "code",
   "execution_count": 235,
   "metadata": {},
   "outputs": [],
   "source": [
    "import warnings\n",
    "warnings.filterwarnings('ignore')\n",
    "\n",
    "def classify(x_train, y_train, x_test, y_test, clf):\n",
    "    clf.fit(x_train, y_train)\n",
    "    y_pre = clf.predict(x_test)\n",
    "    return f1_score(y_test, y_pre)"
   ]
  },
  {
   "cell_type": "code",
   "execution_count": 236,
   "metadata": {},
   "outputs": [],
   "source": [
    "def select_best_parameters(x_train, y_train, x_test, y_test):\n",
    "    # iter three times\n",
    "    number = 3\n",
    "    # store all the scores and parameters\n",
    "    classifiers = {}\n",
    "    results = {}\n",
    "    for k, clf_constructor in classifier_constructors.items():\n",
    "        results[k] = []\n",
    "        params = grid[k]\n",
    "        for p in ParameterGrid(params):\n",
    "            clf = clf_constructor(**p)\n",
    "            f1_scores = [classify(x_train, y_train, x_test, y_test, clf) for i in range(number)]\n",
    "            f1_score_mean = sum(f1_scores) / len(f1_scores)\n",
    "            results[k].append((p, f1_score_mean))\n",
    "    return results"
   ]
  },
  {
   "cell_type": "code",
   "execution_count": 237,
   "metadata": {},
   "outputs": [],
   "source": [
    "all_best = {}\n",
    "for x_train, y_train, x_test, y_test in dataset:\n",
    "    results = select_best_parameters(x_train, y_train, x_test, y_test)\n",
    "    for k, p_list in results.items():\n",
    "        p = max(p_list, key=lambda x: x[1])\n",
    "        if k not in all_best:\n",
    "            all_best[k] = [p]\n",
    "        else:\n",
    "            all_best[k].append(p)"
   ]
  },
  {
   "cell_type": "code",
   "execution_count": 238,
   "metadata": {},
   "outputs": [
    {
     "name": "stdout",
     "output_type": "stream",
     "text": [
      "LR\n",
      "train: 2009-2011, test: 2012 ({'C': 0.0001, 'penalty': 'l2'}, 0.95041952707856592)\n",
      "train: 2010-2012, test: 2013 ({'C': 0.0001, 'penalty': 'l2'}, 0.95041952707856592)\n",
      "train: 2011-2013, test: 2014 ({'C': 0.0001, 'penalty': 'l2'}, 0.95041952707856592)\n",
      "KNN\n",
      "train: 2009-2011, test: 2012 ({'algorithm': 'auto'}, 0.93479968578161821)\n",
      "train: 2010-2012, test: 2013 ({'algorithm': 'auto'}, 0.93479968578161821)\n",
      "train: 2011-2013, test: 2014 ({'algorithm': 'auto'}, 0.93479968578161821)\n",
      "DT\n",
      "train: 2009-2011, test: 2012 ({'criterion': 'entropy'}, 0.95624872688418094)\n",
      "train: 2010-2012, test: 2013 ({'criterion': 'entropy'}, 0.95729164918262688)\n",
      "train: 2011-2013, test: 2014 ({'criterion': 'entropy'}, 0.95545503821814481)\n",
      "SVM\n",
      "train: 2009-2011, test: 2012 ({'C': 0.1, 'gamma': 0.001, 'kernel': 'rbf'}, 0.95041952707856592)\n",
      "train: 2010-2012, test: 2013 ({'C': 0.1, 'gamma': 0.001, 'kernel': 'rbf'}, 0.95041952707856592)\n",
      "train: 2011-2013, test: 2014 ({'C': 0.1, 'gamma': 0.001, 'kernel': 'rbf'}, 0.95041952707856592)\n",
      "RF\n",
      "train: 2009-2011, test: 2012 ({'max_features': 'log2'}, 0.95627094378932609)\n",
      "train: 2010-2012, test: 2013 ({'max_features': 'sqrt'}, 0.95027335731339513)\n",
      "train: 2011-2013, test: 2014 ({'max_features': 'log2'}, 0.95430132113196386)\n",
      "GB\n",
      "train: 2009-2011, test: 2012 ({'learning_rate': 0.1}, 0.95486213372473994)\n",
      "train: 2010-2012, test: 2013 ({'learning_rate': 0.1}, 0.95510835913312697)\n",
      "train: 2011-2013, test: 2014 ({'learning_rate': 0.1}, 0.9546159083163529)\n",
      "BG\n",
      "train: 2009-2011, test: 2012 ({'bootstrap': True, 'bootstrap_features': False}, 0.96116901683826794)\n",
      "train: 2010-2012, test: 2013 ({'bootstrap': True, 'bootstrap_features': True}, 0.95951660075287837)\n",
      "train: 2011-2013, test: 2014 ({'bootstrap': True, 'bootstrap_features': False}, 0.96028795970510117)\n"
     ]
    }
   ],
   "source": [
    "# print last 3 window value\n",
    "for k, p in all_best.items():\n",
    "    print(k)\n",
    "    print('train: 2009-2011, test: 2012', p[-3])\n",
    "    print('train: 2010-2012, test: 2013', p[-2])\n",
    "    print('train: 2011-2013, test: 2014', p[-1])"
   ]
  },
  {
   "cell_type": "markdown",
   "metadata": {},
   "source": [
    "As we see, when years changes, the best parameters doesn't change almostly.\n",
    "So we can use 2011-2013/2014 data to evaluate the classifier"
   ]
  },
  {
   "cell_type": "markdown",
   "metadata": {},
   "source": [
    "# Step 7: Evaluate Classifier"
   ]
  },
  {
   "cell_type": "markdown",
   "metadata": {},
   "source": [
    "In this section, in order to evaluate the classifers, we plot accuracy, precision at different levels, recall at different levels, F1, area under curve and precision-recall curves. Then we select best perform classifers based on different thresholds, and compare the results with baselines."
   ]
  },
  {
   "cell_type": "markdown",
   "metadata": {},
   "source": [
    "## 7.1 Calculating, Selecting and Comparing"
   ]
  },
  {
   "cell_type": "code",
   "execution_count": 239,
   "metadata": {},
   "outputs": [
    {
     "data": {
      "text/plain": [
       "{'BG': {'auc': 0.7798,\n",
       "  'cost_time': 0.0016,\n",
       "  'f1': 0.9533,\n",
       "  'precision': 0.9108,\n",
       "  'recall': 1.0},\n",
       " 'DT': {'auc': 0.6466,\n",
       "  'cost_time': 0.0003,\n",
       "  'f1': 0.9579,\n",
       "  'precision': 0.9317,\n",
       "  'recall': 0.9856},\n",
       " 'GB': {'auc': 0.8702,\n",
       "  'cost_time': 0.0012,\n",
       "  'f1': 0.9504,\n",
       "  'precision': 0.9055,\n",
       "  'recall': 1.0},\n",
       " 'KNN': {'auc': 0.6617,\n",
       "  'cost_time': 0.0111,\n",
       "  'f1': 0.9488,\n",
       "  'precision': 0.9052,\n",
       "  'recall': 0.9968},\n",
       " 'LR': {'auc': 0.6911,\n",
       "  'cost_time': 0.0003,\n",
       "  'f1': 0.9504,\n",
       "  'precision': 0.9055,\n",
       "  'recall': 1.0},\n",
       " 'RF': {'auc': 0.7848,\n",
       "  'cost_time': 0.0014,\n",
       "  'f1': 0.9504,\n",
       "  'precision': 0.9055,\n",
       "  'recall': 1.0},\n",
       " 'SVM': {'auc': 0.7149,\n",
       "  'cost_time': 0.0046,\n",
       "  'f1': 0.9504,\n",
       "  'precision': 0.9055,\n",
       "  'recall': 1.0}}"
      ]
     },
     "execution_count": 239,
     "metadata": {},
     "output_type": "execute_result"
    }
   ],
   "source": [
    "# evalute metrics\n",
    "def evaluate_classifier(y_test, y_pre, y_prob, cost_time=0):\n",
    "    return {\n",
    "        'precision': float(\"%.4f\" % precision_score(y_test, y_pre)),\n",
    "        'recall': float(\"%.4f\" % recall_score(y_test, y_pre)),\n",
    "        'f1': float(\"%.4f\" % f1_score(y_test, y_pre)),\n",
    "        'auc': float(\"%.4f\" % roc_auc_score(y_test, y_prob)),\n",
    "        'cost_time': float(\"%.4f\" % cost_time)\n",
    "    }\n",
    "\n",
    "def evaluate_classifiers(X_test, y_test, threshold):\n",
    "    metrics = dict()\n",
    "    probas = dict()\n",
    "    for k, clf in classifiers.items():\n",
    "        start = time.time()\n",
    "        if hasattr(clf, 'predict_proba'):\n",
    "            y_prob = clf.predict_proba(X_test)[:, 1]\n",
    "        else:\n",
    "            y_prob = clf.decision_function(X_test)\n",
    "        y_pre = np.asarray([1 if run >= threshold else 0 for run in y_prob])\n",
    "        cost_time = time.time() - start\n",
    "        metrics[k] = evaluate_classifier(y_test, y_pre, y_prob, cost_time)\n",
    "        probas[k] = y_prob\n",
    "    return metrics, probas\n",
    "        \n",
    "# we use 2011-2013 data for train, 2014 data for test\n",
    "classifiers = {}\n",
    "x_train, y_train, x_test, y_test = dataset[-1]\n",
    "\n",
    "for k, p in all_best.items():\n",
    "    clf = classifier_constructors[k](**p[-1][0])\n",
    "    clf.fit(x_train, y_train)\n",
    "    classifiers[k] = clf\n",
    "\n",
    "metrics, probas = evaluate_classifiers(x_test, y_test, 0.001)\n",
    "metrics"
   ]
  },
  {
   "cell_type": "code",
   "execution_count": 240,
   "metadata": {},
   "outputs": [
    {
     "data": {
      "text/plain": [
       "{'BG': {'auc': 0.7511,\n",
       "  'cost_time': 0.0016,\n",
       "  'f1': 0.9504,\n",
       "  'precision': 0.9055,\n",
       "  'recall': 1.0},\n",
       " 'DT': {'auc': 0.6535,\n",
       "  'cost_time': 0.0003,\n",
       "  'f1': 0.9578,\n",
       "  'precision': 0.933,\n",
       "  'recall': 0.9839},\n",
       " 'GB': {'auc': 0.8649,\n",
       "  'cost_time': 0.0011,\n",
       "  'f1': 0.9519,\n",
       "  'precision': 0.9082,\n",
       "  'recall': 1.0},\n",
       " 'KNN': {'auc': 0.6617,\n",
       "  'cost_time': 0.0107,\n",
       "  'f1': 0.9488,\n",
       "  'precision': 0.9052,\n",
       "  'recall': 0.9968},\n",
       " 'LR': {'auc': 0.6911,\n",
       "  'cost_time': 0.0003,\n",
       "  'f1': 0.9504,\n",
       "  'precision': 0.9055,\n",
       "  'recall': 1.0},\n",
       " 'RF': {'auc': 0.8278,\n",
       "  'cost_time': 0.0014,\n",
       "  'f1': 0.9504,\n",
       "  'precision': 0.9055,\n",
       "  'recall': 1.0},\n",
       " 'SVM': {'auc': 0.7149,\n",
       "  'cost_time': 0.004,\n",
       "  'f1': 0.9504,\n",
       "  'precision': 0.9055,\n",
       "  'recall': 1.0}}"
      ]
     },
     "execution_count": 240,
     "metadata": {},
     "output_type": "execute_result"
    }
   ],
   "source": [
    "classifiers = {}\n",
    "x_train, y_train, x_test, y_test = dataset[-1]\n",
    "\n",
    "for k, p in all_best.items():\n",
    "    clf = classifier_constructors[k](**p[-1][0])\n",
    "    clf.fit(x_train, y_train)\n",
    "    classifiers[k] = clf\n",
    "\n",
    "metrics, probas = evaluate_classifiers(x_test, y_test, 0.01)\n",
    "metrics"
   ]
  },
  {
   "cell_type": "code",
   "execution_count": 241,
   "metadata": {},
   "outputs": [
    {
     "data": {
      "text/plain": [
       "{'BG': {'auc': 0.7143,\n",
       "  'cost_time': 0.0016,\n",
       "  'f1': 0.9511,\n",
       "  'precision': 0.9068,\n",
       "  'recall': 1.0},\n",
       " 'DT': {'auc': 0.6458,\n",
       "  'cost_time': 0.0005,\n",
       "  'f1': 0.9571,\n",
       "  'precision': 0.9316,\n",
       "  'recall': 0.9839},\n",
       " 'GB': {'auc': 0.8692,\n",
       "  'cost_time': 0.0011,\n",
       "  'f1': 0.954,\n",
       "  'precision': 0.9134,\n",
       "  'recall': 0.9984},\n",
       " 'KNN': {'auc': 0.6617,\n",
       "  'cost_time': 0.0106,\n",
       "  'f1': 0.9488,\n",
       "  'precision': 0.9052,\n",
       "  'recall': 0.9968},\n",
       " 'LR': {'auc': 0.6911,\n",
       "  'cost_time': 0.0003,\n",
       "  'f1': 0.9504,\n",
       "  'precision': 0.9055,\n",
       "  'recall': 1.0},\n",
       " 'RF': {'auc': 0.7488,\n",
       "  'cost_time': 0.0015,\n",
       "  'f1': 0.9511,\n",
       "  'precision': 0.9068,\n",
       "  'recall': 1.0},\n",
       " 'SVM': {'auc': 0.7149,\n",
       "  'cost_time': 0.0057,\n",
       "  'f1': 0.9504,\n",
       "  'precision': 0.9055,\n",
       "  'recall': 1.0}}"
      ]
     },
     "execution_count": 241,
     "metadata": {},
     "output_type": "execute_result"
    }
   ],
   "source": [
    "classifiers = {}\n",
    "x_train, y_train, x_test, y_test = dataset[-1]\n",
    "\n",
    "for k, p in all_best.items():\n",
    "    clf = classifier_constructors[k](**p[-1][0])\n",
    "    clf.fit(x_train, y_train)\n",
    "    classifiers[k] = clf\n",
    "\n",
    "metrics, probas = evaluate_classifiers(x_test, y_test, 0.1)\n",
    "metrics"
   ]
  },
  {
   "cell_type": "markdown",
   "metadata": {},
   "source": [
    "## 7.2 Draw AUC"
   ]
  },
  {
   "cell_type": "code",
   "execution_count": 242,
   "metadata": {},
   "outputs": [
    {
     "data": {
      "image/png": "[encoded data removed]",
      "text/plain": [
       "<matplotlib.figure.Figure at 0x15f2ed710>"
      ]
     },
     "metadata": {},
     "output_type": "display_data"
    }
   ],
   "source": [
    "def draw_auc(probas, y_test):\n",
    "    plt.clf()\n",
    "    auc_list = []\n",
    "    for k, prob in probas.items():\n",
    "        fpr, tpr, thresholds = roc_curve(y_test, prob)\n",
    "        roc_auc = auc(fpr, tpr)\n",
    "        auc_list.append((k, roc_auc))\n",
    "        \n",
    "    auc_list.sort(key=lambda x: x[1], reverse=True)\n",
    "    \n",
    "    for k, roc_auc in auc_list:\n",
    "        fpr, tpr, thresholds = roc_curve(y_test, probas[k])\n",
    "        plt.plot(fpr, tpr, lw=1, label=('%s AUC %.2f' % (k, roc_auc)))\n",
    "    \n",
    "    \n",
    "    plt.plot([0, 1], [0, 1], '--', color=(0.6, 0.6, 0.6), label='Luck')\n",
    "    plt.xlim([-0.05, 1.05])\n",
    "    plt.ylim([-0.05, 1.05])\n",
    "    plt.xlabel('False Positive Rate')\n",
    "    plt.ylabel('True Positive Rate')\n",
    "    plt.title('AUC Graph')\n",
    "    plt.legend(loc=\"lower right\")\n",
    "\n",
    "draw_auc(probas, y_test)"
   ]
  },
  {
   "cell_type": "markdown",
   "metadata": {},
   "source": [
    "## 7.3 Draw Precision-Recall Curves"
   ]
  },
  {
   "cell_type": "code",
   "execution_count": 244,
   "metadata": {},
   "outputs": [
    {
     "data": {
      "text/plain": [
       "<matplotlib.figure.Figure at 0x1630a6550>"
      ]
     },
     "metadata": {},
     "output_type": "display_data"
    },
    {
     "data": {
      "image/png": "[encoded data removed]",
      "text/plain": [
       "<matplotlib.figure.Figure at 0x161cec080>"
      ]
     },
     "metadata": {},
     "output_type": "display_data"
    },
    {
     "data": {
      "text/plain": [
       "<matplotlib.figure.Figure at 0x1659ce278>"
      ]
     },
     "metadata": {},
     "output_type": "display_data"
    },
    {
     "data": {
      "image/png": "[encoded data removed]",
      "text/plain": [
       "<matplotlib.figure.Figure at 0x165a319e8>"
      ]
     },
     "metadata": {},
     "output_type": "display_data"
    },
    {
     "data": {
      "text/plain": [
       "<matplotlib.figure.Figure at 0x166c58e10>"
      ]
     },
     "metadata": {},
     "output_type": "display_data"
    },
    {
     "data": {
      "image/png": "[encoded data removed]",
      "text/plain": [
       "<matplotlib.figure.Figure at 0x166c520f0>"
      ]
     },
     "metadata": {},
     "output_type": "display_data"
    },
    {
     "data": {
      "text/plain": [
       "<matplotlib.figure.Figure at 0x165b0ab38>"
      ]
     },
     "metadata": {},
     "output_type": "display_data"
    },
    {
     "data": {
      "image/png": "[encoded data removed]",
      "text/plain": [
       "<matplotlib.figure.Figure at 0x1671bdd68>"
      ]
     },
     "metadata": {},
     "output_type": "display_data"
    },
    {
     "data": {
      "text/plain": [
       "<matplotlib.figure.Figure at 0x165a1c860>"
      ]
     },
     "metadata": {},
     "output_type": "display_data"
    },
    {
     "data": {
      "image/png": "[encoded data removed]",
      "text/plain": [
       "<matplotlib.figure.Figure at 0x168764860>"
      ]
     },
     "metadata": {},
     "output_type": "display_data"
    },
    {
     "data": {
      "text/plain": [
       "<matplotlib.figure.Figure at 0x166c6c4e0>"
      ]
     },
     "metadata": {},
     "output_type": "display_data"
    },
    {
     "data": {
      "image/png": "[encoded data removed]",
      "text/plain": [
       "<matplotlib.figure.Figure at 0x1680733c8>"
      ]
     },
     "metadata": {},
     "output_type": "display_data"
    },
    {
     "data": {
      "text/plain": [
       "<matplotlib.figure.Figure at 0x169b11278>"
      ]
     },
     "metadata": {},
     "output_type": "display_data"
    },
    {
     "data": {
      "image/png": "[encoded data removed]",
      "text/plain": [
       "<matplotlib.figure.Figure at 0x16a9cd320>"
      ]
     },
     "metadata": {},
     "output_type": "display_data"
    }
   ],
   "source": [
    "def plot_precision_recall(y_test, key):\n",
    "    plt.clf()\n",
    "    y_prob = probas[key]\n",
    "    precision_curve, recall_curve, pr_thresholds = precision_recall_curve(y_test, y_prob)\n",
    "    precision_curve = precision_curve[:-1]\n",
    "    recall_curve = recall_curve[:-1]\n",
    "    pct_per_thresh = []\n",
    "    number_scored = len(y_prob)\n",
    "    for value in pr_thresholds:\n",
    "        num_above_thresh = len(y_prob[y_prob >= value])\n",
    "        pct_above_thresh = num_above_thresh / float(number_scored)\n",
    "        pct_per_thresh.append(pct_above_thresh)\n",
    "    pct_per_thresh = np.array(pct_per_thresh)\n",
    "    plt.clf()\n",
    "    fig, ax1 = plt.subplots()\n",
    "    ax1.plot(pct_per_thresh, precision_curve, 'b')\n",
    "    ax1.set_xlabel('percent of population')\n",
    "    ax1.set_ylabel('precision', color='b')\n",
    "    ax1.set_xlim(0, max(pct_per_thresh))\n",
    "    ax2 = ax1.twinx()\n",
    "    ax2.plot(pct_per_thresh, recall_curve, 'y')\n",
    "    ax2.set_ylabel('recall', color='y')\n",
    "    ax2.set_xlim(0, max(pct_per_thresh))\n",
    "    plt.title(key)\n",
    "    plt.show()\n",
    "    \n",
    "for key in probas.keys():\n",
    "    plot_precision_recall(y_test, key)"
   ]
  },
  {
   "cell_type": "markdown",
   "metadata": {},
   "source": [
    "For SVM model, the precision curve increases dramatically from 0%, and the curve becomes flat at 0.2 threshold. It remains precision at 0.8 till the 0.8 threshold. After 0.8 threshold, its precision slightly drop. \n",
    "\n",
    "For LR model, the precision curve remains above 0.95 before 0.8 threshold. After 0.8 threshold, its precision drops dramatically till 0.8.\n",
    "\n",
    "For all other 6 models: as the percentage of population climbing to 100%, the general trend is precision decreases and the recall increases."
   ]
  },
  {
   "cell_type": "markdown",
   "metadata": {},
   "source": [
    "## 7.4 Draw Precision, Recall, Auc and F1"
   ]
  },
  {
   "cell_type": "code",
   "execution_count": 245,
   "metadata": {
    "scrolled": true
   },
   "outputs": [
    {
     "data": {
      "text/html": [
       "<div>\n",
       "<style>\n",
       "    .dataframe thead tr:only-child th {\n",
       "        text-align: right;\n",
       "    }\n",
       "\n",
       "    .dataframe thead th {\n",
       "        text-align: left;\n",
       "    }\n",
       "\n",
       "    .dataframe tbody tr th {\n",
       "        vertical-align: top;\n",
       "    }\n",
       "</style>\n",
       "<table border=\"1\" class=\"dataframe\">\n",
       "  <thead>\n",
       "    <tr style=\"text-align: right;\">\n",
       "      <th></th>\n",
       "      <th>BG</th>\n",
       "      <th>DT</th>\n",
       "      <th>GB</th>\n",
       "      <th>KNN</th>\n",
       "      <th>LR</th>\n",
       "      <th>RF</th>\n",
       "      <th>SVM</th>\n",
       "    </tr>\n",
       "    <tr>\n",
       "      <th>key</th>\n",
       "      <th></th>\n",
       "      <th></th>\n",
       "      <th></th>\n",
       "      <th></th>\n",
       "      <th></th>\n",
       "      <th></th>\n",
       "      <th></th>\n",
       "    </tr>\n",
       "  </thead>\n",
       "  <tbody>\n",
       "    <tr>\n",
       "      <th>precision</th>\n",
       "      <td>0.9068</td>\n",
       "      <td>0.9316</td>\n",
       "      <td>0.9134</td>\n",
       "      <td>0.9052</td>\n",
       "      <td>0.9055</td>\n",
       "      <td>0.9068</td>\n",
       "      <td>0.9055</td>\n",
       "    </tr>\n",
       "    <tr>\n",
       "      <th>recall</th>\n",
       "      <td>1.0000</td>\n",
       "      <td>0.9839</td>\n",
       "      <td>0.9984</td>\n",
       "      <td>0.9968</td>\n",
       "      <td>1.0000</td>\n",
       "      <td>1.0000</td>\n",
       "      <td>1.0000</td>\n",
       "    </tr>\n",
       "    <tr>\n",
       "      <th>f1</th>\n",
       "      <td>0.9511</td>\n",
       "      <td>0.9571</td>\n",
       "      <td>0.9540</td>\n",
       "      <td>0.9488</td>\n",
       "      <td>0.9504</td>\n",
       "      <td>0.9511</td>\n",
       "      <td>0.9504</td>\n",
       "    </tr>\n",
       "    <tr>\n",
       "      <th>auc</th>\n",
       "      <td>0.7143</td>\n",
       "      <td>0.6458</td>\n",
       "      <td>0.8692</td>\n",
       "      <td>0.6617</td>\n",
       "      <td>0.6911</td>\n",
       "      <td>0.7488</td>\n",
       "      <td>0.7149</td>\n",
       "    </tr>\n",
       "    <tr>\n",
       "      <th>cost_time</th>\n",
       "      <td>0.0016</td>\n",
       "      <td>0.0005</td>\n",
       "      <td>0.0011</td>\n",
       "      <td>0.0106</td>\n",
       "      <td>0.0003</td>\n",
       "      <td>0.0015</td>\n",
       "      <td>0.0057</td>\n",
       "    </tr>\n",
       "  </tbody>\n",
       "</table>\n",
       "</div>"
      ],
      "text/plain": [
       "               BG      DT      GB     KNN      LR      RF     SVM\n",
       "key                                                              \n",
       "precision  0.9068  0.9316  0.9134  0.9052  0.9055  0.9068  0.9055\n",
       "recall     1.0000  0.9839  0.9984  0.9968  1.0000  1.0000  1.0000\n",
       "f1         0.9511  0.9571  0.9540  0.9488  0.9504  0.9511  0.9504\n",
       "auc        0.7143  0.6458  0.8692  0.6617  0.6911  0.7488  0.7149\n",
       "cost_time  0.0016  0.0005  0.0011  0.0106  0.0003  0.0015  0.0057"
      ]
     },
     "execution_count": 245,
     "metadata": {},
     "output_type": "execute_result"
    }
   ],
   "source": [
    "data = dict()\n",
    "data['key'] =  ['precision', 'recall', 'f1', 'auc', 'cost_time']\n",
    "\n",
    "for k, metric in metrics.items():\n",
    "    data[k] = [metric[item] for item in data['key']]\n",
    "\n",
    "df_result = pd.DataFrame(data)\n",
    "\n",
    "df_result = df_result.set_index('key')\n",
    "df_result.head()"
   ]
  },
  {
   "cell_type": "markdown",
   "metadata": {},
   "source": [
    "As we can see, this table shows the summary of precision, recall, f1, auc, cost time of these 7 classifers."
   ]
  },
  {
   "cell_type": "code",
   "execution_count": 246,
   "metadata": {
    "scrolled": true
   },
   "outputs": [
    {
     "data": {
      "image/png": "[encoded data removed]",
      "text/plain": [
       "<matplotlib.figure.Figure at 0x1564d3588>"
      ]
     },
     "metadata": {},
     "output_type": "display_data"
    }
   ],
   "source": [
    "df_result.plot.bar();\n",
    "plt.show()"
   ]
  },
  {
   "cell_type": "markdown",
   "metadata": {},
   "source": [
    "This is the graph for the table above. We can see all of the 7 classifiers maintained high level of the precision, recall, f1, and auc. However, as we compared the cost time for classifiers, the KNN and SVM model consumes much more time than the 5 classifers."
   ]
  },
  {
   "cell_type": "markdown",
   "metadata": {},
   "source": [
    "# 7.5 Select the best classifier"
   ]
  },
  {
   "cell_type": "code",
   "execution_count": 247,
   "metadata": {},
   "outputs": [
    {
     "data": {
      "text/plain": [
       "('DT',\n",
       " {'auc': 0.6458,\n",
       "  'cost_time': 0.0005,\n",
       "  'f1': 0.9571,\n",
       "  'precision': 0.9316,\n",
       "  'recall': 0.9839})"
      ]
     },
     "execution_count": 247,
     "metadata": {},
     "output_type": "execute_result"
    }
   ],
   "source": [
    "# find the best one\n",
    "def find_the_best_model(target='auc'):\n",
    "    metrics_list = list(metrics.items())\n",
    "    metrics_list.sort(key=lambda x: x[1][target], reverse=True)\n",
    "    return metrics_list[0]\n",
    "\n",
    "best = find_the_best_model('precision')\n",
    "best"
   ]
  },
  {
   "cell_type": "markdown",
   "metadata": {},
   "source": [
    "We cares about precison. In general, if we don't differentiate thresholds, BG classifer competes against other 6 classifers."
   ]
  },
  {
   "cell_type": "code",
   "execution_count": 248,
   "metadata": {},
   "outputs": [
    {
     "data": {
      "text/plain": [
       "('Baseline',\n",
       " {'auc': 0.4834,\n",
       "  'cost_time': 0.0025,\n",
       "  'f1': 0.8734,\n",
       "  'precision': 0.901,\n",
       "  'recall': 0.8475})"
      ]
     },
     "execution_count": 248,
     "metadata": {},
     "output_type": "execute_result"
    }
   ],
   "source": [
    "def get_baseline_metric():\n",
    "    base_clf = DummyClassifier()\n",
    "    base_clf.fit(x_train, y_train)\n",
    "    start = time.time()\n",
    "    y_pre = base_clf.predict(x_test)\n",
    "    cost_time = time.time() - start\n",
    "    y_prob = base_clf.predict_proba(x_test)[:, 1]\n",
    "    return evaluate_classifier(y_test, y_pre, y_prob, cost_time)\n",
    "\n",
    "baseline_metric = get_baseline_metric()\n",
    "('Baseline', baseline_metric)"
   ]
  },
  {
   "cell_type": "markdown",
   "metadata": {},
   "source": [
    "## Compare to Baseline"
   ]
  },
  {
   "cell_type": "code",
   "execution_count": 249,
   "metadata": {},
   "outputs": [],
   "source": [
    "thresholds = [0.001, 0.01, 0.02, 0.05, 0.1, 0.2, 0.3, 0.5]\n",
    "threshold_metrics = {}\n",
    "for threshold in thresholds:\n",
    "    threshold_metrics[str(threshold)] = evaluate_classifiers(x_test, y_test, threshold)[0]  "
   ]
  },
  {
   "cell_type": "code",
   "execution_count": 250,
   "metadata": {},
   "outputs": [
    {
     "data": {
      "text/html": [
       "<div>\n",
       "<style>\n",
       "    .dataframe thead tr:only-child th {\n",
       "        text-align: right;\n",
       "    }\n",
       "\n",
       "    .dataframe thead th {\n",
       "        text-align: left;\n",
       "    }\n",
       "\n",
       "    .dataframe tbody tr th {\n",
       "        vertical-align: top;\n",
       "    }\n",
       "</style>\n",
       "<table border=\"1\" class=\"dataframe\">\n",
       "  <thead>\n",
       "    <tr style=\"text-align: right;\">\n",
       "      <th></th>\n",
       "      <th>auc</th>\n",
       "      <th>cost_time</th>\n",
       "      <th>f1</th>\n",
       "      <th>precision</th>\n",
       "      <th>recall</th>\n",
       "    </tr>\n",
       "    <tr>\n",
       "      <th>key</th>\n",
       "      <th></th>\n",
       "      <th></th>\n",
       "      <th></th>\n",
       "      <th></th>\n",
       "      <th></th>\n",
       "    </tr>\n",
       "  </thead>\n",
       "  <tbody>\n",
       "    <tr>\n",
       "      <th>best-0.5</th>\n",
       "      <td>0.6458</td>\n",
       "      <td>0.0003</td>\n",
       "      <td>0.9571</td>\n",
       "      <td>0.9316</td>\n",
       "      <td>0.9839</td>\n",
       "    </tr>\n",
       "    <tr>\n",
       "      <th>best-0.3</th>\n",
       "      <td>0.6458</td>\n",
       "      <td>0.0003</td>\n",
       "      <td>0.9571</td>\n",
       "      <td>0.9316</td>\n",
       "      <td>0.9839</td>\n",
       "    </tr>\n",
       "    <tr>\n",
       "      <th>best-0.2</th>\n",
       "      <td>0.6458</td>\n",
       "      <td>0.0005</td>\n",
       "      <td>0.9571</td>\n",
       "      <td>0.9316</td>\n",
       "      <td>0.9839</td>\n",
       "    </tr>\n",
       "    <tr>\n",
       "      <th>best-0.1</th>\n",
       "      <td>0.6458</td>\n",
       "      <td>0.0006</td>\n",
       "      <td>0.9571</td>\n",
       "      <td>0.9316</td>\n",
       "      <td>0.9839</td>\n",
       "    </tr>\n",
       "    <tr>\n",
       "      <th>best-0.05</th>\n",
       "      <td>0.6458</td>\n",
       "      <td>0.0004</td>\n",
       "      <td>0.9571</td>\n",
       "      <td>0.9316</td>\n",
       "      <td>0.9839</td>\n",
       "    </tr>\n",
       "    <tr>\n",
       "      <th>best-0.02</th>\n",
       "      <td>0.6458</td>\n",
       "      <td>0.0005</td>\n",
       "      <td>0.9571</td>\n",
       "      <td>0.9316</td>\n",
       "      <td>0.9839</td>\n",
       "    </tr>\n",
       "    <tr>\n",
       "      <th>best-0.01</th>\n",
       "      <td>0.6458</td>\n",
       "      <td>0.0003</td>\n",
       "      <td>0.9571</td>\n",
       "      <td>0.9316</td>\n",
       "      <td>0.9839</td>\n",
       "    </tr>\n",
       "    <tr>\n",
       "      <th>best-0.001</th>\n",
       "      <td>0.6458</td>\n",
       "      <td>0.0003</td>\n",
       "      <td>0.9571</td>\n",
       "      <td>0.9316</td>\n",
       "      <td>0.9839</td>\n",
       "    </tr>\n",
       "    <tr>\n",
       "      <th>baseline</th>\n",
       "      <td>0.4834</td>\n",
       "      <td>0.0025</td>\n",
       "      <td>0.8734</td>\n",
       "      <td>0.9010</td>\n",
       "      <td>0.8475</td>\n",
       "    </tr>\n",
       "  </tbody>\n",
       "</table>\n",
       "</div>"
      ],
      "text/plain": [
       "               auc  cost_time      f1  precision  recall\n",
       "key                                                     \n",
       "best-0.5    0.6458     0.0003  0.9571     0.9316  0.9839\n",
       "best-0.3    0.6458     0.0003  0.9571     0.9316  0.9839\n",
       "best-0.2    0.6458     0.0005  0.9571     0.9316  0.9839\n",
       "best-0.1    0.6458     0.0006  0.9571     0.9316  0.9839\n",
       "best-0.05   0.6458     0.0004  0.9571     0.9316  0.9839\n",
       "best-0.02   0.6458     0.0005  0.9571     0.9316  0.9839\n",
       "best-0.01   0.6458     0.0003  0.9571     0.9316  0.9839\n",
       "best-0.001  0.6458     0.0003  0.9571     0.9316  0.9839\n",
       "baseline    0.4834     0.0025  0.8734     0.9010  0.8475"
      ]
     },
     "execution_count": 250,
     "metadata": {},
     "output_type": "execute_result"
    }
   ],
   "source": [
    "data = dict()\n",
    "data['key'] =  ['best-%s' % item for item in thresholds] + ['baseline']\n",
    "\n",
    "for k in ['recall', 'f1', 'auc', 'precision', 'cost_time']:\n",
    "    data[k] = [threshold_metrics[str(threshold)][best[0]][k] for threshold in thresholds]\n",
    "    data[k].append(baseline_metric[k])\n",
    "\n",
    "    \n",
    "df_result = pd.DataFrame(data)\n",
    "df_result = df_result.set_index('key')\n",
    "df_result = df_result.sort_values(by='precision')[::-1]\n",
    "df_result.head(10)"
   ]
  },
  {
   "cell_type": "markdown",
   "metadata": {},
   "source": [
    "As we see, when threshold equals 0.1, the BG classifier perform best, as it has higher precision and least cost time."
   ]
  }
 ],
 "metadata": {
  "kernelspec": {
   "display_name": "Python 3",
   "language": "python",
   "name": "python3"
  },
  "language_info": {
   "codemirror_mode": {
    "name": "ipython",
    "version": 3
   },
   "file_extension": ".py",
   "mimetype": "text/x-python",
   "name": "python",
   "nbconvert_exporter": "python",
   "pygments_lexer": "ipython3",
   "version": "3.6.2"
  }
 },
 "nbformat": 4,
 "nbformat_minor": 2
}
